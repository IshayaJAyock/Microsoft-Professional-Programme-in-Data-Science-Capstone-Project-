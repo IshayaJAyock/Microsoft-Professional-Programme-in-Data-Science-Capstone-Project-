{
 "cells": [
  {
   "cell_type": "markdown",
   "metadata": {},
   "source": [
    "# Importing Required Packages"
   ]
  },
  {
   "cell_type": "code",
   "execution_count": null,
   "metadata": {},
   "outputs": [],
   "source": [
    "import numpy as np\n",
    "import pandas as pd\n",
    "#import hyperopt\n",
    "from catboost import Pool, CatBoostClassifier, cv # for modelling\n",
    "from sklearn.model_selection import train_test_split\n",
    "from sklearn.metrics import accuracy_score\n",
    "from sklearn.preprocessing import LabelEncoder\n",
    "import seaborn as sns # For data visualization \n",
    "import matplotlib.pyplot as plt # For plotting graphs \n",
    "%matplotlib inline \n",
    "#from dfply import *\n",
    "import os\n",
    "import warnings\n",
    "from pandas.plotting import scatter_matrix"
   ]
  },
  {
   "cell_type": "code",
   "execution_count": null,
   "metadata": {},
   "outputs": [],
   "source": [
    "warnings.filterwarnings('ignore') # if there are any warning due to version mismatch, it will be ignored\n",
    "np.set_printoptions(suppress=True, formatter={'float_kind':'{:f}'.format})"
   ]
  },
  {
   "cell_type": "markdown",
   "metadata": {},
   "source": [
    "### DATA IMPORTATION"
   ]
  },
  {
   "cell_type": "code",
   "execution_count": null,
   "metadata": {},
   "outputs": [],
   "source": [
    "train = pd.read_csv(\"train_values.csv\", low_memory=False)\n",
    "test = pd.read_csv(\"test_values.csv\", low_memory=False)\n",
    "train_label = pd.read_csv(\"train_labels.csv\", low_memory=False)"
   ]
  },
  {
   "cell_type": "code",
   "execution_count": null,
   "metadata": {},
   "outputs": [],
   "source": [
    "train = pd.merge(train, train_label, on='row_id') # Merging the dependent and independent variables together\n",
    "train.head()"
   ]
  },
  {
   "cell_type": "markdown",
   "metadata": {},
   "source": [
    "### Making a  copy of the training and testing dataset."
   ]
  },
  {
   "cell_type": "code",
   "execution_count": 75,
   "metadata": {},
   "outputs": [],
   "source": [
    "train_original = train.copy() \n",
    "train1 = train\n",
    "test_original = test.copy()"
   ]
  },
  {
   "cell_type": "markdown",
   "metadata": {},
   "source": [
    "# Understanding the Data"
   ]
  },
  {
   "cell_type": "code",
   "execution_count": 76,
   "metadata": {},
   "outputs": [
    {
     "data": {
      "text/plain": [
       "Index(['row_id', 'loan_type', 'property_type', 'loan_purpose', 'occupancy',\n",
       "       'loan_amount', 'preapproval', 'msa_md', 'state_code', 'county_code',\n",
       "       'applicant_ethnicity', 'applicant_race', 'applicant_sex',\n",
       "       'applicant_income', 'population', 'minority_population_pct',\n",
       "       'ffiecmedian_family_income', 'tract_to_msa_md_income_pct',\n",
       "       'number_of_owner-occupied_units', 'number_of_1_to_4_family_units',\n",
       "       'lender', 'co_applicant', 'accepted'],\n",
       "      dtype='object')"
      ]
     },
     "execution_count": 76,
     "metadata": {},
     "output_type": "execute_result"
    }
   ],
   "source": [
    "train.columns"
   ]
  },
  {
   "cell_type": "code",
   "execution_count": 77,
   "metadata": {},
   "outputs": [
    {
     "data": {
      "text/plain": [
       "row_id                              int64\n",
       "loan_type                           int64\n",
       "property_type                       int64\n",
       "loan_purpose                        int64\n",
       "occupancy                           int64\n",
       "loan_amount                       float64\n",
       "preapproval                         int64\n",
       "msa_md                              int64\n",
       "state_code                          int64\n",
       "county_code                         int64\n",
       "applicant_ethnicity                 int64\n",
       "applicant_race                      int64\n",
       "applicant_sex                       int64\n",
       "applicant_income                  float64\n",
       "population                        float64\n",
       "minority_population_pct           float64\n",
       "ffiecmedian_family_income         float64\n",
       "tract_to_msa_md_income_pct        float64\n",
       "number_of_owner-occupied_units    float64\n",
       "number_of_1_to_4_family_units     float64\n",
       "lender                              int64\n",
       "co_applicant                         bool\n",
       "accepted                            int64\n",
       "dtype: object"
      ]
     },
     "execution_count": 77,
     "metadata": {},
     "output_type": "execute_result"
    }
   ],
   "source": [
    "train.dtypes #Checking the data types of the available data"
   ]
  },
  {
   "cell_type": "markdown",
   "metadata": {},
   "source": [
    "#### computing correlation of the numeric features(columns)"
   ]
  },
  {
   "cell_type": "code",
   "execution_count": 78,
   "metadata": {},
   "outputs": [
    {
     "data": {
      "text/html": [
       "<div>\n",
       "<style scoped>\n",
       "    .dataframe tbody tr th:only-of-type {\n",
       "        vertical-align: middle;\n",
       "    }\n",
       "\n",
       "    .dataframe tbody tr th {\n",
       "        vertical-align: top;\n",
       "    }\n",
       "\n",
       "    .dataframe thead th {\n",
       "        text-align: right;\n",
       "    }\n",
       "</style>\n",
       "<table border=\"1\" class=\"dataframe\">\n",
       "  <thead>\n",
       "    <tr style=\"text-align: right;\">\n",
       "      <th></th>\n",
       "      <th>loan_amount</th>\n",
       "      <th>applicant_income</th>\n",
       "      <th>ffiecmedian_family_income</th>\n",
       "      <th>population</th>\n",
       "      <th>minority_population_pct</th>\n",
       "      <th>ffiecmedian_family_income</th>\n",
       "      <th>tract_to_msa_md_income_pct</th>\n",
       "      <th>number_of_owner-occupied_units</th>\n",
       "      <th>number_of_1_to_4_family_units</th>\n",
       "    </tr>\n",
       "  </thead>\n",
       "  <tbody>\n",
       "    <tr>\n",
       "      <th>loan_amount</th>\n",
       "      <td>1.000000</td>\n",
       "      <td>0.483951</td>\n",
       "      <td>0.105924</td>\n",
       "      <td>0.000100</td>\n",
       "      <td>0.007227</td>\n",
       "      <td>0.105924</td>\n",
       "      <td>0.043811</td>\n",
       "      <td>-0.013660</td>\n",
       "      <td>-0.036644</td>\n",
       "    </tr>\n",
       "    <tr>\n",
       "      <th>applicant_income</th>\n",
       "      <td>0.483951</td>\n",
       "      <td>1.000000</td>\n",
       "      <td>0.114988</td>\n",
       "      <td>-0.006948</td>\n",
       "      <td>-0.053795</td>\n",
       "      <td>0.114988</td>\n",
       "      <td>0.102667</td>\n",
       "      <td>0.004541</td>\n",
       "      <td>-0.019748</td>\n",
       "    </tr>\n",
       "    <tr>\n",
       "      <th>ffiecmedian_family_income</th>\n",
       "      <td>0.105924</td>\n",
       "      <td>0.114988</td>\n",
       "      <td>1.000000</td>\n",
       "      <td>-0.014377</td>\n",
       "      <td>0.021059</td>\n",
       "      <td>1.000000</td>\n",
       "      <td>-0.054500</td>\n",
       "      <td>-0.021390</td>\n",
       "      <td>-0.148235</td>\n",
       "    </tr>\n",
       "    <tr>\n",
       "      <th>population</th>\n",
       "      <td>0.000100</td>\n",
       "      <td>-0.006948</td>\n",
       "      <td>-0.014377</td>\n",
       "      <td>1.000000</td>\n",
       "      <td>0.087383</td>\n",
       "      <td>-0.014377</td>\n",
       "      <td>0.149677</td>\n",
       "      <td>0.858732</td>\n",
       "      <td>0.816952</td>\n",
       "    </tr>\n",
       "    <tr>\n",
       "      <th>minority_population_pct</th>\n",
       "      <td>0.007227</td>\n",
       "      <td>-0.053795</td>\n",
       "      <td>0.021059</td>\n",
       "      <td>0.087383</td>\n",
       "      <td>1.000000</td>\n",
       "      <td>0.021059</td>\n",
       "      <td>-0.442800</td>\n",
       "      <td>-0.214410</td>\n",
       "      <td>-0.157976</td>\n",
       "    </tr>\n",
       "    <tr>\n",
       "      <th>ffiecmedian_family_income</th>\n",
       "      <td>0.105924</td>\n",
       "      <td>0.114988</td>\n",
       "      <td>1.000000</td>\n",
       "      <td>-0.014377</td>\n",
       "      <td>0.021059</td>\n",
       "      <td>1.000000</td>\n",
       "      <td>-0.054500</td>\n",
       "      <td>-0.021390</td>\n",
       "      <td>-0.148235</td>\n",
       "    </tr>\n",
       "    <tr>\n",
       "      <th>tract_to_msa_md_income_pct</th>\n",
       "      <td>0.043811</td>\n",
       "      <td>0.102667</td>\n",
       "      <td>-0.054500</td>\n",
       "      <td>0.149677</td>\n",
       "      <td>-0.442800</td>\n",
       "      <td>-0.054500</td>\n",
       "      <td>1.000000</td>\n",
       "      <td>0.360774</td>\n",
       "      <td>0.210613</td>\n",
       "    </tr>\n",
       "    <tr>\n",
       "      <th>number_of_owner-occupied_units</th>\n",
       "      <td>-0.013660</td>\n",
       "      <td>0.004541</td>\n",
       "      <td>-0.021390</td>\n",
       "      <td>0.858732</td>\n",
       "      <td>-0.214410</td>\n",
       "      <td>-0.021390</td>\n",
       "      <td>0.360774</td>\n",
       "      <td>1.000000</td>\n",
       "      <td>0.887591</td>\n",
       "    </tr>\n",
       "    <tr>\n",
       "      <th>number_of_1_to_4_family_units</th>\n",
       "      <td>-0.036644</td>\n",
       "      <td>-0.019748</td>\n",
       "      <td>-0.148235</td>\n",
       "      <td>0.816952</td>\n",
       "      <td>-0.157976</td>\n",
       "      <td>-0.148235</td>\n",
       "      <td>0.210613</td>\n",
       "      <td>0.887591</td>\n",
       "      <td>1.000000</td>\n",
       "    </tr>\n",
       "  </tbody>\n",
       "</table>\n",
       "</div>"
      ],
      "text/plain": [
       "                                loan_amount  applicant_income  \\\n",
       "loan_amount                        1.000000          0.483951   \n",
       "applicant_income                   0.483951          1.000000   \n",
       "ffiecmedian_family_income          0.105924          0.114988   \n",
       "population                         0.000100         -0.006948   \n",
       "minority_population_pct            0.007227         -0.053795   \n",
       "ffiecmedian_family_income          0.105924          0.114988   \n",
       "tract_to_msa_md_income_pct         0.043811          0.102667   \n",
       "number_of_owner-occupied_units    -0.013660          0.004541   \n",
       "number_of_1_to_4_family_units     -0.036644         -0.019748   \n",
       "\n",
       "                                ffiecmedian_family_income  population  \\\n",
       "loan_amount                                      0.105924    0.000100   \n",
       "applicant_income                                 0.114988   -0.006948   \n",
       "ffiecmedian_family_income                        1.000000   -0.014377   \n",
       "population                                      -0.014377    1.000000   \n",
       "minority_population_pct                          0.021059    0.087383   \n",
       "ffiecmedian_family_income                        1.000000   -0.014377   \n",
       "tract_to_msa_md_income_pct                      -0.054500    0.149677   \n",
       "number_of_owner-occupied_units                  -0.021390    0.858732   \n",
       "number_of_1_to_4_family_units                   -0.148235    0.816952   \n",
       "\n",
       "                                minority_population_pct  \\\n",
       "loan_amount                                    0.007227   \n",
       "applicant_income                              -0.053795   \n",
       "ffiecmedian_family_income                      0.021059   \n",
       "population                                     0.087383   \n",
       "minority_population_pct                        1.000000   \n",
       "ffiecmedian_family_income                      0.021059   \n",
       "tract_to_msa_md_income_pct                    -0.442800   \n",
       "number_of_owner-occupied_units                -0.214410   \n",
       "number_of_1_to_4_family_units                 -0.157976   \n",
       "\n",
       "                                ffiecmedian_family_income  \\\n",
       "loan_amount                                      0.105924   \n",
       "applicant_income                                 0.114988   \n",
       "ffiecmedian_family_income                        1.000000   \n",
       "population                                      -0.014377   \n",
       "minority_population_pct                          0.021059   \n",
       "ffiecmedian_family_income                        1.000000   \n",
       "tract_to_msa_md_income_pct                      -0.054500   \n",
       "number_of_owner-occupied_units                  -0.021390   \n",
       "number_of_1_to_4_family_units                   -0.148235   \n",
       "\n",
       "                                tract_to_msa_md_income_pct  \\\n",
       "loan_amount                                       0.043811   \n",
       "applicant_income                                  0.102667   \n",
       "ffiecmedian_family_income                        -0.054500   \n",
       "population                                        0.149677   \n",
       "minority_population_pct                          -0.442800   \n",
       "ffiecmedian_family_income                        -0.054500   \n",
       "tract_to_msa_md_income_pct                        1.000000   \n",
       "number_of_owner-occupied_units                    0.360774   \n",
       "number_of_1_to_4_family_units                     0.210613   \n",
       "\n",
       "                                number_of_owner-occupied_units  \\\n",
       "loan_amount                                          -0.013660   \n",
       "applicant_income                                      0.004541   \n",
       "ffiecmedian_family_income                            -0.021390   \n",
       "population                                            0.858732   \n",
       "minority_population_pct                              -0.214410   \n",
       "ffiecmedian_family_income                            -0.021390   \n",
       "tract_to_msa_md_income_pct                            0.360774   \n",
       "number_of_owner-occupied_units                        1.000000   \n",
       "number_of_1_to_4_family_units                         0.887591   \n",
       "\n",
       "                                number_of_1_to_4_family_units  \n",
       "loan_amount                                         -0.036644  \n",
       "applicant_income                                    -0.019748  \n",
       "ffiecmedian_family_income                           -0.148235  \n",
       "population                                           0.816952  \n",
       "minority_population_pct                             -0.157976  \n",
       "ffiecmedian_family_income                           -0.148235  \n",
       "tract_to_msa_md_income_pct                           0.210613  \n",
       "number_of_owner-occupied_units                       0.887591  \n",
       "number_of_1_to_4_family_units                        1.000000  "
      ]
     },
     "execution_count": 78,
     "metadata": {},
     "output_type": "execute_result"
    }
   ],
   "source": [
    "num = [ 'loan_amount', 'applicant_income', \n",
    "          'ffiecmedian_family_income','population',\n",
    "           'minority_population_pct','ffiecmedian_family_income','tract_to_msa_md_income_pct',\n",
    "          'number_of_owner-occupied_units','number_of_1_to_4_family_units']\n",
    "train[num].corr()"
   ]
  },
  {
   "cell_type": "markdown",
   "metadata": {},
   "source": [
    "#### CHECKING THE SHAPE OF THE DATASETS PROVIDED"
   ]
  },
  {
   "cell_type": "code",
   "execution_count": 79,
   "metadata": {},
   "outputs": [
    {
     "data": {
      "text/plain": [
       "((500000, 23), (500000, 22))"
      ]
     },
     "execution_count": 79,
     "metadata": {},
     "output_type": "execute_result"
    }
   ],
   "source": [
    "train.shape, test.shape   "
   ]
  },
  {
   "cell_type": "markdown",
   "metadata": {},
   "source": [
    "We have 500,000 rows and 23 columns(including train labels) in the train dataset and 500,000 rows and 22 columns in test dataset."
   ]
  },
  {
   "cell_type": "markdown",
   "metadata": {},
   "source": [
    "### Missing Value and Outliers Treatment"
   ]
  },
  {
   "cell_type": "code",
   "execution_count": 80,
   "metadata": {},
   "outputs": [
    {
     "data": {
      "text/plain": [
       "row_id                                0\n",
       "loan_type                             0\n",
       "property_type                         0\n",
       "loan_purpose                          0\n",
       "occupancy                             0\n",
       "loan_amount                           0\n",
       "preapproval                           0\n",
       "msa_md                                0\n",
       "state_code                            0\n",
       "county_code                           0\n",
       "applicant_ethnicity                   0\n",
       "applicant_race                        0\n",
       "applicant_sex                         0\n",
       "applicant_income                  39948\n",
       "population                        22465\n",
       "minority_population_pct           22466\n",
       "ffiecmedian_family_income         22440\n",
       "tract_to_msa_md_income_pct        22514\n",
       "number_of_owner-occupied_units    22565\n",
       "number_of_1_to_4_family_units     22530\n",
       "lender                                0\n",
       "co_applicant                          0\n",
       "accepted                              0\n",
       "dtype: int64"
      ]
     },
     "execution_count": 80,
     "metadata": {},
     "output_type": "execute_result"
    }
   ],
   "source": [
    "train.isnull().sum()"
   ]
  },
  {
   "cell_type": "markdown",
   "metadata": {},
   "source": [
    "### Percentage of Missing Values"
   ]
  },
  {
   "cell_type": "code",
   "execution_count": 89,
   "metadata": {},
   "outputs": [
    {
     "data": {
      "text/plain": [
       "row_id                            0.0\n",
       "loan_type                         0.0\n",
       "property_type                     0.0\n",
       "loan_purpose                      0.0\n",
       "occupancy                         0.0\n",
       "loan_amount                       0.0\n",
       "preapproval                       0.0\n",
       "msa_md                            0.0\n",
       "state_code                        0.0\n",
       "county_code                       0.0\n",
       "applicant_ethnicity               0.0\n",
       "applicant_race                    0.0\n",
       "applicant_sex                     0.0\n",
       "applicant_income                  0.0\n",
       "population                        0.0\n",
       "minority_population_pct           0.0\n",
       "ffiecmedian_family_income         0.0\n",
       "tract_to_msa_md_income_pct        0.0\n",
       "number_of_owner-occupied_units    0.0\n",
       "number_of_1_to_4_family_units     0.0\n",
       "lender                            0.0\n",
       "co_applicant                      0.0\n",
       "accepted                          0.0\n",
       "loan_income_ratio                 0.0\n",
       "dtype: float64"
      ]
     },
     "execution_count": 89,
     "metadata": {},
     "output_type": "execute_result"
    }
   ],
   "source": [
    "(train.isnull().sum()* 100)/500000"
   ]
  },
  {
   "cell_type": "markdown",
   "metadata": {},
   "source": [
    "There are missing values in applicant_income, population, minority_population_pct, ffiecmedian_family_income, tract_to_msa_md_income_pct, number_of_owner-occupied_units and number_of_1_to_4_family_units features.\n",
    "With a maximum percentage of 8%.\n",
    "We will treat the missing values in all the features one by one. \n",
    "\n",
    "Also replacing -1 with nas in na's in msa_md, state_code, county_code"
   ]
  },
  {
   "cell_type": "markdown",
   "metadata": {},
   "source": [
    "### Replacing -1 with na's in msa_md, state_code, county_code"
   ]
  },
  {
   "cell_type": "code",
   "execution_count": 90,
   "metadata": {},
   "outputs": [],
   "source": [
    "def missing_val(loan):\n",
    "    loan['msa_md'] = loan['msa_md'].replace(-1, np.nan)\n",
    "    loan['state_code'] = loan['state_code'].replace(-1, np.nan)\n",
    "    loan['county_code'] = loan['county_code'].replace(-1, np.nan)\n",
    "    return loan"
   ]
  },
  {
   "cell_type": "markdown",
   "metadata": {},
   "source": [
    "### Replacing all nas with 0"
   ]
  },
  {
   "cell_type": "code",
   "execution_count": 91,
   "metadata": {},
   "outputs": [],
   "source": [
    "train.fillna(0,inplace=True)\n",
    "test.fillna(0,inplace=True)"
   ]
  },
  {
   "cell_type": "code",
   "execution_count": 92,
   "metadata": {},
   "outputs": [
    {
     "data": {
      "text/plain": [
       "row_id                            0\n",
       "loan_type                         0\n",
       "property_type                     0\n",
       "loan_purpose                      0\n",
       "occupancy                         0\n",
       "loan_amount                       0\n",
       "preapproval                       0\n",
       "msa_md                            0\n",
       "state_code                        0\n",
       "county_code                       0\n",
       "applicant_ethnicity               0\n",
       "applicant_race                    0\n",
       "applicant_sex                     0\n",
       "applicant_income                  0\n",
       "population                        0\n",
       "minority_population_pct           0\n",
       "ffiecmedian_family_income         0\n",
       "tract_to_msa_md_income_pct        0\n",
       "number_of_owner-occupied_units    0\n",
       "number_of_1_to_4_family_units     0\n",
       "lender                            0\n",
       "co_applicant                      0\n",
       "accepted                          0\n",
       "loan_income_ratio                 0\n",
       "dtype: int64"
      ]
     },
     "execution_count": 92,
     "metadata": {},
     "output_type": "execute_result"
    }
   ],
   "source": [
    "train.isnull().sum()"
   ]
  },
  {
   "cell_type": "code",
   "execution_count": 93,
   "metadata": {},
   "outputs": [],
   "source": [
    "#train = train.fillna(train.mode().iloc[0])\n",
    "#test = test.fillna(test.mode().iloc[0])"
   ]
  },
  {
   "cell_type": "code",
   "execution_count": 94,
   "metadata": {},
   "outputs": [],
   "source": [
    "#test.isnull().sum()"
   ]
  },
  {
   "cell_type": "markdown",
   "metadata": {},
   "source": [
    "# Data Cleaning and Manipulation"
   ]
  },
  {
   "cell_type": "code",
   "execution_count": 95,
   "metadata": {},
   "outputs": [],
   "source": [
    "# Derived Metrics\n",
    "train['loan_income_ratio']= (train['loan_amount']/train['applicant_income'])\n",
    "test['loan_income_ratio']= (test['loan_amount']/test['applicant_income'])"
   ]
  },
  {
   "cell_type": "code",
   "execution_count": 96,
   "metadata": {},
   "outputs": [],
   "source": [
    "encode = LabelEncoder()\n",
    "test['co_applicant'] = encode.fit_transform(test['co_applicant'].astype('str'))\n",
    "train['co_applicant'] = encode.fit_transform(train['co_applicant'].astype('str'))"
   ]
  },
  {
   "cell_type": "markdown",
   "metadata": {},
   "source": [
    "# FEATURES ENGINERRING"
   ]
  },
  {
   "cell_type": "markdown",
   "metadata": {},
   "source": [
    "Converting all then numerical features into bins depending on the minum and maximum"
   ]
  },
  {
   "cell_type": "markdown",
   "metadata": {},
   "source": [
    "### TRAIN"
   ]
  },
  {
   "cell_type": "code",
   "execution_count": 97,
   "metadata": {},
   "outputs": [],
   "source": [
    "#Income\n",
    "bins = [0,1500,4000,6000,10139] \n",
    "group = ['Low','Average','High', 'Very high'] \n",
    "train['Income_bin'] = pd.cut(train['applicant_income'],bins,labels = group)\n",
    "\n",
    "#loan_amount\n",
    "bins = [0,1500,4000,6000,1000000] \n",
    "group = ['Low','Average','High', 'Very high'] \n",
    "\n",
    "train['loan_amount_bin'] = pd.cut(train['loan_amount'],bins,labels=group)\n",
    "\n",
    "#population \n",
    "bins=[0,8000,15000,25000,40000] \n",
    "group=['Low','Average','High', 'Very high'] \n",
    "\n",
    "train['population_pop_bin']=pd.cut(train['population'],bins,labels=group)\n",
    "\n",
    "#minority_population_pct\n",
    "bins=[0,15,30,60,1000] \n",
    "group=['Low','Average','High', 'Very high'] \n",
    "\n",
    "train['min_pop_bin']=pd.cut(train['minority_population_pct'],bins,labels=group)\n",
    "\n",
    "#number_of_owner-occupied_units\n",
    "bins=[0,500, 2000,3500,5000,10000] \n",
    "group=['Low','Average','Good','High', 'Very high'] \n",
    "\n",
    "train['num_own_bin']=pd.cut(train['number_of_owner-occupied_units'],bins,labels=group)\n",
    "\n",
    "#num =['applicant_income','loan_amount','population',\n",
    " #     'minority_population_pct','number_of_owner-occupied_units']"
   ]
  },
  {
   "cell_type": "markdown",
   "metadata": {},
   "source": [
    "### TEST"
   ]
  },
  {
   "cell_type": "code",
   "execution_count": 98,
   "metadata": {},
   "outputs": [],
   "source": [
    "#Income\n",
    "bins=[0,1500,4000,6000,100000] \n",
    "group=['Low','Average','High', 'Very high'] \n",
    "test['Income_bin']=pd.cut(test['applicant_income'],bins,labels=group)\n",
    "\n",
    "#loan_amount\n",
    "bins=[0,1500,4000,6000,1000000] \n",
    "group=['Low','Average','High', 'Very high'] \n",
    "\n",
    "test['loan_amount_bin']=pd.cut(test['loan_amount'],bins,labels=group)\n",
    "\n",
    "#population \n",
    "bins=[0,8000,15000,25000,40000] \n",
    "group=['Low','Average','High', 'Very high'] \n",
    "\n",
    "test['population_pop_bin']=pd.cut(test['population'],bins,labels=group)\n",
    "\n",
    "#minority_population_pct\n",
    "bins=[0,15,30,60,1000] \n",
    "group=['Low','Average','High', 'Very high'] \n",
    "\n",
    "test['min_pop_bin']=pd.cut(test['minority_population_pct'],bins,labels=group)\n",
    "\n",
    "#number_of_owner-occupied_units\n",
    "bins=[0,500, 2000,3500,5000,10000] \n",
    "group=['Low','Average','Good','High', 'Very high'] \n",
    "\n",
    "test['num_own_bin']=pd.cut(test['number_of_owner-occupied_units'],bins,labels=group)\n",
    "\n",
    "#num = ['applicant_income','loan_amount','population',\n",
    " #     'minority_population_pct','number_of_owner-occupied_units']"
   ]
  },
  {
   "cell_type": "code",
   "execution_count": 99,
   "metadata": {},
   "outputs": [],
   "source": [
    "#test = test.drop(['row_id','applicant_income','loan_amount','population',\n",
    "  #    'minority_population_pct','number_of_owner-occupied_units'],axis=1)"
   ]
  },
  {
   "cell_type": "code",
   "execution_count": 100,
   "metadata": {},
   "outputs": [],
   "source": [
    "#train = train.drop(['row_id','applicant_income','loan_amount','population',\n",
    "   #   'minority_population_pct','number_of_owner-occupied_units'],axis=1)"
   ]
  },
  {
   "cell_type": "code",
   "execution_count": 101,
   "metadata": {},
   "outputs": [],
   "source": [
    "def data_manage(loan):\n",
    "    \n",
    "    # Derived Metrics\n",
    "    \n",
    "    #loan['loan_income_ratio']= loan['loan_amount']/loan['applicant_income']\n",
    "    \n",
    "    # set variable types (Categorical)\n",
    "    \n",
    "    loan['preapproval'] = loan['preapproval'].astype('category')\n",
    "    loan['applicant_race'] = loan['applicant_race'].astype('category')\n",
    "    loan['applicant_sex'] = loan['applicant_sex'].astype('category')\n",
    "    loan['loan_purpose'] = loan['loan_purpose'].astype('category')\n",
    "    loan['occupancy'] = loan['occupancy'].astype('category')\n",
    "    loan['property_type'] = loan['property_type'].astype('category')\n",
    "    loan['loan_type'] = loan['loan_type'].astype('category')\n",
    "    loan['applicant_ethnicity'] = loan['applicant_ethnicity'].astype('category')\n",
    "    loan['msa_md'] = loan['msa_md'].astype('category')\n",
    "    loan['state_code'] = loan['state_code'].astype('category')\n",
    "    loan['county_code'] = loan['county_code'].astype('category')\n",
    "    loan['accepted'] = loan['accepted'].astype('category')\n",
    "    ############\n",
    "    loan['loan_amount_bin'] = loan['loan_amount_bin'].astype('category')\n",
    "    loan['Income_bin'] = loan['Income_bin'].astype('category')\n",
    "    loan['population_pop_bin'] = loan['population_pop_bin'].astype('category')\n",
    "    loan['min_pop_bin'] = loan['min_pop_bin'].astype('category')\n",
    "    loan['num_own_bin'] = loan['num_own_bin'].astype('category')\n",
    "    \n",
    "     # set variable types (numeric)\n",
    "        \n",
    "    \n",
    "    loan['ffiecmedian_family_income'] = loan['ffiecmedian_family_income'].convert_objects(convert_numeric=True)\n",
    "    loan['tract_to_msa_md_income_pct'] = loan['tract_to_msa_md_income_pct'].convert_objects(convert_numeric=True)\n",
    "    loan['number_of_1_to_4_family_units'] = loan['number_of_1_to_4_family_units'].convert_objects(convert_numeric=True)\n",
    "    loan['loan_income_ratio'] = loan['loan_income_ratio'].convert_objects(convert_numeric=True)\n",
    "    \n",
    "    return loan"
   ]
  },
  {
   "cell_type": "code",
   "execution_count": 102,
   "metadata": {},
   "outputs": [],
   "source": [
    "train = data_manage(train)"
   ]
  },
  {
   "cell_type": "code",
   "execution_count": 103,
   "metadata": {},
   "outputs": [],
   "source": [
    "def data_manage2(loan):\n",
    "    \n",
    "    # Derived Metrics\n",
    "    \n",
    "    #loan['loan_income_ratio']= loan['loan_amount']/loan['applicant_income']\n",
    "    \n",
    "    # set variable types (Categorical)\n",
    "    \n",
    "    loan['preapproval'] = loan['preapproval'].astype('category')\n",
    "    loan['applicant_race'] = loan['applicant_race'].astype('category')\n",
    "    loan['applicant_sex'] = loan['applicant_sex'].astype('category')\n",
    "    loan['loan_purpose'] = loan['loan_purpose'].astype('category')\n",
    "    loan['occupancy'] = loan['occupancy'].astype('category')\n",
    "    loan['property_type'] = loan['property_type'].astype('category')\n",
    "    loan['loan_type'] = loan['loan_type'].astype('category')\n",
    "    loan['applicant_ethnicity'] = loan['applicant_ethnicity'].astype('category')\n",
    "    loan['msa_md'] = loan['msa_md'].astype('category')\n",
    "    loan['state_code'] = loan['state_code'].astype('category')\n",
    "    loan['county_code'] = loan['county_code'].astype('category')\n",
    "    #loan['accepted'] = loan['accepted'].astype('category')\n",
    "    loan['loan_amount_bin'] = loan['loan_amount_bin'].astype('category')\n",
    "    loan['Income_bin'] = loan['Income_bin'].astype('category')\n",
    "    loan['population_pop_bin'] = loan['population_pop_bin'].astype('category')\n",
    "    loan['min_pop_bin'] = loan['min_pop_bin'].astype('category')\n",
    "    loan['num_own_bin'] = loan['num_own_bin'].astype('category')\n",
    "    # set variable types (numeric)\n",
    "        \n",
    "\n",
    "        \n",
    "    loan['ffiecmedian_family_income'] = loan['ffiecmedian_family_income'].convert_objects(convert_numeric=True)\n",
    "    loan['tract_to_msa_md_income_pct'] = loan['tract_to_msa_md_income_pct'].convert_objects(convert_numeric=True)\n",
    "    loan['number_of_1_to_4_family_units'] = loan['number_of_1_to_4_family_units'].convert_objects(convert_numeric=True)\n",
    "    #loan['loan_income_ratio'] = loan['loan_income_ratio'].convert_objects(convert_numeric=True)\n",
    "    \n",
    "    return loan"
   ]
  },
  {
   "cell_type": "code",
   "execution_count": 104,
   "metadata": {},
   "outputs": [],
   "source": [
    "test = data_manage2(test)"
   ]
  },
  {
   "cell_type": "code",
   "execution_count": 105,
   "metadata": {},
   "outputs": [],
   "source": [
    "train = train.fillna(train.mode().iloc[0])\n",
    "test = test.fillna(test.mode().iloc[0])"
   ]
  },
  {
   "cell_type": "code",
   "execution_count": 106,
   "metadata": {},
   "outputs": [
    {
     "data": {
      "text/plain": [
       "row_id                            0\n",
       "loan_type                         0\n",
       "property_type                     0\n",
       "loan_purpose                      0\n",
       "occupancy                         0\n",
       "loan_amount                       0\n",
       "preapproval                       0\n",
       "msa_md                            0\n",
       "state_code                        0\n",
       "county_code                       0\n",
       "applicant_ethnicity               0\n",
       "applicant_race                    0\n",
       "applicant_sex                     0\n",
       "applicant_income                  0\n",
       "population                        0\n",
       "minority_population_pct           0\n",
       "ffiecmedian_family_income         0\n",
       "tract_to_msa_md_income_pct        0\n",
       "number_of_owner-occupied_units    0\n",
       "number_of_1_to_4_family_units     0\n",
       "lender                            0\n",
       "co_applicant                      0\n",
       "accepted                          0\n",
       "loan_income_ratio                 0\n",
       "Income_bin                        0\n",
       "loan_amount_bin                   0\n",
       "population_pop_bin                0\n",
       "min_pop_bin                       0\n",
       "num_own_bin                       0\n",
       "dtype: int64"
      ]
     },
     "execution_count": 106,
     "metadata": {},
     "output_type": "execute_result"
    }
   ],
   "source": [
    "train.isnull().sum()"
   ]
  },
  {
   "cell_type": "code",
   "execution_count": 107,
   "metadata": {},
   "outputs": [],
   "source": [
    "train = train.drop(['row_id'], axis=1)\n",
    "test = test.drop(['row_id'], axis=1)"
   ]
  },
  {
   "cell_type": "code",
   "execution_count": 108,
   "metadata": {},
   "outputs": [],
   "source": [
    "y = train.accepted\n",
    "X = train.drop('accepted',axis=1) # Dropping the deepending variable from the features to be trained\n"
   ]
  },
  {
   "cell_type": "markdown",
   "metadata": {},
   "source": [
    "### Univariate Analysis"
   ]
  },
  {
   "cell_type": "markdown",
   "metadata": {},
   "source": [
    "In this section, we will do univariate analysis. which is the simplest form of analyzing data where we examine each variable individually."
   ]
  },
  {
   "cell_type": "markdown",
   "metadata": {},
   "source": [
    "For categorical features, i will use frequency table or bar plots which will calculate the number of each category in a particular variable."
   ]
  },
  {
   "cell_type": "markdown",
   "metadata": {},
   "source": [
    "For numerical features, probability density plots will be used to look at the distribution of the variable."
   ]
  },
  {
   "cell_type": "markdown",
   "metadata": {},
   "source": [
    "### Target Variable(accepted )"
   ]
  },
  {
   "cell_type": "code",
   "execution_count": 109,
   "metadata": {},
   "outputs": [
    {
     "data": {
      "text/plain": [
       "1    250114\n",
       "0    249886\n",
       "Name: accepted, dtype: int64"
      ]
     },
     "execution_count": 109,
     "metadata": {},
     "output_type": "execute_result"
    }
   ],
   "source": [
    " train1['accepted'].value_counts()"
   ]
  },
  {
   "cell_type": "markdown",
   "metadata": {},
   "source": [
    "we set Normalize to True to print proportions instead of number"
   ]
  },
  {
   "cell_type": "code",
   "execution_count": 110,
   "metadata": {},
   "outputs": [
    {
     "data": {
      "text/plain": [
       "1    0.500228\n",
       "0    0.499772\n",
       "Name: accepted, dtype: float64"
      ]
     },
     "execution_count": 110,
     "metadata": {},
     "output_type": "execute_result"
    }
   ],
   "source": [
    " train1['accepted'].value_counts(normalize = True)"
   ]
  },
  {
   "cell_type": "code",
   "execution_count": 111,
   "metadata": {},
   "outputs": [
    {
     "data": {
      "text/plain": [
       "<matplotlib.axes._subplots.AxesSubplot at 0x2f0a662cb70>"
      ]
     },
     "execution_count": 111,
     "metadata": {},
     "output_type": "execute_result"
    },
    {
     "data": {
      "image/png": "[encoded data removed]",
      "text/plain": [
       "<Figure size 432x288 with 1 Axes>"
      ]
     },
     "metadata": {
      "needs_background": "light"
     },
     "output_type": "display_data"
    }
   ],
   "source": [
    " train1['accepted'].value_counts().plot.bar()"
   ]
  },
  {
   "cell_type": "markdown",
   "metadata": {},
   "source": [
    "Out of the total loan applied for the year, 250114 (around 50%) was approved and the others was rejected(approximatelty 50%). Which shows that we have a balance data."
   ]
  },
  {
   "cell_type": "markdown",
   "metadata": {},
   "source": [
    "### Categorical(Independent Variable)"
   ]
  },
  {
   "cell_type": "markdown",
   "metadata": {},
   "source": [
    "Visualizing each variable separately."
   ]
  },
  {
   "cell_type": "code",
   "execution_count": 112,
   "metadata": {},
   "outputs": [
    {
     "data": {
      "image/png": "[encoded data removed]",
      "text/plain": [
       "<Figure size 1440x720 with 4 Axes>"
      ]
     },
     "metadata": {
      "needs_background": "light"
     },
     "output_type": "display_data"
    }
   ],
   "source": [
    "plt.figure(1)\n",
    "plt.subplot(221)\n",
    "train1['loan_purpose'].value_counts(normalize=True).plot.bar(figsize=(20,10), title= 'loan_purpose') \n",
    "\n",
    "plt.subplot(222)\n",
    "train1['occupancy'].value_counts(normalize=True).plot.bar(title= 'occupancy') \n",
    "\n",
    "plt.subplot(223) \n",
    "train1['property_type'].value_counts(normalize=True).plot.bar(title= 'property_type') \n",
    "\n",
    "plt.subplot(224) \n",
    "train1['loan_type'].value_counts(normalize=True).plot.bar(title= 'loan_type') \n",
    "plt.show()"
   ]
  },
  {
   "cell_type": "code",
   "execution_count": 113,
   "metadata": {},
   "outputs": [
    {
     "data": {
      "image/png": "[encoded data removed]",
      "text/plain": [
       "<Figure size 1440x720 with 4 Axes>"
      ]
     },
     "metadata": {
      "needs_background": "light"
     },
     "output_type": "display_data"
    }
   ],
   "source": [
    "plt.figure(1)\n",
    "plt.subplot(221)\n",
    "train1['preapproval'].value_counts(normalize=True).plot.bar(figsize=(20,10), title= 'preapproval') \n",
    "\n",
    "plt.subplot(222)\n",
    "train1['applicant_race'].value_counts(normalize=True).plot.bar(title= 'applicant_race') \n",
    "\n",
    "plt.subplot(223) \n",
    "train1['applicant_sex'].value_counts(normalize=True).plot.bar(title= 'applicant_sex') \n",
    "\n",
    "plt.subplot(224) \n",
    "train1['applicant_ethnicity'].value_counts(normalize=True).plot.bar(title= 'applicant_ethnicity') \n",
    "plt.show()"
   ]
  },
  {
   "cell_type": "code",
   "execution_count": 114,
   "metadata": {},
   "outputs": [
    {
     "data": {
      "image/png": "[encoded data removed]",
      "text/plain": [
       "<Figure size 1440x720 with 4 Axes>"
      ]
     },
     "metadata": {
      "needs_background": "light"
     },
     "output_type": "display_data"
    }
   ],
   "source": [
    "plt.figure(1)\n",
    "plt.subplot(221)\n",
    "train1['msa_md'].value_counts(normalize=True).plot.bar(figsize=(20,10), title= 'msa_md') \n",
    "\n",
    "plt.subplot(222)\n",
    "train1['state_code'].value_counts(normalize=True).plot.barh(title= 'state_code') \n",
    "\n",
    "plt.subplot(223) \n",
    "train1['county_code'].value_counts(normalize=True).plot.barh(title= 'country_code') \n",
    "\n",
    "plt.subplot(224) \n",
    "train1['lender'].value_counts(normalize=True).plot.barh(title= 'lender') \n",
    "plt.show()"
   ]
  },
  {
   "cell_type": "code",
   "execution_count": 115,
   "metadata": {},
   "outputs": [
    {
     "data": {
      "image/png": "[encoded data removed]",
      "text/plain": [
       "<Figure size 1440x720 with 1 Axes>"
      ]
     },
     "metadata": {
      "needs_background": "light"
     },
     "output_type": "display_data"
    }
   ],
   "source": [
    "plt.figure(1)\n",
    "plt.subplot(221)\n",
    "train1['co_applicant'].value_counts(normalize=True).plot.bar(figsize=(20,10), title= 'co_applicant') \n",
    "plt.show()"
   ]
  },
  {
   "cell_type": "markdown",
   "metadata": {},
   "source": [
    "### Numerical"
   ]
  },
  {
   "cell_type": "code",
   "execution_count": 116,
   "metadata": {},
   "outputs": [
    {
     "data": {
      "text/html": [
       "<div>\n",
       "<style scoped>\n",
       "    .dataframe tbody tr th:only-of-type {\n",
       "        vertical-align: middle;\n",
       "    }\n",
       "\n",
       "    .dataframe tbody tr th {\n",
       "        vertical-align: top;\n",
       "    }\n",
       "\n",
       "    .dataframe thead th {\n",
       "        text-align: right;\n",
       "    }\n",
       "</style>\n",
       "<table border=\"1\" class=\"dataframe\">\n",
       "  <thead>\n",
       "    <tr style=\"text-align: right;\">\n",
       "      <th></th>\n",
       "      <th>row_id</th>\n",
       "      <th>loan_type</th>\n",
       "      <th>property_type</th>\n",
       "      <th>loan_purpose</th>\n",
       "      <th>occupancy</th>\n",
       "      <th>loan_amount</th>\n",
       "      <th>preapproval</th>\n",
       "      <th>msa_md</th>\n",
       "      <th>state_code</th>\n",
       "      <th>county_code</th>\n",
       "      <th>...</th>\n",
       "      <th>number_of_1_to_4_family_units</th>\n",
       "      <th>lender</th>\n",
       "      <th>co_applicant</th>\n",
       "      <th>accepted</th>\n",
       "      <th>loan_income_ratio</th>\n",
       "      <th>Income_bin</th>\n",
       "      <th>loan_amount_bin</th>\n",
       "      <th>population_pop_bin</th>\n",
       "      <th>min_pop_bin</th>\n",
       "      <th>num_own_bin</th>\n",
       "    </tr>\n",
       "  </thead>\n",
       "  <tbody>\n",
       "    <tr>\n",
       "      <th>0</th>\n",
       "      <td>0</td>\n",
       "      <td>3</td>\n",
       "      <td>1</td>\n",
       "      <td>1</td>\n",
       "      <td>1</td>\n",
       "      <td>70.0</td>\n",
       "      <td>3</td>\n",
       "      <td>18</td>\n",
       "      <td>37</td>\n",
       "      <td>246</td>\n",
       "      <td>...</td>\n",
       "      <td>2642.0</td>\n",
       "      <td>4536</td>\n",
       "      <td>0</td>\n",
       "      <td>1</td>\n",
       "      <td>2.916667</td>\n",
       "      <td>Low</td>\n",
       "      <td>Low</td>\n",
       "      <td>Low</td>\n",
       "      <td>High</td>\n",
       "      <td>Average</td>\n",
       "    </tr>\n",
       "    <tr>\n",
       "      <th>1</th>\n",
       "      <td>1</td>\n",
       "      <td>1</td>\n",
       "      <td>1</td>\n",
       "      <td>3</td>\n",
       "      <td>1</td>\n",
       "      <td>178.0</td>\n",
       "      <td>3</td>\n",
       "      <td>369</td>\n",
       "      <td>52</td>\n",
       "      <td>299</td>\n",
       "      <td>...</td>\n",
       "      <td>2108.0</td>\n",
       "      <td>2458</td>\n",
       "      <td>0</td>\n",
       "      <td>0</td>\n",
       "      <td>3.122807</td>\n",
       "      <td>Low</td>\n",
       "      <td>Low</td>\n",
       "      <td>Low</td>\n",
       "      <td>Average</td>\n",
       "      <td>Average</td>\n",
       "    </tr>\n",
       "    <tr>\n",
       "      <th>2</th>\n",
       "      <td>2</td>\n",
       "      <td>2</td>\n",
       "      <td>1</td>\n",
       "      <td>3</td>\n",
       "      <td>1</td>\n",
       "      <td>163.0</td>\n",
       "      <td>3</td>\n",
       "      <td>16</td>\n",
       "      <td>10</td>\n",
       "      <td>306</td>\n",
       "      <td>...</td>\n",
       "      <td>1048.0</td>\n",
       "      <td>5710</td>\n",
       "      <td>0</td>\n",
       "      <td>1</td>\n",
       "      <td>2.432836</td>\n",
       "      <td>Low</td>\n",
       "      <td>Low</td>\n",
       "      <td>Low</td>\n",
       "      <td>Very high</td>\n",
       "      <td>Average</td>\n",
       "    </tr>\n",
       "    <tr>\n",
       "      <th>3</th>\n",
       "      <td>3</td>\n",
       "      <td>1</td>\n",
       "      <td>1</td>\n",
       "      <td>1</td>\n",
       "      <td>1</td>\n",
       "      <td>155.0</td>\n",
       "      <td>1</td>\n",
       "      <td>305</td>\n",
       "      <td>47</td>\n",
       "      <td>180</td>\n",
       "      <td>...</td>\n",
       "      <td>2299.0</td>\n",
       "      <td>5888</td>\n",
       "      <td>1</td>\n",
       "      <td>1</td>\n",
       "      <td>1.476190</td>\n",
       "      <td>Low</td>\n",
       "      <td>Low</td>\n",
       "      <td>Low</td>\n",
       "      <td>Low</td>\n",
       "      <td>Good</td>\n",
       "    </tr>\n",
       "    <tr>\n",
       "      <th>4</th>\n",
       "      <td>4</td>\n",
       "      <td>1</td>\n",
       "      <td>1</td>\n",
       "      <td>1</td>\n",
       "      <td>1</td>\n",
       "      <td>305.0</td>\n",
       "      <td>3</td>\n",
       "      <td>24</td>\n",
       "      <td>37</td>\n",
       "      <td>20</td>\n",
       "      <td>...</td>\n",
       "      <td>1847.0</td>\n",
       "      <td>289</td>\n",
       "      <td>0</td>\n",
       "      <td>1</td>\n",
       "      <td>4.295775</td>\n",
       "      <td>Low</td>\n",
       "      <td>Low</td>\n",
       "      <td>Low</td>\n",
       "      <td>Very high</td>\n",
       "      <td>Average</td>\n",
       "    </tr>\n",
       "  </tbody>\n",
       "</table>\n",
       "<p>5 rows × 29 columns</p>\n",
       "</div>"
      ],
      "text/plain": [
       "   row_id loan_type property_type loan_purpose occupancy  loan_amount  \\\n",
       "0       0         3             1            1         1         70.0   \n",
       "1       1         1             1            3         1        178.0   \n",
       "2       2         2             1            3         1        163.0   \n",
       "3       3         1             1            1         1        155.0   \n",
       "4       4         1             1            1         1        305.0   \n",
       "\n",
       "  preapproval msa_md state_code county_code     ...       \\\n",
       "0           3     18         37         246     ...        \n",
       "1           3    369         52         299     ...        \n",
       "2           3     16         10         306     ...        \n",
       "3           1    305         47         180     ...        \n",
       "4           3     24         37          20     ...        \n",
       "\n",
       "  number_of_1_to_4_family_units lender co_applicant  accepted  \\\n",
       "0                        2642.0   4536            0         1   \n",
       "1                        2108.0   2458            0         0   \n",
       "2                        1048.0   5710            0         1   \n",
       "3                        2299.0   5888            1         1   \n",
       "4                        1847.0    289            0         1   \n",
       "\n",
       "   loan_income_ratio  Income_bin  loan_amount_bin  population_pop_bin  \\\n",
       "0           2.916667         Low              Low                 Low   \n",
       "1           3.122807         Low              Low                 Low   \n",
       "2           2.432836         Low              Low                 Low   \n",
       "3           1.476190         Low              Low                 Low   \n",
       "4           4.295775         Low              Low                 Low   \n",
       "\n",
       "   min_pop_bin  num_own_bin  \n",
       "0         High      Average  \n",
       "1      Average      Average  \n",
       "2    Very high      Average  \n",
       "3          Low         Good  \n",
       "4    Very high      Average  \n",
       "\n",
       "[5 rows x 29 columns]"
      ]
     },
     "execution_count": 116,
     "metadata": {},
     "output_type": "execute_result"
    }
   ],
   "source": [
    "train1 = train1.dropna()\n",
    "train1.head()"
   ]
  },
  {
   "cell_type": "code",
   "execution_count": 117,
   "metadata": {},
   "outputs": [],
   "source": [
    "#plt.figure(1) \n",
    "#plt.subplot(124)\n",
    "#sns.distplot(train['loan_amount']); \n",
    "#plt.subplot(125)\n",
    "#train['loan_amount'].plot.box(figsize=(16,5)) \n",
    "#plt.show()"
   ]
  },
  {
   "cell_type": "code",
   "execution_count": 118,
   "metadata": {},
   "outputs": [],
   "source": [
    "#plt.figure(1) \n",
    "#plt.subplot(121)\n",
    "#sns.distplot(train1['applicant_income']); \n",
    "#plt.subplot(122)\n",
    "#train1['applicant_income'].plot.box(figsize=(16,5)) \n",
    "#plt.show()"
   ]
  },
  {
   "cell_type": "code",
   "execution_count": 119,
   "metadata": {},
   "outputs": [],
   "source": [
    "#plt.figure(1) \n",
    "#plt.subplot(121)\n",
    "#sns.distplot(train1['population']); \n",
    "#plt.subplot(122)\n",
    "#train1['population'].plot.box(figsize=(16,5)) \n",
    "#plt.show()"
   ]
  },
  {
   "cell_type": "code",
   "execution_count": 120,
   "metadata": {},
   "outputs": [
    {
     "data": {
      "image/png": "[encoded data removed]",
      "text/plain": [
       "<Figure size 1152x360 with 2 Axes>"
      ]
     },
     "metadata": {
      "needs_background": "light"
     },
     "output_type": "display_data"
    }
   ],
   "source": [
    "plt.figure(1) \n",
    "plt.subplot(121)\n",
    "sns.distplot(train1['loan_amount']); \n",
    "plt.subplot(122)\n",
    "train1['loan_amount'].plot.box(figsize=(16,5)) \n",
    "plt.show()"
   ]
  },
  {
   "cell_type": "code",
   "execution_count": 121,
   "metadata": {},
   "outputs": [
    {
     "data": {
      "image/png": "[encoded data removed]",
      "text/plain": [
       "<Figure size 1152x360 with 2 Axes>"
      ]
     },
     "metadata": {
      "needs_background": "light"
     },
     "output_type": "display_data"
    }
   ],
   "source": [
    "plt.figure(1) \n",
    "plt.subplot(121)\n",
    "sns.distplot(train1['applicant_income']); \n",
    "plt.subplot(122)\n",
    "train1['applicant_income'].plot.box(figsize=(16,5)) \n",
    "plt.show()"
   ]
  },
  {
   "cell_type": "code",
   "execution_count": 122,
   "metadata": {},
   "outputs": [
    {
     "data": {
      "image/png": "[encoded data removed]",
      "text/plain": [
       "<Figure size 1152x360 with 2 Axes>"
      ]
     },
     "metadata": {
      "needs_background": "light"
     },
     "output_type": "display_data"
    }
   ],
   "source": [
    "plt.figure(1) \n",
    "plt.subplot(121)\n",
    "sns.distplot(train1['minority_population_pct']); \n",
    "plt.subplot(122)\n",
    "train1['minority_population_pct'].plot.box(figsize=(16,5)) \n",
    "plt.show()"
   ]
  },
  {
   "cell_type": "code",
   "execution_count": 123,
   "metadata": {},
   "outputs": [
    {
     "data": {
      "image/png": "[encoded data removed]",
      "text/plain": [
       "<Figure size 1152x360 with 2 Axes>"
      ]
     },
     "metadata": {
      "needs_background": "light"
     },
     "output_type": "display_data"
    }
   ],
   "source": [
    "plt.figure(1) \n",
    "plt.subplot(121)\n",
    "sns.distplot(train1['ffiecmedian_family_income']); \n",
    "plt.subplot(122)\n",
    "train1['ffiecmedian_family_income'].plot.box(figsize=(16,5)) \n",
    "plt.show()"
   ]
  },
  {
   "cell_type": "code",
   "execution_count": 124,
   "metadata": {},
   "outputs": [
    {
     "data": {
      "image/png": "[encoded data removed]",
      "text/plain": [
       "<Figure size 1152x360 with 2 Axes>"
      ]
     },
     "metadata": {
      "needs_background": "light"
     },
     "output_type": "display_data"
    }
   ],
   "source": [
    "plt.figure(1) \n",
    "plt.subplot(121)\n",
    "sns.distplot(train1['tract_to_msa_md_income_pct']); \n",
    "plt.subplot(122)\n",
    "train1['tract_to_msa_md_income_pct'].plot.box(figsize=(16,5))  \n",
    "plt.show()"
   ]
  },
  {
   "cell_type": "code",
   "execution_count": 125,
   "metadata": {},
   "outputs": [
    {
     "data": {
      "image/png": "[encoded data removed]",
      "text/plain": [
       "<Figure size 1152x360 with 2 Axes>"
      ]
     },
     "metadata": {
      "needs_background": "light"
     },
     "output_type": "display_data"
    }
   ],
   "source": [
    "plt.figure(1) \n",
    "plt.subplot(121)\n",
    "sns.distplot(train1['number_of_owner-occupied_units']); \n",
    "plt.subplot(122)\n",
    "train1['number_of_owner-occupied_units'].plot.box(figsize=(16,5)) \n",
    "plt.show()"
   ]
  },
  {
   "cell_type": "code",
   "execution_count": 126,
   "metadata": {},
   "outputs": [
    {
     "data": {
      "image/png": "[encoded data removed]",
      "text/plain": [
       "<Figure size 1152x360 with 2 Axes>"
      ]
     },
     "metadata": {
      "needs_background": "light"
     },
     "output_type": "display_data"
    }
   ],
   "source": [
    "plt.figure(1) \n",
    "plt.subplot(121)\n",
    "sns.distplot(train1['number_of_1_to_4_family_units']); \n",
    "plt.subplot(122)\n",
    "train1['number_of_1_to_4_family_units'].plot.box(figsize=(16,5)) \n",
    "plt.show()"
   ]
  },
  {
   "cell_type": "markdown",
   "metadata": {},
   "source": [
    "### Bivariate Analysis"
   ]
  },
  {
   "cell_type": "markdown",
   "metadata": {},
   "source": [
    "#### Categorical Independent Variable vs Target Variable"
   ]
  },
  {
   "cell_type": "code",
   "execution_count": 127,
   "metadata": {},
   "outputs": [
    {
     "data": {
      "text/plain": [
       "<matplotlib.axes._subplots.AxesSubplot at 0x2f0b9fa45c0>"
      ]
     },
     "execution_count": 127,
     "metadata": {},
     "output_type": "execute_result"
    },
    {
     "data": {
      "image/png": "[encoded data removed]",
      "text/plain": [
       "<Figure size 432x288 with 1 Axes>"
      ]
     },
     "metadata": {
      "needs_background": "light"
     },
     "output_type": "display_data"
    }
   ],
   "source": [
    "loan_type=pd.crosstab(train1['loan_type'],train1['accepted'])\n",
    "loan_type.div(loan_type.sum(1).astype(float),\n",
    "              axis=0).plot(kind=\"bar\", stacked=True, figsize=(6,4))"
   ]
  },
  {
   "cell_type": "code",
   "execution_count": 128,
   "metadata": {},
   "outputs": [
    {
     "data": {
      "text/plain": [
       "<matplotlib.axes._subplots.AxesSubplot at 0x2f0aef676d8>"
      ]
     },
     "execution_count": 128,
     "metadata": {},
     "output_type": "execute_result"
    },
    {
     "data": {
      "image/png": "[encoded data removed]",
      "text/plain": [
       "<Figure size 432x288 with 1 Axes>"
      ]
     },
     "metadata": {
      "needs_background": "light"
     },
     "output_type": "display_data"
    }
   ],
   "source": [
    "property_type=pd.crosstab(train1['property_type'],train1['accepted'])\n",
    "property_type.div(property_type.sum(1).astype(float),\n",
    "                  axis=0).plot(kind=\"bar\", stacked=True, figsize=(6,4))"
   ]
  },
  {
   "cell_type": "code",
   "execution_count": 129,
   "metadata": {},
   "outputs": [
    {
     "data": {
      "text/plain": [
       "<matplotlib.axes._subplots.AxesSubplot at 0x2f0ada64278>"
      ]
     },
     "execution_count": 129,
     "metadata": {},
     "output_type": "execute_result"
    },
    {
     "data": {
      "image/png": "[encoded data removed]",
      "text/plain": [
       "<Figure size 432x288 with 1 Axes>"
      ]
     },
     "metadata": {
      "needs_background": "light"
     },
     "output_type": "display_data"
    }
   ],
   "source": [
    "occupancy=pd.crosstab(train1['occupancy'],train1['accepted'])\n",
    "occupancy.div(occupancy.sum(1).astype(float),\n",
    "              axis=0).plot(kind=\"bar\", stacked=True, figsize=(6,4))"
   ]
  },
  {
   "cell_type": "code",
   "execution_count": 130,
   "metadata": {},
   "outputs": [
    {
     "data": {
      "text/plain": [
       "<matplotlib.axes._subplots.AxesSubplot at 0x2f0a51bda58>"
      ]
     },
     "execution_count": 130,
     "metadata": {},
     "output_type": "execute_result"
    },
    {
     "data": {
      "image/png": "[encoded data removed]",
      "text/plain": [
       "<Figure size 432x288 with 1 Axes>"
      ]
     },
     "metadata": {
      "needs_background": "light"
     },
     "output_type": "display_data"
    }
   ],
   "source": [
    "loan_purpose=pd.crosstab(train1['loan_purpose'],train1['accepted'])\n",
    "loan_purpose.div(loan_purpose.sum(1).astype(float), \n",
    "                 axis=0).plot(kind=\"bar\", stacked=True, figsize=(6,4))"
   ]
  },
  {
   "cell_type": "code",
   "execution_count": 131,
   "metadata": {},
   "outputs": [
    {
     "data": {
      "text/plain": [
       "<matplotlib.axes._subplots.AxesSubplot at 0x2f09490f588>"
      ]
     },
     "execution_count": 131,
     "metadata": {},
     "output_type": "execute_result"
    },
    {
     "data": {
      "image/png": "[encoded data removed]",
      "text/plain": [
       "<Figure size 432x288 with 1 Axes>"
      ]
     },
     "metadata": {
      "needs_background": "light"
     },
     "output_type": "display_data"
    }
   ],
   "source": [
    "applicant_sex=pd.crosstab(train1['applicant_sex'],train1['accepted'])\n",
    "applicant_sex.div(applicant_sex.sum(1).astype(float),\n",
    "                  axis=0).plot(kind=\"bar\", stacked=True, figsize=(6,4))"
   ]
  },
  {
   "cell_type": "code",
   "execution_count": 132,
   "metadata": {},
   "outputs": [
    {
     "data": {
      "text/plain": [
       "<matplotlib.axes._subplots.AxesSubplot at 0x2f0947704a8>"
      ]
     },
     "execution_count": 132,
     "metadata": {},
     "output_type": "execute_result"
    },
    {
     "data": {
      "image/png": "[encoded data removed]",
      "text/plain": [
       "<Figure size 432x288 with 1 Axes>"
      ]
     },
     "metadata": {
      "needs_background": "light"
     },
     "output_type": "display_data"
    }
   ],
   "source": [
    "applicant_race=pd.crosstab(train1['applicant_race'],train1['accepted'])\n",
    "applicant_race.div(applicant_race.sum(1).astype(float),\n",
    "                   axis=0).plot(kind=\"bar\", stacked=True, figsize=(6,4))"
   ]
  },
  {
   "cell_type": "code",
   "execution_count": 133,
   "metadata": {},
   "outputs": [
    {
     "data": {
      "text/plain": [
       "<matplotlib.axes._subplots.AxesSubplot at 0x2f0947b20b8>"
      ]
     },
     "execution_count": 133,
     "metadata": {},
     "output_type": "execute_result"
    },
    {
     "data": {
      "image/png": "[encoded data removed]",
      "text/plain": [
       "<Figure size 432x288 with 1 Axes>"
      ]
     },
     "metadata": {
      "needs_background": "light"
     },
     "output_type": "display_data"
    }
   ],
   "source": [
    "preapproval=pd.crosstab(train1['preapproval'],train1['accepted'])\n",
    "preapproval.div(preapproval.sum(1).astype(float),\n",
    "                axis=0).plot(kind=\"bar\", stacked=True, figsize=(6,4))"
   ]
  },
  {
   "cell_type": "code",
   "execution_count": 134,
   "metadata": {},
   "outputs": [
    {
     "data": {
      "text/plain": [
       "<matplotlib.axes._subplots.AxesSubplot at 0x2f0948b67f0>"
      ]
     },
     "execution_count": 134,
     "metadata": {},
     "output_type": "execute_result"
    },
    {
     "data": {
      "image/png": "[encoded data removed]",
      "text/plain": [
       "<Figure size 432x288 with 1 Axes>"
      ]
     },
     "metadata": {
      "needs_background": "light"
     },
     "output_type": "display_data"
    }
   ],
   "source": [
    "applicant_ethnicity=pd.crosstab(train1['applicant_ethnicity'],train1['accepted'])\n",
    "applicant_ethnicity.div(applicant_ethnicity.sum(1).astype(float),\n",
    "                        axis=0).plot(kind=\"bar\", stacked=True, figsize=(6,4))"
   ]
  },
  {
   "cell_type": "markdown",
   "metadata": {},
   "source": [
    "### Numerical Independent Variable vs Target Variable"
   ]
  },
  {
   "cell_type": "code",
   "execution_count": 135,
   "metadata": {},
   "outputs": [
    {
     "data": {
      "text/plain": [
       "<matplotlib.axes._subplots.AxesSubplot at 0x2f0aef59be0>"
      ]
     },
     "execution_count": 135,
     "metadata": {},
     "output_type": "execute_result"
    },
    {
     "data": {
      "image/png": "[encoded data removed]",
      "text/plain": [
       "<Figure size 432x288 with 1 Axes>"
      ]
     },
     "metadata": {
      "needs_background": "light"
     },
     "output_type": "display_data"
    }
   ],
   "source": [
    "train1.groupby('accepted')['applicant_income'].mean().plot.bar()"
   ]
  },
  {
   "cell_type": "code",
   "execution_count": 136,
   "metadata": {},
   "outputs": [
    {
     "data": {
      "image/png": "[encoded data removed]",
      "text/plain": [
       "<Figure size 432x288 with 1 Axes>"
      ]
     },
     "metadata": {
      "needs_background": "light"
     },
     "output_type": "display_data"
    }
   ],
   "source": [
    "bins=[0,1500,4000,6000,10139] \n",
    "group=['Low','Average','High', 'Very high'] \n",
    "\n",
    "train1['Income_bin']=pd.cut(train1['applicant_income'],bins,labels=group)\n",
    "\n",
    "Income_bin=pd.crosstab(train1['Income_bin'],train1['accepted'])\n",
    "\n",
    "Income_bin.div(Income_bin.sum(1).astype(float), axis=0).plot(kind=\"bar\", stacked=True)\n",
    "\n",
    "plt.xlabel('applicant_income') \n",
    "P = plt.ylabel('Percentage')"
   ]
  },
  {
   "cell_type": "code",
   "execution_count": 137,
   "metadata": {},
   "outputs": [
    {
     "data": {
      "image/png": "[encoded data removed]",
      "text/plain": [
       "<Figure size 432x288 with 1 Axes>"
      ]
     },
     "metadata": {
      "needs_background": "light"
     },
     "output_type": "display_data"
    }
   ],
   "source": [
    "bins=[0,1500,4000,6000,15983] \n",
    "group=['Low','Average','High', 'Very high'] \n",
    "\n",
    "train1['loan_amount_bin']=pd.cut(train1['loan_amount'],bins,labels=group)\n",
    "\n",
    "loan_amount_bin=pd.crosstab(train1['loan_amount_bin'],train1['accepted'])\n",
    "\n",
    "loan_amount_bin.div(loan_amount_bin.sum(1).astype(float), axis=0).plot(kind=\"bar\", stacked=True)\n",
    "\n",
    "plt.xlabel('loan_amount') \n",
    "P = plt.ylabel('Percentage')"
   ]
  },
  {
   "cell_type": "code",
   "execution_count": 138,
   "metadata": {},
   "outputs": [
    {
     "data": {
      "image/png": "[encoded data removed]",
      "text/plain": [
       "<Figure size 432x288 with 1 Axes>"
      ]
     },
     "metadata": {
      "needs_background": "light"
     },
     "output_type": "display_data"
    }
   ],
   "source": [
    "bins=[0,8000,15000,25000,40000] \n",
    "group=['Low','Average','High', 'Very high'] \n",
    "\n",
    "train1['population_pop_bin']=pd.cut(train1['population'],bins,labels=group)\n",
    "\n",
    "population_pop_bin=pd.crosstab(train1['loan_amount_bin'],train1['accepted'])\n",
    "\n",
    "population_pop_bin.div(population_pop_bin.sum(1).astype(float),\n",
    "                       axis=0).plot(kind=\"bar\", stacked=True)\n",
    "\n",
    "plt.xlabel('population') \n",
    "P = plt.ylabel('Percentage')"
   ]
  },
  {
   "cell_type": "code",
   "execution_count": 139,
   "metadata": {},
   "outputs": [
    {
     "data": {
      "image/png": "[encoded data removed]",
      "text/plain": [
       "<Figure size 432x288 with 1 Axes>"
      ]
     },
     "metadata": {
      "needs_background": "light"
     },
     "output_type": "display_data"
    }
   ],
   "source": [
    "bins=[0,15,30,60,100] \n",
    "group=['Low','Average','High', 'Very high'] \n",
    "\n",
    "train1['min_pop_bin']=pd.cut(train1['minority_population_pct'],bins,labels=group)\n",
    "\n",
    "Income_bin=pd.crosstab(train1['min_pop_bin'],train1['accepted'])\n",
    "\n",
    "Income_bin.div(Income_bin.sum(1).astype(float), axis=0).plot(kind=\"bar\", stacked=True)\n",
    "\n",
    "plt.xlabel('minority_population_pct') \n",
    "P = plt.ylabel('Percentage')"
   ]
  },
  {
   "cell_type": "code",
   "execution_count": 140,
   "metadata": {
    "scrolled": true
   },
   "outputs": [
    {
     "data": {
      "image/png": "[encoded data removed]",
      "text/plain": [
       "<Figure size 432x288 with 1 Axes>"
      ]
     },
     "metadata": {
      "needs_background": "light"
     },
     "output_type": "display_data"
    }
   ],
   "source": [
    "bins=[0,500, 2000,3500,5000,10000] \n",
    "group=['Low','Average','Good','High', 'Very high'] \n",
    "\n",
    "train1['num_own_bin']=pd.cut(train1['number_of_owner-occupied_units'],bins,labels=group)\n",
    "\n",
    "Income_bin=pd.crosstab(train1['num_own_bin'],train1['accepted'])\n",
    "\n",
    "Income_bin.div(Income_bin.sum(1).astype(float), axis=0).plot(kind=\"bar\", stacked=True)\n",
    "\n",
    "plt.xlabel('number_of_owner-occupied_units') \n",
    "P = plt.ylabel('Percentage')"
   ]
  },
  {
   "cell_type": "markdown",
   "metadata": {},
   "source": [
    "It can be inferred that Applicant income does not affect the chances of loan approval which contradicts our hypothesis in which we assumed that if the applicant income is high the chances of loan approval will also be high."
   ]
  },
  {
   "cell_type": "code",
   "execution_count": 141,
   "metadata": {},
   "outputs": [],
   "source": [
    "# Basic correlogram\n",
    "#sns.pairplot(train1)\n",
    "#sns.plt.show()\n",
    "\n",
    "#pd.scatter_matrix(train1, figsize=(6, 6))\n",
    "#plt.show()"
   ]
  },
  {
   "cell_type": "markdown",
   "metadata": {},
   "source": [
    "### Dummy Variables Creation"
   ]
  },
  {
   "cell_type": "code",
   "execution_count": 142,
   "metadata": {},
   "outputs": [],
   "source": [
    "X = pd.get_dummies(X) \n",
    "train = pd.get_dummies(train) \n",
    "test = pd.get_dummies(test)"
   ]
  },
  {
   "cell_type": "code",
   "execution_count": 143,
   "metadata": {},
   "outputs": [],
   "source": [
    "numfeat = [ \"loan_amount\", \"applicant_income\", \n",
    "           \"ffiecmedian_family_income\",'population',\n",
    "          'minority_population_pct','ffiecmedian_family_income','tract_to_msa_md_income_pct',\n",
    "        'number_of_owner-occupied_units','number_of_1_to_4_family_units']"
   ]
  },
  {
   "cell_type": "code",
   "execution_count": 66,
   "metadata": {},
   "outputs": [],
   "source": [
    "from sklearn.preprocessing import StandardScaler\n",
    "sc = StandardScaler()  \n",
    "X[numfeat] = sc.fit_transform(X[numfeat])  \n",
    "test[numfeat] = sc.fit_transform(test[numfeat]) "
   ]
  },
  {
   "cell_type": "code",
   "execution_count": 144,
   "metadata": {},
   "outputs": [],
   "source": [
    "catfeatures_index = np.where(X.dtypes != float)[0]"
   ]
  },
  {
   "cell_type": "markdown",
   "metadata": {},
   "source": [
    "### MODELLING "
   ]
  },
  {
   "cell_type": "code",
   "execution_count": 145,
   "metadata": {},
   "outputs": [],
   "source": [
    "X_train, X_cv, y_train, y_cv = train_test_split(X, y,test_size=0.3)"
   ]
  },
  {
   "cell_type": "code",
   "execution_count": 146,
   "metadata": {},
   "outputs": [],
   "source": [
    "catboost = CatBoostClassifier(iterations=2000, depth=8, \n",
    "                              learning_rate=0.05,                           \n",
    "                           eval_metric='Accuracy',use_best_model=True, random_seed=44624)"
   ]
  },
  {
   "cell_type": "code",
   "execution_count": 147,
   "metadata": {
    "scrolled": false
   },
   "outputs": [
    {
     "name": "stdout",
     "output_type": "stream",
     "text": [
      "0:\tlearn: 0.6940114\ttest: 0.6961600\tbest: 0.6961600 (0)\ttotal: 542ms\tremaining: 18m 3s\n",
      "1:\tlearn: 0.6981286\ttest: 0.7006267\tbest: 0.7006267 (1)\ttotal: 923ms\tremaining: 15m 22s\n",
      "2:\tlearn: 0.6969771\ttest: 0.6990600\tbest: 0.7006267 (1)\ttotal: 1.29s\tremaining: 14m 20s\n",
      "3:\tlearn: 0.6987914\ttest: 0.7009067\tbest: 0.7009067 (3)\ttotal: 1.66s\tremaining: 13m 47s\n",
      "4:\tlearn: 0.6993029\ttest: 0.7015467\tbest: 0.7015467 (4)\ttotal: 2.04s\tremaining: 13m 33s\n",
      "5:\tlearn: 0.6999914\ttest: 0.7024933\tbest: 0.7024933 (5)\ttotal: 2.41s\tremaining: 13m 22s\n",
      "6:\tlearn: 0.7003629\ttest: 0.7020800\tbest: 0.7024933 (5)\ttotal: 2.81s\tremaining: 13m 18s\n",
      "7:\tlearn: 0.7011143\ttest: 0.7032600\tbest: 0.7032600 (7)\ttotal: 3.18s\tremaining: 13m 11s\n",
      "8:\tlearn: 0.7015714\ttest: 0.7040400\tbest: 0.7040400 (8)\ttotal: 3.58s\tremaining: 13m 12s\n",
      "9:\tlearn: 0.7029514\ttest: 0.7057467\tbest: 0.7057467 (9)\ttotal: 3.99s\tremaining: 13m 14s\n",
      "10:\tlearn: 0.7031943\ttest: 0.7058400\tbest: 0.7058400 (10)\ttotal: 4.36s\tremaining: 13m 8s\n",
      "11:\tlearn: 0.7036800\ttest: 0.7063400\tbest: 0.7063400 (11)\ttotal: 4.76s\tremaining: 13m 9s\n",
      "12:\tlearn: 0.7040114\ttest: 0.7068800\tbest: 0.7068800 (12)\ttotal: 5.15s\tremaining: 13m 7s\n",
      "13:\tlearn: 0.7039143\ttest: 0.7064533\tbest: 0.7068800 (12)\ttotal: 5.52s\tremaining: 13m 2s\n",
      "14:\tlearn: 0.7045000\ttest: 0.7070933\tbest: 0.7070933 (14)\ttotal: 5.93s\tremaining: 13m 5s\n",
      "15:\tlearn: 0.7043800\ttest: 0.7078000\tbest: 0.7078000 (15)\ttotal: 6.3s\tremaining: 13m 1s\n",
      "16:\tlearn: 0.7047257\ttest: 0.7076600\tbest: 0.7078000 (15)\ttotal: 6.68s\tremaining: 12m 59s\n",
      "17:\tlearn: 0.7051229\ttest: 0.7083667\tbest: 0.7083667 (17)\ttotal: 7.02s\tremaining: 12m 53s\n",
      "18:\tlearn: 0.7051200\ttest: 0.7083600\tbest: 0.7083667 (17)\ttotal: 7.39s\tremaining: 12m 50s\n",
      "19:\tlearn: 0.7055114\ttest: 0.7089533\tbest: 0.7089533 (19)\ttotal: 7.8s\tremaining: 12m 52s\n",
      "20:\tlearn: 0.7061829\ttest: 0.7091067\tbest: 0.7091067 (20)\ttotal: 8.2s\tremaining: 12m 52s\n",
      "21:\tlearn: 0.7068057\ttest: 0.7096400\tbest: 0.7096400 (21)\ttotal: 8.58s\tremaining: 12m 51s\n",
      "22:\tlearn: 0.7071114\ttest: 0.7096667\tbest: 0.7096667 (22)\ttotal: 8.96s\tremaining: 12m 50s\n",
      "23:\tlearn: 0.7077486\ttest: 0.7102733\tbest: 0.7102733 (23)\ttotal: 9.36s\tremaining: 12m 50s\n",
      "24:\tlearn: 0.7076371\ttest: 0.7101800\tbest: 0.7102733 (23)\ttotal: 9.73s\tremaining: 12m 48s\n",
      "25:\tlearn: 0.7081343\ttest: 0.7107467\tbest: 0.7107467 (25)\ttotal: 10.1s\tremaining: 12m 48s\n",
      "26:\tlearn: 0.7082714\ttest: 0.7107933\tbest: 0.7107933 (26)\ttotal: 10.5s\tremaining: 12m 48s\n",
      "27:\tlearn: 0.7087971\ttest: 0.7114933\tbest: 0.7114933 (27)\ttotal: 10.9s\tremaining: 12m 47s\n",
      "28:\tlearn: 0.7092314\ttest: 0.7120933\tbest: 0.7120933 (28)\ttotal: 11.3s\tremaining: 12m 46s\n",
      "29:\tlearn: 0.7094200\ttest: 0.7120533\tbest: 0.7120933 (28)\ttotal: 11.7s\tremaining: 12m 46s\n",
      "30:\tlearn: 0.7099514\ttest: 0.7127533\tbest: 0.7127533 (30)\ttotal: 12.1s\tremaining: 12m 48s\n",
      "31:\tlearn: 0.7099829\ttest: 0.7128733\tbest: 0.7128733 (31)\ttotal: 12.5s\tremaining: 12m 49s\n",
      "32:\tlearn: 0.7101200\ttest: 0.7128867\tbest: 0.7128867 (32)\ttotal: 12.9s\tremaining: 12m 49s\n",
      "33:\tlearn: 0.7102743\ttest: 0.7132667\tbest: 0.7132667 (33)\ttotal: 13.3s\tremaining: 12m 47s\n",
      "34:\tlearn: 0.7104057\ttest: 0.7132467\tbest: 0.7132667 (33)\ttotal: 13.7s\tremaining: 12m 47s\n",
      "35:\tlearn: 0.7106914\ttest: 0.7133800\tbest: 0.7133800 (35)\ttotal: 14.1s\tremaining: 12m 47s\n",
      "36:\tlearn: 0.7109829\ttest: 0.7140067\tbest: 0.7140067 (36)\ttotal: 14.4s\tremaining: 12m 46s\n",
      "37:\tlearn: 0.7112086\ttest: 0.7140467\tbest: 0.7140467 (37)\ttotal: 14.8s\tremaining: 12m 46s\n",
      "38:\tlearn: 0.7111057\ttest: 0.7142267\tbest: 0.7142267 (38)\ttotal: 15.2s\tremaining: 12m 45s\n",
      "39:\tlearn: 0.7116457\ttest: 0.7148533\tbest: 0.7148533 (39)\ttotal: 15.6s\tremaining: 12m 45s\n",
      "40:\tlearn: 0.7117914\ttest: 0.7149733\tbest: 0.7149733 (40)\ttotal: 16s\tremaining: 12m 45s\n",
      "41:\tlearn: 0.7122286\ttest: 0.7151067\tbest: 0.7151067 (41)\ttotal: 16.4s\tremaining: 12m 45s\n",
      "42:\tlearn: 0.7121571\ttest: 0.7151600\tbest: 0.7151600 (42)\ttotal: 16.8s\tremaining: 12m 45s\n",
      "43:\tlearn: 0.7123914\ttest: 0.7152467\tbest: 0.7152467 (43)\ttotal: 17.2s\tremaining: 12m 44s\n",
      "44:\tlearn: 0.7127000\ttest: 0.7156067\tbest: 0.7156067 (44)\ttotal: 17.6s\tremaining: 12m 44s\n",
      "45:\tlearn: 0.7129971\ttest: 0.7158667\tbest: 0.7158667 (45)\ttotal: 18s\tremaining: 12m 46s\n",
      "46:\tlearn: 0.7133800\ttest: 0.7162067\tbest: 0.7162067 (46)\ttotal: 18.5s\tremaining: 12m 47s\n",
      "47:\tlearn: 0.7136000\ttest: 0.7161133\tbest: 0.7162067 (46)\ttotal: 18.9s\tremaining: 12m 46s\n",
      "48:\tlearn: 0.7139400\ttest: 0.7167067\tbest: 0.7167067 (48)\ttotal: 19.3s\tremaining: 12m 48s\n",
      "49:\tlearn: 0.7140343\ttest: 0.7168067\tbest: 0.7168067 (49)\ttotal: 19.7s\tremaining: 12m 48s\n",
      "50:\tlearn: 0.7141457\ttest: 0.7169533\tbest: 0.7169533 (50)\ttotal: 20.1s\tremaining: 12m 48s\n",
      "51:\tlearn: 0.7141543\ttest: 0.7169933\tbest: 0.7169933 (51)\ttotal: 20.5s\tremaining: 12m 48s\n",
      "52:\tlearn: 0.7143714\ttest: 0.7170667\tbest: 0.7170667 (52)\ttotal: 20.9s\tremaining: 12m 48s\n",
      "53:\tlearn: 0.7146057\ttest: 0.7172600\tbest: 0.7172600 (53)\ttotal: 21.3s\tremaining: 12m 48s\n",
      "54:\tlearn: 0.7146543\ttest: 0.7171667\tbest: 0.7172600 (53)\ttotal: 21.8s\tremaining: 12m 49s\n",
      "55:\tlearn: 0.7149800\ttest: 0.7175067\tbest: 0.7175067 (55)\ttotal: 22.2s\tremaining: 12m 49s\n",
      "56:\tlearn: 0.7150800\ttest: 0.7174600\tbest: 0.7175067 (55)\ttotal: 22.6s\tremaining: 12m 50s\n",
      "57:\tlearn: 0.7152086\ttest: 0.7176333\tbest: 0.7176333 (57)\ttotal: 23s\tremaining: 12m 49s\n",
      "58:\tlearn: 0.7154771\ttest: 0.7178667\tbest: 0.7178667 (58)\ttotal: 23.4s\tremaining: 12m 50s\n",
      "59:\tlearn: 0.7157457\ttest: 0.7182333\tbest: 0.7182333 (59)\ttotal: 23.8s\tremaining: 12m 49s\n",
      "60:\tlearn: 0.7157200\ttest: 0.7181667\tbest: 0.7182333 (59)\ttotal: 24.2s\tremaining: 12m 49s\n",
      "61:\tlearn: 0.7158200\ttest: 0.7182800\tbest: 0.7182800 (61)\ttotal: 24.6s\tremaining: 12m 48s\n",
      "62:\tlearn: 0.7158286\ttest: 0.7183600\tbest: 0.7183600 (62)\ttotal: 25s\tremaining: 12m 48s\n",
      "63:\tlearn: 0.7160057\ttest: 0.7183600\tbest: 0.7183600 (62)\ttotal: 25.4s\tremaining: 12m 49s\n",
      "64:\tlearn: 0.7161114\ttest: 0.7184600\tbest: 0.7184600 (64)\ttotal: 25.9s\tremaining: 12m 50s\n",
      "65:\tlearn: 0.7162286\ttest: 0.7185667\tbest: 0.7185667 (65)\ttotal: 26.3s\tremaining: 12m 52s\n",
      "66:\tlearn: 0.7164086\ttest: 0.7187533\tbest: 0.7187533 (66)\ttotal: 26.8s\tremaining: 12m 52s\n",
      "67:\tlearn: 0.7165514\ttest: 0.7189267\tbest: 0.7189267 (67)\ttotal: 27.1s\tremaining: 12m 51s\n",
      "68:\tlearn: 0.7165743\ttest: 0.7190400\tbest: 0.7190400 (68)\ttotal: 27.5s\tremaining: 12m 50s\n",
      "69:\tlearn: 0.7165514\ttest: 0.7190000\tbest: 0.7190400 (68)\ttotal: 27.9s\tremaining: 12m 50s\n",
      "70:\tlearn: 0.7166571\ttest: 0.7192600\tbest: 0.7192600 (70)\ttotal: 28.3s\tremaining: 12m 50s\n",
      "71:\tlearn: 0.7168314\ttest: 0.7193533\tbest: 0.7193533 (71)\ttotal: 28.8s\tremaining: 12m 50s\n",
      "72:\tlearn: 0.7170457\ttest: 0.7194400\tbest: 0.7194400 (72)\ttotal: 29.2s\tremaining: 12m 50s\n",
      "73:\tlearn: 0.7170400\ttest: 0.7193667\tbest: 0.7194400 (72)\ttotal: 29.5s\tremaining: 12m 48s\n",
      "74:\tlearn: 0.7171086\ttest: 0.7194400\tbest: 0.7194400 (72)\ttotal: 29.9s\tremaining: 12m 47s\n",
      "75:\tlearn: 0.7172714\ttest: 0.7194333\tbest: 0.7194400 (72)\ttotal: 30.3s\tremaining: 12m 46s\n",
      "76:\tlearn: 0.7172629\ttest: 0.7194800\tbest: 0.7194800 (76)\ttotal: 30.7s\tremaining: 12m 47s\n",
      "77:\tlearn: 0.7173914\ttest: 0.7197667\tbest: 0.7197667 (77)\ttotal: 31.2s\tremaining: 12m 47s\n",
      "78:\tlearn: 0.7174914\ttest: 0.7197667\tbest: 0.7197667 (77)\ttotal: 31.6s\tremaining: 12m 48s\n",
      "79:\tlearn: 0.7175714\ttest: 0.7198600\tbest: 0.7198600 (79)\ttotal: 32s\tremaining: 12m 48s\n",
      "80:\tlearn: 0.7177743\ttest: 0.7198533\tbest: 0.7198600 (79)\ttotal: 32.4s\tremaining: 12m 47s\n",
      "81:\tlearn: 0.7178571\ttest: 0.7198600\tbest: 0.7198600 (79)\ttotal: 32.9s\tremaining: 12m 48s\n",
      "82:\tlearn: 0.7180629\ttest: 0.7200333\tbest: 0.7200333 (82)\ttotal: 33.2s\tremaining: 12m 47s\n",
      "83:\tlearn: 0.7180257\ttest: 0.7200200\tbest: 0.7200333 (82)\ttotal: 33.6s\tremaining: 12m 46s\n",
      "84:\tlearn: 0.7181257\ttest: 0.7200600\tbest: 0.7200600 (84)\ttotal: 34s\tremaining: 12m 47s\n",
      "85:\tlearn: 0.7181800\ttest: 0.7200800\tbest: 0.7200800 (85)\ttotal: 34.4s\tremaining: 12m 46s\n",
      "86:\tlearn: 0.7183114\ttest: 0.7201800\tbest: 0.7201800 (86)\ttotal: 34.9s\tremaining: 12m 46s\n",
      "87:\tlearn: 0.7183657\ttest: 0.7203333\tbest: 0.7203333 (87)\ttotal: 35.3s\tremaining: 12m 46s\n",
      "88:\tlearn: 0.7185229\ttest: 0.7203000\tbest: 0.7203333 (87)\ttotal: 35.7s\tremaining: 12m 46s\n",
      "89:\tlearn: 0.7185771\ttest: 0.7203133\tbest: 0.7203333 (87)\ttotal: 36.1s\tremaining: 12m 46s\n",
      "90:\tlearn: 0.7186657\ttest: 0.7204800\tbest: 0.7204800 (90)\ttotal: 36.5s\tremaining: 12m 45s\n",
      "91:\tlearn: 0.7187543\ttest: 0.7207400\tbest: 0.7207400 (91)\ttotal: 36.9s\tremaining: 12m 45s\n"
     ]
    },
    {
     "name": "stdout",
     "output_type": "stream",
     "text": [
      "92:\tlearn: 0.7189114\ttest: 0.7209800\tbest: 0.7209800 (92)\ttotal: 37.3s\tremaining: 12m 45s\n",
      "93:\tlearn: 0.7189286\ttest: 0.7209400\tbest: 0.7209800 (92)\ttotal: 37.7s\tremaining: 12m 45s\n",
      "94:\tlearn: 0.7189743\ttest: 0.7208467\tbest: 0.7209800 (92)\ttotal: 38.2s\tremaining: 12m 45s\n",
      "95:\tlearn: 0.7191771\ttest: 0.7210600\tbest: 0.7210600 (95)\ttotal: 38.5s\tremaining: 12m 44s\n",
      "96:\tlearn: 0.7193057\ttest: 0.7210267\tbest: 0.7210600 (95)\ttotal: 39s\tremaining: 12m 44s\n",
      "97:\tlearn: 0.7194800\ttest: 0.7211533\tbest: 0.7211533 (97)\ttotal: 39.4s\tremaining: 12m 45s\n",
      "98:\tlearn: 0.7195686\ttest: 0.7211333\tbest: 0.7211533 (97)\ttotal: 39.9s\tremaining: 12m 45s\n",
      "99:\tlearn: 0.7195743\ttest: 0.7213400\tbest: 0.7213400 (99)\ttotal: 40.3s\tremaining: 12m 44s\n",
      "100:\tlearn: 0.7196143\ttest: 0.7213733\tbest: 0.7213733 (100)\ttotal: 40.6s\tremaining: 12m 44s\n",
      "101:\tlearn: 0.7196829\ttest: 0.7215000\tbest: 0.7215000 (101)\ttotal: 41s\tremaining: 12m 43s\n",
      "102:\tlearn: 0.7197114\ttest: 0.7214733\tbest: 0.7215000 (101)\ttotal: 41.5s\tremaining: 12m 43s\n",
      "103:\tlearn: 0.7197629\ttest: 0.7215067\tbest: 0.7215067 (103)\ttotal: 41.9s\tremaining: 12m 43s\n",
      "104:\tlearn: 0.7198143\ttest: 0.7215000\tbest: 0.7215067 (103)\ttotal: 42.3s\tremaining: 12m 42s\n",
      "105:\tlearn: 0.7198629\ttest: 0.7216533\tbest: 0.7216533 (105)\ttotal: 42.6s\tremaining: 12m 41s\n",
      "106:\tlearn: 0.7198743\ttest: 0.7216200\tbest: 0.7216533 (105)\ttotal: 43s\tremaining: 12m 41s\n",
      "107:\tlearn: 0.7199286\ttest: 0.7216400\tbest: 0.7216533 (105)\ttotal: 43.5s\tremaining: 12m 41s\n",
      "108:\tlearn: 0.7200829\ttest: 0.7218267\tbest: 0.7218267 (108)\ttotal: 43.9s\tremaining: 12m 41s\n",
      "109:\tlearn: 0.7200600\ttest: 0.7219067\tbest: 0.7219067 (109)\ttotal: 44.3s\tremaining: 12m 41s\n",
      "110:\tlearn: 0.7200257\ttest: 0.7218533\tbest: 0.7219067 (109)\ttotal: 44.7s\tremaining: 12m 40s\n",
      "111:\tlearn: 0.7200571\ttest: 0.7218133\tbest: 0.7219067 (109)\ttotal: 45.1s\tremaining: 12m 40s\n",
      "112:\tlearn: 0.7201114\ttest: 0.7217933\tbest: 0.7219067 (109)\ttotal: 45.5s\tremaining: 12m 40s\n",
      "113:\tlearn: 0.7202514\ttest: 0.7218667\tbest: 0.7219067 (109)\ttotal: 45.9s\tremaining: 12m 39s\n",
      "114:\tlearn: 0.7202543\ttest: 0.7218000\tbest: 0.7219067 (109)\ttotal: 46.3s\tremaining: 12m 39s\n",
      "115:\tlearn: 0.7202857\ttest: 0.7219600\tbest: 0.7219600 (115)\ttotal: 46.7s\tremaining: 12m 39s\n",
      "116:\tlearn: 0.7202800\ttest: 0.7219467\tbest: 0.7219600 (115)\ttotal: 47.1s\tremaining: 12m 38s\n",
      "117:\tlearn: 0.7204314\ttest: 0.7220000\tbest: 0.7220000 (117)\ttotal: 47.5s\tremaining: 12m 37s\n",
      "118:\tlearn: 0.7204514\ttest: 0.7220533\tbest: 0.7220533 (118)\ttotal: 47.9s\tremaining: 12m 37s\n",
      "119:\tlearn: 0.7204829\ttest: 0.7219733\tbest: 0.7220533 (118)\ttotal: 48.3s\tremaining: 12m 37s\n",
      "120:\tlearn: 0.7205886\ttest: 0.7221000\tbest: 0.7221000 (120)\ttotal: 48.7s\tremaining: 12m 37s\n",
      "121:\tlearn: 0.7206514\ttest: 0.7222200\tbest: 0.7222200 (121)\ttotal: 49.2s\tremaining: 12m 36s\n",
      "122:\tlearn: 0.7207429\ttest: 0.7221200\tbest: 0.7222200 (121)\ttotal: 49.6s\tremaining: 12m 37s\n",
      "123:\tlearn: 0.7208457\ttest: 0.7221667\tbest: 0.7222200 (121)\ttotal: 50s\tremaining: 12m 36s\n",
      "124:\tlearn: 0.7208629\ttest: 0.7221800\tbest: 0.7222200 (121)\ttotal: 50.5s\tremaining: 12m 37s\n",
      "125:\tlearn: 0.7208771\ttest: 0.7222200\tbest: 0.7222200 (121)\ttotal: 50.9s\tremaining: 12m 37s\n",
      "126:\tlearn: 0.7209371\ttest: 0.7221600\tbest: 0.7222200 (121)\ttotal: 51.4s\tremaining: 12m 37s\n",
      "127:\tlearn: 0.7210571\ttest: 0.7221400\tbest: 0.7222200 (121)\ttotal: 51.8s\tremaining: 12m 38s\n",
      "128:\tlearn: 0.7210743\ttest: 0.7221400\tbest: 0.7222200 (121)\ttotal: 52.3s\tremaining: 12m 37s\n",
      "129:\tlearn: 0.7211171\ttest: 0.7221867\tbest: 0.7222200 (121)\ttotal: 52.7s\tremaining: 12m 38s\n",
      "130:\tlearn: 0.7211914\ttest: 0.7221733\tbest: 0.7222200 (121)\ttotal: 53.1s\tremaining: 12m 37s\n",
      "131:\tlearn: 0.7213314\ttest: 0.7222133\tbest: 0.7222200 (121)\ttotal: 53.6s\tremaining: 12m 37s\n",
      "132:\tlearn: 0.7214171\ttest: 0.7221933\tbest: 0.7222200 (121)\ttotal: 54s\tremaining: 12m 37s\n",
      "133:\tlearn: 0.7214314\ttest: 0.7222600\tbest: 0.7222600 (133)\ttotal: 54.4s\tremaining: 12m 37s\n",
      "134:\tlearn: 0.7214486\ttest: 0.7221933\tbest: 0.7222600 (133)\ttotal: 54.8s\tremaining: 12m 37s\n",
      "135:\tlearn: 0.7214629\ttest: 0.7221800\tbest: 0.7222600 (133)\ttotal: 55.2s\tremaining: 12m 36s\n",
      "136:\tlearn: 0.7215286\ttest: 0.7223600\tbest: 0.7223600 (136)\ttotal: 55.6s\tremaining: 12m 36s\n",
      "137:\tlearn: 0.7215629\ttest: 0.7223800\tbest: 0.7223800 (137)\ttotal: 56.1s\tremaining: 12m 36s\n",
      "138:\tlearn: 0.7215857\ttest: 0.7224467\tbest: 0.7224467 (138)\ttotal: 56.5s\tremaining: 12m 36s\n",
      "139:\tlearn: 0.7216257\ttest: 0.7224867\tbest: 0.7224867 (139)\ttotal: 56.9s\tremaining: 12m 36s\n",
      "140:\tlearn: 0.7216543\ttest: 0.7226333\tbest: 0.7226333 (140)\ttotal: 57.3s\tremaining: 12m 35s\n",
      "141:\tlearn: 0.7218286\ttest: 0.7225867\tbest: 0.7226333 (140)\ttotal: 57.7s\tremaining: 12m 35s\n",
      "142:\tlearn: 0.7218171\ttest: 0.7225800\tbest: 0.7226333 (140)\ttotal: 58.2s\tremaining: 12m 35s\n",
      "143:\tlearn: 0.7219000\ttest: 0.7226267\tbest: 0.7226333 (140)\ttotal: 58.6s\tremaining: 12m 35s\n",
      "144:\tlearn: 0.7220114\ttest: 0.7227200\tbest: 0.7227200 (144)\ttotal: 59s\tremaining: 12m 34s\n",
      "145:\tlearn: 0.7221086\ttest: 0.7229267\tbest: 0.7229267 (145)\ttotal: 59.4s\tremaining: 12m 34s\n",
      "146:\tlearn: 0.7221371\ttest: 0.7229600\tbest: 0.7229600 (146)\ttotal: 59.8s\tremaining: 12m 33s\n",
      "147:\tlearn: 0.7221771\ttest: 0.7230400\tbest: 0.7230400 (147)\ttotal: 1m\tremaining: 12m 34s\n",
      "148:\tlearn: 0.7221686\ttest: 0.7230333\tbest: 0.7230400 (147)\ttotal: 1m\tremaining: 12m 33s\n",
      "149:\tlearn: 0.7221771\ttest: 0.7230733\tbest: 0.7230733 (149)\ttotal: 1m 1s\tremaining: 12m 33s\n",
      "150:\tlearn: 0.7222000\ttest: 0.7229800\tbest: 0.7230733 (149)\ttotal: 1m 1s\tremaining: 12m 33s\n",
      "151:\tlearn: 0.7221886\ttest: 0.7230533\tbest: 0.7230733 (149)\ttotal: 1m 1s\tremaining: 12m 33s\n",
      "152:\tlearn: 0.7222514\ttest: 0.7231000\tbest: 0.7231000 (152)\ttotal: 1m 2s\tremaining: 12m 32s\n",
      "153:\tlearn: 0.7222886\ttest: 0.7230733\tbest: 0.7231000 (152)\ttotal: 1m 2s\tremaining: 12m 32s\n",
      "154:\tlearn: 0.7223457\ttest: 0.7231067\tbest: 0.7231067 (154)\ttotal: 1m 3s\tremaining: 12m 31s\n",
      "155:\tlearn: 0.7223314\ttest: 0.7230400\tbest: 0.7231067 (154)\ttotal: 1m 3s\tremaining: 12m 31s\n",
      "156:\tlearn: 0.7224686\ttest: 0.7230733\tbest: 0.7231067 (154)\ttotal: 1m 4s\tremaining: 12m 31s\n",
      "157:\tlearn: 0.7225629\ttest: 0.7231733\tbest: 0.7231733 (157)\ttotal: 1m 4s\tremaining: 12m 31s\n",
      "158:\tlearn: 0.7226371\ttest: 0.7232000\tbest: 0.7232000 (158)\ttotal: 1m 4s\tremaining: 12m 31s\n",
      "159:\tlearn: 0.7225800\ttest: 0.7231400\tbest: 0.7232000 (158)\ttotal: 1m 5s\tremaining: 12m 29s\n",
      "160:\tlearn: 0.7226457\ttest: 0.7231800\tbest: 0.7232000 (158)\ttotal: 1m 5s\tremaining: 12m 29s\n",
      "161:\tlearn: 0.7226771\ttest: 0.7231467\tbest: 0.7232000 (158)\ttotal: 1m 6s\tremaining: 12m 28s\n",
      "162:\tlearn: 0.7227200\ttest: 0.7232200\tbest: 0.7232200 (162)\ttotal: 1m 6s\tremaining: 12m 28s\n",
      "163:\tlearn: 0.7227429\ttest: 0.7231800\tbest: 0.7232200 (162)\ttotal: 1m 6s\tremaining: 12m 27s\n",
      "164:\tlearn: 0.7227743\ttest: 0.7232467\tbest: 0.7232467 (164)\ttotal: 1m 7s\tremaining: 12m 26s\n",
      "165:\tlearn: 0.7227714\ttest: 0.7232667\tbest: 0.7232667 (165)\ttotal: 1m 7s\tremaining: 12m 26s\n",
      "166:\tlearn: 0.7228200\ttest: 0.7233467\tbest: 0.7233467 (166)\ttotal: 1m 7s\tremaining: 12m 25s\n",
      "167:\tlearn: 0.7228571\ttest: 0.7232333\tbest: 0.7233467 (166)\ttotal: 1m 8s\tremaining: 12m 25s\n",
      "168:\tlearn: 0.7229514\ttest: 0.7233067\tbest: 0.7233467 (166)\ttotal: 1m 8s\tremaining: 12m 25s\n",
      "169:\tlearn: 0.7229971\ttest: 0.7234000\tbest: 0.7234000 (169)\ttotal: 1m 9s\tremaining: 12m 25s\n",
      "170:\tlearn: 0.7230286\ttest: 0.7233600\tbest: 0.7234000 (169)\ttotal: 1m 9s\tremaining: 12m 24s\n",
      "171:\tlearn: 0.7230314\ttest: 0.7234600\tbest: 0.7234600 (171)\ttotal: 1m 10s\tremaining: 12m 24s\n",
      "172:\tlearn: 0.7230914\ttest: 0.7234467\tbest: 0.7234600 (171)\ttotal: 1m 10s\tremaining: 12m 24s\n",
      "173:\tlearn: 0.7230943\ttest: 0.7233733\tbest: 0.7234600 (171)\ttotal: 1m 10s\tremaining: 12m 23s\n",
      "174:\tlearn: 0.7231314\ttest: 0.7233800\tbest: 0.7234600 (171)\ttotal: 1m 11s\tremaining: 12m 23s\n",
      "175:\tlearn: 0.7231629\ttest: 0.7233600\tbest: 0.7234600 (171)\ttotal: 1m 11s\tremaining: 12m 22s\n",
      "176:\tlearn: 0.7231943\ttest: 0.7233667\tbest: 0.7234600 (171)\ttotal: 1m 12s\tremaining: 12m 22s\n",
      "177:\tlearn: 0.7232200\ttest: 0.7233600\tbest: 0.7234600 (171)\ttotal: 1m 12s\tremaining: 12m 22s\n",
      "178:\tlearn: 0.7233743\ttest: 0.7234467\tbest: 0.7234600 (171)\ttotal: 1m 12s\tremaining: 12m 21s\n",
      "179:\tlearn: 0.7234200\ttest: 0.7234733\tbest: 0.7234733 (179)\ttotal: 1m 13s\tremaining: 12m 21s\n",
      "180:\tlearn: 0.7233857\ttest: 0.7234667\tbest: 0.7234733 (179)\ttotal: 1m 13s\tremaining: 12m 21s\n",
      "181:\tlearn: 0.7234114\ttest: 0.7235133\tbest: 0.7235133 (181)\ttotal: 1m 14s\tremaining: 12m 21s\n"
     ]
    },
    {
     "name": "stdout",
     "output_type": "stream",
     "text": [
      "182:\tlearn: 0.7234629\ttest: 0.7236533\tbest: 0.7236533 (182)\ttotal: 1m 14s\tremaining: 12m 20s\n",
      "183:\tlearn: 0.7235343\ttest: 0.7235133\tbest: 0.7236533 (182)\ttotal: 1m 15s\tremaining: 12m 20s\n",
      "184:\tlearn: 0.7235571\ttest: 0.7235467\tbest: 0.7236533 (182)\ttotal: 1m 15s\tremaining: 12m 20s\n",
      "185:\tlearn: 0.7235971\ttest: 0.7236067\tbest: 0.7236533 (182)\ttotal: 1m 15s\tremaining: 12m 19s\n",
      "186:\tlearn: 0.7236514\ttest: 0.7236267\tbest: 0.7236533 (182)\ttotal: 1m 16s\tremaining: 12m 19s\n",
      "187:\tlearn: 0.7236743\ttest: 0.7238200\tbest: 0.7238200 (187)\ttotal: 1m 16s\tremaining: 12m 19s\n",
      "188:\tlearn: 0.7236943\ttest: 0.7237733\tbest: 0.7238200 (187)\ttotal: 1m 17s\tremaining: 12m 19s\n",
      "189:\tlearn: 0.7237057\ttest: 0.7238333\tbest: 0.7238333 (189)\ttotal: 1m 17s\tremaining: 12m 19s\n",
      "190:\tlearn: 0.7237486\ttest: 0.7237267\tbest: 0.7238333 (189)\ttotal: 1m 18s\tremaining: 12m 19s\n",
      "191:\tlearn: 0.7238143\ttest: 0.7237600\tbest: 0.7238333 (189)\ttotal: 1m 18s\tremaining: 12m 18s\n",
      "192:\tlearn: 0.7238257\ttest: 0.7237133\tbest: 0.7238333 (189)\ttotal: 1m 18s\tremaining: 12m 18s\n",
      "193:\tlearn: 0.7238257\ttest: 0.7238400\tbest: 0.7238400 (193)\ttotal: 1m 19s\tremaining: 12m 17s\n",
      "194:\tlearn: 0.7238629\ttest: 0.7238200\tbest: 0.7238400 (193)\ttotal: 1m 19s\tremaining: 12m 16s\n",
      "195:\tlearn: 0.7239714\ttest: 0.7238467\tbest: 0.7238467 (195)\ttotal: 1m 20s\tremaining: 12m 16s\n",
      "196:\tlearn: 0.7240543\ttest: 0.7238400\tbest: 0.7238467 (195)\ttotal: 1m 20s\tremaining: 12m 15s\n",
      "197:\tlearn: 0.7240057\ttest: 0.7239600\tbest: 0.7239600 (197)\ttotal: 1m 20s\tremaining: 12m 15s\n",
      "198:\tlearn: 0.7239971\ttest: 0.7238933\tbest: 0.7239600 (197)\ttotal: 1m 21s\tremaining: 12m 14s\n",
      "199:\tlearn: 0.7240743\ttest: 0.7239000\tbest: 0.7239600 (197)\ttotal: 1m 21s\tremaining: 12m 14s\n",
      "200:\tlearn: 0.7241457\ttest: 0.7239067\tbest: 0.7239600 (197)\ttotal: 1m 22s\tremaining: 12m 14s\n",
      "201:\tlearn: 0.7241086\ttest: 0.7239467\tbest: 0.7239600 (197)\ttotal: 1m 22s\tremaining: 12m 14s\n",
      "202:\tlearn: 0.7241343\ttest: 0.7239933\tbest: 0.7239933 (202)\ttotal: 1m 22s\tremaining: 12m 14s\n",
      "203:\tlearn: 0.7241400\ttest: 0.7240467\tbest: 0.7240467 (203)\ttotal: 1m 23s\tremaining: 12m 13s\n",
      "204:\tlearn: 0.7241429\ttest: 0.7240200\tbest: 0.7240467 (203)\ttotal: 1m 23s\tremaining: 12m 12s\n",
      "205:\tlearn: 0.7242000\ttest: 0.7239867\tbest: 0.7240467 (203)\ttotal: 1m 24s\tremaining: 12m 12s\n",
      "206:\tlearn: 0.7242114\ttest: 0.7240467\tbest: 0.7240467 (203)\ttotal: 1m 24s\tremaining: 12m 12s\n",
      "207:\tlearn: 0.7242286\ttest: 0.7241333\tbest: 0.7241333 (207)\ttotal: 1m 24s\tremaining: 12m 12s\n",
      "208:\tlearn: 0.7243057\ttest: 0.7241333\tbest: 0.7241333 (207)\ttotal: 1m 25s\tremaining: 12m 11s\n",
      "209:\tlearn: 0.7243286\ttest: 0.7241333\tbest: 0.7241333 (207)\ttotal: 1m 25s\tremaining: 12m 10s\n",
      "210:\tlearn: 0.7244143\ttest: 0.7241267\tbest: 0.7241333 (207)\ttotal: 1m 26s\tremaining: 12m 10s\n",
      "211:\tlearn: 0.7244657\ttest: 0.7240933\tbest: 0.7241333 (207)\ttotal: 1m 26s\tremaining: 12m 9s\n",
      "212:\tlearn: 0.7245000\ttest: 0.7240667\tbest: 0.7241333 (207)\ttotal: 1m 26s\tremaining: 12m 9s\n",
      "213:\tlearn: 0.7244971\ttest: 0.7239933\tbest: 0.7241333 (207)\ttotal: 1m 27s\tremaining: 12m 8s\n",
      "214:\tlearn: 0.7244743\ttest: 0.7239600\tbest: 0.7241333 (207)\ttotal: 1m 27s\tremaining: 12m 8s\n",
      "215:\tlearn: 0.7245000\ttest: 0.7240133\tbest: 0.7241333 (207)\ttotal: 1m 28s\tremaining: 12m 8s\n",
      "216:\tlearn: 0.7246029\ttest: 0.7242133\tbest: 0.7242133 (216)\ttotal: 1m 28s\tremaining: 12m 7s\n",
      "217:\tlearn: 0.7246486\ttest: 0.7241200\tbest: 0.7242133 (216)\ttotal: 1m 28s\tremaining: 12m 7s\n",
      "218:\tlearn: 0.7247143\ttest: 0.7241800\tbest: 0.7242133 (216)\ttotal: 1m 29s\tremaining: 12m 6s\n",
      "219:\tlearn: 0.7247229\ttest: 0.7241333\tbest: 0.7242133 (216)\ttotal: 1m 29s\tremaining: 12m 6s\n",
      "220:\tlearn: 0.7248029\ttest: 0.7241200\tbest: 0.7242133 (216)\ttotal: 1m 30s\tremaining: 12m 6s\n",
      "221:\tlearn: 0.7247800\ttest: 0.7242467\tbest: 0.7242467 (221)\ttotal: 1m 30s\tremaining: 12m 5s\n",
      "222:\tlearn: 0.7248000\ttest: 0.7241800\tbest: 0.7242467 (221)\ttotal: 1m 31s\tremaining: 12m 5s\n",
      "223:\tlearn: 0.7248057\ttest: 0.7241600\tbest: 0.7242467 (221)\ttotal: 1m 31s\tremaining: 12m 5s\n",
      "224:\tlearn: 0.7248514\ttest: 0.7241467\tbest: 0.7242467 (221)\ttotal: 1m 31s\tremaining: 12m 4s\n",
      "225:\tlearn: 0.7249000\ttest: 0.7242667\tbest: 0.7242667 (225)\ttotal: 1m 32s\tremaining: 12m 4s\n",
      "226:\tlearn: 0.7249371\ttest: 0.7243467\tbest: 0.7243467 (226)\ttotal: 1m 32s\tremaining: 12m 3s\n",
      "227:\tlearn: 0.7249200\ttest: 0.7243067\tbest: 0.7243467 (226)\ttotal: 1m 33s\tremaining: 12m 3s\n",
      "228:\tlearn: 0.7249343\ttest: 0.7243400\tbest: 0.7243467 (226)\ttotal: 1m 33s\tremaining: 12m 3s\n",
      "229:\tlearn: 0.7249971\ttest: 0.7244267\tbest: 0.7244267 (229)\ttotal: 1m 33s\tremaining: 12m 3s\n",
      "230:\tlearn: 0.7250914\ttest: 0.7244067\tbest: 0.7244267 (229)\ttotal: 1m 34s\tremaining: 12m 3s\n",
      "231:\tlearn: 0.7250914\ttest: 0.7243867\tbest: 0.7244267 (229)\ttotal: 1m 34s\tremaining: 12m 1s\n",
      "232:\tlearn: 0.7250971\ttest: 0.7243733\tbest: 0.7244267 (229)\ttotal: 1m 35s\tremaining: 12m\n",
      "233:\tlearn: 0.7251257\ttest: 0.7244533\tbest: 0.7244533 (233)\ttotal: 1m 35s\tremaining: 12m\n",
      "234:\tlearn: 0.7251457\ttest: 0.7244667\tbest: 0.7244667 (234)\ttotal: 1m 35s\tremaining: 12m\n",
      "235:\tlearn: 0.7251086\ttest: 0.7244000\tbest: 0.7244667 (234)\ttotal: 1m 36s\tremaining: 11m 59s\n",
      "236:\tlearn: 0.7251686\ttest: 0.7244000\tbest: 0.7244667 (234)\ttotal: 1m 36s\tremaining: 11m 59s\n",
      "237:\tlearn: 0.7251686\ttest: 0.7244667\tbest: 0.7244667 (234)\ttotal: 1m 37s\tremaining: 11m 59s\n",
      "238:\tlearn: 0.7252514\ttest: 0.7244533\tbest: 0.7244667 (234)\ttotal: 1m 37s\tremaining: 11m 59s\n",
      "239:\tlearn: 0.7252743\ttest: 0.7244733\tbest: 0.7244733 (239)\ttotal: 1m 38s\tremaining: 11m 59s\n",
      "240:\tlearn: 0.7253114\ttest: 0.7245267\tbest: 0.7245267 (240)\ttotal: 1m 38s\tremaining: 11m 58s\n",
      "241:\tlearn: 0.7253143\ttest: 0.7244933\tbest: 0.7245267 (240)\ttotal: 1m 38s\tremaining: 11m 58s\n",
      "242:\tlearn: 0.7253000\ttest: 0.7245533\tbest: 0.7245533 (242)\ttotal: 1m 39s\tremaining: 11m 58s\n",
      "243:\tlearn: 0.7253943\ttest: 0.7246333\tbest: 0.7246333 (243)\ttotal: 1m 39s\tremaining: 11m 58s\n",
      "244:\tlearn: 0.7254000\ttest: 0.7246467\tbest: 0.7246467 (244)\ttotal: 1m 40s\tremaining: 11m 57s\n",
      "245:\tlearn: 0.7254114\ttest: 0.7246267\tbest: 0.7246467 (244)\ttotal: 1m 40s\tremaining: 11m 57s\n",
      "246:\tlearn: 0.7254143\ttest: 0.7246667\tbest: 0.7246667 (246)\ttotal: 1m 41s\tremaining: 11m 57s\n",
      "247:\tlearn: 0.7254143\ttest: 0.7245867\tbest: 0.7246667 (246)\ttotal: 1m 41s\tremaining: 11m 56s\n",
      "248:\tlearn: 0.7255257\ttest: 0.7245533\tbest: 0.7246667 (246)\ttotal: 1m 41s\tremaining: 11m 56s\n",
      "249:\tlearn: 0.7255571\ttest: 0.7245867\tbest: 0.7246667 (246)\ttotal: 1m 42s\tremaining: 11m 56s\n",
      "250:\tlearn: 0.7255486\ttest: 0.7245867\tbest: 0.7246667 (246)\ttotal: 1m 42s\tremaining: 11m 55s\n",
      "251:\tlearn: 0.7255771\ttest: 0.7245600\tbest: 0.7246667 (246)\ttotal: 1m 43s\tremaining: 11m 55s\n",
      "252:\tlearn: 0.7256057\ttest: 0.7245800\tbest: 0.7246667 (246)\ttotal: 1m 43s\tremaining: 11m 55s\n",
      "253:\tlearn: 0.7256714\ttest: 0.7247067\tbest: 0.7247067 (253)\ttotal: 1m 43s\tremaining: 11m 54s\n",
      "254:\tlearn: 0.7257114\ttest: 0.7246600\tbest: 0.7247067 (253)\ttotal: 1m 44s\tremaining: 11m 54s\n",
      "255:\tlearn: 0.7257514\ttest: 0.7247400\tbest: 0.7247400 (255)\ttotal: 1m 44s\tremaining: 11m 54s\n",
      "256:\tlearn: 0.7258600\ttest: 0.7247667\tbest: 0.7247667 (256)\ttotal: 1m 45s\tremaining: 11m 54s\n",
      "257:\tlearn: 0.7258629\ttest: 0.7247467\tbest: 0.7247667 (256)\ttotal: 1m 45s\tremaining: 11m 53s\n",
      "258:\tlearn: 0.7258571\ttest: 0.7248133\tbest: 0.7248133 (258)\ttotal: 1m 46s\tremaining: 11m 53s\n",
      "259:\tlearn: 0.7258971\ttest: 0.7247933\tbest: 0.7248133 (258)\ttotal: 1m 46s\tremaining: 11m 53s\n",
      "260:\tlearn: 0.7258800\ttest: 0.7248467\tbest: 0.7248467 (260)\ttotal: 1m 47s\tremaining: 11m 53s\n",
      "261:\tlearn: 0.7258771\ttest: 0.7248600\tbest: 0.7248600 (261)\ttotal: 1m 47s\tremaining: 11m 52s\n",
      "262:\tlearn: 0.7258914\ttest: 0.7248800\tbest: 0.7248800 (262)\ttotal: 1m 47s\tremaining: 11m 52s\n",
      "263:\tlearn: 0.7259571\ttest: 0.7249200\tbest: 0.7249200 (263)\ttotal: 1m 48s\tremaining: 11m 51s\n",
      "264:\tlearn: 0.7260371\ttest: 0.7249600\tbest: 0.7249600 (264)\ttotal: 1m 48s\tremaining: 11m 51s\n",
      "265:\tlearn: 0.7260314\ttest: 0.7249533\tbest: 0.7249600 (264)\ttotal: 1m 49s\tremaining: 11m 51s\n",
      "266:\tlearn: 0.7260429\ttest: 0.7249733\tbest: 0.7249733 (266)\ttotal: 1m 49s\tremaining: 11m 51s\n",
      "267:\tlearn: 0.7260914\ttest: 0.7250267\tbest: 0.7250267 (267)\ttotal: 1m 50s\tremaining: 11m 51s\n",
      "268:\tlearn: 0.7261000\ttest: 0.7251067\tbest: 0.7251067 (268)\ttotal: 1m 50s\tremaining: 11m 50s\n",
      "269:\tlearn: 0.7260943\ttest: 0.7251333\tbest: 0.7251333 (269)\ttotal: 1m 50s\tremaining: 11m 50s\n",
      "270:\tlearn: 0.7261629\ttest: 0.7250133\tbest: 0.7251333 (269)\ttotal: 1m 51s\tremaining: 11m 50s\n"
     ]
    },
    {
     "name": "stdout",
     "output_type": "stream",
     "text": [
      "271:\tlearn: 0.7261686\ttest: 0.7250733\tbest: 0.7251333 (269)\ttotal: 1m 51s\tremaining: 11m 49s\n",
      "272:\tlearn: 0.7262257\ttest: 0.7250333\tbest: 0.7251333 (269)\ttotal: 1m 52s\tremaining: 11m 49s\n",
      "273:\tlearn: 0.7262943\ttest: 0.7251333\tbest: 0.7251333 (269)\ttotal: 1m 52s\tremaining: 11m 48s\n",
      "274:\tlearn: 0.7262800\ttest: 0.7250933\tbest: 0.7251333 (269)\ttotal: 1m 52s\tremaining: 11m 48s\n",
      "275:\tlearn: 0.7263657\ttest: 0.7250400\tbest: 0.7251333 (269)\ttotal: 1m 53s\tremaining: 11m 48s\n",
      "276:\tlearn: 0.7263714\ttest: 0.7250933\tbest: 0.7251333 (269)\ttotal: 1m 53s\tremaining: 11m 48s\n",
      "277:\tlearn: 0.7264229\ttest: 0.7251667\tbest: 0.7251667 (277)\ttotal: 1m 54s\tremaining: 11m 47s\n",
      "278:\tlearn: 0.7264657\ttest: 0.7251800\tbest: 0.7251800 (278)\ttotal: 1m 54s\tremaining: 11m 47s\n",
      "279:\tlearn: 0.7264914\ttest: 0.7251733\tbest: 0.7251800 (278)\ttotal: 1m 55s\tremaining: 11m 47s\n",
      "280:\tlearn: 0.7265000\ttest: 0.7251667\tbest: 0.7251800 (278)\ttotal: 1m 55s\tremaining: 11m 46s\n",
      "281:\tlearn: 0.7265371\ttest: 0.7252133\tbest: 0.7252133 (281)\ttotal: 1m 55s\tremaining: 11m 45s\n",
      "282:\tlearn: 0.7266057\ttest: 0.7251667\tbest: 0.7252133 (281)\ttotal: 1m 56s\tremaining: 11m 45s\n",
      "283:\tlearn: 0.7265829\ttest: 0.7252200\tbest: 0.7252200 (283)\ttotal: 1m 56s\tremaining: 11m 45s\n",
      "284:\tlearn: 0.7266343\ttest: 0.7251733\tbest: 0.7252200 (283)\ttotal: 1m 57s\tremaining: 11m 44s\n",
      "285:\tlearn: 0.7266286\ttest: 0.7251067\tbest: 0.7252200 (283)\ttotal: 1m 57s\tremaining: 11m 44s\n",
      "286:\tlearn: 0.7266371\ttest: 0.7252333\tbest: 0.7252333 (286)\ttotal: 1m 58s\tremaining: 11m 44s\n",
      "287:\tlearn: 0.7266429\ttest: 0.7252200\tbest: 0.7252333 (286)\ttotal: 1m 58s\tremaining: 11m 44s\n",
      "288:\tlearn: 0.7266429\ttest: 0.7252133\tbest: 0.7252333 (286)\ttotal: 1m 58s\tremaining: 11m 43s\n",
      "289:\tlearn: 0.7267229\ttest: 0.7253000\tbest: 0.7253000 (289)\ttotal: 1m 59s\tremaining: 11m 43s\n",
      "290:\tlearn: 0.7267314\ttest: 0.7252400\tbest: 0.7253000 (289)\ttotal: 1m 59s\tremaining: 11m 43s\n",
      "291:\tlearn: 0.7267143\ttest: 0.7252400\tbest: 0.7253000 (289)\ttotal: 2m\tremaining: 11m 43s\n",
      "292:\tlearn: 0.7267714\ttest: 0.7252267\tbest: 0.7253000 (289)\ttotal: 2m\tremaining: 11m 42s\n",
      "293:\tlearn: 0.7268714\ttest: 0.7253600\tbest: 0.7253600 (293)\ttotal: 2m 1s\tremaining: 11m 42s\n",
      "294:\tlearn: 0.7269371\ttest: 0.7254733\tbest: 0.7254733 (294)\ttotal: 2m 1s\tremaining: 11m 42s\n",
      "295:\tlearn: 0.7269429\ttest: 0.7254067\tbest: 0.7254733 (294)\ttotal: 2m 1s\tremaining: 11m 41s\n",
      "296:\tlearn: 0.7269800\ttest: 0.7254667\tbest: 0.7254733 (294)\ttotal: 2m 2s\tremaining: 11m 41s\n",
      "297:\tlearn: 0.7270486\ttest: 0.7255267\tbest: 0.7255267 (297)\ttotal: 2m 2s\tremaining: 11m 41s\n",
      "298:\tlearn: 0.7270800\ttest: 0.7255600\tbest: 0.7255600 (298)\ttotal: 2m 3s\tremaining: 11m 40s\n",
      "299:\tlearn: 0.7271314\ttest: 0.7255200\tbest: 0.7255600 (298)\ttotal: 2m 3s\tremaining: 11m 40s\n",
      "300:\tlearn: 0.7271600\ttest: 0.7255733\tbest: 0.7255733 (300)\ttotal: 2m 4s\tremaining: 11m 40s\n",
      "301:\tlearn: 0.7271857\ttest: 0.7255400\tbest: 0.7255733 (300)\ttotal: 2m 4s\tremaining: 11m 39s\n",
      "302:\tlearn: 0.7272543\ttest: 0.7255267\tbest: 0.7255733 (300)\ttotal: 2m 4s\tremaining: 11m 39s\n",
      "303:\tlearn: 0.7272429\ttest: 0.7255600\tbest: 0.7255733 (300)\ttotal: 2m 5s\tremaining: 11m 38s\n",
      "304:\tlearn: 0.7272943\ttest: 0.7255333\tbest: 0.7255733 (300)\ttotal: 2m 5s\tremaining: 11m 38s\n",
      "305:\tlearn: 0.7273171\ttest: 0.7254867\tbest: 0.7255733 (300)\ttotal: 2m 6s\tremaining: 11m 38s\n",
      "306:\tlearn: 0.7273114\ttest: 0.7255333\tbest: 0.7255733 (300)\ttotal: 2m 6s\tremaining: 11m 37s\n",
      "307:\tlearn: 0.7273714\ttest: 0.7255867\tbest: 0.7255867 (307)\ttotal: 2m 6s\tremaining: 11m 37s\n",
      "308:\tlearn: 0.7273343\ttest: 0.7256733\tbest: 0.7256733 (308)\ttotal: 2m 7s\tremaining: 11m 36s\n",
      "309:\tlearn: 0.7273686\ttest: 0.7256533\tbest: 0.7256733 (308)\ttotal: 2m 7s\tremaining: 11m 36s\n",
      "310:\tlearn: 0.7274000\ttest: 0.7256467\tbest: 0.7256733 (308)\ttotal: 2m 8s\tremaining: 11m 36s\n",
      "311:\tlearn: 0.7274686\ttest: 0.7255600\tbest: 0.7256733 (308)\ttotal: 2m 8s\tremaining: 11m 36s\n",
      "312:\tlearn: 0.7274886\ttest: 0.7255533\tbest: 0.7256733 (308)\ttotal: 2m 9s\tremaining: 11m 35s\n",
      "313:\tlearn: 0.7274800\ttest: 0.7256133\tbest: 0.7256733 (308)\ttotal: 2m 9s\tremaining: 11m 35s\n",
      "314:\tlearn: 0.7275114\ttest: 0.7255933\tbest: 0.7256733 (308)\ttotal: 2m 9s\tremaining: 11m 35s\n",
      "315:\tlearn: 0.7275229\ttest: 0.7255600\tbest: 0.7256733 (308)\ttotal: 2m 10s\tremaining: 11m 34s\n",
      "316:\tlearn: 0.7276086\ttest: 0.7256133\tbest: 0.7256733 (308)\ttotal: 2m 10s\tremaining: 11m 34s\n",
      "317:\tlearn: 0.7276086\ttest: 0.7256667\tbest: 0.7256733 (308)\ttotal: 2m 11s\tremaining: 11m 33s\n",
      "318:\tlearn: 0.7276114\ttest: 0.7256400\tbest: 0.7256733 (308)\ttotal: 2m 11s\tremaining: 11m 33s\n",
      "319:\tlearn: 0.7276143\ttest: 0.7257133\tbest: 0.7257133 (319)\ttotal: 2m 12s\tremaining: 11m 33s\n",
      "320:\tlearn: 0.7276571\ttest: 0.7256667\tbest: 0.7257133 (319)\ttotal: 2m 12s\tremaining: 11m 32s\n",
      "321:\tlearn: 0.7276771\ttest: 0.7255667\tbest: 0.7257133 (319)\ttotal: 2m 12s\tremaining: 11m 32s\n",
      "322:\tlearn: 0.7277229\ttest: 0.7256133\tbest: 0.7257133 (319)\ttotal: 2m 13s\tremaining: 11m 31s\n",
      "323:\tlearn: 0.7278429\ttest: 0.7256267\tbest: 0.7257133 (319)\ttotal: 2m 13s\tremaining: 11m 31s\n",
      "324:\tlearn: 0.7278743\ttest: 0.7255733\tbest: 0.7257133 (319)\ttotal: 2m 14s\tremaining: 11m 30s\n",
      "325:\tlearn: 0.7278486\ttest: 0.7255533\tbest: 0.7257133 (319)\ttotal: 2m 14s\tremaining: 11m 30s\n",
      "326:\tlearn: 0.7278657\ttest: 0.7255733\tbest: 0.7257133 (319)\ttotal: 2m 14s\tremaining: 11m 30s\n",
      "327:\tlearn: 0.7278571\ttest: 0.7255400\tbest: 0.7257133 (319)\ttotal: 2m 15s\tremaining: 11m 29s\n",
      "328:\tlearn: 0.7279600\ttest: 0.7256200\tbest: 0.7257133 (319)\ttotal: 2m 15s\tremaining: 11m 29s\n",
      "329:\tlearn: 0.7280000\ttest: 0.7256333\tbest: 0.7257133 (319)\ttotal: 2m 16s\tremaining: 11m 28s\n",
      "330:\tlearn: 0.7280371\ttest: 0.7256133\tbest: 0.7257133 (319)\ttotal: 2m 16s\tremaining: 11m 28s\n",
      "331:\tlearn: 0.7280571\ttest: 0.7256267\tbest: 0.7257133 (319)\ttotal: 2m 16s\tremaining: 11m 28s\n",
      "332:\tlearn: 0.7281086\ttest: 0.7257333\tbest: 0.7257333 (332)\ttotal: 2m 17s\tremaining: 11m 27s\n",
      "333:\tlearn: 0.7281400\ttest: 0.7257800\tbest: 0.7257800 (333)\ttotal: 2m 17s\tremaining: 11m 27s\n",
      "334:\tlearn: 0.7282029\ttest: 0.7256733\tbest: 0.7257800 (333)\ttotal: 2m 18s\tremaining: 11m 26s\n",
      "335:\tlearn: 0.7281771\ttest: 0.7257333\tbest: 0.7257800 (333)\ttotal: 2m 18s\tremaining: 11m 26s\n",
      "336:\tlearn: 0.7282457\ttest: 0.7258200\tbest: 0.7258200 (336)\ttotal: 2m 19s\tremaining: 11m 26s\n",
      "337:\tlearn: 0.7282514\ttest: 0.7257533\tbest: 0.7258200 (336)\ttotal: 2m 19s\tremaining: 11m 25s\n",
      "338:\tlearn: 0.7282629\ttest: 0.7258667\tbest: 0.7258667 (338)\ttotal: 2m 19s\tremaining: 11m 25s\n",
      "339:\tlearn: 0.7283171\ttest: 0.7258133\tbest: 0.7258667 (338)\ttotal: 2m 20s\tremaining: 11m 25s\n",
      "340:\tlearn: 0.7283657\ttest: 0.7258133\tbest: 0.7258667 (338)\ttotal: 2m 20s\tremaining: 11m 25s\n",
      "341:\tlearn: 0.7283971\ttest: 0.7258667\tbest: 0.7258667 (338)\ttotal: 2m 21s\tremaining: 11m 24s\n",
      "342:\tlearn: 0.7284429\ttest: 0.7258067\tbest: 0.7258667 (338)\ttotal: 2m 21s\tremaining: 11m 24s\n",
      "343:\tlearn: 0.7284743\ttest: 0.7258533\tbest: 0.7258667 (338)\ttotal: 2m 22s\tremaining: 11m 24s\n",
      "344:\tlearn: 0.7285743\ttest: 0.7258933\tbest: 0.7258933 (344)\ttotal: 2m 22s\tremaining: 11m 23s\n",
      "345:\tlearn: 0.7286114\ttest: 0.7257867\tbest: 0.7258933 (344)\ttotal: 2m 22s\tremaining: 11m 23s\n",
      "346:\tlearn: 0.7286343\ttest: 0.7257600\tbest: 0.7258933 (344)\ttotal: 2m 23s\tremaining: 11m 22s\n",
      "347:\tlearn: 0.7286114\ttest: 0.7258200\tbest: 0.7258933 (344)\ttotal: 2m 23s\tremaining: 11m 22s\n",
      "348:\tlearn: 0.7286200\ttest: 0.7258600\tbest: 0.7258933 (344)\ttotal: 2m 24s\tremaining: 11m 22s\n",
      "349:\tlearn: 0.7286371\ttest: 0.7258533\tbest: 0.7258933 (344)\ttotal: 2m 24s\tremaining: 11m 21s\n",
      "350:\tlearn: 0.7286943\ttest: 0.7259067\tbest: 0.7259067 (350)\ttotal: 2m 25s\tremaining: 11m 21s\n",
      "351:\tlearn: 0.7287000\ttest: 0.7259000\tbest: 0.7259067 (350)\ttotal: 2m 25s\tremaining: 11m 21s\n",
      "352:\tlearn: 0.7287457\ttest: 0.7258800\tbest: 0.7259067 (350)\ttotal: 2m 25s\tremaining: 11m 20s\n",
      "353:\tlearn: 0.7287600\ttest: 0.7259600\tbest: 0.7259600 (353)\ttotal: 2m 26s\tremaining: 11m 20s\n",
      "354:\tlearn: 0.7288229\ttest: 0.7258667\tbest: 0.7259600 (353)\ttotal: 2m 26s\tremaining: 11m 19s\n",
      "355:\tlearn: 0.7288314\ttest: 0.7258533\tbest: 0.7259600 (353)\ttotal: 2m 27s\tremaining: 11m 19s\n",
      "356:\tlearn: 0.7288400\ttest: 0.7257867\tbest: 0.7259600 (353)\ttotal: 2m 27s\tremaining: 11m 19s\n",
      "357:\tlearn: 0.7288571\ttest: 0.7258933\tbest: 0.7259600 (353)\ttotal: 2m 28s\tremaining: 11m 18s\n",
      "358:\tlearn: 0.7289229\ttest: 0.7258667\tbest: 0.7259600 (353)\ttotal: 2m 28s\tremaining: 11m 18s\n",
      "359:\tlearn: 0.7289086\ttest: 0.7258600\tbest: 0.7259600 (353)\ttotal: 2m 28s\tremaining: 11m 18s\n"
     ]
    },
    {
     "name": "stdout",
     "output_type": "stream",
     "text": [
      "360:\tlearn: 0.7289771\ttest: 0.7258200\tbest: 0.7259600 (353)\ttotal: 2m 29s\tremaining: 11m 17s\n",
      "361:\tlearn: 0.7289457\ttest: 0.7258067\tbest: 0.7259600 (353)\ttotal: 2m 29s\tremaining: 11m 17s\n",
      "362:\tlearn: 0.7289857\ttest: 0.7258933\tbest: 0.7259600 (353)\ttotal: 2m 30s\tremaining: 11m 17s\n",
      "363:\tlearn: 0.7290229\ttest: 0.7260333\tbest: 0.7260333 (363)\ttotal: 2m 30s\tremaining: 11m 16s\n",
      "364:\tlearn: 0.7289629\ttest: 0.7261067\tbest: 0.7261067 (364)\ttotal: 2m 31s\tremaining: 11m 16s\n",
      "365:\tlearn: 0.7290171\ttest: 0.7261600\tbest: 0.7261600 (365)\ttotal: 2m 31s\tremaining: 11m 16s\n",
      "366:\tlearn: 0.7290886\ttest: 0.7261667\tbest: 0.7261667 (366)\ttotal: 2m 31s\tremaining: 11m 15s\n",
      "367:\tlearn: 0.7290886\ttest: 0.7261533\tbest: 0.7261667 (366)\ttotal: 2m 32s\tremaining: 11m 15s\n",
      "368:\tlearn: 0.7291400\ttest: 0.7261133\tbest: 0.7261667 (366)\ttotal: 2m 32s\tremaining: 11m 15s\n",
      "369:\tlearn: 0.7291714\ttest: 0.7261200\tbest: 0.7261667 (366)\ttotal: 2m 33s\tremaining: 11m 14s\n",
      "370:\tlearn: 0.7291657\ttest: 0.7260800\tbest: 0.7261667 (366)\ttotal: 2m 33s\tremaining: 11m 14s\n",
      "371:\tlearn: 0.7291657\ttest: 0.7260800\tbest: 0.7261667 (366)\ttotal: 2m 34s\tremaining: 11m 14s\n",
      "372:\tlearn: 0.7291857\ttest: 0.7261333\tbest: 0.7261667 (366)\ttotal: 2m 34s\tremaining: 11m 13s\n",
      "373:\tlearn: 0.7292571\ttest: 0.7261333\tbest: 0.7261667 (366)\ttotal: 2m 34s\tremaining: 11m 13s\n",
      "374:\tlearn: 0.7292657\ttest: 0.7260667\tbest: 0.7261667 (366)\ttotal: 2m 35s\tremaining: 11m 13s\n",
      "375:\tlearn: 0.7292771\ttest: 0.7260733\tbest: 0.7261667 (366)\ttotal: 2m 35s\tremaining: 11m 12s\n",
      "376:\tlearn: 0.7292886\ttest: 0.7260267\tbest: 0.7261667 (366)\ttotal: 2m 36s\tremaining: 11m 12s\n",
      "377:\tlearn: 0.7293543\ttest: 0.7261267\tbest: 0.7261667 (366)\ttotal: 2m 36s\tremaining: 11m 11s\n",
      "378:\tlearn: 0.7293714\ttest: 0.7260800\tbest: 0.7261667 (366)\ttotal: 2m 37s\tremaining: 11m 11s\n",
      "379:\tlearn: 0.7294429\ttest: 0.7261200\tbest: 0.7261667 (366)\ttotal: 2m 37s\tremaining: 11m 11s\n",
      "380:\tlearn: 0.7294971\ttest: 0.7260867\tbest: 0.7261667 (366)\ttotal: 2m 37s\tremaining: 11m 10s\n",
      "381:\tlearn: 0.7295057\ttest: 0.7260800\tbest: 0.7261667 (366)\ttotal: 2m 38s\tremaining: 11m 10s\n",
      "382:\tlearn: 0.7295057\ttest: 0.7260933\tbest: 0.7261667 (366)\ttotal: 2m 38s\tremaining: 11m 10s\n",
      "383:\tlearn: 0.7295457\ttest: 0.7261133\tbest: 0.7261667 (366)\ttotal: 2m 39s\tremaining: 11m 9s\n",
      "384:\tlearn: 0.7295771\ttest: 0.7261267\tbest: 0.7261667 (366)\ttotal: 2m 39s\tremaining: 11m 9s\n",
      "385:\tlearn: 0.7296143\ttest: 0.7261733\tbest: 0.7261733 (385)\ttotal: 2m 40s\tremaining: 11m 9s\n",
      "386:\tlearn: 0.7296486\ttest: 0.7262333\tbest: 0.7262333 (386)\ttotal: 2m 40s\tremaining: 11m 8s\n",
      "387:\tlearn: 0.7296343\ttest: 0.7262067\tbest: 0.7262333 (386)\ttotal: 2m 40s\tremaining: 11m 8s\n",
      "388:\tlearn: 0.7296886\ttest: 0.7262533\tbest: 0.7262533 (388)\ttotal: 2m 41s\tremaining: 11m 8s\n",
      "389:\tlearn: 0.7296771\ttest: 0.7262067\tbest: 0.7262533 (388)\ttotal: 2m 41s\tremaining: 11m 7s\n",
      "390:\tlearn: 0.7297229\ttest: 0.7262200\tbest: 0.7262533 (388)\ttotal: 2m 42s\tremaining: 11m 7s\n",
      "391:\tlearn: 0.7297743\ttest: 0.7262467\tbest: 0.7262533 (388)\ttotal: 2m 42s\tremaining: 11m 6s\n",
      "392:\tlearn: 0.7297914\ttest: 0.7263467\tbest: 0.7263467 (392)\ttotal: 2m 42s\tremaining: 11m 6s\n",
      "393:\tlearn: 0.7298629\ttest: 0.7263200\tbest: 0.7263467 (392)\ttotal: 2m 43s\tremaining: 11m 5s\n",
      "394:\tlearn: 0.7298486\ttest: 0.7263600\tbest: 0.7263600 (394)\ttotal: 2m 43s\tremaining: 11m 5s\n",
      "395:\tlearn: 0.7298971\ttest: 0.7263333\tbest: 0.7263600 (394)\ttotal: 2m 44s\tremaining: 11m 4s\n",
      "396:\tlearn: 0.7299371\ttest: 0.7264067\tbest: 0.7264067 (396)\ttotal: 2m 44s\tremaining: 11m 4s\n",
      "397:\tlearn: 0.7300086\ttest: 0.7264067\tbest: 0.7264067 (396)\ttotal: 2m 45s\tremaining: 11m 4s\n",
      "398:\tlearn: 0.7300343\ttest: 0.7263533\tbest: 0.7264067 (396)\ttotal: 2m 45s\tremaining: 11m 3s\n",
      "399:\tlearn: 0.7300343\ttest: 0.7263667\tbest: 0.7264067 (396)\ttotal: 2m 45s\tremaining: 11m 3s\n",
      "400:\tlearn: 0.7300257\ttest: 0.7263867\tbest: 0.7264067 (396)\ttotal: 2m 46s\tremaining: 11m 3s\n",
      "401:\tlearn: 0.7300600\ttest: 0.7263400\tbest: 0.7264067 (396)\ttotal: 2m 46s\tremaining: 11m 2s\n",
      "402:\tlearn: 0.7300743\ttest: 0.7263267\tbest: 0.7264067 (396)\ttotal: 2m 47s\tremaining: 11m 2s\n",
      "403:\tlearn: 0.7300857\ttest: 0.7263200\tbest: 0.7264067 (396)\ttotal: 2m 47s\tremaining: 11m 1s\n",
      "404:\tlearn: 0.7301057\ttest: 0.7263400\tbest: 0.7264067 (396)\ttotal: 2m 48s\tremaining: 11m 1s\n",
      "405:\tlearn: 0.7301000\ttest: 0.7263667\tbest: 0.7264067 (396)\ttotal: 2m 48s\tremaining: 11m 1s\n",
      "406:\tlearn: 0.7301571\ttest: 0.7263867\tbest: 0.7264067 (396)\ttotal: 2m 48s\tremaining: 11m 1s\n",
      "407:\tlearn: 0.7301686\ttest: 0.7263867\tbest: 0.7264067 (396)\ttotal: 2m 49s\tremaining: 11m\n",
      "408:\tlearn: 0.7301971\ttest: 0.7263467\tbest: 0.7264067 (396)\ttotal: 2m 49s\tremaining: 11m\n",
      "409:\tlearn: 0.7303143\ttest: 0.7264000\tbest: 0.7264067 (396)\ttotal: 2m 50s\tremaining: 10m 59s\n",
      "410:\tlearn: 0.7303086\ttest: 0.7264200\tbest: 0.7264200 (410)\ttotal: 2m 50s\tremaining: 10m 59s\n",
      "411:\tlearn: 0.7303229\ttest: 0.7263333\tbest: 0.7264200 (410)\ttotal: 2m 51s\tremaining: 10m 59s\n",
      "412:\tlearn: 0.7303657\ttest: 0.7263533\tbest: 0.7264200 (410)\ttotal: 2m 51s\tremaining: 10m 58s\n",
      "413:\tlearn: 0.7304057\ttest: 0.7263733\tbest: 0.7264200 (410)\ttotal: 2m 51s\tremaining: 10m 58s\n",
      "414:\tlearn: 0.7303657\ttest: 0.7263533\tbest: 0.7264200 (410)\ttotal: 2m 52s\tremaining: 10m 58s\n",
      "415:\tlearn: 0.7304200\ttest: 0.7263600\tbest: 0.7264200 (410)\ttotal: 2m 52s\tremaining: 10m 57s\n",
      "416:\tlearn: 0.7304143\ttest: 0.7263067\tbest: 0.7264200 (410)\ttotal: 2m 53s\tremaining: 10m 57s\n",
      "417:\tlearn: 0.7304600\ttest: 0.7263400\tbest: 0.7264200 (410)\ttotal: 2m 53s\tremaining: 10m 57s\n",
      "418:\tlearn: 0.7305457\ttest: 0.7263133\tbest: 0.7264200 (410)\ttotal: 2m 54s\tremaining: 10m 56s\n",
      "419:\tlearn: 0.7305943\ttest: 0.7263467\tbest: 0.7264200 (410)\ttotal: 2m 54s\tremaining: 10m 56s\n",
      "420:\tlearn: 0.7306143\ttest: 0.7263733\tbest: 0.7264200 (410)\ttotal: 2m 54s\tremaining: 10m 55s\n",
      "421:\tlearn: 0.7306343\ttest: 0.7263400\tbest: 0.7264200 (410)\ttotal: 2m 55s\tremaining: 10m 55s\n",
      "422:\tlearn: 0.7306800\ttest: 0.7264000\tbest: 0.7264200 (410)\ttotal: 2m 55s\tremaining: 10m 55s\n",
      "423:\tlearn: 0.7306914\ttest: 0.7263333\tbest: 0.7264200 (410)\ttotal: 2m 56s\tremaining: 10m 54s\n",
      "424:\tlearn: 0.7307229\ttest: 0.7263067\tbest: 0.7264200 (410)\ttotal: 2m 56s\tremaining: 10m 54s\n",
      "425:\tlearn: 0.7307257\ttest: 0.7262933\tbest: 0.7264200 (410)\ttotal: 2m 56s\tremaining: 10m 53s\n",
      "426:\tlearn: 0.7307371\ttest: 0.7262867\tbest: 0.7264200 (410)\ttotal: 2m 57s\tremaining: 10m 53s\n",
      "427:\tlearn: 0.7307143\ttest: 0.7263000\tbest: 0.7264200 (410)\ttotal: 2m 57s\tremaining: 10m 52s\n",
      "428:\tlearn: 0.7307629\ttest: 0.7262733\tbest: 0.7264200 (410)\ttotal: 2m 58s\tremaining: 10m 52s\n",
      "429:\tlearn: 0.7308057\ttest: 0.7263067\tbest: 0.7264200 (410)\ttotal: 2m 58s\tremaining: 10m 52s\n",
      "430:\tlearn: 0.7308286\ttest: 0.7263133\tbest: 0.7264200 (410)\ttotal: 2m 59s\tremaining: 10m 51s\n",
      "431:\tlearn: 0.7308829\ttest: 0.7263467\tbest: 0.7264200 (410)\ttotal: 2m 59s\tremaining: 10m 51s\n",
      "432:\tlearn: 0.7309314\ttest: 0.7263533\tbest: 0.7264200 (410)\ttotal: 2m 59s\tremaining: 10m 51s\n",
      "433:\tlearn: 0.7309429\ttest: 0.7263600\tbest: 0.7264200 (410)\ttotal: 3m\tremaining: 10m 50s\n",
      "434:\tlearn: 0.7309714\ttest: 0.7263933\tbest: 0.7264200 (410)\ttotal: 3m\tremaining: 10m 50s\n",
      "435:\tlearn: 0.7309857\ttest: 0.7263867\tbest: 0.7264200 (410)\ttotal: 3m 1s\tremaining: 10m 49s\n",
      "436:\tlearn: 0.7310257\ttest: 0.7263400\tbest: 0.7264200 (410)\ttotal: 3m 1s\tremaining: 10m 49s\n",
      "437:\tlearn: 0.7310686\ttest: 0.7263067\tbest: 0.7264200 (410)\ttotal: 3m 1s\tremaining: 10m 48s\n",
      "438:\tlearn: 0.7310714\ttest: 0.7263333\tbest: 0.7264200 (410)\ttotal: 3m 2s\tremaining: 10m 48s\n",
      "439:\tlearn: 0.7311086\ttest: 0.7262867\tbest: 0.7264200 (410)\ttotal: 3m 2s\tremaining: 10m 48s\n",
      "440:\tlearn: 0.7311429\ttest: 0.7263000\tbest: 0.7264200 (410)\ttotal: 3m 3s\tremaining: 10m 47s\n",
      "441:\tlearn: 0.7311400\ttest: 0.7262600\tbest: 0.7264200 (410)\ttotal: 3m 3s\tremaining: 10m 47s\n",
      "442:\tlearn: 0.7311314\ttest: 0.7262867\tbest: 0.7264200 (410)\ttotal: 3m 4s\tremaining: 10m 46s\n",
      "443:\tlearn: 0.7311714\ttest: 0.7262667\tbest: 0.7264200 (410)\ttotal: 3m 4s\tremaining: 10m 46s\n",
      "444:\tlearn: 0.7312029\ttest: 0.7262867\tbest: 0.7264200 (410)\ttotal: 3m 4s\tremaining: 10m 46s\n",
      "445:\tlearn: 0.7312086\ttest: 0.7262600\tbest: 0.7264200 (410)\ttotal: 3m 5s\tremaining: 10m 45s\n",
      "446:\tlearn: 0.7312171\ttest: 0.7262000\tbest: 0.7264200 (410)\ttotal: 3m 5s\tremaining: 10m 45s\n",
      "447:\tlearn: 0.7312057\ttest: 0.7262267\tbest: 0.7264200 (410)\ttotal: 3m 6s\tremaining: 10m 45s\n",
      "448:\tlearn: 0.7311914\ttest: 0.7262133\tbest: 0.7264200 (410)\ttotal: 3m 6s\tremaining: 10m 44s\n"
     ]
    },
    {
     "name": "stdout",
     "output_type": "stream",
     "text": [
      "449:\tlearn: 0.7312114\ttest: 0.7261800\tbest: 0.7264200 (410)\ttotal: 3m 7s\tremaining: 10m 44s\n",
      "450:\tlearn: 0.7312657\ttest: 0.7262067\tbest: 0.7264200 (410)\ttotal: 3m 7s\tremaining: 10m 44s\n",
      "451:\tlearn: 0.7312771\ttest: 0.7262867\tbest: 0.7264200 (410)\ttotal: 3m 7s\tremaining: 10m 43s\n",
      "452:\tlearn: 0.7313029\ttest: 0.7263000\tbest: 0.7264200 (410)\ttotal: 3m 8s\tremaining: 10m 43s\n",
      "453:\tlearn: 0.7313086\ttest: 0.7263067\tbest: 0.7264200 (410)\ttotal: 3m 8s\tremaining: 10m 43s\n",
      "454:\tlearn: 0.7313314\ttest: 0.7263400\tbest: 0.7264200 (410)\ttotal: 3m 9s\tremaining: 10m 42s\n",
      "455:\tlearn: 0.7313629\ttest: 0.7263000\tbest: 0.7264200 (410)\ttotal: 3m 9s\tremaining: 10m 42s\n",
      "456:\tlearn: 0.7313914\ttest: 0.7263400\tbest: 0.7264200 (410)\ttotal: 3m 10s\tremaining: 10m 42s\n",
      "457:\tlearn: 0.7314057\ttest: 0.7263333\tbest: 0.7264200 (410)\ttotal: 3m 10s\tremaining: 10m 41s\n",
      "458:\tlearn: 0.7314229\ttest: 0.7263933\tbest: 0.7264200 (410)\ttotal: 3m 11s\tremaining: 10m 41s\n",
      "459:\tlearn: 0.7314400\ttest: 0.7264267\tbest: 0.7264267 (459)\ttotal: 3m 11s\tremaining: 10m 40s\n",
      "460:\tlearn: 0.7314714\ttest: 0.7263800\tbest: 0.7264267 (459)\ttotal: 3m 11s\tremaining: 10m 40s\n",
      "461:\tlearn: 0.7314943\ttest: 0.7264200\tbest: 0.7264267 (459)\ttotal: 3m 12s\tremaining: 10m 40s\n",
      "462:\tlearn: 0.7314600\ttest: 0.7264400\tbest: 0.7264400 (462)\ttotal: 3m 12s\tremaining: 10m 39s\n",
      "463:\tlearn: 0.7315286\ttest: 0.7264400\tbest: 0.7264400 (462)\ttotal: 3m 13s\tremaining: 10m 39s\n",
      "464:\tlearn: 0.7315086\ttest: 0.7264800\tbest: 0.7264800 (464)\ttotal: 3m 13s\tremaining: 10m 39s\n",
      "465:\tlearn: 0.7315314\ttest: 0.7265400\tbest: 0.7265400 (465)\ttotal: 3m 14s\tremaining: 10m 38s\n",
      "466:\tlearn: 0.7315257\ttest: 0.7265333\tbest: 0.7265400 (465)\ttotal: 3m 14s\tremaining: 10m 38s\n",
      "467:\tlearn: 0.7315286\ttest: 0.7265400\tbest: 0.7265400 (465)\ttotal: 3m 14s\tremaining: 10m 37s\n",
      "468:\tlearn: 0.7315714\ttest: 0.7264533\tbest: 0.7265400 (465)\ttotal: 3m 15s\tremaining: 10m 37s\n",
      "469:\tlearn: 0.7316086\ttest: 0.7264867\tbest: 0.7265400 (465)\ttotal: 3m 15s\tremaining: 10m 37s\n",
      "470:\tlearn: 0.7316171\ttest: 0.7265867\tbest: 0.7265867 (470)\ttotal: 3m 16s\tremaining: 10m 36s\n",
      "471:\tlearn: 0.7316343\ttest: 0.7265333\tbest: 0.7265867 (470)\ttotal: 3m 16s\tremaining: 10m 36s\n",
      "472:\tlearn: 0.7316143\ttest: 0.7266600\tbest: 0.7266600 (472)\ttotal: 3m 16s\tremaining: 10m 35s\n",
      "473:\tlearn: 0.7316371\ttest: 0.7266200\tbest: 0.7266600 (472)\ttotal: 3m 17s\tremaining: 10m 35s\n",
      "474:\tlearn: 0.7316600\ttest: 0.7266333\tbest: 0.7266600 (472)\ttotal: 3m 17s\tremaining: 10m 35s\n",
      "475:\tlearn: 0.7316571\ttest: 0.7265867\tbest: 0.7266600 (472)\ttotal: 3m 18s\tremaining: 10m 34s\n",
      "476:\tlearn: 0.7316800\ttest: 0.7265533\tbest: 0.7266600 (472)\ttotal: 3m 18s\tremaining: 10m 34s\n",
      "477:\tlearn: 0.7316714\ttest: 0.7265600\tbest: 0.7266600 (472)\ttotal: 3m 19s\tremaining: 10m 33s\n",
      "478:\tlearn: 0.7316543\ttest: 0.7265600\tbest: 0.7266600 (472)\ttotal: 3m 19s\tremaining: 10m 33s\n",
      "479:\tlearn: 0.7317000\ttest: 0.7265867\tbest: 0.7266600 (472)\ttotal: 3m 19s\tremaining: 10m 33s\n",
      "480:\tlearn: 0.7317229\ttest: 0.7265800\tbest: 0.7266600 (472)\ttotal: 3m 20s\tremaining: 10m 32s\n",
      "481:\tlearn: 0.7317629\ttest: 0.7265533\tbest: 0.7266600 (472)\ttotal: 3m 20s\tremaining: 10m 32s\n",
      "482:\tlearn: 0.7317857\ttest: 0.7266733\tbest: 0.7266733 (482)\ttotal: 3m 21s\tremaining: 10m 32s\n",
      "483:\tlearn: 0.7317771\ttest: 0.7266333\tbest: 0.7266733 (482)\ttotal: 3m 21s\tremaining: 10m 31s\n",
      "484:\tlearn: 0.7317743\ttest: 0.7265800\tbest: 0.7266733 (482)\ttotal: 3m 22s\tremaining: 10m 31s\n",
      "485:\tlearn: 0.7318657\ttest: 0.7265600\tbest: 0.7266733 (482)\ttotal: 3m 22s\tremaining: 10m 31s\n",
      "486:\tlearn: 0.7319257\ttest: 0.7264867\tbest: 0.7266733 (482)\ttotal: 3m 23s\tremaining: 10m 30s\n",
      "487:\tlearn: 0.7319600\ttest: 0.7264800\tbest: 0.7266733 (482)\ttotal: 3m 23s\tremaining: 10m 30s\n",
      "488:\tlearn: 0.7319771\ttest: 0.7264667\tbest: 0.7266733 (482)\ttotal: 3m 23s\tremaining: 10m 29s\n",
      "489:\tlearn: 0.7319886\ttest: 0.7264933\tbest: 0.7266733 (482)\ttotal: 3m 24s\tremaining: 10m 29s\n",
      "490:\tlearn: 0.7320429\ttest: 0.7264667\tbest: 0.7266733 (482)\ttotal: 3m 24s\tremaining: 10m 29s\n",
      "491:\tlearn: 0.7320657\ttest: 0.7266000\tbest: 0.7266733 (482)\ttotal: 3m 25s\tremaining: 10m 28s\n",
      "492:\tlearn: 0.7321000\ttest: 0.7264933\tbest: 0.7266733 (482)\ttotal: 3m 25s\tremaining: 10m 28s\n",
      "493:\tlearn: 0.7320971\ttest: 0.7264800\tbest: 0.7266733 (482)\ttotal: 3m 26s\tremaining: 10m 28s\n",
      "494:\tlearn: 0.7321114\ttest: 0.7264333\tbest: 0.7266733 (482)\ttotal: 3m 26s\tremaining: 10m 27s\n",
      "495:\tlearn: 0.7321314\ttest: 0.7265000\tbest: 0.7266733 (482)\ttotal: 3m 26s\tremaining: 10m 27s\n",
      "496:\tlearn: 0.7321086\ttest: 0.7265733\tbest: 0.7266733 (482)\ttotal: 3m 27s\tremaining: 10m 26s\n",
      "497:\tlearn: 0.7321343\ttest: 0.7265267\tbest: 0.7266733 (482)\ttotal: 3m 27s\tremaining: 10m 26s\n",
      "498:\tlearn: 0.7321400\ttest: 0.7265467\tbest: 0.7266733 (482)\ttotal: 3m 28s\tremaining: 10m 25s\n",
      "499:\tlearn: 0.7321571\ttest: 0.7268067\tbest: 0.7268067 (499)\ttotal: 3m 28s\tremaining: 10m 25s\n",
      "500:\tlearn: 0.7321714\ttest: 0.7267733\tbest: 0.7268067 (499)\ttotal: 3m 28s\tremaining: 10m 24s\n",
      "501:\tlearn: 0.7322343\ttest: 0.7268467\tbest: 0.7268467 (501)\ttotal: 3m 29s\tremaining: 10m 24s\n",
      "502:\tlearn: 0.7322286\ttest: 0.7268667\tbest: 0.7268667 (502)\ttotal: 3m 29s\tremaining: 10m 23s\n",
      "503:\tlearn: 0.7322800\ttest: 0.7268933\tbest: 0.7268933 (503)\ttotal: 3m 30s\tremaining: 10m 23s\n",
      "504:\tlearn: 0.7323657\ttest: 0.7270600\tbest: 0.7270600 (504)\ttotal: 3m 30s\tremaining: 10m 22s\n",
      "505:\tlearn: 0.7324286\ttest: 0.7269667\tbest: 0.7270600 (504)\ttotal: 3m 30s\tremaining: 10m 22s\n",
      "506:\tlearn: 0.7324857\ttest: 0.7269733\tbest: 0.7270600 (504)\ttotal: 3m 31s\tremaining: 10m 21s\n",
      "507:\tlearn: 0.7325200\ttest: 0.7269200\tbest: 0.7270600 (504)\ttotal: 3m 31s\tremaining: 10m 21s\n",
      "508:\tlearn: 0.7325429\ttest: 0.7269733\tbest: 0.7270600 (504)\ttotal: 3m 32s\tremaining: 10m 21s\n",
      "509:\tlearn: 0.7325429\ttest: 0.7270200\tbest: 0.7270600 (504)\ttotal: 3m 32s\tremaining: 10m 20s\n",
      "510:\tlearn: 0.7325543\ttest: 0.7269267\tbest: 0.7270600 (504)\ttotal: 3m 32s\tremaining: 10m 20s\n",
      "511:\tlearn: 0.7325400\ttest: 0.7269800\tbest: 0.7270600 (504)\ttotal: 3m 33s\tremaining: 10m 20s\n",
      "512:\tlearn: 0.7325629\ttest: 0.7269800\tbest: 0.7270600 (504)\ttotal: 3m 33s\tremaining: 10m 19s\n",
      "513:\tlearn: 0.7325657\ttest: 0.7269933\tbest: 0.7270600 (504)\ttotal: 3m 34s\tremaining: 10m 19s\n",
      "514:\tlearn: 0.7325800\ttest: 0.7269267\tbest: 0.7270600 (504)\ttotal: 3m 34s\tremaining: 10m 18s\n",
      "515:\tlearn: 0.7326086\ttest: 0.7269867\tbest: 0.7270600 (504)\ttotal: 3m 35s\tremaining: 10m 18s\n",
      "516:\tlearn: 0.7326114\ttest: 0.7270400\tbest: 0.7270600 (504)\ttotal: 3m 35s\tremaining: 10m 18s\n",
      "517:\tlearn: 0.7326743\ttest: 0.7270000\tbest: 0.7270600 (504)\ttotal: 3m 35s\tremaining: 10m 17s\n",
      "518:\tlearn: 0.7326800\ttest: 0.7270400\tbest: 0.7270600 (504)\ttotal: 3m 36s\tremaining: 10m 17s\n",
      "519:\tlearn: 0.7327114\ttest: 0.7270067\tbest: 0.7270600 (504)\ttotal: 3m 36s\tremaining: 10m 16s\n",
      "520:\tlearn: 0.7327143\ttest: 0.7269467\tbest: 0.7270600 (504)\ttotal: 3m 37s\tremaining: 10m 16s\n",
      "521:\tlearn: 0.7327229\ttest: 0.7270267\tbest: 0.7270600 (504)\ttotal: 3m 37s\tremaining: 10m 16s\n",
      "522:\tlearn: 0.7327200\ttest: 0.7270600\tbest: 0.7270600 (504)\ttotal: 3m 37s\tremaining: 10m 15s\n",
      "523:\tlearn: 0.7327457\ttest: 0.7270267\tbest: 0.7270600 (504)\ttotal: 3m 38s\tremaining: 10m 15s\n",
      "524:\tlearn: 0.7328371\ttest: 0.7270467\tbest: 0.7270600 (504)\ttotal: 3m 38s\tremaining: 10m 14s\n",
      "525:\tlearn: 0.7328400\ttest: 0.7271067\tbest: 0.7271067 (525)\ttotal: 3m 39s\tremaining: 10m 14s\n",
      "526:\tlearn: 0.7328914\ttest: 0.7271133\tbest: 0.7271133 (526)\ttotal: 3m 39s\tremaining: 10m 14s\n",
      "527:\tlearn: 0.7329114\ttest: 0.7270867\tbest: 0.7271133 (526)\ttotal: 3m 40s\tremaining: 10m 13s\n",
      "528:\tlearn: 0.7329629\ttest: 0.7270000\tbest: 0.7271133 (526)\ttotal: 3m 40s\tremaining: 10m 13s\n",
      "529:\tlearn: 0.7329629\ttest: 0.7270000\tbest: 0.7271133 (526)\ttotal: 3m 40s\tremaining: 10m 12s\n",
      "530:\tlearn: 0.7329800\ttest: 0.7269800\tbest: 0.7271133 (526)\ttotal: 3m 41s\tremaining: 10m 12s\n",
      "531:\tlearn: 0.7330257\ttest: 0.7269133\tbest: 0.7271133 (526)\ttotal: 3m 41s\tremaining: 10m 11s\n",
      "532:\tlearn: 0.7330429\ttest: 0.7269933\tbest: 0.7271133 (526)\ttotal: 3m 42s\tremaining: 10m 11s\n",
      "533:\tlearn: 0.7330486\ttest: 0.7270067\tbest: 0.7271133 (526)\ttotal: 3m 42s\tremaining: 10m 11s\n",
      "534:\tlearn: 0.7330657\ttest: 0.7270000\tbest: 0.7271133 (526)\ttotal: 3m 43s\tremaining: 10m 10s\n",
      "535:\tlearn: 0.7331143\ttest: 0.7270067\tbest: 0.7271133 (526)\ttotal: 3m 43s\tremaining: 10m 10s\n",
      "536:\tlearn: 0.7331371\ttest: 0.7270533\tbest: 0.7271133 (526)\ttotal: 3m 43s\tremaining: 10m 9s\n",
      "537:\tlearn: 0.7331257\ttest: 0.7270733\tbest: 0.7271133 (526)\ttotal: 3m 44s\tremaining: 10m 9s\n"
     ]
    },
    {
     "name": "stdout",
     "output_type": "stream",
     "text": [
      "538:\tlearn: 0.7331000\ttest: 0.7271000\tbest: 0.7271133 (526)\ttotal: 3m 44s\tremaining: 10m 9s\n",
      "539:\tlearn: 0.7331429\ttest: 0.7271067\tbest: 0.7271133 (526)\ttotal: 3m 45s\tremaining: 10m 8s\n",
      "540:\tlearn: 0.7331914\ttest: 0.7270867\tbest: 0.7271133 (526)\ttotal: 3m 45s\tremaining: 10m 8s\n",
      "541:\tlearn: 0.7331771\ttest: 0.7270533\tbest: 0.7271133 (526)\ttotal: 3m 45s\tremaining: 10m 7s\n",
      "542:\tlearn: 0.7331971\ttest: 0.7271200\tbest: 0.7271200 (542)\ttotal: 3m 46s\tremaining: 10m 7s\n",
      "543:\tlearn: 0.7331914\ttest: 0.7271533\tbest: 0.7271533 (543)\ttotal: 3m 46s\tremaining: 10m 7s\n",
      "544:\tlearn: 0.7332400\ttest: 0.7271467\tbest: 0.7271533 (543)\ttotal: 3m 47s\tremaining: 10m 6s\n",
      "545:\tlearn: 0.7332629\ttest: 0.7271667\tbest: 0.7271667 (545)\ttotal: 3m 47s\tremaining: 10m 6s\n",
      "546:\tlearn: 0.7333000\ttest: 0.7271467\tbest: 0.7271667 (545)\ttotal: 3m 48s\tremaining: 10m 5s\n",
      "547:\tlearn: 0.7333029\ttest: 0.7271733\tbest: 0.7271733 (547)\ttotal: 3m 48s\tremaining: 10m 5s\n",
      "548:\tlearn: 0.7332714\ttest: 0.7271933\tbest: 0.7271933 (548)\ttotal: 3m 48s\tremaining: 10m 5s\n",
      "549:\tlearn: 0.7333686\ttest: 0.7273133\tbest: 0.7273133 (549)\ttotal: 3m 49s\tremaining: 10m 4s\n",
      "550:\tlearn: 0.7334114\ttest: 0.7273400\tbest: 0.7273400 (550)\ttotal: 3m 49s\tremaining: 10m 4s\n",
      "551:\tlearn: 0.7334257\ttest: 0.7273333\tbest: 0.7273400 (550)\ttotal: 3m 50s\tremaining: 10m 3s\n",
      "552:\tlearn: 0.7334200\ttest: 0.7273333\tbest: 0.7273400 (550)\ttotal: 3m 50s\tremaining: 10m 3s\n",
      "553:\tlearn: 0.7333943\ttest: 0.7273067\tbest: 0.7273400 (550)\ttotal: 3m 51s\tremaining: 10m 2s\n",
      "554:\tlearn: 0.7334171\ttest: 0.7272800\tbest: 0.7273400 (550)\ttotal: 3m 51s\tremaining: 10m 2s\n",
      "555:\tlearn: 0.7333971\ttest: 0.7273133\tbest: 0.7273400 (550)\ttotal: 3m 51s\tremaining: 10m 2s\n",
      "556:\tlearn: 0.7334114\ttest: 0.7274267\tbest: 0.7274267 (556)\ttotal: 3m 52s\tremaining: 10m 1s\n",
      "557:\tlearn: 0.7334857\ttest: 0.7274000\tbest: 0.7274267 (556)\ttotal: 3m 52s\tremaining: 10m 1s\n",
      "558:\tlearn: 0.7334971\ttest: 0.7273733\tbest: 0.7274267 (556)\ttotal: 3m 53s\tremaining: 10m\n",
      "559:\tlearn: 0.7335857\ttest: 0.7274400\tbest: 0.7274400 (559)\ttotal: 3m 53s\tremaining: 10m\n",
      "560:\tlearn: 0.7335686\ttest: 0.7275000\tbest: 0.7275000 (560)\ttotal: 3m 53s\tremaining: 10m\n",
      "561:\tlearn: 0.7335886\ttest: 0.7274467\tbest: 0.7275000 (560)\ttotal: 3m 54s\tremaining: 9m 59s\n",
      "562:\tlearn: 0.7335629\ttest: 0.7274133\tbest: 0.7275000 (560)\ttotal: 3m 54s\tremaining: 9m 59s\n",
      "563:\tlearn: 0.7336114\ttest: 0.7274200\tbest: 0.7275000 (560)\ttotal: 3m 55s\tremaining: 9m 58s\n",
      "564:\tlearn: 0.7335686\ttest: 0.7275000\tbest: 0.7275000 (560)\ttotal: 3m 55s\tremaining: 9m 58s\n",
      "565:\tlearn: 0.7335686\ttest: 0.7274333\tbest: 0.7275000 (560)\ttotal: 3m 56s\tremaining: 9m 58s\n",
      "566:\tlearn: 0.7335829\ttest: 0.7274667\tbest: 0.7275000 (560)\ttotal: 3m 56s\tremaining: 9m 57s\n",
      "567:\tlearn: 0.7336057\ttest: 0.7274600\tbest: 0.7275000 (560)\ttotal: 3m 56s\tremaining: 9m 57s\n",
      "568:\tlearn: 0.7336543\ttest: 0.7275200\tbest: 0.7275200 (568)\ttotal: 3m 57s\tremaining: 9m 56s\n",
      "569:\tlearn: 0.7336514\ttest: 0.7275267\tbest: 0.7275267 (569)\ttotal: 3m 57s\tremaining: 9m 56s\n",
      "570:\tlearn: 0.7336514\ttest: 0.7275533\tbest: 0.7275533 (570)\ttotal: 3m 58s\tremaining: 9m 55s\n",
      "571:\tlearn: 0.7337343\ttest: 0.7275600\tbest: 0.7275600 (571)\ttotal: 3m 58s\tremaining: 9m 55s\n",
      "572:\tlearn: 0.7336800\ttest: 0.7275800\tbest: 0.7275800 (572)\ttotal: 3m 58s\tremaining: 9m 55s\n",
      "573:\tlearn: 0.7337257\ttest: 0.7275667\tbest: 0.7275800 (572)\ttotal: 3m 59s\tremaining: 9m 54s\n",
      "574:\tlearn: 0.7337629\ttest: 0.7275933\tbest: 0.7275933 (574)\ttotal: 3m 59s\tremaining: 9m 54s\n",
      "575:\tlearn: 0.7337600\ttest: 0.7276600\tbest: 0.7276600 (575)\ttotal: 4m\tremaining: 9m 54s\n",
      "576:\tlearn: 0.7337829\ttest: 0.7276333\tbest: 0.7276600 (575)\ttotal: 4m\tremaining: 9m 53s\n",
      "577:\tlearn: 0.7338514\ttest: 0.7276867\tbest: 0.7276867 (577)\ttotal: 4m 1s\tremaining: 9m 53s\n",
      "578:\tlearn: 0.7338457\ttest: 0.7277067\tbest: 0.7277067 (578)\ttotal: 4m 1s\tremaining: 9m 52s\n",
      "579:\tlearn: 0.7338400\ttest: 0.7277867\tbest: 0.7277867 (579)\ttotal: 4m 2s\tremaining: 9m 52s\n",
      "580:\tlearn: 0.7338514\ttest: 0.7277800\tbest: 0.7277867 (579)\ttotal: 4m 2s\tremaining: 9m 52s\n",
      "581:\tlearn: 0.7338657\ttest: 0.7277067\tbest: 0.7277867 (579)\ttotal: 4m 2s\tremaining: 9m 51s\n",
      "582:\tlearn: 0.7338800\ttest: 0.7277733\tbest: 0.7277867 (579)\ttotal: 4m 3s\tremaining: 9m 51s\n",
      "583:\tlearn: 0.7338657\ttest: 0.7276933\tbest: 0.7277867 (579)\ttotal: 4m 3s\tremaining: 9m 51s\n",
      "584:\tlearn: 0.7339400\ttest: 0.7277600\tbest: 0.7277867 (579)\ttotal: 4m 4s\tremaining: 9m 50s\n",
      "585:\tlearn: 0.7339371\ttest: 0.7277333\tbest: 0.7277867 (579)\ttotal: 4m 4s\tremaining: 9m 50s\n",
      "586:\tlearn: 0.7339571\ttest: 0.7276933\tbest: 0.7277867 (579)\ttotal: 4m 5s\tremaining: 9m 50s\n",
      "587:\tlearn: 0.7339857\ttest: 0.7276867\tbest: 0.7277867 (579)\ttotal: 4m 5s\tremaining: 9m 49s\n",
      "588:\tlearn: 0.7340286\ttest: 0.7276600\tbest: 0.7277867 (579)\ttotal: 4m 5s\tremaining: 9m 49s\n",
      "589:\tlearn: 0.7340200\ttest: 0.7276533\tbest: 0.7277867 (579)\ttotal: 4m 6s\tremaining: 9m 48s\n",
      "590:\tlearn: 0.7340200\ttest: 0.7276333\tbest: 0.7277867 (579)\ttotal: 4m 6s\tremaining: 9m 48s\n",
      "591:\tlearn: 0.7340943\ttest: 0.7277333\tbest: 0.7277867 (579)\ttotal: 4m 7s\tremaining: 9m 47s\n",
      "592:\tlearn: 0.7341629\ttest: 0.7277000\tbest: 0.7277867 (579)\ttotal: 4m 7s\tremaining: 9m 47s\n",
      "593:\tlearn: 0.7341686\ttest: 0.7277133\tbest: 0.7277867 (579)\ttotal: 4m 8s\tremaining: 9m 47s\n",
      "594:\tlearn: 0.7341771\ttest: 0.7277333\tbest: 0.7277867 (579)\ttotal: 4m 8s\tremaining: 9m 46s\n",
      "595:\tlearn: 0.7341714\ttest: 0.7277400\tbest: 0.7277867 (579)\ttotal: 4m 8s\tremaining: 9m 46s\n",
      "596:\tlearn: 0.7341771\ttest: 0.7277800\tbest: 0.7277867 (579)\ttotal: 4m 9s\tremaining: 9m 46s\n",
      "597:\tlearn: 0.7341943\ttest: 0.7277667\tbest: 0.7277867 (579)\ttotal: 4m 9s\tremaining: 9m 45s\n",
      "598:\tlearn: 0.7341971\ttest: 0.7278600\tbest: 0.7278600 (598)\ttotal: 4m 10s\tremaining: 9m 45s\n",
      "599:\tlearn: 0.7342200\ttest: 0.7278067\tbest: 0.7278600 (598)\ttotal: 4m 10s\tremaining: 9m 44s\n",
      "600:\tlearn: 0.7342371\ttest: 0.7278000\tbest: 0.7278600 (598)\ttotal: 4m 11s\tremaining: 9m 44s\n",
      "601:\tlearn: 0.7342314\ttest: 0.7278133\tbest: 0.7278600 (598)\ttotal: 4m 11s\tremaining: 9m 44s\n",
      "602:\tlearn: 0.7343000\ttest: 0.7277667\tbest: 0.7278600 (598)\ttotal: 4m 12s\tremaining: 9m 43s\n",
      "603:\tlearn: 0.7343143\ttest: 0.7277600\tbest: 0.7278600 (598)\ttotal: 4m 12s\tremaining: 9m 43s\n",
      "604:\tlearn: 0.7343400\ttest: 0.7277200\tbest: 0.7278600 (598)\ttotal: 4m 12s\tremaining: 9m 43s\n",
      "605:\tlearn: 0.7343429\ttest: 0.7277267\tbest: 0.7278600 (598)\ttotal: 4m 13s\tremaining: 9m 42s\n",
      "606:\tlearn: 0.7343486\ttest: 0.7277000\tbest: 0.7278600 (598)\ttotal: 4m 13s\tremaining: 9m 42s\n",
      "607:\tlearn: 0.7343629\ttest: 0.7277133\tbest: 0.7278600 (598)\ttotal: 4m 14s\tremaining: 9m 41s\n",
      "608:\tlearn: 0.7343086\ttest: 0.7277000\tbest: 0.7278600 (598)\ttotal: 4m 14s\tremaining: 9m 41s\n",
      "609:\tlearn: 0.7343314\ttest: 0.7276667\tbest: 0.7278600 (598)\ttotal: 4m 14s\tremaining: 9m 40s\n",
      "610:\tlearn: 0.7343457\ttest: 0.7276467\tbest: 0.7278600 (598)\ttotal: 4m 15s\tremaining: 9m 40s\n",
      "611:\tlearn: 0.7343657\ttest: 0.7277067\tbest: 0.7278600 (598)\ttotal: 4m 15s\tremaining: 9m 40s\n",
      "612:\tlearn: 0.7343543\ttest: 0.7277067\tbest: 0.7278600 (598)\ttotal: 4m 16s\tremaining: 9m 39s\n",
      "613:\tlearn: 0.7344429\ttest: 0.7277867\tbest: 0.7278600 (598)\ttotal: 4m 16s\tremaining: 9m 39s\n",
      "614:\tlearn: 0.7344571\ttest: 0.7277400\tbest: 0.7278600 (598)\ttotal: 4m 17s\tremaining: 9m 38s\n",
      "615:\tlearn: 0.7344943\ttest: 0.7277333\tbest: 0.7278600 (598)\ttotal: 4m 17s\tremaining: 9m 38s\n",
      "616:\tlearn: 0.7344971\ttest: 0.7277133\tbest: 0.7278600 (598)\ttotal: 4m 17s\tremaining: 9m 37s\n",
      "617:\tlearn: 0.7344714\ttest: 0.7277067\tbest: 0.7278600 (598)\ttotal: 4m 18s\tremaining: 9m 37s\n",
      "618:\tlearn: 0.7345057\ttest: 0.7277333\tbest: 0.7278600 (598)\ttotal: 4m 18s\tremaining: 9m 37s\n",
      "619:\tlearn: 0.7345086\ttest: 0.7278267\tbest: 0.7278600 (598)\ttotal: 4m 19s\tremaining: 9m 36s\n",
      "620:\tlearn: 0.7345343\ttest: 0.7278200\tbest: 0.7278600 (598)\ttotal: 4m 19s\tremaining: 9m 36s\n",
      "621:\tlearn: 0.7345886\ttest: 0.7278133\tbest: 0.7278600 (598)\ttotal: 4m 20s\tremaining: 9m 36s\n",
      "622:\tlearn: 0.7346486\ttest: 0.7279067\tbest: 0.7279067 (622)\ttotal: 4m 20s\tremaining: 9m 35s\n",
      "623:\tlearn: 0.7346657\ttest: 0.7278733\tbest: 0.7279067 (622)\ttotal: 4m 20s\tremaining: 9m 35s\n",
      "624:\tlearn: 0.7346800\ttest: 0.7279000\tbest: 0.7279067 (622)\ttotal: 4m 21s\tremaining: 9m 34s\n",
      "625:\tlearn: 0.7346971\ttest: 0.7279000\tbest: 0.7279067 (622)\ttotal: 4m 21s\tremaining: 9m 34s\n",
      "626:\tlearn: 0.7347429\ttest: 0.7279000\tbest: 0.7279067 (622)\ttotal: 4m 22s\tremaining: 9m 34s\n",
      "627:\tlearn: 0.7347371\ttest: 0.7279333\tbest: 0.7279333 (627)\ttotal: 4m 22s\tremaining: 9m 33s\n"
     ]
    },
    {
     "name": "stdout",
     "output_type": "stream",
     "text": [
      "628:\tlearn: 0.7346971\ttest: 0.7279467\tbest: 0.7279467 (628)\ttotal: 4m 22s\tremaining: 9m 33s\n",
      "629:\tlearn: 0.7346829\ttest: 0.7279533\tbest: 0.7279533 (629)\ttotal: 4m 23s\tremaining: 9m 32s\n",
      "630:\tlearn: 0.7347429\ttest: 0.7279933\tbest: 0.7279933 (630)\ttotal: 4m 23s\tremaining: 9m 32s\n",
      "631:\tlearn: 0.7347686\ttest: 0.7280000\tbest: 0.7280000 (631)\ttotal: 4m 24s\tremaining: 9m 31s\n",
      "632:\tlearn: 0.7347257\ttest: 0.7279133\tbest: 0.7280000 (631)\ttotal: 4m 24s\tremaining: 9m 31s\n",
      "633:\tlearn: 0.7347629\ttest: 0.7279000\tbest: 0.7280000 (631)\ttotal: 4m 25s\tremaining: 9m 31s\n",
      "634:\tlearn: 0.7348200\ttest: 0.7278867\tbest: 0.7280000 (631)\ttotal: 4m 25s\tremaining: 9m 30s\n",
      "635:\tlearn: 0.7348314\ttest: 0.7279200\tbest: 0.7280000 (631)\ttotal: 4m 25s\tremaining: 9m 30s\n",
      "636:\tlearn: 0.7348514\ttest: 0.7279333\tbest: 0.7280000 (631)\ttotal: 4m 26s\tremaining: 9m 29s\n",
      "637:\tlearn: 0.7348229\ttest: 0.7279333\tbest: 0.7280000 (631)\ttotal: 4m 26s\tremaining: 9m 29s\n",
      "638:\tlearn: 0.7348371\ttest: 0.7279533\tbest: 0.7280000 (631)\ttotal: 4m 27s\tremaining: 9m 28s\n",
      "639:\tlearn: 0.7348514\ttest: 0.7279467\tbest: 0.7280000 (631)\ttotal: 4m 27s\tremaining: 9m 28s\n",
      "640:\tlearn: 0.7349429\ttest: 0.7279400\tbest: 0.7280000 (631)\ttotal: 4m 27s\tremaining: 9m 28s\n",
      "641:\tlearn: 0.7349343\ttest: 0.7279667\tbest: 0.7280000 (631)\ttotal: 4m 28s\tremaining: 9m 27s\n",
      "642:\tlearn: 0.7349571\ttest: 0.7279333\tbest: 0.7280000 (631)\ttotal: 4m 28s\tremaining: 9m 27s\n",
      "643:\tlearn: 0.7349514\ttest: 0.7279400\tbest: 0.7280000 (631)\ttotal: 4m 29s\tremaining: 9m 26s\n",
      "644:\tlearn: 0.7350229\ttest: 0.7279133\tbest: 0.7280000 (631)\ttotal: 4m 29s\tremaining: 9m 26s\n",
      "645:\tlearn: 0.7350229\ttest: 0.7278800\tbest: 0.7280000 (631)\ttotal: 4m 30s\tremaining: 9m 26s\n",
      "646:\tlearn: 0.7351000\ttest: 0.7279333\tbest: 0.7280000 (631)\ttotal: 4m 30s\tremaining: 9m 25s\n",
      "647:\tlearn: 0.7351114\ttest: 0.7279333\tbest: 0.7280000 (631)\ttotal: 4m 30s\tremaining: 9m 25s\n",
      "648:\tlearn: 0.7350943\ttest: 0.7279267\tbest: 0.7280000 (631)\ttotal: 4m 31s\tremaining: 9m 25s\n",
      "649:\tlearn: 0.7351114\ttest: 0.7278467\tbest: 0.7280000 (631)\ttotal: 4m 31s\tremaining: 9m 24s\n",
      "650:\tlearn: 0.7351286\ttest: 0.7278600\tbest: 0.7280000 (631)\ttotal: 4m 32s\tremaining: 9m 24s\n",
      "651:\tlearn: 0.7351286\ttest: 0.7278467\tbest: 0.7280000 (631)\ttotal: 4m 32s\tremaining: 9m 23s\n",
      "652:\tlearn: 0.7351229\ttest: 0.7278733\tbest: 0.7280000 (631)\ttotal: 4m 33s\tremaining: 9m 23s\n",
      "653:\tlearn: 0.7351429\ttest: 0.7278200\tbest: 0.7280000 (631)\ttotal: 4m 33s\tremaining: 9m 23s\n",
      "654:\tlearn: 0.7351343\ttest: 0.7278400\tbest: 0.7280000 (631)\ttotal: 4m 34s\tremaining: 9m 22s\n",
      "655:\tlearn: 0.7351829\ttest: 0.7278867\tbest: 0.7280000 (631)\ttotal: 4m 34s\tremaining: 9m 22s\n",
      "656:\tlearn: 0.7352057\ttest: 0.7279667\tbest: 0.7280000 (631)\ttotal: 4m 34s\tremaining: 9m 21s\n",
      "657:\tlearn: 0.7352486\ttest: 0.7279667\tbest: 0.7280000 (631)\ttotal: 4m 35s\tremaining: 9m 21s\n",
      "658:\tlearn: 0.7352857\ttest: 0.7278933\tbest: 0.7280000 (631)\ttotal: 4m 35s\tremaining: 9m 21s\n",
      "659:\tlearn: 0.7352686\ttest: 0.7278667\tbest: 0.7280000 (631)\ttotal: 4m 36s\tremaining: 9m 20s\n",
      "660:\tlearn: 0.7352686\ttest: 0.7279000\tbest: 0.7280000 (631)\ttotal: 4m 36s\tremaining: 9m 20s\n",
      "661:\tlearn: 0.7353143\ttest: 0.7278800\tbest: 0.7280000 (631)\ttotal: 4m 37s\tremaining: 9m 19s\n",
      "662:\tlearn: 0.7353800\ttest: 0.7278867\tbest: 0.7280000 (631)\ttotal: 4m 37s\tremaining: 9m 19s\n",
      "663:\tlearn: 0.7353971\ttest: 0.7278933\tbest: 0.7280000 (631)\ttotal: 4m 37s\tremaining: 9m 19s\n",
      "664:\tlearn: 0.7353657\ttest: 0.7278933\tbest: 0.7280000 (631)\ttotal: 4m 38s\tremaining: 9m 18s\n",
      "665:\tlearn: 0.7353771\ttest: 0.7278400\tbest: 0.7280000 (631)\ttotal: 4m 38s\tremaining: 9m 18s\n",
      "666:\tlearn: 0.7354114\ttest: 0.7278933\tbest: 0.7280000 (631)\ttotal: 4m 39s\tremaining: 9m 18s\n",
      "667:\tlearn: 0.7354257\ttest: 0.7279067\tbest: 0.7280000 (631)\ttotal: 4m 39s\tremaining: 9m 17s\n",
      "668:\tlearn: 0.7354286\ttest: 0.7278467\tbest: 0.7280000 (631)\ttotal: 4m 40s\tremaining: 9m 17s\n",
      "669:\tlearn: 0.7354943\ttest: 0.7278800\tbest: 0.7280000 (631)\ttotal: 4m 40s\tremaining: 9m 16s\n",
      "670:\tlearn: 0.7355343\ttest: 0.7279133\tbest: 0.7280000 (631)\ttotal: 4m 40s\tremaining: 9m 16s\n",
      "671:\tlearn: 0.7355971\ttest: 0.7279067\tbest: 0.7280000 (631)\ttotal: 4m 41s\tremaining: 9m 16s\n",
      "672:\tlearn: 0.7355857\ttest: 0.7279267\tbest: 0.7280000 (631)\ttotal: 4m 41s\tremaining: 9m 15s\n",
      "673:\tlearn: 0.7356257\ttest: 0.7278800\tbest: 0.7280000 (631)\ttotal: 4m 42s\tremaining: 9m 15s\n",
      "674:\tlearn: 0.7356257\ttest: 0.7278800\tbest: 0.7280000 (631)\ttotal: 4m 42s\tremaining: 9m 14s\n",
      "675:\tlearn: 0.7357114\ttest: 0.7279400\tbest: 0.7280000 (631)\ttotal: 4m 43s\tremaining: 9m 14s\n",
      "676:\tlearn: 0.7357200\ttest: 0.7279667\tbest: 0.7280000 (631)\ttotal: 4m 43s\tremaining: 9m 14s\n",
      "677:\tlearn: 0.7357143\ttest: 0.7279867\tbest: 0.7280000 (631)\ttotal: 4m 43s\tremaining: 9m 13s\n",
      "678:\tlearn: 0.7356857\ttest: 0.7280400\tbest: 0.7280400 (678)\ttotal: 4m 44s\tremaining: 9m 13s\n",
      "679:\tlearn: 0.7357543\ttest: 0.7280867\tbest: 0.7280867 (679)\ttotal: 4m 44s\tremaining: 9m 13s\n",
      "680:\tlearn: 0.7358057\ttest: 0.7279933\tbest: 0.7280867 (679)\ttotal: 4m 45s\tremaining: 9m 12s\n",
      "681:\tlearn: 0.7358000\ttest: 0.7279800\tbest: 0.7280867 (679)\ttotal: 4m 45s\tremaining: 9m 12s\n",
      "682:\tlearn: 0.7357914\ttest: 0.7279267\tbest: 0.7280867 (679)\ttotal: 4m 46s\tremaining: 9m 11s\n",
      "683:\tlearn: 0.7357800\ttest: 0.7279533\tbest: 0.7280867 (679)\ttotal: 4m 46s\tremaining: 9m 11s\n",
      "684:\tlearn: 0.7357686\ttest: 0.7279600\tbest: 0.7280867 (679)\ttotal: 4m 47s\tremaining: 9m 11s\n",
      "685:\tlearn: 0.7357914\ttest: 0.7279467\tbest: 0.7280867 (679)\ttotal: 4m 47s\tremaining: 9m 10s\n",
      "686:\tlearn: 0.7358286\ttest: 0.7279733\tbest: 0.7280867 (679)\ttotal: 4m 47s\tremaining: 9m 10s\n",
      "687:\tlearn: 0.7358029\ttest: 0.7280267\tbest: 0.7280867 (679)\ttotal: 4m 48s\tremaining: 9m 10s\n",
      "688:\tlearn: 0.7358371\ttest: 0.7278667\tbest: 0.7280867 (679)\ttotal: 4m 48s\tremaining: 9m 9s\n",
      "689:\tlearn: 0.7358371\ttest: 0.7278267\tbest: 0.7280867 (679)\ttotal: 4m 49s\tremaining: 9m 9s\n",
      "690:\tlearn: 0.7359229\ttest: 0.7277933\tbest: 0.7280867 (679)\ttotal: 4m 49s\tremaining: 9m 8s\n",
      "691:\tlearn: 0.7359629\ttest: 0.7278067\tbest: 0.7280867 (679)\ttotal: 4m 50s\tremaining: 9m 8s\n",
      "692:\tlearn: 0.7359771\ttest: 0.7277733\tbest: 0.7280867 (679)\ttotal: 4m 50s\tremaining: 9m 7s\n",
      "693:\tlearn: 0.7360171\ttest: 0.7277267\tbest: 0.7280867 (679)\ttotal: 4m 50s\tremaining: 9m 7s\n",
      "694:\tlearn: 0.7360514\ttest: 0.7278000\tbest: 0.7280867 (679)\ttotal: 4m 51s\tremaining: 9m 7s\n",
      "695:\tlearn: 0.7360286\ttest: 0.7278133\tbest: 0.7280867 (679)\ttotal: 4m 51s\tremaining: 9m 6s\n",
      "696:\tlearn: 0.7360314\ttest: 0.7278267\tbest: 0.7280867 (679)\ttotal: 4m 52s\tremaining: 9m 6s\n",
      "697:\tlearn: 0.7360371\ttest: 0.7278333\tbest: 0.7280867 (679)\ttotal: 4m 52s\tremaining: 9m 5s\n",
      "698:\tlearn: 0.7360343\ttest: 0.7277800\tbest: 0.7280867 (679)\ttotal: 4m 53s\tremaining: 9m 5s\n",
      "699:\tlearn: 0.7360686\ttest: 0.7278000\tbest: 0.7280867 (679)\ttotal: 4m 53s\tremaining: 9m 5s\n",
      "700:\tlearn: 0.7360686\ttest: 0.7277600\tbest: 0.7280867 (679)\ttotal: 4m 53s\tremaining: 9m 4s\n",
      "701:\tlearn: 0.7360857\ttest: 0.7278267\tbest: 0.7280867 (679)\ttotal: 4m 54s\tremaining: 9m 4s\n",
      "702:\tlearn: 0.7360829\ttest: 0.7278067\tbest: 0.7280867 (679)\ttotal: 4m 54s\tremaining: 9m 3s\n",
      "703:\tlearn: 0.7360914\ttest: 0.7277400\tbest: 0.7280867 (679)\ttotal: 4m 55s\tremaining: 9m 3s\n",
      "704:\tlearn: 0.7361000\ttest: 0.7277600\tbest: 0.7280867 (679)\ttotal: 4m 55s\tremaining: 9m 2s\n",
      "705:\tlearn: 0.7361257\ttest: 0.7277800\tbest: 0.7280867 (679)\ttotal: 4m 56s\tremaining: 9m 2s\n",
      "706:\tlearn: 0.7361571\ttest: 0.7277867\tbest: 0.7280867 (679)\ttotal: 4m 56s\tremaining: 9m 2s\n",
      "707:\tlearn: 0.7361771\ttest: 0.7278133\tbest: 0.7280867 (679)\ttotal: 4m 56s\tremaining: 9m 1s\n",
      "708:\tlearn: 0.7362029\ttest: 0.7277733\tbest: 0.7280867 (679)\ttotal: 4m 57s\tremaining: 9m 1s\n",
      "709:\tlearn: 0.7362229\ttest: 0.7278333\tbest: 0.7280867 (679)\ttotal: 4m 57s\tremaining: 9m 1s\n",
      "710:\tlearn: 0.7362657\ttest: 0.7278267\tbest: 0.7280867 (679)\ttotal: 4m 58s\tremaining: 9m\n",
      "711:\tlearn: 0.7362743\ttest: 0.7278600\tbest: 0.7280867 (679)\ttotal: 4m 58s\tremaining: 9m\n",
      "712:\tlearn: 0.7363314\ttest: 0.7278733\tbest: 0.7280867 (679)\ttotal: 4m 59s\tremaining: 8m 59s\n",
      "713:\tlearn: 0.7363286\ttest: 0.7278733\tbest: 0.7280867 (679)\ttotal: 4m 59s\tremaining: 8m 59s\n",
      "714:\tlearn: 0.7363314\ttest: 0.7278467\tbest: 0.7280867 (679)\ttotal: 4m 59s\tremaining: 8m 58s\n",
      "715:\tlearn: 0.7363143\ttest: 0.7278267\tbest: 0.7280867 (679)\ttotal: 5m\tremaining: 8m 58s\n",
      "716:\tlearn: 0.7363571\ttest: 0.7278933\tbest: 0.7280867 (679)\ttotal: 5m\tremaining: 8m 58s\n",
      "717:\tlearn: 0.7363914\ttest: 0.7279000\tbest: 0.7280867 (679)\ttotal: 5m 1s\tremaining: 8m 57s\n"
     ]
    },
    {
     "name": "stdout",
     "output_type": "stream",
     "text": [
      "718:\tlearn: 0.7363914\ttest: 0.7279333\tbest: 0.7280867 (679)\ttotal: 5m 1s\tremaining: 8m 57s\n",
      "719:\tlearn: 0.7364714\ttest: 0.7279200\tbest: 0.7280867 (679)\ttotal: 5m 1s\tremaining: 8m 56s\n",
      "720:\tlearn: 0.7365143\ttest: 0.7279333\tbest: 0.7280867 (679)\ttotal: 5m 2s\tremaining: 8m 56s\n",
      "721:\tlearn: 0.7365457\ttest: 0.7279133\tbest: 0.7280867 (679)\ttotal: 5m 2s\tremaining: 8m 55s\n",
      "722:\tlearn: 0.7365400\ttest: 0.7278800\tbest: 0.7280867 (679)\ttotal: 5m 3s\tremaining: 8m 55s\n",
      "723:\tlearn: 0.7365400\ttest: 0.7278600\tbest: 0.7280867 (679)\ttotal: 5m 3s\tremaining: 8m 55s\n",
      "724:\tlearn: 0.7365714\ttest: 0.7278667\tbest: 0.7280867 (679)\ttotal: 5m 4s\tremaining: 8m 54s\n",
      "725:\tlearn: 0.7365857\ttest: 0.7278400\tbest: 0.7280867 (679)\ttotal: 5m 4s\tremaining: 8m 54s\n",
      "726:\tlearn: 0.7366543\ttest: 0.7278000\tbest: 0.7280867 (679)\ttotal: 5m 4s\tremaining: 8m 53s\n",
      "727:\tlearn: 0.7366457\ttest: 0.7278600\tbest: 0.7280867 (679)\ttotal: 5m 5s\tremaining: 8m 53s\n",
      "728:\tlearn: 0.7366600\ttest: 0.7278400\tbest: 0.7280867 (679)\ttotal: 5m 5s\tremaining: 8m 53s\n",
      "729:\tlearn: 0.7367029\ttest: 0.7277867\tbest: 0.7280867 (679)\ttotal: 5m 6s\tremaining: 8m 52s\n",
      "730:\tlearn: 0.7367257\ttest: 0.7278400\tbest: 0.7280867 (679)\ttotal: 5m 6s\tremaining: 8m 52s\n",
      "731:\tlearn: 0.7367686\ttest: 0.7278133\tbest: 0.7280867 (679)\ttotal: 5m 7s\tremaining: 8m 52s\n",
      "732:\tlearn: 0.7367571\ttest: 0.7278600\tbest: 0.7280867 (679)\ttotal: 5m 7s\tremaining: 8m 51s\n",
      "733:\tlearn: 0.7367714\ttest: 0.7278667\tbest: 0.7280867 (679)\ttotal: 5m 7s\tremaining: 8m 51s\n",
      "734:\tlearn: 0.7367943\ttest: 0.7279067\tbest: 0.7280867 (679)\ttotal: 5m 8s\tremaining: 8m 50s\n",
      "735:\tlearn: 0.7367971\ttest: 0.7278867\tbest: 0.7280867 (679)\ttotal: 5m 8s\tremaining: 8m 50s\n",
      "736:\tlearn: 0.7367886\ttest: 0.7279133\tbest: 0.7280867 (679)\ttotal: 5m 9s\tremaining: 8m 50s\n",
      "737:\tlearn: 0.7368400\ttest: 0.7278667\tbest: 0.7280867 (679)\ttotal: 5m 9s\tremaining: 8m 49s\n",
      "738:\tlearn: 0.7368486\ttest: 0.7278467\tbest: 0.7280867 (679)\ttotal: 5m 10s\tremaining: 8m 49s\n",
      "739:\tlearn: 0.7368600\ttest: 0.7278067\tbest: 0.7280867 (679)\ttotal: 5m 10s\tremaining: 8m 48s\n",
      "740:\tlearn: 0.7368771\ttest: 0.7278067\tbest: 0.7280867 (679)\ttotal: 5m 11s\tremaining: 8m 48s\n",
      "741:\tlearn: 0.7368943\ttest: 0.7277933\tbest: 0.7280867 (679)\ttotal: 5m 11s\tremaining: 8m 48s\n",
      "742:\tlearn: 0.7369114\ttest: 0.7279067\tbest: 0.7280867 (679)\ttotal: 5m 11s\tremaining: 8m 47s\n",
      "743:\tlearn: 0.7369343\ttest: 0.7279000\tbest: 0.7280867 (679)\ttotal: 5m 12s\tremaining: 8m 47s\n",
      "744:\tlearn: 0.7369829\ttest: 0.7278200\tbest: 0.7280867 (679)\ttotal: 5m 12s\tremaining: 8m 46s\n",
      "745:\tlearn: 0.7370314\ttest: 0.7278333\tbest: 0.7280867 (679)\ttotal: 5m 13s\tremaining: 8m 46s\n",
      "746:\tlearn: 0.7369943\ttest: 0.7277600\tbest: 0.7280867 (679)\ttotal: 5m 13s\tremaining: 8m 46s\n",
      "747:\tlearn: 0.7370229\ttest: 0.7278133\tbest: 0.7280867 (679)\ttotal: 5m 14s\tremaining: 8m 45s\n",
      "748:\tlearn: 0.7370200\ttest: 0.7278133\tbest: 0.7280867 (679)\ttotal: 5m 14s\tremaining: 8m 45s\n",
      "749:\tlearn: 0.7370200\ttest: 0.7278200\tbest: 0.7280867 (679)\ttotal: 5m 14s\tremaining: 8m 44s\n",
      "750:\tlearn: 0.7370200\ttest: 0.7278067\tbest: 0.7280867 (679)\ttotal: 5m 15s\tremaining: 8m 44s\n",
      "751:\tlearn: 0.7370943\ttest: 0.7278867\tbest: 0.7280867 (679)\ttotal: 5m 15s\tremaining: 8m 44s\n",
      "752:\tlearn: 0.7371343\ttest: 0.7279200\tbest: 0.7280867 (679)\ttotal: 5m 16s\tremaining: 8m 43s\n",
      "753:\tlearn: 0.7371229\ttest: 0.7279467\tbest: 0.7280867 (679)\ttotal: 5m 16s\tremaining: 8m 43s\n",
      "754:\tlearn: 0.7371029\ttest: 0.7279333\tbest: 0.7280867 (679)\ttotal: 5m 17s\tremaining: 8m 42s\n",
      "755:\tlearn: 0.7371257\ttest: 0.7280133\tbest: 0.7280867 (679)\ttotal: 5m 17s\tremaining: 8m 42s\n",
      "756:\tlearn: 0.7371400\ttest: 0.7280667\tbest: 0.7280867 (679)\ttotal: 5m 17s\tremaining: 8m 41s\n",
      "757:\tlearn: 0.7372171\ttest: 0.7280800\tbest: 0.7280867 (679)\ttotal: 5m 18s\tremaining: 8m 41s\n",
      "758:\tlearn: 0.7371829\ttest: 0.7280467\tbest: 0.7280867 (679)\ttotal: 5m 18s\tremaining: 8m 41s\n",
      "759:\tlearn: 0.7372057\ttest: 0.7280467\tbest: 0.7280867 (679)\ttotal: 5m 19s\tremaining: 8m 40s\n",
      "760:\tlearn: 0.7371829\ttest: 0.7281333\tbest: 0.7281333 (760)\ttotal: 5m 19s\tremaining: 8m 40s\n",
      "761:\tlearn: 0.7371971\ttest: 0.7281733\tbest: 0.7281733 (761)\ttotal: 5m 19s\tremaining: 8m 39s\n",
      "762:\tlearn: 0.7372029\ttest: 0.7281867\tbest: 0.7281867 (762)\ttotal: 5m 20s\tremaining: 8m 39s\n",
      "763:\tlearn: 0.7372543\ttest: 0.7281333\tbest: 0.7281867 (762)\ttotal: 5m 20s\tremaining: 8m 38s\n",
      "764:\tlearn: 0.7372600\ttest: 0.7281400\tbest: 0.7281867 (762)\ttotal: 5m 21s\tremaining: 8m 38s\n",
      "765:\tlearn: 0.7372714\ttest: 0.7281933\tbest: 0.7281933 (765)\ttotal: 5m 21s\tremaining: 8m 38s\n",
      "766:\tlearn: 0.7373086\ttest: 0.7282667\tbest: 0.7282667 (766)\ttotal: 5m 22s\tremaining: 8m 37s\n",
      "767:\tlearn: 0.7373314\ttest: 0.7281600\tbest: 0.7282667 (766)\ttotal: 5m 22s\tremaining: 8m 37s\n",
      "768:\tlearn: 0.7374057\ttest: 0.7281400\tbest: 0.7282667 (766)\ttotal: 5m 22s\tremaining: 8m 36s\n",
      "769:\tlearn: 0.7374343\ttest: 0.7281267\tbest: 0.7282667 (766)\ttotal: 5m 23s\tremaining: 8m 36s\n",
      "770:\tlearn: 0.7373943\ttest: 0.7281467\tbest: 0.7282667 (766)\ttotal: 5m 23s\tremaining: 8m 36s\n",
      "771:\tlearn: 0.7373886\ttest: 0.7281533\tbest: 0.7282667 (766)\ttotal: 5m 24s\tremaining: 8m 35s\n",
      "772:\tlearn: 0.7373829\ttest: 0.7282333\tbest: 0.7282667 (766)\ttotal: 5m 24s\tremaining: 8m 35s\n",
      "773:\tlearn: 0.7374143\ttest: 0.7281867\tbest: 0.7282667 (766)\ttotal: 5m 25s\tremaining: 8m 34s\n",
      "774:\tlearn: 0.7374057\ttest: 0.7282800\tbest: 0.7282800 (774)\ttotal: 5m 25s\tremaining: 8m 34s\n",
      "775:\tlearn: 0.7374029\ttest: 0.7282333\tbest: 0.7282800 (774)\ttotal: 5m 25s\tremaining: 8m 34s\n",
      "776:\tlearn: 0.7374057\ttest: 0.7282600\tbest: 0.7282800 (774)\ttotal: 5m 26s\tremaining: 8m 33s\n",
      "777:\tlearn: 0.7374257\ttest: 0.7282467\tbest: 0.7282800 (774)\ttotal: 5m 26s\tremaining: 8m 33s\n",
      "778:\tlearn: 0.7374543\ttest: 0.7281600\tbest: 0.7282800 (774)\ttotal: 5m 27s\tremaining: 8m 32s\n",
      "779:\tlearn: 0.7374771\ttest: 0.7282067\tbest: 0.7282800 (774)\ttotal: 5m 27s\tremaining: 8m 32s\n",
      "780:\tlearn: 0.7375057\ttest: 0.7282067\tbest: 0.7282800 (774)\ttotal: 5m 27s\tremaining: 8m 31s\n",
      "781:\tlearn: 0.7375314\ttest: 0.7282333\tbest: 0.7282800 (774)\ttotal: 5m 28s\tremaining: 8m 31s\n",
      "782:\tlearn: 0.7376143\ttest: 0.7282067\tbest: 0.7282800 (774)\ttotal: 5m 28s\tremaining: 8m 31s\n",
      "783:\tlearn: 0.7376257\ttest: 0.7282200\tbest: 0.7282800 (774)\ttotal: 5m 29s\tremaining: 8m 30s\n",
      "784:\tlearn: 0.7376657\ttest: 0.7282267\tbest: 0.7282800 (774)\ttotal: 5m 29s\tremaining: 8m 30s\n",
      "785:\tlearn: 0.7377057\ttest: 0.7282933\tbest: 0.7282933 (785)\ttotal: 5m 30s\tremaining: 8m 29s\n",
      "786:\tlearn: 0.7376886\ttest: 0.7282400\tbest: 0.7282933 (785)\ttotal: 5m 30s\tremaining: 8m 29s\n",
      "787:\tlearn: 0.7376657\ttest: 0.7282400\tbest: 0.7282933 (785)\ttotal: 5m 30s\tremaining: 8m 28s\n",
      "788:\tlearn: 0.7376971\ttest: 0.7283200\tbest: 0.7283200 (788)\ttotal: 5m 31s\tremaining: 8m 28s\n",
      "789:\tlearn: 0.7377600\ttest: 0.7283067\tbest: 0.7283200 (788)\ttotal: 5m 31s\tremaining: 8m 28s\n",
      "790:\tlearn: 0.7377600\ttest: 0.7283200\tbest: 0.7283200 (788)\ttotal: 5m 32s\tremaining: 8m 27s\n",
      "791:\tlearn: 0.7378029\ttest: 0.7282867\tbest: 0.7283200 (788)\ttotal: 5m 32s\tremaining: 8m 27s\n",
      "792:\tlearn: 0.7377857\ttest: 0.7283133\tbest: 0.7283200 (788)\ttotal: 5m 32s\tremaining: 8m 26s\n",
      "793:\tlearn: 0.7378143\ttest: 0.7282467\tbest: 0.7283200 (788)\ttotal: 5m 33s\tremaining: 8m 26s\n",
      "794:\tlearn: 0.7378600\ttest: 0.7282467\tbest: 0.7283200 (788)\ttotal: 5m 33s\tremaining: 8m 26s\n",
      "795:\tlearn: 0.7378371\ttest: 0.7283067\tbest: 0.7283200 (788)\ttotal: 5m 34s\tremaining: 8m 25s\n",
      "796:\tlearn: 0.7378514\ttest: 0.7282733\tbest: 0.7283200 (788)\ttotal: 5m 34s\tremaining: 8m 25s\n",
      "797:\tlearn: 0.7378886\ttest: 0.7282467\tbest: 0.7283200 (788)\ttotal: 5m 35s\tremaining: 8m 24s\n",
      "798:\tlearn: 0.7379029\ttest: 0.7281600\tbest: 0.7283200 (788)\ttotal: 5m 35s\tremaining: 8m 24s\n",
      "799:\tlearn: 0.7378857\ttest: 0.7282000\tbest: 0.7283200 (788)\ttotal: 5m 36s\tremaining: 8m 24s\n",
      "800:\tlearn: 0.7379143\ttest: 0.7282000\tbest: 0.7283200 (788)\ttotal: 5m 36s\tremaining: 8m 23s\n",
      "801:\tlearn: 0.7379229\ttest: 0.7282600\tbest: 0.7283200 (788)\ttotal: 5m 36s\tremaining: 8m 23s\n",
      "802:\tlearn: 0.7379429\ttest: 0.7282133\tbest: 0.7283200 (788)\ttotal: 5m 37s\tremaining: 8m 22s\n",
      "803:\tlearn: 0.7380371\ttest: 0.7281733\tbest: 0.7283200 (788)\ttotal: 5m 37s\tremaining: 8m 22s\n",
      "804:\tlearn: 0.7379886\ttest: 0.7281800\tbest: 0.7283200 (788)\ttotal: 5m 38s\tremaining: 8m 22s\n",
      "805:\tlearn: 0.7380314\ttest: 0.7282067\tbest: 0.7283200 (788)\ttotal: 5m 38s\tremaining: 8m 21s\n",
      "806:\tlearn: 0.7380943\ttest: 0.7282533\tbest: 0.7283200 (788)\ttotal: 5m 39s\tremaining: 8m 21s\n",
      "807:\tlearn: 0.7381686\ttest: 0.7282867\tbest: 0.7283200 (788)\ttotal: 5m 39s\tremaining: 8m 20s\n"
     ]
    },
    {
     "name": "stdout",
     "output_type": "stream",
     "text": [
      "808:\tlearn: 0.7382057\ttest: 0.7284067\tbest: 0.7284067 (808)\ttotal: 5m 39s\tremaining: 8m 20s\n",
      "809:\tlearn: 0.7382571\ttest: 0.7283267\tbest: 0.7284067 (808)\ttotal: 5m 40s\tremaining: 8m 19s\n",
      "810:\tlearn: 0.7382286\ttest: 0.7283067\tbest: 0.7284067 (808)\ttotal: 5m 40s\tremaining: 8m 19s\n",
      "811:\tlearn: 0.7382686\ttest: 0.7283667\tbest: 0.7284067 (808)\ttotal: 5m 41s\tremaining: 8m 19s\n",
      "812:\tlearn: 0.7382657\ttest: 0.7283667\tbest: 0.7284067 (808)\ttotal: 5m 41s\tremaining: 8m 18s\n",
      "813:\tlearn: 0.7383086\ttest: 0.7283067\tbest: 0.7284067 (808)\ttotal: 5m 42s\tremaining: 8m 18s\n",
      "814:\tlearn: 0.7382829\ttest: 0.7282400\tbest: 0.7284067 (808)\ttotal: 5m 42s\tremaining: 8m 17s\n",
      "815:\tlearn: 0.7383086\ttest: 0.7282067\tbest: 0.7284067 (808)\ttotal: 5m 42s\tremaining: 8m 17s\n",
      "816:\tlearn: 0.7383486\ttest: 0.7281867\tbest: 0.7284067 (808)\ttotal: 5m 43s\tremaining: 8m 17s\n",
      "817:\tlearn: 0.7383400\ttest: 0.7282267\tbest: 0.7284067 (808)\ttotal: 5m 43s\tremaining: 8m 16s\n",
      "818:\tlearn: 0.7383857\ttest: 0.7282533\tbest: 0.7284067 (808)\ttotal: 5m 44s\tremaining: 8m 16s\n",
      "819:\tlearn: 0.7384143\ttest: 0.7282800\tbest: 0.7284067 (808)\ttotal: 5m 44s\tremaining: 8m 15s\n",
      "820:\tlearn: 0.7384200\ttest: 0.7282600\tbest: 0.7284067 (808)\ttotal: 5m 45s\tremaining: 8m 15s\n",
      "821:\tlearn: 0.7384800\ttest: 0.7282733\tbest: 0.7284067 (808)\ttotal: 5m 45s\tremaining: 8m 15s\n",
      "822:\tlearn: 0.7384943\ttest: 0.7283333\tbest: 0.7284067 (808)\ttotal: 5m 45s\tremaining: 8m 14s\n",
      "823:\tlearn: 0.7385257\ttest: 0.7281933\tbest: 0.7284067 (808)\ttotal: 5m 46s\tremaining: 8m 14s\n",
      "824:\tlearn: 0.7385171\ttest: 0.7281667\tbest: 0.7284067 (808)\ttotal: 5m 46s\tremaining: 8m 13s\n",
      "825:\tlearn: 0.7385343\ttest: 0.7282133\tbest: 0.7284067 (808)\ttotal: 5m 47s\tremaining: 8m 13s\n",
      "826:\tlearn: 0.7385543\ttest: 0.7282200\tbest: 0.7284067 (808)\ttotal: 5m 47s\tremaining: 8m 13s\n",
      "827:\tlearn: 0.7385543\ttest: 0.7282067\tbest: 0.7284067 (808)\ttotal: 5m 48s\tremaining: 8m 12s\n",
      "828:\tlearn: 0.7385857\ttest: 0.7282400\tbest: 0.7284067 (808)\ttotal: 5m 48s\tremaining: 8m 12s\n",
      "829:\tlearn: 0.7385886\ttest: 0.7281733\tbest: 0.7284067 (808)\ttotal: 5m 48s\tremaining: 8m 11s\n",
      "830:\tlearn: 0.7385971\ttest: 0.7282133\tbest: 0.7284067 (808)\ttotal: 5m 49s\tremaining: 8m 11s\n",
      "831:\tlearn: 0.7386257\ttest: 0.7282000\tbest: 0.7284067 (808)\ttotal: 5m 49s\tremaining: 8m 11s\n",
      "832:\tlearn: 0.7386200\ttest: 0.7283000\tbest: 0.7284067 (808)\ttotal: 5m 50s\tremaining: 8m 10s\n",
      "833:\tlearn: 0.7387000\ttest: 0.7282867\tbest: 0.7284067 (808)\ttotal: 5m 50s\tremaining: 8m 10s\n",
      "834:\tlearn: 0.7387114\ttest: 0.7283333\tbest: 0.7284067 (808)\ttotal: 5m 51s\tremaining: 8m 9s\n",
      "835:\tlearn: 0.7387457\ttest: 0.7283333\tbest: 0.7284067 (808)\ttotal: 5m 51s\tremaining: 8m 9s\n",
      "836:\tlearn: 0.7387286\ttest: 0.7283267\tbest: 0.7284067 (808)\ttotal: 5m 51s\tremaining: 8m 9s\n",
      "837:\tlearn: 0.7387371\ttest: 0.7282933\tbest: 0.7284067 (808)\ttotal: 5m 52s\tremaining: 8m 8s\n",
      "838:\tlearn: 0.7387829\ttest: 0.7283000\tbest: 0.7284067 (808)\ttotal: 5m 52s\tremaining: 8m 8s\n",
      "839:\tlearn: 0.7387914\ttest: 0.7283333\tbest: 0.7284067 (808)\ttotal: 5m 53s\tremaining: 8m 7s\n",
      "840:\tlearn: 0.7387743\ttest: 0.7283600\tbest: 0.7284067 (808)\ttotal: 5m 53s\tremaining: 8m 7s\n",
      "841:\tlearn: 0.7387686\ttest: 0.7283867\tbest: 0.7284067 (808)\ttotal: 5m 54s\tremaining: 8m 6s\n",
      "842:\tlearn: 0.7387943\ttest: 0.7283667\tbest: 0.7284067 (808)\ttotal: 5m 54s\tremaining: 8m 6s\n",
      "843:\tlearn: 0.7388000\ttest: 0.7283667\tbest: 0.7284067 (808)\ttotal: 5m 54s\tremaining: 8m 6s\n",
      "844:\tlearn: 0.7388400\ttest: 0.7284200\tbest: 0.7284200 (844)\ttotal: 5m 55s\tremaining: 8m 5s\n",
      "845:\tlearn: 0.7388257\ttest: 0.7284333\tbest: 0.7284333 (845)\ttotal: 5m 55s\tremaining: 8m 5s\n",
      "846:\tlearn: 0.7388429\ttest: 0.7283667\tbest: 0.7284333 (845)\ttotal: 5m 56s\tremaining: 8m 5s\n",
      "847:\tlearn: 0.7387943\ttest: 0.7284267\tbest: 0.7284333 (845)\ttotal: 5m 56s\tremaining: 8m 4s\n",
      "848:\tlearn: 0.7388229\ttest: 0.7284000\tbest: 0.7284333 (845)\ttotal: 5m 57s\tremaining: 8m 4s\n",
      "849:\tlearn: 0.7388200\ttest: 0.7283667\tbest: 0.7284333 (845)\ttotal: 5m 57s\tremaining: 8m 3s\n",
      "850:\tlearn: 0.7388429\ttest: 0.7283133\tbest: 0.7284333 (845)\ttotal: 5m 58s\tremaining: 8m 3s\n",
      "851:\tlearn: 0.7388686\ttest: 0.7283667\tbest: 0.7284333 (845)\ttotal: 5m 58s\tremaining: 8m 2s\n",
      "852:\tlearn: 0.7389143\ttest: 0.7283600\tbest: 0.7284333 (845)\ttotal: 5m 58s\tremaining: 8m 2s\n",
      "853:\tlearn: 0.7389629\ttest: 0.7283667\tbest: 0.7284333 (845)\ttotal: 5m 59s\tremaining: 8m 2s\n",
      "854:\tlearn: 0.7389429\ttest: 0.7283333\tbest: 0.7284333 (845)\ttotal: 5m 59s\tremaining: 8m 1s\n",
      "855:\tlearn: 0.7389771\ttest: 0.7283200\tbest: 0.7284333 (845)\ttotal: 6m\tremaining: 8m 1s\n",
      "856:\tlearn: 0.7389771\ttest: 0.7283467\tbest: 0.7284333 (845)\ttotal: 6m\tremaining: 8m 1s\n",
      "857:\tlearn: 0.7390086\ttest: 0.7283800\tbest: 0.7284333 (845)\ttotal: 6m 1s\tremaining: 8m\n",
      "858:\tlearn: 0.7390343\ttest: 0.7283400\tbest: 0.7284333 (845)\ttotal: 6m 1s\tremaining: 8m\n",
      "859:\tlearn: 0.7390486\ttest: 0.7283133\tbest: 0.7284333 (845)\ttotal: 6m 2s\tremaining: 7m 59s\n",
      "860:\tlearn: 0.7390229\ttest: 0.7283467\tbest: 0.7284333 (845)\ttotal: 6m 2s\tremaining: 7m 59s\n",
      "861:\tlearn: 0.7390429\ttest: 0.7283000\tbest: 0.7284333 (845)\ttotal: 6m 2s\tremaining: 7m 59s\n",
      "862:\tlearn: 0.7390686\ttest: 0.7283467\tbest: 0.7284333 (845)\ttotal: 6m 3s\tremaining: 7m 58s\n",
      "863:\tlearn: 0.7391057\ttest: 0.7284000\tbest: 0.7284333 (845)\ttotal: 6m 3s\tremaining: 7m 58s\n",
      "864:\tlearn: 0.7391486\ttest: 0.7283800\tbest: 0.7284333 (845)\ttotal: 6m 4s\tremaining: 7m 57s\n",
      "865:\tlearn: 0.7391486\ttest: 0.7283600\tbest: 0.7284333 (845)\ttotal: 6m 4s\tremaining: 7m 57s\n",
      "866:\tlearn: 0.7391543\ttest: 0.7282933\tbest: 0.7284333 (845)\ttotal: 6m 4s\tremaining: 7m 56s\n",
      "867:\tlearn: 0.7391857\ttest: 0.7283267\tbest: 0.7284333 (845)\ttotal: 6m 5s\tremaining: 7m 56s\n",
      "868:\tlearn: 0.7392086\ttest: 0.7283200\tbest: 0.7284333 (845)\ttotal: 6m 5s\tremaining: 7m 56s\n",
      "869:\tlearn: 0.7392286\ttest: 0.7282800\tbest: 0.7284333 (845)\ttotal: 6m 6s\tremaining: 7m 55s\n",
      "870:\tlearn: 0.7392543\ttest: 0.7281933\tbest: 0.7284333 (845)\ttotal: 6m 6s\tremaining: 7m 55s\n",
      "871:\tlearn: 0.7393200\ttest: 0.7281733\tbest: 0.7284333 (845)\ttotal: 6m 7s\tremaining: 7m 54s\n",
      "872:\tlearn: 0.7393429\ttest: 0.7282467\tbest: 0.7284333 (845)\ttotal: 6m 7s\tremaining: 7m 54s\n",
      "873:\tlearn: 0.7393457\ttest: 0.7282667\tbest: 0.7284333 (845)\ttotal: 6m 7s\tremaining: 7m 54s\n",
      "874:\tlearn: 0.7393771\ttest: 0.7281800\tbest: 0.7284333 (845)\ttotal: 6m 8s\tremaining: 7m 53s\n",
      "875:\tlearn: 0.7393714\ttest: 0.7281933\tbest: 0.7284333 (845)\ttotal: 6m 8s\tremaining: 7m 53s\n",
      "876:\tlearn: 0.7393971\ttest: 0.7281933\tbest: 0.7284333 (845)\ttotal: 6m 9s\tremaining: 7m 52s\n",
      "877:\tlearn: 0.7393943\ttest: 0.7281533\tbest: 0.7284333 (845)\ttotal: 6m 9s\tremaining: 7m 52s\n",
      "878:\tlearn: 0.7393914\ttest: 0.7281600\tbest: 0.7284333 (845)\ttotal: 6m 10s\tremaining: 7m 52s\n",
      "879:\tlearn: 0.7393686\ttest: 0.7281267\tbest: 0.7284333 (845)\ttotal: 6m 10s\tremaining: 7m 51s\n",
      "880:\tlearn: 0.7394200\ttest: 0.7281800\tbest: 0.7284333 (845)\ttotal: 6m 11s\tremaining: 7m 51s\n",
      "881:\tlearn: 0.7394229\ttest: 0.7281733\tbest: 0.7284333 (845)\ttotal: 6m 11s\tremaining: 7m 50s\n",
      "882:\tlearn: 0.7394200\ttest: 0.7282133\tbest: 0.7284333 (845)\ttotal: 6m 11s\tremaining: 7m 50s\n",
      "883:\tlearn: 0.7394457\ttest: 0.7281400\tbest: 0.7284333 (845)\ttotal: 6m 12s\tremaining: 7m 49s\n",
      "884:\tlearn: 0.7395200\ttest: 0.7281933\tbest: 0.7284333 (845)\ttotal: 6m 12s\tremaining: 7m 49s\n",
      "885:\tlearn: 0.7394743\ttest: 0.7282267\tbest: 0.7284333 (845)\ttotal: 6m 13s\tremaining: 7m 49s\n",
      "886:\tlearn: 0.7394771\ttest: 0.7282133\tbest: 0.7284333 (845)\ttotal: 6m 13s\tremaining: 7m 48s\n",
      "887:\tlearn: 0.7394886\ttest: 0.7282400\tbest: 0.7284333 (845)\ttotal: 6m 13s\tremaining: 7m 48s\n",
      "888:\tlearn: 0.7395371\ttest: 0.7282733\tbest: 0.7284333 (845)\ttotal: 6m 14s\tremaining: 7m 47s\n",
      "889:\tlearn: 0.7395743\ttest: 0.7282267\tbest: 0.7284333 (845)\ttotal: 6m 14s\tremaining: 7m 47s\n",
      "890:\tlearn: 0.7395629\ttest: 0.7281200\tbest: 0.7284333 (845)\ttotal: 6m 15s\tremaining: 7m 47s\n",
      "891:\tlearn: 0.7396343\ttest: 0.7280667\tbest: 0.7284333 (845)\ttotal: 6m 15s\tremaining: 7m 46s\n",
      "892:\tlearn: 0.7396714\ttest: 0.7280267\tbest: 0.7284333 (845)\ttotal: 6m 16s\tremaining: 7m 46s\n",
      "893:\tlearn: 0.7397171\ttest: 0.7280800\tbest: 0.7284333 (845)\ttotal: 6m 16s\tremaining: 7m 45s\n",
      "894:\tlearn: 0.7397086\ttest: 0.7281200\tbest: 0.7284333 (845)\ttotal: 6m 16s\tremaining: 7m 45s\n",
      "895:\tlearn: 0.7397200\ttest: 0.7281467\tbest: 0.7284333 (845)\ttotal: 6m 17s\tremaining: 7m 45s\n",
      "896:\tlearn: 0.7397571\ttest: 0.7281733\tbest: 0.7284333 (845)\ttotal: 6m 17s\tremaining: 7m 44s\n",
      "897:\tlearn: 0.7397800\ttest: 0.7281000\tbest: 0.7284333 (845)\ttotal: 6m 18s\tremaining: 7m 44s\n"
     ]
    },
    {
     "name": "stdout",
     "output_type": "stream",
     "text": [
      "898:\tlearn: 0.7398257\ttest: 0.7281200\tbest: 0.7284333 (845)\ttotal: 6m 18s\tremaining: 7m 43s\n",
      "899:\tlearn: 0.7398257\ttest: 0.7281067\tbest: 0.7284333 (845)\ttotal: 6m 19s\tremaining: 7m 43s\n",
      "900:\tlearn: 0.7398400\ttest: 0.7281600\tbest: 0.7284333 (845)\ttotal: 6m 19s\tremaining: 7m 43s\n",
      "901:\tlearn: 0.7398200\ttest: 0.7281667\tbest: 0.7284333 (845)\ttotal: 6m 20s\tremaining: 7m 42s\n",
      "902:\tlearn: 0.7398286\ttest: 0.7282000\tbest: 0.7284333 (845)\ttotal: 6m 20s\tremaining: 7m 42s\n",
      "903:\tlearn: 0.7398771\ttest: 0.7281400\tbest: 0.7284333 (845)\ttotal: 6m 20s\tremaining: 7m 41s\n",
      "904:\tlearn: 0.7398629\ttest: 0.7281867\tbest: 0.7284333 (845)\ttotal: 6m 21s\tremaining: 7m 41s\n",
      "905:\tlearn: 0.7398714\ttest: 0.7282067\tbest: 0.7284333 (845)\ttotal: 6m 21s\tremaining: 7m 40s\n",
      "906:\tlearn: 0.7398829\ttest: 0.7281733\tbest: 0.7284333 (845)\ttotal: 6m 22s\tremaining: 7m 40s\n",
      "907:\tlearn: 0.7398543\ttest: 0.7281267\tbest: 0.7284333 (845)\ttotal: 6m 22s\tremaining: 7m 40s\n",
      "908:\tlearn: 0.7398886\ttest: 0.7281067\tbest: 0.7284333 (845)\ttotal: 6m 22s\tremaining: 7m 39s\n",
      "909:\tlearn: 0.7399029\ttest: 0.7281000\tbest: 0.7284333 (845)\ttotal: 6m 23s\tremaining: 7m 39s\n",
      "910:\tlearn: 0.7398800\ttest: 0.7280600\tbest: 0.7284333 (845)\ttotal: 6m 23s\tremaining: 7m 38s\n",
      "911:\tlearn: 0.7398743\ttest: 0.7280467\tbest: 0.7284333 (845)\ttotal: 6m 24s\tremaining: 7m 38s\n",
      "912:\tlearn: 0.7398629\ttest: 0.7280200\tbest: 0.7284333 (845)\ttotal: 6m 24s\tremaining: 7m 37s\n",
      "913:\tlearn: 0.7399057\ttest: 0.7280067\tbest: 0.7284333 (845)\ttotal: 6m 25s\tremaining: 7m 37s\n",
      "914:\tlearn: 0.7399400\ttest: 0.7279933\tbest: 0.7284333 (845)\ttotal: 6m 25s\tremaining: 7m 37s\n",
      "915:\tlearn: 0.7399171\ttest: 0.7280400\tbest: 0.7284333 (845)\ttotal: 6m 25s\tremaining: 7m 36s\n",
      "916:\tlearn: 0.7399629\ttest: 0.7280533\tbest: 0.7284333 (845)\ttotal: 6m 26s\tremaining: 7m 36s\n",
      "917:\tlearn: 0.7399714\ttest: 0.7280133\tbest: 0.7284333 (845)\ttotal: 6m 26s\tremaining: 7m 35s\n",
      "918:\tlearn: 0.7399800\ttest: 0.7280333\tbest: 0.7284333 (845)\ttotal: 6m 27s\tremaining: 7m 35s\n",
      "919:\tlearn: 0.7400257\ttest: 0.7280333\tbest: 0.7284333 (845)\ttotal: 6m 27s\tremaining: 7m 35s\n",
      "920:\tlearn: 0.7400514\ttest: 0.7280600\tbest: 0.7284333 (845)\ttotal: 6m 28s\tremaining: 7m 34s\n",
      "921:\tlearn: 0.7400486\ttest: 0.7280133\tbest: 0.7284333 (845)\ttotal: 6m 28s\tremaining: 7m 34s\n",
      "922:\tlearn: 0.7400771\ttest: 0.7280400\tbest: 0.7284333 (845)\ttotal: 6m 28s\tremaining: 7m 33s\n",
      "923:\tlearn: 0.7400771\ttest: 0.7280667\tbest: 0.7284333 (845)\ttotal: 6m 29s\tremaining: 7m 33s\n",
      "924:\tlearn: 0.7401257\ttest: 0.7280333\tbest: 0.7284333 (845)\ttotal: 6m 29s\tremaining: 7m 33s\n",
      "925:\tlearn: 0.7401486\ttest: 0.7280667\tbest: 0.7284333 (845)\ttotal: 6m 30s\tremaining: 7m 32s\n",
      "926:\tlearn: 0.7401343\ttest: 0.7281133\tbest: 0.7284333 (845)\ttotal: 6m 30s\tremaining: 7m 32s\n",
      "927:\tlearn: 0.7401486\ttest: 0.7281133\tbest: 0.7284333 (845)\ttotal: 6m 31s\tremaining: 7m 31s\n",
      "928:\tlearn: 0.7401629\ttest: 0.7281667\tbest: 0.7284333 (845)\ttotal: 6m 31s\tremaining: 7m 31s\n",
      "929:\tlearn: 0.7401800\ttest: 0.7281733\tbest: 0.7284333 (845)\ttotal: 6m 32s\tremaining: 7m 31s\n",
      "930:\tlearn: 0.7401886\ttest: 0.7281933\tbest: 0.7284333 (845)\ttotal: 6m 32s\tremaining: 7m 30s\n",
      "931:\tlearn: 0.7401571\ttest: 0.7281933\tbest: 0.7284333 (845)\ttotal: 6m 33s\tremaining: 7m 30s\n",
      "932:\tlearn: 0.7401686\ttest: 0.7282267\tbest: 0.7284333 (845)\ttotal: 6m 33s\tremaining: 7m 30s\n",
      "933:\tlearn: 0.7401657\ttest: 0.7282000\tbest: 0.7284333 (845)\ttotal: 6m 33s\tremaining: 7m 29s\n",
      "934:\tlearn: 0.7402486\ttest: 0.7282933\tbest: 0.7284333 (845)\ttotal: 6m 34s\tremaining: 7m 29s\n",
      "935:\tlearn: 0.7402486\ttest: 0.7283000\tbest: 0.7284333 (845)\ttotal: 6m 34s\tremaining: 7m 28s\n",
      "936:\tlearn: 0.7402543\ttest: 0.7283067\tbest: 0.7284333 (845)\ttotal: 6m 35s\tremaining: 7m 28s\n",
      "937:\tlearn: 0.7402514\ttest: 0.7283400\tbest: 0.7284333 (845)\ttotal: 6m 35s\tremaining: 7m 28s\n",
      "938:\tlearn: 0.7402686\ttest: 0.7283000\tbest: 0.7284333 (845)\ttotal: 6m 36s\tremaining: 7m 27s\n",
      "939:\tlearn: 0.7402971\ttest: 0.7282667\tbest: 0.7284333 (845)\ttotal: 6m 36s\tremaining: 7m 27s\n",
      "940:\tlearn: 0.7403200\ttest: 0.7282333\tbest: 0.7284333 (845)\ttotal: 6m 37s\tremaining: 7m 27s\n",
      "941:\tlearn: 0.7403029\ttest: 0.7282600\tbest: 0.7284333 (845)\ttotal: 6m 37s\tremaining: 7m 26s\n",
      "942:\tlearn: 0.7403429\ttest: 0.7282267\tbest: 0.7284333 (845)\ttotal: 6m 38s\tremaining: 7m 26s\n",
      "943:\tlearn: 0.7403657\ttest: 0.7281867\tbest: 0.7284333 (845)\ttotal: 6m 38s\tremaining: 7m 26s\n",
      "944:\tlearn: 0.7403829\ttest: 0.7281400\tbest: 0.7284333 (845)\ttotal: 6m 39s\tremaining: 7m 25s\n",
      "945:\tlearn: 0.7404114\ttest: 0.7281133\tbest: 0.7284333 (845)\ttotal: 6m 39s\tremaining: 7m 25s\n",
      "946:\tlearn: 0.7404229\ttest: 0.7281400\tbest: 0.7284333 (845)\ttotal: 6m 40s\tremaining: 7m 24s\n",
      "947:\tlearn: 0.7404743\ttest: 0.7281267\tbest: 0.7284333 (845)\ttotal: 6m 40s\tremaining: 7m 24s\n",
      "948:\tlearn: 0.7404857\ttest: 0.7282267\tbest: 0.7284333 (845)\ttotal: 6m 40s\tremaining: 7m 24s\n",
      "949:\tlearn: 0.7404886\ttest: 0.7282200\tbest: 0.7284333 (845)\ttotal: 6m 41s\tremaining: 7m 23s\n",
      "950:\tlearn: 0.7404800\ttest: 0.7282867\tbest: 0.7284333 (845)\ttotal: 6m 41s\tremaining: 7m 23s\n",
      "951:\tlearn: 0.7405086\ttest: 0.7283000\tbest: 0.7284333 (845)\ttotal: 6m 42s\tremaining: 7m 22s\n",
      "952:\tlearn: 0.7404800\ttest: 0.7283400\tbest: 0.7284333 (845)\ttotal: 6m 42s\tremaining: 7m 22s\n",
      "953:\tlearn: 0.7405286\ttest: 0.7283600\tbest: 0.7284333 (845)\ttotal: 6m 42s\tremaining: 7m 21s\n",
      "954:\tlearn: 0.7405514\ttest: 0.7284200\tbest: 0.7284333 (845)\ttotal: 6m 43s\tremaining: 7m 21s\n",
      "955:\tlearn: 0.7405114\ttest: 0.7284067\tbest: 0.7284333 (845)\ttotal: 6m 43s\tremaining: 7m 21s\n",
      "956:\tlearn: 0.7405314\ttest: 0.7283800\tbest: 0.7284333 (845)\ttotal: 6m 44s\tremaining: 7m 20s\n",
      "957:\tlearn: 0.7405629\ttest: 0.7283000\tbest: 0.7284333 (845)\ttotal: 6m 44s\tremaining: 7m 20s\n",
      "958:\tlearn: 0.7406000\ttest: 0.7282200\tbest: 0.7284333 (845)\ttotal: 6m 45s\tremaining: 7m 19s\n",
      "959:\tlearn: 0.7405743\ttest: 0.7282533\tbest: 0.7284333 (845)\ttotal: 6m 45s\tremaining: 7m 19s\n",
      "960:\tlearn: 0.7405829\ttest: 0.7282600\tbest: 0.7284333 (845)\ttotal: 6m 46s\tremaining: 7m 18s\n",
      "961:\tlearn: 0.7405857\ttest: 0.7282133\tbest: 0.7284333 (845)\ttotal: 6m 46s\tremaining: 7m 18s\n",
      "962:\tlearn: 0.7406114\ttest: 0.7282067\tbest: 0.7284333 (845)\ttotal: 6m 46s\tremaining: 7m 18s\n",
      "963:\tlearn: 0.7406457\ttest: 0.7282667\tbest: 0.7284333 (845)\ttotal: 6m 47s\tremaining: 7m 17s\n",
      "964:\tlearn: 0.7406800\ttest: 0.7282533\tbest: 0.7284333 (845)\ttotal: 6m 47s\tremaining: 7m 17s\n",
      "965:\tlearn: 0.7406971\ttest: 0.7282533\tbest: 0.7284333 (845)\ttotal: 6m 48s\tremaining: 7m 16s\n",
      "966:\tlearn: 0.7407257\ttest: 0.7282933\tbest: 0.7284333 (845)\ttotal: 6m 48s\tremaining: 7m 16s\n",
      "967:\tlearn: 0.7407514\ttest: 0.7283267\tbest: 0.7284333 (845)\ttotal: 6m 48s\tremaining: 7m 15s\n",
      "968:\tlearn: 0.7407743\ttest: 0.7282467\tbest: 0.7284333 (845)\ttotal: 6m 49s\tremaining: 7m 15s\n",
      "969:\tlearn: 0.7407857\ttest: 0.7282800\tbest: 0.7284333 (845)\ttotal: 6m 49s\tremaining: 7m 15s\n",
      "970:\tlearn: 0.7407886\ttest: 0.7282533\tbest: 0.7284333 (845)\ttotal: 6m 50s\tremaining: 7m 14s\n",
      "971:\tlearn: 0.7407886\ttest: 0.7283000\tbest: 0.7284333 (845)\ttotal: 6m 50s\tremaining: 7m 14s\n",
      "972:\tlearn: 0.7408371\ttest: 0.7282800\tbest: 0.7284333 (845)\ttotal: 6m 51s\tremaining: 7m 13s\n",
      "973:\tlearn: 0.7408086\ttest: 0.7283400\tbest: 0.7284333 (845)\ttotal: 6m 51s\tremaining: 7m 13s\n",
      "974:\tlearn: 0.7408229\ttest: 0.7283467\tbest: 0.7284333 (845)\ttotal: 6m 51s\tremaining: 7m 12s\n",
      "975:\tlearn: 0.7408457\ttest: 0.7283467\tbest: 0.7284333 (845)\ttotal: 6m 52s\tremaining: 7m 12s\n",
      "976:\tlearn: 0.7408143\ttest: 0.7283267\tbest: 0.7284333 (845)\ttotal: 6m 52s\tremaining: 7m 12s\n",
      "977:\tlearn: 0.7408600\ttest: 0.7283467\tbest: 0.7284333 (845)\ttotal: 6m 53s\tremaining: 7m 11s\n",
      "978:\tlearn: 0.7408514\ttest: 0.7283667\tbest: 0.7284333 (845)\ttotal: 6m 53s\tremaining: 7m 11s\n",
      "979:\tlearn: 0.7408943\ttest: 0.7283667\tbest: 0.7284333 (845)\ttotal: 6m 54s\tremaining: 7m 10s\n",
      "980:\tlearn: 0.7408714\ttest: 0.7283467\tbest: 0.7284333 (845)\ttotal: 6m 54s\tremaining: 7m 10s\n",
      "981:\tlearn: 0.7409314\ttest: 0.7283267\tbest: 0.7284333 (845)\ttotal: 6m 54s\tremaining: 7m 10s\n",
      "982:\tlearn: 0.7409029\ttest: 0.7283067\tbest: 0.7284333 (845)\ttotal: 6m 55s\tremaining: 7m 9s\n",
      "983:\tlearn: 0.7409371\ttest: 0.7282800\tbest: 0.7284333 (845)\ttotal: 6m 55s\tremaining: 7m 9s\n",
      "984:\tlearn: 0.7409600\ttest: 0.7282333\tbest: 0.7284333 (845)\ttotal: 6m 56s\tremaining: 7m 8s\n",
      "985:\tlearn: 0.7409657\ttest: 0.7282600\tbest: 0.7284333 (845)\ttotal: 6m 56s\tremaining: 7m 8s\n",
      "986:\tlearn: 0.7409886\ttest: 0.7282400\tbest: 0.7284333 (845)\ttotal: 6m 57s\tremaining: 7m 7s\n",
      "987:\tlearn: 0.7410143\ttest: 0.7283000\tbest: 0.7284333 (845)\ttotal: 6m 57s\tremaining: 7m 7s\n"
     ]
    },
    {
     "name": "stdout",
     "output_type": "stream",
     "text": [
      "988:\tlearn: 0.7410114\ttest: 0.7283200\tbest: 0.7284333 (845)\ttotal: 6m 57s\tremaining: 7m 7s\n",
      "989:\tlearn: 0.7409714\ttest: 0.7283933\tbest: 0.7284333 (845)\ttotal: 6m 58s\tremaining: 7m 6s\n",
      "990:\tlearn: 0.7410114\ttest: 0.7284400\tbest: 0.7284400 (990)\ttotal: 6m 58s\tremaining: 7m 6s\n",
      "991:\tlearn: 0.7410029\ttest: 0.7284267\tbest: 0.7284400 (990)\ttotal: 6m 59s\tremaining: 7m 5s\n",
      "992:\tlearn: 0.7410486\ttest: 0.7284267\tbest: 0.7284400 (990)\ttotal: 6m 59s\tremaining: 7m 5s\n",
      "993:\tlearn: 0.7410657\ttest: 0.7284600\tbest: 0.7284600 (993)\ttotal: 6m 59s\tremaining: 7m 4s\n",
      "994:\tlearn: 0.7410686\ttest: 0.7284600\tbest: 0.7284600 (993)\ttotal: 7m\tremaining: 7m 4s\n",
      "995:\tlearn: 0.7410943\ttest: 0.7284333\tbest: 0.7284600 (993)\ttotal: 7m\tremaining: 7m 4s\n",
      "996:\tlearn: 0.7410686\ttest: 0.7285000\tbest: 0.7285000 (996)\ttotal: 7m 1s\tremaining: 7m 3s\n",
      "997:\tlearn: 0.7410800\ttest: 0.7285200\tbest: 0.7285200 (997)\ttotal: 7m 1s\tremaining: 7m 3s\n",
      "998:\tlearn: 0.7410886\ttest: 0.7284800\tbest: 0.7285200 (997)\ttotal: 7m 1s\tremaining: 7m 2s\n",
      "999:\tlearn: 0.7411286\ttest: 0.7285000\tbest: 0.7285200 (997)\ttotal: 7m 2s\tremaining: 7m 2s\n",
      "1000:\tlearn: 0.7411400\ttest: 0.7283933\tbest: 0.7285200 (997)\ttotal: 7m 2s\tremaining: 7m 1s\n",
      "1001:\tlearn: 0.7411771\ttest: 0.7284000\tbest: 0.7285200 (997)\ttotal: 7m 3s\tremaining: 7m 1s\n",
      "1002:\tlearn: 0.7411714\ttest: 0.7284533\tbest: 0.7285200 (997)\ttotal: 7m 3s\tremaining: 7m 1s\n",
      "1003:\tlearn: 0.7412000\ttest: 0.7284467\tbest: 0.7285200 (997)\ttotal: 7m 4s\tremaining: 7m\n",
      "1004:\tlearn: 0.7412571\ttest: 0.7284867\tbest: 0.7285200 (997)\ttotal: 7m 4s\tremaining: 7m\n",
      "1005:\tlearn: 0.7412543\ttest: 0.7284333\tbest: 0.7285200 (997)\ttotal: 7m 4s\tremaining: 6m 59s\n",
      "1006:\tlearn: 0.7412943\ttest: 0.7284600\tbest: 0.7285200 (997)\ttotal: 7m 5s\tremaining: 6m 59s\n",
      "1007:\tlearn: 0.7413143\ttest: 0.7285267\tbest: 0.7285267 (1007)\ttotal: 7m 5s\tremaining: 6m 58s\n",
      "1008:\tlearn: 0.7413143\ttest: 0.7285000\tbest: 0.7285267 (1007)\ttotal: 7m 6s\tremaining: 6m 58s\n",
      "1009:\tlearn: 0.7413200\ttest: 0.7285000\tbest: 0.7285267 (1007)\ttotal: 7m 6s\tremaining: 6m 58s\n",
      "1010:\tlearn: 0.7413343\ttest: 0.7285800\tbest: 0.7285800 (1010)\ttotal: 7m 7s\tremaining: 6m 57s\n",
      "1011:\tlearn: 0.7413400\ttest: 0.7285400\tbest: 0.7285800 (1010)\ttotal: 7m 7s\tremaining: 6m 57s\n",
      "1012:\tlearn: 0.7413800\ttest: 0.7285400\tbest: 0.7285800 (1010)\ttotal: 7m 7s\tremaining: 6m 56s\n",
      "1013:\tlearn: 0.7413857\ttest: 0.7285400\tbest: 0.7285800 (1010)\ttotal: 7m 8s\tremaining: 6m 56s\n",
      "1014:\tlearn: 0.7414229\ttest: 0.7285867\tbest: 0.7285867 (1014)\ttotal: 7m 8s\tremaining: 6m 56s\n",
      "1015:\tlearn: 0.7414343\ttest: 0.7286200\tbest: 0.7286200 (1015)\ttotal: 7m 9s\tremaining: 6m 55s\n",
      "1016:\tlearn: 0.7414114\ttest: 0.7286067\tbest: 0.7286200 (1015)\ttotal: 7m 9s\tremaining: 6m 55s\n",
      "1017:\tlearn: 0.7414429\ttest: 0.7285733\tbest: 0.7286200 (1015)\ttotal: 7m 9s\tremaining: 6m 54s\n",
      "1018:\tlearn: 0.7414200\ttest: 0.7285933\tbest: 0.7286200 (1015)\ttotal: 7m 10s\tremaining: 6m 54s\n",
      "1019:\tlearn: 0.7414771\ttest: 0.7285733\tbest: 0.7286200 (1015)\ttotal: 7m 10s\tremaining: 6m 53s\n",
      "1020:\tlearn: 0.7414686\ttest: 0.7285467\tbest: 0.7286200 (1015)\ttotal: 7m 11s\tremaining: 6m 53s\n",
      "1021:\tlearn: 0.7414971\ttest: 0.7285333\tbest: 0.7286200 (1015)\ttotal: 7m 11s\tremaining: 6m 53s\n",
      "1022:\tlearn: 0.7415600\ttest: 0.7285733\tbest: 0.7286200 (1015)\ttotal: 7m 12s\tremaining: 6m 52s\n",
      "1023:\tlearn: 0.7416000\ttest: 0.7285733\tbest: 0.7286200 (1015)\ttotal: 7m 12s\tremaining: 6m 52s\n",
      "1024:\tlearn: 0.7415943\ttest: 0.7285333\tbest: 0.7286200 (1015)\ttotal: 7m 12s\tremaining: 6m 51s\n",
      "1025:\tlearn: 0.7415886\ttest: 0.7285333\tbest: 0.7286200 (1015)\ttotal: 7m 13s\tremaining: 6m 51s\n",
      "1026:\tlearn: 0.7415543\ttest: 0.7285533\tbest: 0.7286200 (1015)\ttotal: 7m 13s\tremaining: 6m 50s\n",
      "1027:\tlearn: 0.7416171\ttest: 0.7285600\tbest: 0.7286200 (1015)\ttotal: 7m 14s\tremaining: 6m 50s\n",
      "1028:\tlearn: 0.7416343\ttest: 0.7285600\tbest: 0.7286200 (1015)\ttotal: 7m 14s\tremaining: 6m 49s\n",
      "1029:\tlearn: 0.7416543\ttest: 0.7285867\tbest: 0.7286200 (1015)\ttotal: 7m 14s\tremaining: 6m 49s\n",
      "1030:\tlearn: 0.7416629\ttest: 0.7286200\tbest: 0.7286200 (1015)\ttotal: 7m 15s\tremaining: 6m 49s\n",
      "1031:\tlearn: 0.7416914\ttest: 0.7286067\tbest: 0.7286200 (1015)\ttotal: 7m 15s\tremaining: 6m 48s\n",
      "1032:\tlearn: 0.7416857\ttest: 0.7286067\tbest: 0.7286200 (1015)\ttotal: 7m 16s\tremaining: 6m 48s\n",
      "1033:\tlearn: 0.7416886\ttest: 0.7285533\tbest: 0.7286200 (1015)\ttotal: 7m 16s\tremaining: 6m 47s\n",
      "1034:\tlearn: 0.7416914\ttest: 0.7285267\tbest: 0.7286200 (1015)\ttotal: 7m 16s\tremaining: 6m 47s\n",
      "1035:\tlearn: 0.7416886\ttest: 0.7284800\tbest: 0.7286200 (1015)\ttotal: 7m 17s\tremaining: 6m 46s\n",
      "1036:\tlearn: 0.7416829\ttest: 0.7285133\tbest: 0.7286200 (1015)\ttotal: 7m 17s\tremaining: 6m 46s\n",
      "1037:\tlearn: 0.7417286\ttest: 0.7285133\tbest: 0.7286200 (1015)\ttotal: 7m 18s\tremaining: 6m 46s\n",
      "1038:\tlearn: 0.7417486\ttest: 0.7285200\tbest: 0.7286200 (1015)\ttotal: 7m 18s\tremaining: 6m 45s\n",
      "1039:\tlearn: 0.7417114\ttest: 0.7285067\tbest: 0.7286200 (1015)\ttotal: 7m 18s\tremaining: 6m 45s\n",
      "1040:\tlearn: 0.7417857\ttest: 0.7285667\tbest: 0.7286200 (1015)\ttotal: 7m 19s\tremaining: 6m 44s\n",
      "1041:\tlearn: 0.7418114\ttest: 0.7285400\tbest: 0.7286200 (1015)\ttotal: 7m 19s\tremaining: 6m 44s\n",
      "1042:\tlearn: 0.7418571\ttest: 0.7285600\tbest: 0.7286200 (1015)\ttotal: 7m 20s\tremaining: 6m 43s\n",
      "1043:\tlearn: 0.7418714\ttest: 0.7285533\tbest: 0.7286200 (1015)\ttotal: 7m 20s\tremaining: 6m 43s\n",
      "1044:\tlearn: 0.7418829\ttest: 0.7285400\tbest: 0.7286200 (1015)\ttotal: 7m 20s\tremaining: 6m 42s\n",
      "1045:\tlearn: 0.7418800\ttest: 0.7284800\tbest: 0.7286200 (1015)\ttotal: 7m 21s\tremaining: 6m 42s\n",
      "1046:\tlearn: 0.7419057\ttest: 0.7285533\tbest: 0.7286200 (1015)\ttotal: 7m 21s\tremaining: 6m 42s\n",
      "1047:\tlearn: 0.7419114\ttest: 0.7284933\tbest: 0.7286200 (1015)\ttotal: 7m 22s\tremaining: 6m 41s\n",
      "1048:\tlearn: 0.7419457\ttest: 0.7284933\tbest: 0.7286200 (1015)\ttotal: 7m 22s\tremaining: 6m 41s\n",
      "1049:\tlearn: 0.7419514\ttest: 0.7285933\tbest: 0.7286200 (1015)\ttotal: 7m 23s\tremaining: 6m 40s\n",
      "1050:\tlearn: 0.7419771\ttest: 0.7286333\tbest: 0.7286333 (1050)\ttotal: 7m 23s\tremaining: 6m 40s\n",
      "1051:\tlearn: 0.7419714\ttest: 0.7286267\tbest: 0.7286333 (1050)\ttotal: 7m 24s\tremaining: 6m 40s\n",
      "1052:\tlearn: 0.7419914\ttest: 0.7285667\tbest: 0.7286333 (1050)\ttotal: 7m 24s\tremaining: 6m 39s\n",
      "1053:\tlearn: 0.7420257\ttest: 0.7286200\tbest: 0.7286333 (1050)\ttotal: 7m 24s\tremaining: 6m 39s\n",
      "1054:\tlearn: 0.7420486\ttest: 0.7285400\tbest: 0.7286333 (1050)\ttotal: 7m 25s\tremaining: 6m 38s\n",
      "1055:\tlearn: 0.7420200\ttest: 0.7286067\tbest: 0.7286333 (1050)\ttotal: 7m 25s\tremaining: 6m 38s\n",
      "1056:\tlearn: 0.7420771\ttest: 0.7286400\tbest: 0.7286400 (1056)\ttotal: 7m 26s\tremaining: 6m 38s\n",
      "1057:\tlearn: 0.7420971\ttest: 0.7286667\tbest: 0.7286667 (1057)\ttotal: 7m 26s\tremaining: 6m 37s\n",
      "1058:\tlearn: 0.7421714\ttest: 0.7286400\tbest: 0.7286667 (1057)\ttotal: 7m 27s\tremaining: 6m 37s\n",
      "1059:\tlearn: 0.7421771\ttest: 0.7285933\tbest: 0.7286667 (1057)\ttotal: 7m 27s\tremaining: 6m 36s\n",
      "1060:\tlearn: 0.7421657\ttest: 0.7285400\tbest: 0.7286667 (1057)\ttotal: 7m 27s\tremaining: 6m 36s\n",
      "1061:\tlearn: 0.7421657\ttest: 0.7284600\tbest: 0.7286667 (1057)\ttotal: 7m 28s\tremaining: 6m 35s\n",
      "1062:\tlearn: 0.7421657\ttest: 0.7285200\tbest: 0.7286667 (1057)\ttotal: 7m 28s\tremaining: 6m 35s\n",
      "1063:\tlearn: 0.7422171\ttest: 0.7284667\tbest: 0.7286667 (1057)\ttotal: 7m 29s\tremaining: 6m 35s\n",
      "1064:\tlearn: 0.7422771\ttest: 0.7284333\tbest: 0.7286667 (1057)\ttotal: 7m 29s\tremaining: 6m 34s\n",
      "1065:\tlearn: 0.7422171\ttest: 0.7284867\tbest: 0.7286667 (1057)\ttotal: 7m 30s\tremaining: 6m 34s\n",
      "1066:\tlearn: 0.7422514\ttest: 0.7284667\tbest: 0.7286667 (1057)\ttotal: 7m 30s\tremaining: 6m 33s\n",
      "1067:\tlearn: 0.7422800\ttest: 0.7284600\tbest: 0.7286667 (1057)\ttotal: 7m 30s\tremaining: 6m 33s\n",
      "1068:\tlearn: 0.7422800\ttest: 0.7284400\tbest: 0.7286667 (1057)\ttotal: 7m 31s\tremaining: 6m 32s\n",
      "1069:\tlearn: 0.7423200\ttest: 0.7284867\tbest: 0.7286667 (1057)\ttotal: 7m 31s\tremaining: 6m 32s\n",
      "1070:\tlearn: 0.7423286\ttest: 0.7284733\tbest: 0.7286667 (1057)\ttotal: 7m 32s\tremaining: 6m 32s\n",
      "1071:\tlearn: 0.7423457\ttest: 0.7284533\tbest: 0.7286667 (1057)\ttotal: 7m 32s\tremaining: 6m 31s\n",
      "1072:\tlearn: 0.7424171\ttest: 0.7284733\tbest: 0.7286667 (1057)\ttotal: 7m 32s\tremaining: 6m 31s\n",
      "1073:\tlearn: 0.7423571\ttest: 0.7284333\tbest: 0.7286667 (1057)\ttotal: 7m 33s\tremaining: 6m 30s\n",
      "1074:\tlearn: 0.7423629\ttest: 0.7284933\tbest: 0.7286667 (1057)\ttotal: 7m 33s\tremaining: 6m 30s\n",
      "1075:\tlearn: 0.7423971\ttest: 0.7284733\tbest: 0.7286667 (1057)\ttotal: 7m 34s\tremaining: 6m 29s\n",
      "1076:\tlearn: 0.7423857\ttest: 0.7284667\tbest: 0.7286667 (1057)\ttotal: 7m 34s\tremaining: 6m 29s\n"
     ]
    },
    {
     "name": "stdout",
     "output_type": "stream",
     "text": [
      "1077:\tlearn: 0.7424229\ttest: 0.7284667\tbest: 0.7286667 (1057)\ttotal: 7m 34s\tremaining: 6m 29s\n",
      "1078:\tlearn: 0.7424286\ttest: 0.7285200\tbest: 0.7286667 (1057)\ttotal: 7m 35s\tremaining: 6m 28s\n",
      "1079:\tlearn: 0.7424314\ttest: 0.7285067\tbest: 0.7286667 (1057)\ttotal: 7m 35s\tremaining: 6m 28s\n",
      "1080:\tlearn: 0.7424486\ttest: 0.7284733\tbest: 0.7286667 (1057)\ttotal: 7m 36s\tremaining: 6m 27s\n",
      "1081:\tlearn: 0.7424286\ttest: 0.7284933\tbest: 0.7286667 (1057)\ttotal: 7m 36s\tremaining: 6m 27s\n",
      "1082:\tlearn: 0.7423857\ttest: 0.7285133\tbest: 0.7286667 (1057)\ttotal: 7m 36s\tremaining: 6m 26s\n",
      "1083:\tlearn: 0.7424086\ttest: 0.7285400\tbest: 0.7286667 (1057)\ttotal: 7m 37s\tremaining: 6m 26s\n",
      "1084:\tlearn: 0.7424743\ttest: 0.7286000\tbest: 0.7286667 (1057)\ttotal: 7m 37s\tremaining: 6m 26s\n",
      "1085:\tlearn: 0.7424743\ttest: 0.7286667\tbest: 0.7286667 (1057)\ttotal: 7m 38s\tremaining: 6m 25s\n",
      "1086:\tlearn: 0.7425086\ttest: 0.7285733\tbest: 0.7286667 (1057)\ttotal: 7m 38s\tremaining: 6m 25s\n",
      "1087:\tlearn: 0.7425229\ttest: 0.7285400\tbest: 0.7286667 (1057)\ttotal: 7m 39s\tremaining: 6m 24s\n",
      "1088:\tlearn: 0.7425171\ttest: 0.7285267\tbest: 0.7286667 (1057)\ttotal: 7m 39s\tremaining: 6m 24s\n",
      "1089:\tlearn: 0.7425457\ttest: 0.7285467\tbest: 0.7286667 (1057)\ttotal: 7m 39s\tremaining: 6m 23s\n",
      "1090:\tlearn: 0.7426000\ttest: 0.7285333\tbest: 0.7286667 (1057)\ttotal: 7m 40s\tremaining: 6m 23s\n",
      "1091:\tlearn: 0.7426343\ttest: 0.7285067\tbest: 0.7286667 (1057)\ttotal: 7m 40s\tremaining: 6m 23s\n",
      "1092:\tlearn: 0.7426343\ttest: 0.7284933\tbest: 0.7286667 (1057)\ttotal: 7m 41s\tremaining: 6m 22s\n",
      "1093:\tlearn: 0.7426943\ttest: 0.7284800\tbest: 0.7286667 (1057)\ttotal: 7m 41s\tremaining: 6m 22s\n",
      "1094:\tlearn: 0.7426886\ttest: 0.7284667\tbest: 0.7286667 (1057)\ttotal: 7m 41s\tremaining: 6m 21s\n",
      "1095:\tlearn: 0.7426657\ttest: 0.7284933\tbest: 0.7286667 (1057)\ttotal: 7m 42s\tremaining: 6m 21s\n",
      "1096:\tlearn: 0.7426714\ttest: 0.7284333\tbest: 0.7286667 (1057)\ttotal: 7m 42s\tremaining: 6m 20s\n",
      "1097:\tlearn: 0.7427000\ttest: 0.7284600\tbest: 0.7286667 (1057)\ttotal: 7m 43s\tremaining: 6m 20s\n",
      "1098:\tlearn: 0.7427200\ttest: 0.7284200\tbest: 0.7286667 (1057)\ttotal: 7m 43s\tremaining: 6m 20s\n",
      "1099:\tlearn: 0.7427257\ttest: 0.7284200\tbest: 0.7286667 (1057)\ttotal: 7m 43s\tremaining: 6m 19s\n",
      "1100:\tlearn: 0.7427257\ttest: 0.7284667\tbest: 0.7286667 (1057)\ttotal: 7m 44s\tremaining: 6m 19s\n",
      "1101:\tlearn: 0.7427457\ttest: 0.7284467\tbest: 0.7286667 (1057)\ttotal: 7m 44s\tremaining: 6m 18s\n",
      "1102:\tlearn: 0.7427486\ttest: 0.7284333\tbest: 0.7286667 (1057)\ttotal: 7m 45s\tremaining: 6m 18s\n",
      "1103:\tlearn: 0.7427400\ttest: 0.7284333\tbest: 0.7286667 (1057)\ttotal: 7m 45s\tremaining: 6m 17s\n",
      "1104:\tlearn: 0.7427543\ttest: 0.7284000\tbest: 0.7286667 (1057)\ttotal: 7m 46s\tremaining: 6m 17s\n",
      "1105:\tlearn: 0.7427600\ttest: 0.7284600\tbest: 0.7286667 (1057)\ttotal: 7m 46s\tremaining: 6m 17s\n",
      "1106:\tlearn: 0.7427457\ttest: 0.7284267\tbest: 0.7286667 (1057)\ttotal: 7m 46s\tremaining: 6m 16s\n",
      "1107:\tlearn: 0.7427914\ttest: 0.7283733\tbest: 0.7286667 (1057)\ttotal: 7m 47s\tremaining: 6m 16s\n",
      "1108:\tlearn: 0.7428171\ttest: 0.7283267\tbest: 0.7286667 (1057)\ttotal: 7m 47s\tremaining: 6m 15s\n",
      "1109:\tlearn: 0.7427971\ttest: 0.7283400\tbest: 0.7286667 (1057)\ttotal: 7m 48s\tremaining: 6m 15s\n",
      "1110:\tlearn: 0.7428257\ttest: 0.7283533\tbest: 0.7286667 (1057)\ttotal: 7m 48s\tremaining: 6m 14s\n",
      "1111:\tlearn: 0.7428429\ttest: 0.7283600\tbest: 0.7286667 (1057)\ttotal: 7m 48s\tremaining: 6m 14s\n",
      "1112:\tlearn: 0.7428486\ttest: 0.7283333\tbest: 0.7286667 (1057)\ttotal: 7m 49s\tremaining: 6m 14s\n",
      "1113:\tlearn: 0.7428714\ttest: 0.7284133\tbest: 0.7286667 (1057)\ttotal: 7m 49s\tremaining: 6m 13s\n",
      "1114:\tlearn: 0.7428800\ttest: 0.7284133\tbest: 0.7286667 (1057)\ttotal: 7m 50s\tremaining: 6m 13s\n",
      "1115:\tlearn: 0.7429029\ttest: 0.7284533\tbest: 0.7286667 (1057)\ttotal: 7m 50s\tremaining: 6m 12s\n",
      "1116:\tlearn: 0.7429171\ttest: 0.7284400\tbest: 0.7286667 (1057)\ttotal: 7m 50s\tremaining: 6m 12s\n",
      "1117:\tlearn: 0.7429286\ttest: 0.7284733\tbest: 0.7286667 (1057)\ttotal: 7m 51s\tremaining: 6m 11s\n",
      "1118:\tlearn: 0.7429429\ttest: 0.7284200\tbest: 0.7286667 (1057)\ttotal: 7m 51s\tremaining: 6m 11s\n",
      "1119:\tlearn: 0.7429343\ttest: 0.7284600\tbest: 0.7286667 (1057)\ttotal: 7m 52s\tremaining: 6m 11s\n",
      "1120:\tlearn: 0.7429429\ttest: 0.7284600\tbest: 0.7286667 (1057)\ttotal: 7m 52s\tremaining: 6m 10s\n",
      "1121:\tlearn: 0.7430029\ttest: 0.7284467\tbest: 0.7286667 (1057)\ttotal: 7m 53s\tremaining: 6m 10s\n",
      "1122:\tlearn: 0.7430114\ttest: 0.7284467\tbest: 0.7286667 (1057)\ttotal: 7m 53s\tremaining: 6m 9s\n",
      "1123:\tlearn: 0.7430114\ttest: 0.7284867\tbest: 0.7286667 (1057)\ttotal: 7m 53s\tremaining: 6m 9s\n",
      "1124:\tlearn: 0.7430486\ttest: 0.7284533\tbest: 0.7286667 (1057)\ttotal: 7m 54s\tremaining: 6m 8s\n",
      "1125:\tlearn: 0.7430571\ttest: 0.7285200\tbest: 0.7286667 (1057)\ttotal: 7m 54s\tremaining: 6m 8s\n",
      "1126:\tlearn: 0.7430514\ttest: 0.7285067\tbest: 0.7286667 (1057)\ttotal: 7m 55s\tremaining: 6m 8s\n",
      "1127:\tlearn: 0.7430714\ttest: 0.7285267\tbest: 0.7286667 (1057)\ttotal: 7m 55s\tremaining: 6m 7s\n",
      "1128:\tlearn: 0.7431086\ttest: 0.7284867\tbest: 0.7286667 (1057)\ttotal: 7m 56s\tremaining: 6m 7s\n",
      "1129:\tlearn: 0.7430971\ttest: 0.7284800\tbest: 0.7286667 (1057)\ttotal: 7m 56s\tremaining: 6m 6s\n",
      "1130:\tlearn: 0.7431429\ttest: 0.7284933\tbest: 0.7286667 (1057)\ttotal: 7m 56s\tremaining: 6m 6s\n",
      "1131:\tlearn: 0.7431429\ttest: 0.7285133\tbest: 0.7286667 (1057)\ttotal: 7m 57s\tremaining: 6m 6s\n",
      "1132:\tlearn: 0.7431486\ttest: 0.7285600\tbest: 0.7286667 (1057)\ttotal: 7m 57s\tremaining: 6m 5s\n",
      "1133:\tlearn: 0.7431600\ttest: 0.7285333\tbest: 0.7286667 (1057)\ttotal: 7m 58s\tremaining: 6m 5s\n",
      "1134:\tlearn: 0.7431629\ttest: 0.7285333\tbest: 0.7286667 (1057)\ttotal: 7m 58s\tremaining: 6m 5s\n",
      "1135:\tlearn: 0.7431743\ttest: 0.7285333\tbest: 0.7286667 (1057)\ttotal: 7m 59s\tremaining: 6m 4s\n",
      "1136:\tlearn: 0.7431829\ttest: 0.7285333\tbest: 0.7286667 (1057)\ttotal: 7m 59s\tremaining: 6m 4s\n",
      "1137:\tlearn: 0.7431829\ttest: 0.7284533\tbest: 0.7286667 (1057)\ttotal: 8m\tremaining: 6m 3s\n",
      "1138:\tlearn: 0.7431657\ttest: 0.7285000\tbest: 0.7286667 (1057)\ttotal: 8m\tremaining: 6m 3s\n",
      "1139:\tlearn: 0.7431714\ttest: 0.7284333\tbest: 0.7286667 (1057)\ttotal: 8m 1s\tremaining: 6m 3s\n",
      "1140:\tlearn: 0.7432229\ttest: 0.7285400\tbest: 0.7286667 (1057)\ttotal: 8m 1s\tremaining: 6m 2s\n",
      "1141:\tlearn: 0.7432343\ttest: 0.7285333\tbest: 0.7286667 (1057)\ttotal: 8m 2s\tremaining: 6m 2s\n",
      "1142:\tlearn: 0.7432686\ttest: 0.7285067\tbest: 0.7286667 (1057)\ttotal: 8m 2s\tremaining: 6m 1s\n",
      "1143:\tlearn: 0.7432914\ttest: 0.7284933\tbest: 0.7286667 (1057)\ttotal: 8m 3s\tremaining: 6m 1s\n",
      "1144:\tlearn: 0.7432914\ttest: 0.7284333\tbest: 0.7286667 (1057)\ttotal: 8m 3s\tremaining: 6m 1s\n",
      "1145:\tlearn: 0.7432886\ttest: 0.7284600\tbest: 0.7286667 (1057)\ttotal: 8m 3s\tremaining: 6m\n",
      "1146:\tlearn: 0.7432371\ttest: 0.7284467\tbest: 0.7286667 (1057)\ttotal: 8m 4s\tremaining: 6m\n",
      "1147:\tlearn: 0.7432571\ttest: 0.7284667\tbest: 0.7286667 (1057)\ttotal: 8m 4s\tremaining: 5m 59s\n",
      "1148:\tlearn: 0.7432514\ttest: 0.7284933\tbest: 0.7286667 (1057)\ttotal: 8m 5s\tremaining: 5m 59s\n",
      "1149:\tlearn: 0.7432686\ttest: 0.7284733\tbest: 0.7286667 (1057)\ttotal: 8m 5s\tremaining: 5m 58s\n",
      "1150:\tlearn: 0.7432771\ttest: 0.7284267\tbest: 0.7286667 (1057)\ttotal: 8m 5s\tremaining: 5m 58s\n",
      "1151:\tlearn: 0.7433314\ttest: 0.7284467\tbest: 0.7286667 (1057)\ttotal: 8m 6s\tremaining: 5m 58s\n",
      "1152:\tlearn: 0.7433286\ttest: 0.7284267\tbest: 0.7286667 (1057)\ttotal: 8m 6s\tremaining: 5m 57s\n",
      "1153:\tlearn: 0.7433314\ttest: 0.7284333\tbest: 0.7286667 (1057)\ttotal: 8m 7s\tremaining: 5m 57s\n",
      "1154:\tlearn: 0.7433371\ttest: 0.7284200\tbest: 0.7286667 (1057)\ttotal: 8m 7s\tremaining: 5m 56s\n",
      "1155:\tlearn: 0.7433457\ttest: 0.7283933\tbest: 0.7286667 (1057)\ttotal: 8m 8s\tremaining: 5m 56s\n",
      "1156:\tlearn: 0.7433571\ttest: 0.7283867\tbest: 0.7286667 (1057)\ttotal: 8m 8s\tremaining: 5m 55s\n",
      "1157:\tlearn: 0.7433886\ttest: 0.7283800\tbest: 0.7286667 (1057)\ttotal: 8m 8s\tremaining: 5m 55s\n",
      "1158:\tlearn: 0.7433714\ttest: 0.7283800\tbest: 0.7286667 (1057)\ttotal: 8m 9s\tremaining: 5m 54s\n",
      "1159:\tlearn: 0.7434000\ttest: 0.7283133\tbest: 0.7286667 (1057)\ttotal: 8m 9s\tremaining: 5m 54s\n",
      "1160:\tlearn: 0.7433743\ttest: 0.7283667\tbest: 0.7286667 (1057)\ttotal: 8m 10s\tremaining: 5m 54s\n",
      "1161:\tlearn: 0.7433971\ttest: 0.7284333\tbest: 0.7286667 (1057)\ttotal: 8m 10s\tremaining: 5m 53s\n",
      "1162:\tlearn: 0.7434343\ttest: 0.7283600\tbest: 0.7286667 (1057)\ttotal: 8m 10s\tremaining: 5m 53s\n",
      "1163:\tlearn: 0.7435029\ttest: 0.7283467\tbest: 0.7286667 (1057)\ttotal: 8m 11s\tremaining: 5m 52s\n",
      "1164:\tlearn: 0.7435457\ttest: 0.7283933\tbest: 0.7286667 (1057)\ttotal: 8m 11s\tremaining: 5m 52s\n"
     ]
    },
    {
     "name": "stdout",
     "output_type": "stream",
     "text": [
      "1165:\tlearn: 0.7435486\ttest: 0.7284000\tbest: 0.7286667 (1057)\ttotal: 8m 12s\tremaining: 5m 51s\n",
      "1166:\tlearn: 0.7435714\ttest: 0.7284467\tbest: 0.7286667 (1057)\ttotal: 8m 12s\tremaining: 5m 51s\n",
      "1167:\tlearn: 0.7435971\ttest: 0.7283467\tbest: 0.7286667 (1057)\ttotal: 8m 12s\tremaining: 5m 51s\n",
      "1168:\tlearn: 0.7436114\ttest: 0.7283800\tbest: 0.7286667 (1057)\ttotal: 8m 13s\tremaining: 5m 50s\n",
      "1169:\tlearn: 0.7436543\ttest: 0.7283400\tbest: 0.7286667 (1057)\ttotal: 8m 13s\tremaining: 5m 50s\n",
      "1170:\tlearn: 0.7436743\ttest: 0.7283000\tbest: 0.7286667 (1057)\ttotal: 8m 14s\tremaining: 5m 49s\n",
      "1171:\tlearn: 0.7436800\ttest: 0.7283733\tbest: 0.7286667 (1057)\ttotal: 8m 14s\tremaining: 5m 49s\n",
      "1172:\tlearn: 0.7436943\ttest: 0.7283400\tbest: 0.7286667 (1057)\ttotal: 8m 14s\tremaining: 5m 48s\n",
      "1173:\tlearn: 0.7437829\ttest: 0.7283667\tbest: 0.7286667 (1057)\ttotal: 8m 15s\tremaining: 5m 48s\n",
      "1174:\tlearn: 0.7437829\ttest: 0.7283467\tbest: 0.7286667 (1057)\ttotal: 8m 15s\tremaining: 5m 48s\n",
      "1175:\tlearn: 0.7438257\ttest: 0.7283800\tbest: 0.7286667 (1057)\ttotal: 8m 16s\tremaining: 5m 47s\n",
      "1176:\tlearn: 0.7438514\ttest: 0.7283800\tbest: 0.7286667 (1057)\ttotal: 8m 16s\tremaining: 5m 47s\n",
      "1177:\tlearn: 0.7438543\ttest: 0.7284333\tbest: 0.7286667 (1057)\ttotal: 8m 16s\tremaining: 5m 46s\n",
      "1178:\tlearn: 0.7438857\ttest: 0.7284133\tbest: 0.7286667 (1057)\ttotal: 8m 17s\tremaining: 5m 46s\n",
      "1179:\tlearn: 0.7438857\ttest: 0.7283933\tbest: 0.7286667 (1057)\ttotal: 8m 17s\tremaining: 5m 45s\n",
      "1180:\tlearn: 0.7439114\ttest: 0.7283733\tbest: 0.7286667 (1057)\ttotal: 8m 18s\tremaining: 5m 45s\n",
      "1181:\tlearn: 0.7439371\ttest: 0.7283533\tbest: 0.7286667 (1057)\ttotal: 8m 18s\tremaining: 5m 45s\n",
      "1182:\tlearn: 0.7439257\ttest: 0.7283467\tbest: 0.7286667 (1057)\ttotal: 8m 18s\tremaining: 5m 44s\n",
      "1183:\tlearn: 0.7439857\ttest: 0.7284667\tbest: 0.7286667 (1057)\ttotal: 8m 19s\tremaining: 5m 44s\n",
      "1184:\tlearn: 0.7440286\ttest: 0.7283800\tbest: 0.7286667 (1057)\ttotal: 8m 19s\tremaining: 5m 43s\n",
      "1185:\tlearn: 0.7440429\ttest: 0.7283933\tbest: 0.7286667 (1057)\ttotal: 8m 20s\tremaining: 5m 43s\n",
      "1186:\tlearn: 0.7440257\ttest: 0.7283933\tbest: 0.7286667 (1057)\ttotal: 8m 20s\tremaining: 5m 42s\n",
      "1187:\tlearn: 0.7440657\ttest: 0.7283800\tbest: 0.7286667 (1057)\ttotal: 8m 20s\tremaining: 5m 42s\n",
      "1188:\tlearn: 0.7440600\ttest: 0.7284333\tbest: 0.7286667 (1057)\ttotal: 8m 21s\tremaining: 5m 41s\n",
      "1189:\tlearn: 0.7440629\ttest: 0.7284133\tbest: 0.7286667 (1057)\ttotal: 8m 21s\tremaining: 5m 41s\n",
      "1190:\tlearn: 0.7440486\ttest: 0.7284200\tbest: 0.7286667 (1057)\ttotal: 8m 22s\tremaining: 5m 41s\n",
      "1191:\tlearn: 0.7441000\ttest: 0.7284333\tbest: 0.7286667 (1057)\ttotal: 8m 22s\tremaining: 5m 40s\n",
      "1192:\tlearn: 0.7440686\ttest: 0.7284133\tbest: 0.7286667 (1057)\ttotal: 8m 23s\tremaining: 5m 40s\n",
      "1193:\tlearn: 0.7441057\ttest: 0.7284067\tbest: 0.7286667 (1057)\ttotal: 8m 23s\tremaining: 5m 39s\n",
      "1194:\tlearn: 0.7441343\ttest: 0.7284200\tbest: 0.7286667 (1057)\ttotal: 8m 23s\tremaining: 5m 39s\n",
      "1195:\tlearn: 0.7441543\ttest: 0.7284600\tbest: 0.7286667 (1057)\ttotal: 8m 24s\tremaining: 5m 38s\n",
      "1196:\tlearn: 0.7441714\ttest: 0.7284733\tbest: 0.7286667 (1057)\ttotal: 8m 24s\tremaining: 5m 38s\n",
      "1197:\tlearn: 0.7442029\ttest: 0.7285800\tbest: 0.7286667 (1057)\ttotal: 8m 25s\tremaining: 5m 38s\n",
      "1198:\tlearn: 0.7442171\ttest: 0.7285533\tbest: 0.7286667 (1057)\ttotal: 8m 25s\tremaining: 5m 37s\n",
      "1199:\tlearn: 0.7442429\ttest: 0.7285067\tbest: 0.7286667 (1057)\ttotal: 8m 25s\tremaining: 5m 37s\n",
      "1200:\tlearn: 0.7442543\ttest: 0.7285067\tbest: 0.7286667 (1057)\ttotal: 8m 26s\tremaining: 5m 36s\n",
      "1201:\tlearn: 0.7442400\ttest: 0.7285600\tbest: 0.7286667 (1057)\ttotal: 8m 26s\tremaining: 5m 36s\n",
      "1202:\tlearn: 0.7442343\ttest: 0.7286200\tbest: 0.7286667 (1057)\ttotal: 8m 27s\tremaining: 5m 35s\n",
      "1203:\tlearn: 0.7442543\ttest: 0.7285933\tbest: 0.7286667 (1057)\ttotal: 8m 27s\tremaining: 5m 35s\n",
      "1204:\tlearn: 0.7442314\ttest: 0.7286133\tbest: 0.7286667 (1057)\ttotal: 8m 27s\tremaining: 5m 35s\n",
      "1205:\tlearn: 0.7442829\ttest: 0.7285933\tbest: 0.7286667 (1057)\ttotal: 8m 28s\tremaining: 5m 34s\n",
      "1206:\tlearn: 0.7442600\ttest: 0.7285800\tbest: 0.7286667 (1057)\ttotal: 8m 28s\tremaining: 5m 34s\n",
      "1207:\tlearn: 0.7442743\ttest: 0.7285667\tbest: 0.7286667 (1057)\ttotal: 8m 29s\tremaining: 5m 33s\n",
      "1208:\tlearn: 0.7442714\ttest: 0.7285000\tbest: 0.7286667 (1057)\ttotal: 8m 29s\tremaining: 5m 33s\n",
      "1209:\tlearn: 0.7443171\ttest: 0.7285400\tbest: 0.7286667 (1057)\ttotal: 8m 30s\tremaining: 5m 33s\n",
      "1210:\tlearn: 0.7443200\ttest: 0.7285267\tbest: 0.7286667 (1057)\ttotal: 8m 30s\tremaining: 5m 32s\n",
      "1211:\tlearn: 0.7443514\ttest: 0.7284733\tbest: 0.7286667 (1057)\ttotal: 8m 30s\tremaining: 5m 32s\n",
      "1212:\tlearn: 0.7443429\ttest: 0.7285067\tbest: 0.7286667 (1057)\ttotal: 8m 31s\tremaining: 5m 31s\n",
      "1213:\tlearn: 0.7443257\ttest: 0.7285000\tbest: 0.7286667 (1057)\ttotal: 8m 31s\tremaining: 5m 31s\n",
      "1214:\tlearn: 0.7443543\ttest: 0.7284733\tbest: 0.7286667 (1057)\ttotal: 8m 32s\tremaining: 5m 30s\n",
      "1215:\tlearn: 0.7443829\ttest: 0.7285333\tbest: 0.7286667 (1057)\ttotal: 8m 32s\tremaining: 5m 30s\n",
      "1216:\tlearn: 0.7443657\ttest: 0.7285600\tbest: 0.7286667 (1057)\ttotal: 8m 33s\tremaining: 5m 30s\n",
      "1217:\tlearn: 0.7443629\ttest: 0.7285467\tbest: 0.7286667 (1057)\ttotal: 8m 33s\tremaining: 5m 29s\n",
      "1218:\tlearn: 0.7443600\ttest: 0.7285733\tbest: 0.7286667 (1057)\ttotal: 8m 33s\tremaining: 5m 29s\n",
      "1219:\tlearn: 0.7443743\ttest: 0.7286400\tbest: 0.7286667 (1057)\ttotal: 8m 34s\tremaining: 5m 28s\n",
      "1220:\tlearn: 0.7444229\ttest: 0.7286933\tbest: 0.7286933 (1220)\ttotal: 8m 34s\tremaining: 5m 28s\n",
      "1221:\tlearn: 0.7444486\ttest: 0.7286533\tbest: 0.7286933 (1220)\ttotal: 8m 35s\tremaining: 5m 27s\n",
      "1222:\tlearn: 0.7444543\ttest: 0.7286467\tbest: 0.7286933 (1220)\ttotal: 8m 35s\tremaining: 5m 27s\n",
      "1223:\tlearn: 0.7444686\ttest: 0.7286200\tbest: 0.7286933 (1220)\ttotal: 8m 35s\tremaining: 5m 27s\n",
      "1224:\tlearn: 0.7445000\ttest: 0.7285867\tbest: 0.7286933 (1220)\ttotal: 8m 36s\tremaining: 5m 26s\n",
      "1225:\tlearn: 0.7444971\ttest: 0.7286067\tbest: 0.7286933 (1220)\ttotal: 8m 36s\tremaining: 5m 26s\n",
      "1226:\tlearn: 0.7445429\ttest: 0.7286333\tbest: 0.7286933 (1220)\ttotal: 8m 37s\tremaining: 5m 25s\n",
      "1227:\tlearn: 0.7445429\ttest: 0.7286000\tbest: 0.7286933 (1220)\ttotal: 8m 37s\tremaining: 5m 25s\n",
      "1228:\tlearn: 0.7445429\ttest: 0.7285533\tbest: 0.7286933 (1220)\ttotal: 8m 38s\tremaining: 5m 24s\n",
      "1229:\tlearn: 0.7445571\ttest: 0.7285600\tbest: 0.7286933 (1220)\ttotal: 8m 38s\tremaining: 5m 24s\n",
      "1230:\tlearn: 0.7445400\ttest: 0.7286067\tbest: 0.7286933 (1220)\ttotal: 8m 38s\tremaining: 5m 24s\n",
      "1231:\tlearn: 0.7445886\ttest: 0.7286667\tbest: 0.7286933 (1220)\ttotal: 8m 39s\tremaining: 5m 23s\n",
      "1232:\tlearn: 0.7445829\ttest: 0.7286867\tbest: 0.7286933 (1220)\ttotal: 8m 39s\tremaining: 5m 23s\n",
      "1233:\tlearn: 0.7445771\ttest: 0.7286800\tbest: 0.7286933 (1220)\ttotal: 8m 40s\tremaining: 5m 22s\n",
      "1234:\tlearn: 0.7446257\ttest: 0.7286600\tbest: 0.7286933 (1220)\ttotal: 8m 40s\tremaining: 5m 22s\n",
      "1235:\tlearn: 0.7446114\ttest: 0.7286000\tbest: 0.7286933 (1220)\ttotal: 8m 41s\tremaining: 5m 22s\n",
      "1236:\tlearn: 0.7446171\ttest: 0.7285867\tbest: 0.7286933 (1220)\ttotal: 8m 41s\tremaining: 5m 21s\n",
      "1237:\tlearn: 0.7446286\ttest: 0.7286067\tbest: 0.7286933 (1220)\ttotal: 8m 42s\tremaining: 5m 21s\n",
      "1238:\tlearn: 0.7446486\ttest: 0.7286067\tbest: 0.7286933 (1220)\ttotal: 8m 42s\tremaining: 5m 20s\n",
      "1239:\tlearn: 0.7446571\ttest: 0.7286000\tbest: 0.7286933 (1220)\ttotal: 8m 42s\tremaining: 5m 20s\n",
      "1240:\tlearn: 0.7446886\ttest: 0.7285867\tbest: 0.7286933 (1220)\ttotal: 8m 43s\tremaining: 5m 20s\n",
      "1241:\tlearn: 0.7447686\ttest: 0.7285467\tbest: 0.7286933 (1220)\ttotal: 8m 43s\tremaining: 5m 19s\n",
      "1242:\tlearn: 0.7447600\ttest: 0.7285733\tbest: 0.7286933 (1220)\ttotal: 8m 44s\tremaining: 5m 19s\n",
      "1243:\tlearn: 0.7447714\ttest: 0.7286000\tbest: 0.7286933 (1220)\ttotal: 8m 44s\tremaining: 5m 18s\n",
      "1244:\tlearn: 0.7448200\ttest: 0.7285800\tbest: 0.7286933 (1220)\ttotal: 8m 45s\tremaining: 5m 18s\n",
      "1245:\tlearn: 0.7448600\ttest: 0.7285467\tbest: 0.7286933 (1220)\ttotal: 8m 45s\tremaining: 5m 18s\n",
      "1246:\tlearn: 0.7448600\ttest: 0.7285600\tbest: 0.7286933 (1220)\ttotal: 8m 46s\tremaining: 5m 17s\n",
      "1247:\tlearn: 0.7448743\ttest: 0.7285400\tbest: 0.7286933 (1220)\ttotal: 8m 46s\tremaining: 5m 17s\n",
      "1248:\tlearn: 0.7448400\ttest: 0.7285333\tbest: 0.7286933 (1220)\ttotal: 8m 47s\tremaining: 5m 16s\n",
      "1249:\tlearn: 0.7448943\ttest: 0.7285333\tbest: 0.7286933 (1220)\ttotal: 8m 47s\tremaining: 5m 16s\n",
      "1250:\tlearn: 0.7448600\ttest: 0.7285333\tbest: 0.7286933 (1220)\ttotal: 8m 47s\tremaining: 5m 16s\n",
      "1251:\tlearn: 0.7448571\ttest: 0.7285600\tbest: 0.7286933 (1220)\ttotal: 8m 48s\tremaining: 5m 15s\n",
      "1252:\tlearn: 0.7448800\ttest: 0.7285267\tbest: 0.7286933 (1220)\ttotal: 8m 48s\tremaining: 5m 15s\n"
     ]
    },
    {
     "name": "stdout",
     "output_type": "stream",
     "text": [
      "1253:\tlearn: 0.7448800\ttest: 0.7285400\tbest: 0.7286933 (1220)\ttotal: 8m 49s\tremaining: 5m 14s\n",
      "1254:\tlearn: 0.7449114\ttest: 0.7284600\tbest: 0.7286933 (1220)\ttotal: 8m 49s\tremaining: 5m 14s\n",
      "1255:\tlearn: 0.7449057\ttest: 0.7284867\tbest: 0.7286933 (1220)\ttotal: 8m 50s\tremaining: 5m 13s\n",
      "1256:\tlearn: 0.7448771\ttest: 0.7284933\tbest: 0.7286933 (1220)\ttotal: 8m 50s\tremaining: 5m 13s\n",
      "1257:\tlearn: 0.7449000\ttest: 0.7285533\tbest: 0.7286933 (1220)\ttotal: 8m 50s\tremaining: 5m 13s\n",
      "1258:\tlearn: 0.7449057\ttest: 0.7285800\tbest: 0.7286933 (1220)\ttotal: 8m 51s\tremaining: 5m 12s\n",
      "1259:\tlearn: 0.7449314\ttest: 0.7285533\tbest: 0.7286933 (1220)\ttotal: 8m 51s\tremaining: 5m 12s\n",
      "1260:\tlearn: 0.7449429\ttest: 0.7285400\tbest: 0.7286933 (1220)\ttotal: 8m 52s\tremaining: 5m 11s\n",
      "1261:\tlearn: 0.7449629\ttest: 0.7285600\tbest: 0.7286933 (1220)\ttotal: 8m 52s\tremaining: 5m 11s\n",
      "1262:\tlearn: 0.7449486\ttest: 0.7285467\tbest: 0.7286933 (1220)\ttotal: 8m 52s\tremaining: 5m 11s\n",
      "1263:\tlearn: 0.7449800\ttest: 0.7284800\tbest: 0.7286933 (1220)\ttotal: 8m 53s\tremaining: 5m 10s\n",
      "1264:\tlearn: 0.7449886\ttest: 0.7285000\tbest: 0.7286933 (1220)\ttotal: 8m 53s\tremaining: 5m 10s\n",
      "1265:\tlearn: 0.7450114\ttest: 0.7285067\tbest: 0.7286933 (1220)\ttotal: 8m 54s\tremaining: 5m 9s\n",
      "1266:\tlearn: 0.7450000\ttest: 0.7284600\tbest: 0.7286933 (1220)\ttotal: 8m 54s\tremaining: 5m 9s\n",
      "1267:\tlearn: 0.7450229\ttest: 0.7284667\tbest: 0.7286933 (1220)\ttotal: 8m 55s\tremaining: 5m 8s\n",
      "1268:\tlearn: 0.7450143\ttest: 0.7285533\tbest: 0.7286933 (1220)\ttotal: 8m 55s\tremaining: 5m 8s\n",
      "1269:\tlearn: 0.7450200\ttest: 0.7285600\tbest: 0.7286933 (1220)\ttotal: 8m 55s\tremaining: 5m 8s\n",
      "1270:\tlearn: 0.7450857\ttest: 0.7285000\tbest: 0.7286933 (1220)\ttotal: 8m 56s\tremaining: 5m 7s\n",
      "1271:\tlearn: 0.7451171\ttest: 0.7285400\tbest: 0.7286933 (1220)\ttotal: 8m 56s\tremaining: 5m 7s\n",
      "1272:\tlearn: 0.7451286\ttest: 0.7285467\tbest: 0.7286933 (1220)\ttotal: 8m 57s\tremaining: 5m 6s\n",
      "1273:\tlearn: 0.7451314\ttest: 0.7285867\tbest: 0.7286933 (1220)\ttotal: 8m 57s\tremaining: 5m 6s\n",
      "1274:\tlearn: 0.7451571\ttest: 0.7285800\tbest: 0.7286933 (1220)\ttotal: 8m 57s\tremaining: 5m 5s\n",
      "1275:\tlearn: 0.7451629\ttest: 0.7285400\tbest: 0.7286933 (1220)\ttotal: 8m 58s\tremaining: 5m 5s\n",
      "1276:\tlearn: 0.7451629\ttest: 0.7285533\tbest: 0.7286933 (1220)\ttotal: 8m 58s\tremaining: 5m 5s\n",
      "1277:\tlearn: 0.7451800\ttest: 0.7286000\tbest: 0.7286933 (1220)\ttotal: 8m 59s\tremaining: 5m 4s\n",
      "1278:\tlearn: 0.7452371\ttest: 0.7285467\tbest: 0.7286933 (1220)\ttotal: 8m 59s\tremaining: 5m 4s\n",
      "1279:\tlearn: 0.7452657\ttest: 0.7285467\tbest: 0.7286933 (1220)\ttotal: 9m\tremaining: 5m 3s\n",
      "1280:\tlearn: 0.7453029\ttest: 0.7285867\tbest: 0.7286933 (1220)\ttotal: 9m\tremaining: 5m 3s\n",
      "1281:\tlearn: 0.7453257\ttest: 0.7285800\tbest: 0.7286933 (1220)\ttotal: 9m 1s\tremaining: 5m 3s\n",
      "1282:\tlearn: 0.7453429\ttest: 0.7285533\tbest: 0.7286933 (1220)\ttotal: 9m 1s\tremaining: 5m 2s\n",
      "1283:\tlearn: 0.7453829\ttest: 0.7285867\tbest: 0.7286933 (1220)\ttotal: 9m 1s\tremaining: 5m 2s\n",
      "1284:\tlearn: 0.7454000\ttest: 0.7285667\tbest: 0.7286933 (1220)\ttotal: 9m 2s\tremaining: 5m 1s\n",
      "1285:\tlearn: 0.7453800\ttest: 0.7286000\tbest: 0.7286933 (1220)\ttotal: 9m 2s\tremaining: 5m 1s\n",
      "1286:\tlearn: 0.7454029\ttest: 0.7286000\tbest: 0.7286933 (1220)\ttotal: 9m 3s\tremaining: 5m\n",
      "1287:\tlearn: 0.7454086\ttest: 0.7286000\tbest: 0.7286933 (1220)\ttotal: 9m 3s\tremaining: 5m\n",
      "1288:\tlearn: 0.7454400\ttest: 0.7286267\tbest: 0.7286933 (1220)\ttotal: 9m 4s\tremaining: 5m\n",
      "1289:\tlearn: 0.7454400\ttest: 0.7286000\tbest: 0.7286933 (1220)\ttotal: 9m 4s\tremaining: 4m 59s\n",
      "1290:\tlearn: 0.7454514\ttest: 0.7285800\tbest: 0.7286933 (1220)\ttotal: 9m 4s\tremaining: 4m 59s\n",
      "1291:\tlearn: 0.7454229\ttest: 0.7285867\tbest: 0.7286933 (1220)\ttotal: 9m 5s\tremaining: 4m 58s\n",
      "1292:\tlearn: 0.7454429\ttest: 0.7286200\tbest: 0.7286933 (1220)\ttotal: 9m 5s\tremaining: 4m 58s\n",
      "1293:\tlearn: 0.7454629\ttest: 0.7286733\tbest: 0.7286933 (1220)\ttotal: 9m 6s\tremaining: 4m 57s\n",
      "1294:\tlearn: 0.7454714\ttest: 0.7287133\tbest: 0.7287133 (1294)\ttotal: 9m 6s\tremaining: 4m 57s\n",
      "1295:\tlearn: 0.7454943\ttest: 0.7287000\tbest: 0.7287133 (1294)\ttotal: 9m 7s\tremaining: 4m 57s\n",
      "1296:\tlearn: 0.7455314\ttest: 0.7287133\tbest: 0.7287133 (1294)\ttotal: 9m 7s\tremaining: 4m 56s\n",
      "1297:\tlearn: 0.7455571\ttest: 0.7286600\tbest: 0.7287133 (1294)\ttotal: 9m 7s\tremaining: 4m 56s\n",
      "1298:\tlearn: 0.7455629\ttest: 0.7287400\tbest: 0.7287400 (1298)\ttotal: 9m 8s\tremaining: 4m 55s\n",
      "1299:\tlearn: 0.7455943\ttest: 0.7287067\tbest: 0.7287400 (1298)\ttotal: 9m 8s\tremaining: 4m 55s\n",
      "1300:\tlearn: 0.7456029\ttest: 0.7287067\tbest: 0.7287400 (1298)\ttotal: 9m 9s\tremaining: 4m 55s\n",
      "1301:\tlearn: 0.7456200\ttest: 0.7287000\tbest: 0.7287400 (1298)\ttotal: 9m 9s\tremaining: 4m 54s\n",
      "1302:\tlearn: 0.7456143\ttest: 0.7286600\tbest: 0.7287400 (1298)\ttotal: 9m 9s\tremaining: 4m 54s\n",
      "1303:\tlearn: 0.7456657\ttest: 0.7286667\tbest: 0.7287400 (1298)\ttotal: 9m 10s\tremaining: 4m 53s\n",
      "1304:\tlearn: 0.7457057\ttest: 0.7287067\tbest: 0.7287400 (1298)\ttotal: 9m 10s\tremaining: 4m 53s\n",
      "1305:\tlearn: 0.7457057\ttest: 0.7286933\tbest: 0.7287400 (1298)\ttotal: 9m 11s\tremaining: 4m 52s\n",
      "1306:\tlearn: 0.7457143\ttest: 0.7286933\tbest: 0.7287400 (1298)\ttotal: 9m 11s\tremaining: 4m 52s\n",
      "1307:\tlearn: 0.7457400\ttest: 0.7287400\tbest: 0.7287400 (1298)\ttotal: 9m 12s\tremaining: 4m 52s\n",
      "1308:\tlearn: 0.7457057\ttest: 0.7286733\tbest: 0.7287400 (1298)\ttotal: 9m 12s\tremaining: 4m 51s\n",
      "1309:\tlearn: 0.7457229\ttest: 0.7287533\tbest: 0.7287533 (1309)\ttotal: 9m 12s\tremaining: 4m 51s\n",
      "1310:\tlearn: 0.7457971\ttest: 0.7287667\tbest: 0.7287667 (1310)\ttotal: 9m 13s\tremaining: 4m 50s\n",
      "1311:\tlearn: 0.7458114\ttest: 0.7287867\tbest: 0.7287867 (1311)\ttotal: 9m 13s\tremaining: 4m 50s\n",
      "1312:\tlearn: 0.7458200\ttest: 0.7287667\tbest: 0.7287867 (1311)\ttotal: 9m 14s\tremaining: 4m 49s\n",
      "1313:\tlearn: 0.7458486\ttest: 0.7287467\tbest: 0.7287867 (1311)\ttotal: 9m 14s\tremaining: 4m 49s\n",
      "1314:\tlearn: 0.7459229\ttest: 0.7287333\tbest: 0.7287867 (1311)\ttotal: 9m 15s\tremaining: 4m 49s\n",
      "1315:\tlearn: 0.7459229\ttest: 0.7287200\tbest: 0.7287867 (1311)\ttotal: 9m 15s\tremaining: 4m 48s\n",
      "1316:\tlearn: 0.7459486\ttest: 0.7286800\tbest: 0.7287867 (1311)\ttotal: 9m 15s\tremaining: 4m 48s\n",
      "1317:\tlearn: 0.7459857\ttest: 0.7285933\tbest: 0.7287867 (1311)\ttotal: 9m 16s\tremaining: 4m 47s\n",
      "1318:\tlearn: 0.7459686\ttest: 0.7286267\tbest: 0.7287867 (1311)\ttotal: 9m 16s\tremaining: 4m 47s\n",
      "1319:\tlearn: 0.7459829\ttest: 0.7286267\tbest: 0.7287867 (1311)\ttotal: 9m 17s\tremaining: 4m 47s\n",
      "1320:\tlearn: 0.7460029\ttest: 0.7286067\tbest: 0.7287867 (1311)\ttotal: 9m 17s\tremaining: 4m 46s\n",
      "1321:\tlearn: 0.7460514\ttest: 0.7286333\tbest: 0.7287867 (1311)\ttotal: 9m 18s\tremaining: 4m 46s\n",
      "1322:\tlearn: 0.7460400\ttest: 0.7286067\tbest: 0.7287867 (1311)\ttotal: 9m 18s\tremaining: 4m 45s\n",
      "1323:\tlearn: 0.7460314\ttest: 0.7286400\tbest: 0.7287867 (1311)\ttotal: 9m 19s\tremaining: 4m 45s\n",
      "1324:\tlearn: 0.7460314\ttest: 0.7285667\tbest: 0.7287867 (1311)\ttotal: 9m 19s\tremaining: 4m 45s\n",
      "1325:\tlearn: 0.7460086\ttest: 0.7285533\tbest: 0.7287867 (1311)\ttotal: 9m 19s\tremaining: 4m 44s\n",
      "1326:\tlearn: 0.7460543\ttest: 0.7284933\tbest: 0.7287867 (1311)\ttotal: 9m 20s\tremaining: 4m 44s\n",
      "1327:\tlearn: 0.7460571\ttest: 0.7285267\tbest: 0.7287867 (1311)\ttotal: 9m 20s\tremaining: 4m 43s\n",
      "1328:\tlearn: 0.7460400\ttest: 0.7285400\tbest: 0.7287867 (1311)\ttotal: 9m 21s\tremaining: 4m 43s\n",
      "1329:\tlearn: 0.7460429\ttest: 0.7284933\tbest: 0.7287867 (1311)\ttotal: 9m 21s\tremaining: 4m 42s\n",
      "1330:\tlearn: 0.7460371\ttest: 0.7285000\tbest: 0.7287867 (1311)\ttotal: 9m 21s\tremaining: 4m 42s\n",
      "1331:\tlearn: 0.7460600\ttest: 0.7284867\tbest: 0.7287867 (1311)\ttotal: 9m 22s\tremaining: 4m 42s\n",
      "1332:\tlearn: 0.7460686\ttest: 0.7285067\tbest: 0.7287867 (1311)\ttotal: 9m 22s\tremaining: 4m 41s\n",
      "1333:\tlearn: 0.7460714\ttest: 0.7285333\tbest: 0.7287867 (1311)\ttotal: 9m 23s\tremaining: 4m 41s\n",
      "1334:\tlearn: 0.7460829\ttest: 0.7284933\tbest: 0.7287867 (1311)\ttotal: 9m 23s\tremaining: 4m 40s\n",
      "1335:\tlearn: 0.7460629\ttest: 0.7284867\tbest: 0.7287867 (1311)\ttotal: 9m 24s\tremaining: 4m 40s\n",
      "1336:\tlearn: 0.7460914\ttest: 0.7285267\tbest: 0.7287867 (1311)\ttotal: 9m 24s\tremaining: 4m 39s\n",
      "1337:\tlearn: 0.7461171\ttest: 0.7285200\tbest: 0.7287867 (1311)\ttotal: 9m 24s\tremaining: 4m 39s\n",
      "1338:\tlearn: 0.7461429\ttest: 0.7285800\tbest: 0.7287867 (1311)\ttotal: 9m 25s\tremaining: 4m 39s\n",
      "1339:\tlearn: 0.7461686\ttest: 0.7286067\tbest: 0.7287867 (1311)\ttotal: 9m 25s\tremaining: 4m 38s\n",
      "1340:\tlearn: 0.7461857\ttest: 0.7285800\tbest: 0.7287867 (1311)\ttotal: 9m 26s\tremaining: 4m 38s\n"
     ]
    },
    {
     "name": "stdout",
     "output_type": "stream",
     "text": [
      "1341:\tlearn: 0.7461971\ttest: 0.7285933\tbest: 0.7287867 (1311)\ttotal: 9m 26s\tremaining: 4m 37s\n",
      "1342:\tlearn: 0.7462400\ttest: 0.7286133\tbest: 0.7287867 (1311)\ttotal: 9m 27s\tremaining: 4m 37s\n",
      "1343:\tlearn: 0.7462571\ttest: 0.7286533\tbest: 0.7287867 (1311)\ttotal: 9m 27s\tremaining: 4m 36s\n",
      "1344:\tlearn: 0.7462171\ttest: 0.7286000\tbest: 0.7287867 (1311)\ttotal: 9m 27s\tremaining: 4m 36s\n",
      "1345:\tlearn: 0.7462771\ttest: 0.7286133\tbest: 0.7287867 (1311)\ttotal: 9m 28s\tremaining: 4m 36s\n",
      "1346:\tlearn: 0.7462886\ttest: 0.7286200\tbest: 0.7287867 (1311)\ttotal: 9m 28s\tremaining: 4m 35s\n",
      "1347:\tlearn: 0.7462943\ttest: 0.7286467\tbest: 0.7287867 (1311)\ttotal: 9m 29s\tremaining: 4m 35s\n",
      "1348:\tlearn: 0.7463029\ttest: 0.7286267\tbest: 0.7287867 (1311)\ttotal: 9m 29s\tremaining: 4m 34s\n",
      "1349:\tlearn: 0.7463114\ttest: 0.7286333\tbest: 0.7287867 (1311)\ttotal: 9m 29s\tremaining: 4m 34s\n",
      "1350:\tlearn: 0.7463314\ttest: 0.7286333\tbest: 0.7287867 (1311)\ttotal: 9m 30s\tremaining: 4m 34s\n",
      "1351:\tlearn: 0.7463714\ttest: 0.7285867\tbest: 0.7287867 (1311)\ttotal: 9m 30s\tremaining: 4m 33s\n",
      "1352:\tlearn: 0.7463743\ttest: 0.7285933\tbest: 0.7287867 (1311)\ttotal: 9m 31s\tremaining: 4m 33s\n",
      "1353:\tlearn: 0.7463914\ttest: 0.7286067\tbest: 0.7287867 (1311)\ttotal: 9m 31s\tremaining: 4m 32s\n",
      "1354:\tlearn: 0.7463971\ttest: 0.7286600\tbest: 0.7287867 (1311)\ttotal: 9m 32s\tremaining: 4m 32s\n",
      "1355:\tlearn: 0.7464200\ttest: 0.7286400\tbest: 0.7287867 (1311)\ttotal: 9m 32s\tremaining: 4m 31s\n",
      "1356:\tlearn: 0.7464200\ttest: 0.7286733\tbest: 0.7287867 (1311)\ttotal: 9m 32s\tremaining: 4m 31s\n",
      "1357:\tlearn: 0.7464371\ttest: 0.7286467\tbest: 0.7287867 (1311)\ttotal: 9m 33s\tremaining: 4m 31s\n",
      "1358:\tlearn: 0.7464800\ttest: 0.7286867\tbest: 0.7287867 (1311)\ttotal: 9m 33s\tremaining: 4m 30s\n",
      "1359:\tlearn: 0.7464829\ttest: 0.7286400\tbest: 0.7287867 (1311)\ttotal: 9m 34s\tremaining: 4m 30s\n",
      "1360:\tlearn: 0.7464886\ttest: 0.7286200\tbest: 0.7287867 (1311)\ttotal: 9m 34s\tremaining: 4m 29s\n",
      "1361:\tlearn: 0.7464800\ttest: 0.7285933\tbest: 0.7287867 (1311)\ttotal: 9m 35s\tremaining: 4m 29s\n",
      "1362:\tlearn: 0.7464743\ttest: 0.7285867\tbest: 0.7287867 (1311)\ttotal: 9m 35s\tremaining: 4m 29s\n",
      "1363:\tlearn: 0.7464686\ttest: 0.7285333\tbest: 0.7287867 (1311)\ttotal: 9m 36s\tremaining: 4m 28s\n",
      "1364:\tlearn: 0.7464886\ttest: 0.7285267\tbest: 0.7287867 (1311)\ttotal: 9m 36s\tremaining: 4m 28s\n",
      "1365:\tlearn: 0.7464914\ttest: 0.7285600\tbest: 0.7287867 (1311)\ttotal: 9m 36s\tremaining: 4m 27s\n",
      "1366:\tlearn: 0.7464857\ttest: 0.7284933\tbest: 0.7287867 (1311)\ttotal: 9m 37s\tremaining: 4m 27s\n",
      "1367:\tlearn: 0.7465143\ttest: 0.7284733\tbest: 0.7287867 (1311)\ttotal: 9m 37s\tremaining: 4m 26s\n",
      "1368:\tlearn: 0.7465457\ttest: 0.7284867\tbest: 0.7287867 (1311)\ttotal: 9m 38s\tremaining: 4m 26s\n",
      "1369:\tlearn: 0.7465686\ttest: 0.7283800\tbest: 0.7287867 (1311)\ttotal: 9m 38s\tremaining: 4m 26s\n",
      "1370:\tlearn: 0.7465514\ttest: 0.7283933\tbest: 0.7287867 (1311)\ttotal: 9m 39s\tremaining: 4m 25s\n",
      "1371:\tlearn: 0.7465657\ttest: 0.7284467\tbest: 0.7287867 (1311)\ttotal: 9m 39s\tremaining: 4m 25s\n",
      "1372:\tlearn: 0.7465686\ttest: 0.7284267\tbest: 0.7287867 (1311)\ttotal: 9m 39s\tremaining: 4m 24s\n",
      "1373:\tlearn: 0.7465771\ttest: 0.7284333\tbest: 0.7287867 (1311)\ttotal: 9m 40s\tremaining: 4m 24s\n",
      "1374:\tlearn: 0.7466314\ttest: 0.7283533\tbest: 0.7287867 (1311)\ttotal: 9m 40s\tremaining: 4m 24s\n",
      "1375:\tlearn: 0.7466229\ttest: 0.7283600\tbest: 0.7287867 (1311)\ttotal: 9m 41s\tremaining: 4m 23s\n",
      "1376:\tlearn: 0.7466371\ttest: 0.7283667\tbest: 0.7287867 (1311)\ttotal: 9m 41s\tremaining: 4m 23s\n",
      "1377:\tlearn: 0.7466571\ttest: 0.7283733\tbest: 0.7287867 (1311)\ttotal: 9m 42s\tremaining: 4m 22s\n",
      "1378:\tlearn: 0.7466657\ttest: 0.7284200\tbest: 0.7287867 (1311)\ttotal: 9m 42s\tremaining: 4m 22s\n",
      "1379:\tlearn: 0.7466686\ttest: 0.7284467\tbest: 0.7287867 (1311)\ttotal: 9m 43s\tremaining: 4m 21s\n",
      "1380:\tlearn: 0.7466886\ttest: 0.7284600\tbest: 0.7287867 (1311)\ttotal: 9m 43s\tremaining: 4m 21s\n",
      "1381:\tlearn: 0.7467029\ttest: 0.7285400\tbest: 0.7287867 (1311)\ttotal: 9m 43s\tremaining: 4m 21s\n",
      "1382:\tlearn: 0.7466971\ttest: 0.7284133\tbest: 0.7287867 (1311)\ttotal: 9m 44s\tremaining: 4m 20s\n",
      "1383:\tlearn: 0.7467286\ttest: 0.7285533\tbest: 0.7287867 (1311)\ttotal: 9m 44s\tremaining: 4m 20s\n",
      "1384:\tlearn: 0.7467343\ttest: 0.7285200\tbest: 0.7287867 (1311)\ttotal: 9m 45s\tremaining: 4m 19s\n",
      "1385:\tlearn: 0.7467600\ttest: 0.7285133\tbest: 0.7287867 (1311)\ttotal: 9m 45s\tremaining: 4m 19s\n",
      "1386:\tlearn: 0.7468143\ttest: 0.7285467\tbest: 0.7287867 (1311)\ttotal: 9m 45s\tremaining: 4m 18s\n",
      "1387:\tlearn: 0.7468571\ttest: 0.7285267\tbest: 0.7287867 (1311)\ttotal: 9m 46s\tremaining: 4m 18s\n",
      "1388:\tlearn: 0.7468857\ttest: 0.7285067\tbest: 0.7287867 (1311)\ttotal: 9m 46s\tremaining: 4m 18s\n",
      "1389:\tlearn: 0.7469371\ttest: 0.7285133\tbest: 0.7287867 (1311)\ttotal: 9m 47s\tremaining: 4m 17s\n",
      "1390:\tlearn: 0.7470057\ttest: 0.7285467\tbest: 0.7287867 (1311)\ttotal: 9m 47s\tremaining: 4m 17s\n",
      "1391:\tlearn: 0.7470114\ttest: 0.7285333\tbest: 0.7287867 (1311)\ttotal: 9m 48s\tremaining: 4m 16s\n",
      "1392:\tlearn: 0.7470143\ttest: 0.7285067\tbest: 0.7287867 (1311)\ttotal: 9m 48s\tremaining: 4m 16s\n",
      "1393:\tlearn: 0.7470371\ttest: 0.7284533\tbest: 0.7287867 (1311)\ttotal: 9m 49s\tremaining: 4m 16s\n",
      "1394:\tlearn: 0.7470857\ttest: 0.7285133\tbest: 0.7287867 (1311)\ttotal: 9m 49s\tremaining: 4m 15s\n",
      "1395:\tlearn: 0.7470457\ttest: 0.7285467\tbest: 0.7287867 (1311)\ttotal: 9m 49s\tremaining: 4m 15s\n",
      "1396:\tlearn: 0.7470686\ttest: 0.7285600\tbest: 0.7287867 (1311)\ttotal: 9m 50s\tremaining: 4m 14s\n",
      "1397:\tlearn: 0.7470857\ttest: 0.7286067\tbest: 0.7287867 (1311)\ttotal: 9m 50s\tremaining: 4m 14s\n",
      "1398:\tlearn: 0.7470800\ttest: 0.7286533\tbest: 0.7287867 (1311)\ttotal: 9m 51s\tremaining: 4m 13s\n",
      "1399:\tlearn: 0.7471029\ttest: 0.7286200\tbest: 0.7287867 (1311)\ttotal: 9m 51s\tremaining: 4m 13s\n",
      "1400:\tlearn: 0.7471400\ttest: 0.7286133\tbest: 0.7287867 (1311)\ttotal: 9m 52s\tremaining: 4m 13s\n",
      "1401:\tlearn: 0.7471286\ttest: 0.7286067\tbest: 0.7287867 (1311)\ttotal: 9m 52s\tremaining: 4m 12s\n",
      "1402:\tlearn: 0.7471257\ttest: 0.7286600\tbest: 0.7287867 (1311)\ttotal: 9m 52s\tremaining: 4m 12s\n",
      "1403:\tlearn: 0.7471686\ttest: 0.7286800\tbest: 0.7287867 (1311)\ttotal: 9m 53s\tremaining: 4m 11s\n",
      "1404:\tlearn: 0.7471429\ttest: 0.7286867\tbest: 0.7287867 (1311)\ttotal: 9m 53s\tremaining: 4m 11s\n",
      "1405:\tlearn: 0.7471800\ttest: 0.7286667\tbest: 0.7287867 (1311)\ttotal: 9m 54s\tremaining: 4m 11s\n",
      "1406:\tlearn: 0.7471543\ttest: 0.7286667\tbest: 0.7287867 (1311)\ttotal: 9m 54s\tremaining: 4m 10s\n",
      "1407:\tlearn: 0.7472514\ttest: 0.7286333\tbest: 0.7287867 (1311)\ttotal: 9m 55s\tremaining: 4m 10s\n",
      "1408:\tlearn: 0.7472486\ttest: 0.7286400\tbest: 0.7287867 (1311)\ttotal: 9m 55s\tremaining: 4m 9s\n",
      "1409:\tlearn: 0.7472686\ttest: 0.7286733\tbest: 0.7287867 (1311)\ttotal: 9m 55s\tremaining: 4m 9s\n",
      "1410:\tlearn: 0.7472571\ttest: 0.7286600\tbest: 0.7287867 (1311)\ttotal: 9m 56s\tremaining: 4m 8s\n",
      "1411:\tlearn: 0.7472771\ttest: 0.7286467\tbest: 0.7287867 (1311)\ttotal: 9m 56s\tremaining: 4m 8s\n",
      "1412:\tlearn: 0.7472829\ttest: 0.7286533\tbest: 0.7287867 (1311)\ttotal: 9m 57s\tremaining: 4m 8s\n",
      "1413:\tlearn: 0.7473286\ttest: 0.7285800\tbest: 0.7287867 (1311)\ttotal: 9m 57s\tremaining: 4m 7s\n",
      "1414:\tlearn: 0.7473286\ttest: 0.7286000\tbest: 0.7287867 (1311)\ttotal: 9m 58s\tremaining: 4m 7s\n",
      "1415:\tlearn: 0.7472943\ttest: 0.7286333\tbest: 0.7287867 (1311)\ttotal: 9m 58s\tremaining: 4m 6s\n",
      "1416:\tlearn: 0.7472943\ttest: 0.7286000\tbest: 0.7287867 (1311)\ttotal: 9m 58s\tremaining: 4m 6s\n",
      "1417:\tlearn: 0.7472829\ttest: 0.7286200\tbest: 0.7287867 (1311)\ttotal: 9m 59s\tremaining: 4m 6s\n",
      "1418:\tlearn: 0.7472743\ttest: 0.7286400\tbest: 0.7287867 (1311)\ttotal: 9m 59s\tremaining: 4m 5s\n",
      "1419:\tlearn: 0.7472800\ttest: 0.7286067\tbest: 0.7287867 (1311)\ttotal: 10m\tremaining: 4m 5s\n",
      "1420:\tlearn: 0.7472743\ttest: 0.7285667\tbest: 0.7287867 (1311)\ttotal: 10m\tremaining: 4m 4s\n",
      "1421:\tlearn: 0.7473543\ttest: 0.7285667\tbest: 0.7287867 (1311)\ttotal: 10m 1s\tremaining: 4m 4s\n",
      "1422:\tlearn: 0.7473343\ttest: 0.7285400\tbest: 0.7287867 (1311)\ttotal: 10m 1s\tremaining: 4m 3s\n",
      "1423:\tlearn: 0.7473000\ttest: 0.7285667\tbest: 0.7287867 (1311)\ttotal: 10m 2s\tremaining: 4m 3s\n",
      "1424:\tlearn: 0.7473114\ttest: 0.7285600\tbest: 0.7287867 (1311)\ttotal: 10m 2s\tremaining: 4m 3s\n",
      "1425:\tlearn: 0.7473371\ttest: 0.7285533\tbest: 0.7287867 (1311)\ttotal: 10m 2s\tremaining: 4m 2s\n",
      "1426:\tlearn: 0.7473686\ttest: 0.7285200\tbest: 0.7287867 (1311)\ttotal: 10m 3s\tremaining: 4m 2s\n",
      "1427:\tlearn: 0.7473914\ttest: 0.7285800\tbest: 0.7287867 (1311)\ttotal: 10m 3s\tremaining: 4m 1s\n",
      "1428:\tlearn: 0.7474657\ttest: 0.7285467\tbest: 0.7287867 (1311)\ttotal: 10m 4s\tremaining: 4m 1s\n"
     ]
    },
    {
     "name": "stdout",
     "output_type": "stream",
     "text": [
      "1429:\tlearn: 0.7474857\ttest: 0.7285800\tbest: 0.7287867 (1311)\ttotal: 10m 4s\tremaining: 4m\n",
      "1430:\tlearn: 0.7474971\ttest: 0.7285933\tbest: 0.7287867 (1311)\ttotal: 10m 4s\tremaining: 4m\n",
      "1431:\tlearn: 0.7474971\ttest: 0.7285933\tbest: 0.7287867 (1311)\ttotal: 10m 5s\tremaining: 4m\n",
      "1432:\tlearn: 0.7474914\ttest: 0.7286067\tbest: 0.7287867 (1311)\ttotal: 10m 5s\tremaining: 3m 59s\n",
      "1433:\tlearn: 0.7475257\ttest: 0.7286200\tbest: 0.7287867 (1311)\ttotal: 10m 6s\tremaining: 3m 59s\n",
      "1434:\tlearn: 0.7475171\ttest: 0.7286200\tbest: 0.7287867 (1311)\ttotal: 10m 6s\tremaining: 3m 58s\n",
      "1435:\tlearn: 0.7475571\ttest: 0.7285667\tbest: 0.7287867 (1311)\ttotal: 10m 7s\tremaining: 3m 58s\n",
      "1436:\tlearn: 0.7475657\ttest: 0.7285600\tbest: 0.7287867 (1311)\ttotal: 10m 7s\tremaining: 3m 58s\n",
      "1437:\tlearn: 0.7475171\ttest: 0.7285267\tbest: 0.7287867 (1311)\ttotal: 10m 7s\tremaining: 3m 57s\n",
      "1438:\tlearn: 0.7475200\ttest: 0.7285800\tbest: 0.7287867 (1311)\ttotal: 10m 8s\tremaining: 3m 57s\n",
      "1439:\tlearn: 0.7475286\ttest: 0.7286400\tbest: 0.7287867 (1311)\ttotal: 10m 8s\tremaining: 3m 56s\n",
      "1440:\tlearn: 0.7475200\ttest: 0.7286267\tbest: 0.7287867 (1311)\ttotal: 10m 9s\tremaining: 3m 56s\n",
      "1441:\tlearn: 0.7475371\ttest: 0.7286400\tbest: 0.7287867 (1311)\ttotal: 10m 9s\tremaining: 3m 55s\n",
      "1442:\tlearn: 0.7475629\ttest: 0.7286000\tbest: 0.7287867 (1311)\ttotal: 10m 10s\tremaining: 3m 55s\n",
      "1443:\tlearn: 0.7475629\ttest: 0.7285667\tbest: 0.7287867 (1311)\ttotal: 10m 10s\tremaining: 3m 55s\n",
      "1444:\tlearn: 0.7475857\ttest: 0.7286333\tbest: 0.7287867 (1311)\ttotal: 10m 10s\tremaining: 3m 54s\n",
      "1445:\tlearn: 0.7476143\ttest: 0.7286400\tbest: 0.7287867 (1311)\ttotal: 10m 11s\tremaining: 3m 54s\n",
      "1446:\tlearn: 0.7475971\ttest: 0.7286467\tbest: 0.7287867 (1311)\ttotal: 10m 11s\tremaining: 3m 53s\n",
      "1447:\tlearn: 0.7476171\ttest: 0.7285800\tbest: 0.7287867 (1311)\ttotal: 10m 12s\tremaining: 3m 53s\n",
      "1448:\tlearn: 0.7476257\ttest: 0.7286000\tbest: 0.7287867 (1311)\ttotal: 10m 12s\tremaining: 3m 52s\n",
      "1449:\tlearn: 0.7476971\ttest: 0.7285467\tbest: 0.7287867 (1311)\ttotal: 10m 13s\tremaining: 3m 52s\n",
      "1450:\tlearn: 0.7476971\ttest: 0.7286000\tbest: 0.7287867 (1311)\ttotal: 10m 13s\tremaining: 3m 52s\n",
      "1451:\tlearn: 0.7476714\ttest: 0.7286333\tbest: 0.7287867 (1311)\ttotal: 10m 13s\tremaining: 3m 51s\n",
      "1452:\tlearn: 0.7476600\ttest: 0.7286133\tbest: 0.7287867 (1311)\ttotal: 10m 14s\tremaining: 3m 51s\n",
      "1453:\tlearn: 0.7476743\ttest: 0.7286000\tbest: 0.7287867 (1311)\ttotal: 10m 14s\tremaining: 3m 50s\n",
      "1454:\tlearn: 0.7477057\ttest: 0.7285800\tbest: 0.7287867 (1311)\ttotal: 10m 15s\tremaining: 3m 50s\n",
      "1455:\tlearn: 0.7476771\ttest: 0.7286200\tbest: 0.7287867 (1311)\ttotal: 10m 15s\tremaining: 3m 50s\n",
      "1456:\tlearn: 0.7477143\ttest: 0.7285667\tbest: 0.7287867 (1311)\ttotal: 10m 16s\tremaining: 3m 49s\n",
      "1457:\tlearn: 0.7477200\ttest: 0.7285267\tbest: 0.7287867 (1311)\ttotal: 10m 16s\tremaining: 3m 49s\n",
      "1458:\tlearn: 0.7477543\ttest: 0.7285000\tbest: 0.7287867 (1311)\ttotal: 10m 16s\tremaining: 3m 48s\n",
      "1459:\tlearn: 0.7477057\ttest: 0.7286467\tbest: 0.7287867 (1311)\ttotal: 10m 17s\tremaining: 3m 48s\n",
      "1460:\tlearn: 0.7477343\ttest: 0.7286067\tbest: 0.7287867 (1311)\ttotal: 10m 17s\tremaining: 3m 47s\n",
      "1461:\tlearn: 0.7477400\ttest: 0.7286333\tbest: 0.7287867 (1311)\ttotal: 10m 18s\tremaining: 3m 47s\n",
      "1462:\tlearn: 0.7477743\ttest: 0.7286200\tbest: 0.7287867 (1311)\ttotal: 10m 18s\tremaining: 3m 47s\n",
      "1463:\tlearn: 0.7477800\ttest: 0.7286000\tbest: 0.7287867 (1311)\ttotal: 10m 19s\tremaining: 3m 46s\n",
      "1464:\tlearn: 0.7478229\ttest: 0.7286400\tbest: 0.7287867 (1311)\ttotal: 10m 19s\tremaining: 3m 46s\n",
      "1465:\tlearn: 0.7478286\ttest: 0.7285933\tbest: 0.7287867 (1311)\ttotal: 10m 20s\tremaining: 3m 45s\n",
      "1466:\tlearn: 0.7478200\ttest: 0.7285800\tbest: 0.7287867 (1311)\ttotal: 10m 20s\tremaining: 3m 45s\n",
      "1467:\tlearn: 0.7478686\ttest: 0.7285467\tbest: 0.7287867 (1311)\ttotal: 10m 20s\tremaining: 3m 45s\n",
      "1468:\tlearn: 0.7478971\ttest: 0.7285933\tbest: 0.7287867 (1311)\ttotal: 10m 21s\tremaining: 3m 44s\n",
      "1469:\tlearn: 0.7479371\ttest: 0.7285533\tbest: 0.7287867 (1311)\ttotal: 10m 21s\tremaining: 3m 44s\n",
      "1470:\tlearn: 0.7479057\ttest: 0.7285800\tbest: 0.7287867 (1311)\ttotal: 10m 22s\tremaining: 3m 43s\n",
      "1471:\tlearn: 0.7479514\ttest: 0.7285733\tbest: 0.7287867 (1311)\ttotal: 10m 22s\tremaining: 3m 43s\n",
      "1472:\tlearn: 0.7479514\ttest: 0.7286333\tbest: 0.7287867 (1311)\ttotal: 10m 23s\tremaining: 3m 42s\n",
      "1473:\tlearn: 0.7479743\ttest: 0.7286267\tbest: 0.7287867 (1311)\ttotal: 10m 23s\tremaining: 3m 42s\n",
      "1474:\tlearn: 0.7479971\ttest: 0.7286667\tbest: 0.7287867 (1311)\ttotal: 10m 23s\tremaining: 3m 42s\n",
      "1475:\tlearn: 0.7479943\ttest: 0.7286267\tbest: 0.7287867 (1311)\ttotal: 10m 24s\tremaining: 3m 41s\n",
      "1476:\tlearn: 0.7480000\ttest: 0.7285800\tbest: 0.7287867 (1311)\ttotal: 10m 24s\tremaining: 3m 41s\n",
      "1477:\tlearn: 0.7480171\ttest: 0.7285800\tbest: 0.7287867 (1311)\ttotal: 10m 25s\tremaining: 3m 40s\n",
      "1478:\tlearn: 0.7480143\ttest: 0.7286267\tbest: 0.7287867 (1311)\ttotal: 10m 25s\tremaining: 3m 40s\n",
      "1479:\tlearn: 0.7480171\ttest: 0.7286133\tbest: 0.7287867 (1311)\ttotal: 10m 26s\tremaining: 3m 39s\n",
      "1480:\tlearn: 0.7480486\ttest: 0.7285733\tbest: 0.7287867 (1311)\ttotal: 10m 26s\tremaining: 3m 39s\n",
      "1481:\tlearn: 0.7480686\ttest: 0.7286200\tbest: 0.7287867 (1311)\ttotal: 10m 27s\tremaining: 3m 39s\n",
      "1482:\tlearn: 0.7480686\ttest: 0.7286400\tbest: 0.7287867 (1311)\ttotal: 10m 27s\tremaining: 3m 38s\n",
      "1483:\tlearn: 0.7480686\ttest: 0.7285867\tbest: 0.7287867 (1311)\ttotal: 10m 27s\tremaining: 3m 38s\n",
      "1484:\tlearn: 0.7481057\ttest: 0.7286000\tbest: 0.7287867 (1311)\ttotal: 10m 28s\tremaining: 3m 37s\n",
      "1485:\tlearn: 0.7481000\ttest: 0.7286200\tbest: 0.7287867 (1311)\ttotal: 10m 28s\tremaining: 3m 37s\n",
      "1486:\tlearn: 0.7481086\ttest: 0.7286400\tbest: 0.7287867 (1311)\ttotal: 10m 29s\tremaining: 3m 37s\n",
      "1487:\tlearn: 0.7481457\ttest: 0.7286733\tbest: 0.7287867 (1311)\ttotal: 10m 29s\tremaining: 3m 36s\n",
      "1488:\tlearn: 0.7481343\ttest: 0.7285933\tbest: 0.7287867 (1311)\ttotal: 10m 30s\tremaining: 3m 36s\n",
      "1489:\tlearn: 0.7481371\ttest: 0.7285667\tbest: 0.7287867 (1311)\ttotal: 10m 30s\tremaining: 3m 35s\n",
      "1490:\tlearn: 0.7481714\ttest: 0.7285533\tbest: 0.7287867 (1311)\ttotal: 10m 30s\tremaining: 3m 35s\n",
      "1491:\tlearn: 0.7481629\ttest: 0.7285533\tbest: 0.7287867 (1311)\ttotal: 10m 31s\tremaining: 3m 34s\n",
      "1492:\tlearn: 0.7481943\ttest: 0.7285200\tbest: 0.7287867 (1311)\ttotal: 10m 31s\tremaining: 3m 34s\n",
      "1493:\tlearn: 0.7482057\ttest: 0.7285267\tbest: 0.7287867 (1311)\ttotal: 10m 32s\tremaining: 3m 34s\n",
      "1494:\tlearn: 0.7482029\ttest: 0.7285267\tbest: 0.7287867 (1311)\ttotal: 10m 32s\tremaining: 3m 33s\n",
      "1495:\tlearn: 0.7482000\ttest: 0.7285467\tbest: 0.7287867 (1311)\ttotal: 10m 33s\tremaining: 3m 33s\n",
      "1496:\tlearn: 0.7482257\ttest: 0.7285267\tbest: 0.7287867 (1311)\ttotal: 10m 33s\tremaining: 3m 32s\n",
      "1497:\tlearn: 0.7482657\ttest: 0.7285067\tbest: 0.7287867 (1311)\ttotal: 10m 33s\tremaining: 3m 32s\n",
      "1498:\tlearn: 0.7482743\ttest: 0.7285067\tbest: 0.7287867 (1311)\ttotal: 10m 34s\tremaining: 3m 31s\n",
      "1499:\tlearn: 0.7483114\ttest: 0.7285067\tbest: 0.7287867 (1311)\ttotal: 10m 34s\tremaining: 3m 31s\n",
      "1500:\tlearn: 0.7483257\ttest: 0.7285067\tbest: 0.7287867 (1311)\ttotal: 10m 35s\tremaining: 3m 31s\n",
      "1501:\tlearn: 0.7483229\ttest: 0.7285200\tbest: 0.7287867 (1311)\ttotal: 10m 35s\tremaining: 3m 30s\n",
      "1502:\tlearn: 0.7483429\ttest: 0.7285133\tbest: 0.7287867 (1311)\ttotal: 10m 35s\tremaining: 3m 30s\n",
      "1503:\tlearn: 0.7483657\ttest: 0.7284933\tbest: 0.7287867 (1311)\ttotal: 10m 36s\tremaining: 3m 29s\n",
      "1504:\tlearn: 0.7483971\ttest: 0.7285200\tbest: 0.7287867 (1311)\ttotal: 10m 36s\tremaining: 3m 29s\n",
      "1505:\tlearn: 0.7483914\ttest: 0.7285133\tbest: 0.7287867 (1311)\ttotal: 10m 37s\tremaining: 3m 29s\n",
      "1506:\tlearn: 0.7483514\ttest: 0.7285400\tbest: 0.7287867 (1311)\ttotal: 10m 37s\tremaining: 3m 28s\n",
      "1507:\tlearn: 0.7483600\ttest: 0.7285667\tbest: 0.7287867 (1311)\ttotal: 10m 38s\tremaining: 3m 28s\n",
      "1508:\tlearn: 0.7483743\ttest: 0.7285933\tbest: 0.7287867 (1311)\ttotal: 10m 38s\tremaining: 3m 27s\n",
      "1509:\tlearn: 0.7484171\ttest: 0.7285933\tbest: 0.7287867 (1311)\ttotal: 10m 39s\tremaining: 3m 27s\n",
      "1510:\tlearn: 0.7484457\ttest: 0.7285333\tbest: 0.7287867 (1311)\ttotal: 10m 39s\tremaining: 3m 26s\n",
      "1511:\tlearn: 0.7484971\ttest: 0.7285200\tbest: 0.7287867 (1311)\ttotal: 10m 39s\tremaining: 3m 26s\n",
      "1512:\tlearn: 0.7484886\ttest: 0.7285200\tbest: 0.7287867 (1311)\ttotal: 10m 40s\tremaining: 3m 26s\n",
      "1513:\tlearn: 0.7484943\ttest: 0.7284867\tbest: 0.7287867 (1311)\ttotal: 10m 40s\tremaining: 3m 25s\n",
      "1514:\tlearn: 0.7484400\ttest: 0.7285200\tbest: 0.7287867 (1311)\ttotal: 10m 41s\tremaining: 3m 25s\n",
      "1515:\tlearn: 0.7484429\ttest: 0.7285533\tbest: 0.7287867 (1311)\ttotal: 10m 41s\tremaining: 3m 24s\n"
     ]
    },
    {
     "name": "stdout",
     "output_type": "stream",
     "text": [
      "1516:\tlearn: 0.7484400\ttest: 0.7285467\tbest: 0.7287867 (1311)\ttotal: 10m 42s\tremaining: 3m 24s\n",
      "1517:\tlearn: 0.7484343\ttest: 0.7285933\tbest: 0.7287867 (1311)\ttotal: 10m 42s\tremaining: 3m 24s\n",
      "1518:\tlearn: 0.7484629\ttest: 0.7285933\tbest: 0.7287867 (1311)\ttotal: 10m 42s\tremaining: 3m 23s\n",
      "1519:\tlearn: 0.7484343\ttest: 0.7285800\tbest: 0.7287867 (1311)\ttotal: 10m 43s\tremaining: 3m 23s\n",
      "1520:\tlearn: 0.7484657\ttest: 0.7286067\tbest: 0.7287867 (1311)\ttotal: 10m 43s\tremaining: 3m 22s\n",
      "1521:\tlearn: 0.7484771\ttest: 0.7286467\tbest: 0.7287867 (1311)\ttotal: 10m 44s\tremaining: 3m 22s\n",
      "1522:\tlearn: 0.7484857\ttest: 0.7286733\tbest: 0.7287867 (1311)\ttotal: 10m 44s\tremaining: 3m 21s\n",
      "1523:\tlearn: 0.7485171\ttest: 0.7286867\tbest: 0.7287867 (1311)\ttotal: 10m 45s\tremaining: 3m 21s\n",
      "1524:\tlearn: 0.7485286\ttest: 0.7287000\tbest: 0.7287867 (1311)\ttotal: 10m 45s\tremaining: 3m 21s\n",
      "1525:\tlearn: 0.7485600\ttest: 0.7286800\tbest: 0.7287867 (1311)\ttotal: 10m 46s\tremaining: 3m 20s\n",
      "1526:\tlearn: 0.7485743\ttest: 0.7286600\tbest: 0.7287867 (1311)\ttotal: 10m 46s\tremaining: 3m 20s\n",
      "1527:\tlearn: 0.7485800\ttest: 0.7286267\tbest: 0.7287867 (1311)\ttotal: 10m 46s\tremaining: 3m 19s\n",
      "1528:\tlearn: 0.7485714\ttest: 0.7286467\tbest: 0.7287867 (1311)\ttotal: 10m 47s\tremaining: 3m 19s\n",
      "1529:\tlearn: 0.7485971\ttest: 0.7286333\tbest: 0.7287867 (1311)\ttotal: 10m 47s\tremaining: 3m 18s\n",
      "1530:\tlearn: 0.7485971\ttest: 0.7286200\tbest: 0.7287867 (1311)\ttotal: 10m 48s\tremaining: 3m 18s\n",
      "1531:\tlearn: 0.7486200\ttest: 0.7286067\tbest: 0.7287867 (1311)\ttotal: 10m 48s\tremaining: 3m 18s\n",
      "1532:\tlearn: 0.7486657\ttest: 0.7286267\tbest: 0.7287867 (1311)\ttotal: 10m 49s\tremaining: 3m 17s\n",
      "1533:\tlearn: 0.7487143\ttest: 0.7285867\tbest: 0.7287867 (1311)\ttotal: 10m 49s\tremaining: 3m 17s\n",
      "1534:\tlearn: 0.7487286\ttest: 0.7286133\tbest: 0.7287867 (1311)\ttotal: 10m 49s\tremaining: 3m 16s\n",
      "1535:\tlearn: 0.7487229\ttest: 0.7286067\tbest: 0.7287867 (1311)\ttotal: 10m 50s\tremaining: 3m 16s\n",
      "1536:\tlearn: 0.7486914\ttest: 0.7286267\tbest: 0.7287867 (1311)\ttotal: 10m 50s\tremaining: 3m 16s\n",
      "1537:\tlearn: 0.7487114\ttest: 0.7285600\tbest: 0.7287867 (1311)\ttotal: 10m 51s\tremaining: 3m 15s\n",
      "1538:\tlearn: 0.7486743\ttest: 0.7286000\tbest: 0.7287867 (1311)\ttotal: 10m 51s\tremaining: 3m 15s\n",
      "1539:\tlearn: 0.7486943\ttest: 0.7286267\tbest: 0.7287867 (1311)\ttotal: 10m 52s\tremaining: 3m 14s\n",
      "1540:\tlearn: 0.7487000\ttest: 0.7286133\tbest: 0.7287867 (1311)\ttotal: 10m 52s\tremaining: 3m 14s\n",
      "1541:\tlearn: 0.7487429\ttest: 0.7286200\tbest: 0.7287867 (1311)\ttotal: 10m 52s\tremaining: 3m 13s\n",
      "1542:\tlearn: 0.7487857\ttest: 0.7285867\tbest: 0.7287867 (1311)\ttotal: 10m 53s\tremaining: 3m 13s\n",
      "1543:\tlearn: 0.7487857\ttest: 0.7285133\tbest: 0.7287867 (1311)\ttotal: 10m 53s\tremaining: 3m 13s\n",
      "1544:\tlearn: 0.7488000\ttest: 0.7285533\tbest: 0.7287867 (1311)\ttotal: 10m 54s\tremaining: 3m 12s\n",
      "1545:\tlearn: 0.7488114\ttest: 0.7285667\tbest: 0.7287867 (1311)\ttotal: 10m 54s\tremaining: 3m 12s\n",
      "1546:\tlearn: 0.7488514\ttest: 0.7286667\tbest: 0.7287867 (1311)\ttotal: 10m 55s\tremaining: 3m 11s\n",
      "1547:\tlearn: 0.7488514\ttest: 0.7286133\tbest: 0.7287867 (1311)\ttotal: 10m 55s\tremaining: 3m 11s\n",
      "1548:\tlearn: 0.7488743\ttest: 0.7285933\tbest: 0.7287867 (1311)\ttotal: 10m 56s\tremaining: 3m 11s\n",
      "1549:\tlearn: 0.7488971\ttest: 0.7285000\tbest: 0.7287867 (1311)\ttotal: 10m 56s\tremaining: 3m 10s\n",
      "1550:\tlearn: 0.7489314\ttest: 0.7284933\tbest: 0.7287867 (1311)\ttotal: 10m 56s\tremaining: 3m 10s\n",
      "1551:\tlearn: 0.7489800\ttest: 0.7285733\tbest: 0.7287867 (1311)\ttotal: 10m 57s\tremaining: 3m 9s\n",
      "1552:\tlearn: 0.7489829\ttest: 0.7285667\tbest: 0.7287867 (1311)\ttotal: 10m 57s\tremaining: 3m 9s\n",
      "1553:\tlearn: 0.7489886\ttest: 0.7285667\tbest: 0.7287867 (1311)\ttotal: 10m 58s\tremaining: 3m 8s\n",
      "1554:\tlearn: 0.7490229\ttest: 0.7285267\tbest: 0.7287867 (1311)\ttotal: 10m 58s\tremaining: 3m 8s\n",
      "1555:\tlearn: 0.7490857\ttest: 0.7285333\tbest: 0.7287867 (1311)\ttotal: 10m 59s\tremaining: 3m 8s\n",
      "1556:\tlearn: 0.7490971\ttest: 0.7285533\tbest: 0.7287867 (1311)\ttotal: 10m 59s\tremaining: 3m 7s\n",
      "1557:\tlearn: 0.7491143\ttest: 0.7285600\tbest: 0.7287867 (1311)\ttotal: 11m\tremaining: 3m 7s\n",
      "1558:\tlearn: 0.7491857\ttest: 0.7285267\tbest: 0.7287867 (1311)\ttotal: 11m\tremaining: 3m 6s\n",
      "1559:\tlearn: 0.7491800\ttest: 0.7285933\tbest: 0.7287867 (1311)\ttotal: 11m 1s\tremaining: 3m 6s\n",
      "1560:\tlearn: 0.7492086\ttest: 0.7286600\tbest: 0.7287867 (1311)\ttotal: 11m 1s\tremaining: 3m 6s\n",
      "1561:\tlearn: 0.7492200\ttest: 0.7286200\tbest: 0.7287867 (1311)\ttotal: 11m 1s\tremaining: 3m 5s\n",
      "1562:\tlearn: 0.7492514\ttest: 0.7286400\tbest: 0.7287867 (1311)\ttotal: 11m 2s\tremaining: 3m 5s\n",
      "1563:\tlearn: 0.7492629\ttest: 0.7286533\tbest: 0.7287867 (1311)\ttotal: 11m 2s\tremaining: 3m 4s\n",
      "1564:\tlearn: 0.7492886\ttest: 0.7286733\tbest: 0.7287867 (1311)\ttotal: 11m 3s\tremaining: 3m 4s\n",
      "1565:\tlearn: 0.7493257\ttest: 0.7287333\tbest: 0.7287867 (1311)\ttotal: 11m 3s\tremaining: 3m 3s\n",
      "1566:\tlearn: 0.7493086\ttest: 0.7287667\tbest: 0.7287867 (1311)\ttotal: 11m 3s\tremaining: 3m 3s\n",
      "1567:\tlearn: 0.7493286\ttest: 0.7287200\tbest: 0.7287867 (1311)\ttotal: 11m 4s\tremaining: 3m 3s\n",
      "1568:\tlearn: 0.7493143\ttest: 0.7287333\tbest: 0.7287867 (1311)\ttotal: 11m 4s\tremaining: 3m 2s\n",
      "1569:\tlearn: 0.7493343\ttest: 0.7287467\tbest: 0.7287867 (1311)\ttotal: 11m 5s\tremaining: 3m 2s\n",
      "1570:\tlearn: 0.7493257\ttest: 0.7287267\tbest: 0.7287867 (1311)\ttotal: 11m 5s\tremaining: 3m 1s\n",
      "1571:\tlearn: 0.7493114\ttest: 0.7287067\tbest: 0.7287867 (1311)\ttotal: 11m 6s\tremaining: 3m 1s\n",
      "1572:\tlearn: 0.7493057\ttest: 0.7286467\tbest: 0.7287867 (1311)\ttotal: 11m 6s\tremaining: 3m\n",
      "1573:\tlearn: 0.7493543\ttest: 0.7286733\tbest: 0.7287867 (1311)\ttotal: 11m 7s\tremaining: 3m\n",
      "1574:\tlearn: 0.7493743\ttest: 0.7287200\tbest: 0.7287867 (1311)\ttotal: 11m 7s\tremaining: 3m\n",
      "1575:\tlearn: 0.7494200\ttest: 0.7287267\tbest: 0.7287867 (1311)\ttotal: 11m 7s\tremaining: 2m 59s\n",
      "1576:\tlearn: 0.7494400\ttest: 0.7287133\tbest: 0.7287867 (1311)\ttotal: 11m 8s\tremaining: 2m 59s\n",
      "1577:\tlearn: 0.7494343\ttest: 0.7286667\tbest: 0.7287867 (1311)\ttotal: 11m 8s\tremaining: 2m 58s\n",
      "1578:\tlearn: 0.7494543\ttest: 0.7286733\tbest: 0.7287867 (1311)\ttotal: 11m 9s\tremaining: 2m 58s\n",
      "1579:\tlearn: 0.7494743\ttest: 0.7286400\tbest: 0.7287867 (1311)\ttotal: 11m 9s\tremaining: 2m 57s\n",
      "1580:\tlearn: 0.7494886\ttest: 0.7286333\tbest: 0.7287867 (1311)\ttotal: 11m 10s\tremaining: 2m 57s\n",
      "1581:\tlearn: 0.7494657\ttest: 0.7286533\tbest: 0.7287867 (1311)\ttotal: 11m 10s\tremaining: 2m 57s\n",
      "1582:\tlearn: 0.7494771\ttest: 0.7286067\tbest: 0.7287867 (1311)\ttotal: 11m 10s\tremaining: 2m 56s\n",
      "1583:\tlearn: 0.7494714\ttest: 0.7286267\tbest: 0.7287867 (1311)\ttotal: 11m 11s\tremaining: 2m 56s\n",
      "1584:\tlearn: 0.7494743\ttest: 0.7286733\tbest: 0.7287867 (1311)\ttotal: 11m 11s\tremaining: 2m 55s\n",
      "1585:\tlearn: 0.7494686\ttest: 0.7286600\tbest: 0.7287867 (1311)\ttotal: 11m 12s\tremaining: 2m 55s\n",
      "1586:\tlearn: 0.7494943\ttest: 0.7286667\tbest: 0.7287867 (1311)\ttotal: 11m 12s\tremaining: 2m 55s\n",
      "1587:\tlearn: 0.7494971\ttest: 0.7287067\tbest: 0.7287867 (1311)\ttotal: 11m 13s\tremaining: 2m 54s\n",
      "1588:\tlearn: 0.7494914\ttest: 0.7287000\tbest: 0.7287867 (1311)\ttotal: 11m 13s\tremaining: 2m 54s\n",
      "1589:\tlearn: 0.7495314\ttest: 0.7286733\tbest: 0.7287867 (1311)\ttotal: 11m 14s\tremaining: 2m 53s\n",
      "1590:\tlearn: 0.7495371\ttest: 0.7286600\tbest: 0.7287867 (1311)\ttotal: 11m 14s\tremaining: 2m 53s\n",
      "1591:\tlearn: 0.7495343\ttest: 0.7286600\tbest: 0.7287867 (1311)\ttotal: 11m 14s\tremaining: 2m 52s\n",
      "1592:\tlearn: 0.7495571\ttest: 0.7286533\tbest: 0.7287867 (1311)\ttotal: 11m 15s\tremaining: 2m 52s\n",
      "1593:\tlearn: 0.7495886\ttest: 0.7286133\tbest: 0.7287867 (1311)\ttotal: 11m 15s\tremaining: 2m 52s\n",
      "1594:\tlearn: 0.7496029\ttest: 0.7285733\tbest: 0.7287867 (1311)\ttotal: 11m 16s\tremaining: 2m 51s\n",
      "1595:\tlearn: 0.7496029\ttest: 0.7285800\tbest: 0.7287867 (1311)\ttotal: 11m 16s\tremaining: 2m 51s\n",
      "1596:\tlearn: 0.7496000\ttest: 0.7285933\tbest: 0.7287867 (1311)\ttotal: 11m 16s\tremaining: 2m 50s\n",
      "1597:\tlearn: 0.7496200\ttest: 0.7285400\tbest: 0.7287867 (1311)\ttotal: 11m 17s\tremaining: 2m 50s\n",
      "1598:\tlearn: 0.7496200\ttest: 0.7285133\tbest: 0.7287867 (1311)\ttotal: 11m 17s\tremaining: 2m 49s\n",
      "1599:\tlearn: 0.7496571\ttest: 0.7285067\tbest: 0.7287867 (1311)\ttotal: 11m 18s\tremaining: 2m 49s\n",
      "1600:\tlearn: 0.7496743\ttest: 0.7285333\tbest: 0.7287867 (1311)\ttotal: 11m 18s\tremaining: 2m 49s\n",
      "1601:\tlearn: 0.7497229\ttest: 0.7285533\tbest: 0.7287867 (1311)\ttotal: 11m 19s\tremaining: 2m 48s\n",
      "1602:\tlearn: 0.7497257\ttest: 0.7285400\tbest: 0.7287867 (1311)\ttotal: 11m 19s\tremaining: 2m 48s\n"
     ]
    },
    {
     "name": "stdout",
     "output_type": "stream",
     "text": [
      "1603:\tlearn: 0.7497571\ttest: 0.7285533\tbest: 0.7287867 (1311)\ttotal: 11m 19s\tremaining: 2m 47s\n",
      "1604:\tlearn: 0.7497686\ttest: 0.7285867\tbest: 0.7287867 (1311)\ttotal: 11m 20s\tremaining: 2m 47s\n",
      "1605:\tlearn: 0.7497829\ttest: 0.7285933\tbest: 0.7287867 (1311)\ttotal: 11m 20s\tremaining: 2m 47s\n",
      "1606:\tlearn: 0.7497714\ttest: 0.7285667\tbest: 0.7287867 (1311)\ttotal: 11m 21s\tremaining: 2m 46s\n",
      "1607:\tlearn: 0.7498057\ttest: 0.7285400\tbest: 0.7287867 (1311)\ttotal: 11m 21s\tremaining: 2m 46s\n",
      "1608:\tlearn: 0.7498629\ttest: 0.7285533\tbest: 0.7287867 (1311)\ttotal: 11m 22s\tremaining: 2m 45s\n",
      "1609:\tlearn: 0.7498486\ttest: 0.7285733\tbest: 0.7287867 (1311)\ttotal: 11m 22s\tremaining: 2m 45s\n",
      "1610:\tlearn: 0.7498971\ttest: 0.7286067\tbest: 0.7287867 (1311)\ttotal: 11m 23s\tremaining: 2m 44s\n",
      "1611:\tlearn: 0.7499371\ttest: 0.7285867\tbest: 0.7287867 (1311)\ttotal: 11m 23s\tremaining: 2m 44s\n",
      "1612:\tlearn: 0.7499486\ttest: 0.7286400\tbest: 0.7287867 (1311)\ttotal: 11m 23s\tremaining: 2m 44s\n",
      "1613:\tlearn: 0.7499629\ttest: 0.7286467\tbest: 0.7287867 (1311)\ttotal: 11m 24s\tremaining: 2m 43s\n",
      "1614:\tlearn: 0.7499543\ttest: 0.7286933\tbest: 0.7287867 (1311)\ttotal: 11m 24s\tremaining: 2m 43s\n",
      "1615:\tlearn: 0.7499686\ttest: 0.7286733\tbest: 0.7287867 (1311)\ttotal: 11m 25s\tremaining: 2m 42s\n",
      "1616:\tlearn: 0.7499514\ttest: 0.7286200\tbest: 0.7287867 (1311)\ttotal: 11m 25s\tremaining: 2m 42s\n",
      "1617:\tlearn: 0.7499800\ttest: 0.7286400\tbest: 0.7287867 (1311)\ttotal: 11m 26s\tremaining: 2m 42s\n",
      "1618:\tlearn: 0.7500314\ttest: 0.7286400\tbest: 0.7287867 (1311)\ttotal: 11m 26s\tremaining: 2m 41s\n",
      "1619:\tlearn: 0.7500543\ttest: 0.7286200\tbest: 0.7287867 (1311)\ttotal: 11m 27s\tremaining: 2m 41s\n",
      "1620:\tlearn: 0.7500514\ttest: 0.7286067\tbest: 0.7287867 (1311)\ttotal: 11m 27s\tremaining: 2m 40s\n",
      "1621:\tlearn: 0.7500571\ttest: 0.7286733\tbest: 0.7287867 (1311)\ttotal: 11m 27s\tremaining: 2m 40s\n",
      "1622:\tlearn: 0.7500857\ttest: 0.7286667\tbest: 0.7287867 (1311)\ttotal: 11m 28s\tremaining: 2m 39s\n",
      "1623:\tlearn: 0.7500829\ttest: 0.7286467\tbest: 0.7287867 (1311)\ttotal: 11m 28s\tremaining: 2m 39s\n",
      "1624:\tlearn: 0.7501114\ttest: 0.7286800\tbest: 0.7287867 (1311)\ttotal: 11m 29s\tremaining: 2m 39s\n",
      "1625:\tlearn: 0.7501057\ttest: 0.7286867\tbest: 0.7287867 (1311)\ttotal: 11m 29s\tremaining: 2m 38s\n",
      "1626:\tlearn: 0.7501486\ttest: 0.7286600\tbest: 0.7287867 (1311)\ttotal: 11m 30s\tremaining: 2m 38s\n",
      "1627:\tlearn: 0.7501514\ttest: 0.7286867\tbest: 0.7287867 (1311)\ttotal: 11m 30s\tremaining: 2m 37s\n",
      "1628:\tlearn: 0.7501343\ttest: 0.7286667\tbest: 0.7287867 (1311)\ttotal: 11m 30s\tremaining: 2m 37s\n",
      "1629:\tlearn: 0.7501857\ttest: 0.7287067\tbest: 0.7287867 (1311)\ttotal: 11m 31s\tremaining: 2m 36s\n",
      "1630:\tlearn: 0.7502257\ttest: 0.7286800\tbest: 0.7287867 (1311)\ttotal: 11m 31s\tremaining: 2m 36s\n",
      "1631:\tlearn: 0.7502343\ttest: 0.7287133\tbest: 0.7287867 (1311)\ttotal: 11m 32s\tremaining: 2m 36s\n",
      "1632:\tlearn: 0.7502286\ttest: 0.7286933\tbest: 0.7287867 (1311)\ttotal: 11m 32s\tremaining: 2m 35s\n",
      "1633:\tlearn: 0.7502286\ttest: 0.7287133\tbest: 0.7287867 (1311)\ttotal: 11m 33s\tremaining: 2m 35s\n",
      "1634:\tlearn: 0.7502286\ttest: 0.7286667\tbest: 0.7287867 (1311)\ttotal: 11m 33s\tremaining: 2m 34s\n",
      "1635:\tlearn: 0.7502286\ttest: 0.7286467\tbest: 0.7287867 (1311)\ttotal: 11m 34s\tremaining: 2m 34s\n",
      "1636:\tlearn: 0.7502629\ttest: 0.7286400\tbest: 0.7287867 (1311)\ttotal: 11m 34s\tremaining: 2m 34s\n",
      "1637:\tlearn: 0.7502914\ttest: 0.7286467\tbest: 0.7287867 (1311)\ttotal: 11m 34s\tremaining: 2m 33s\n",
      "1638:\tlearn: 0.7502800\ttest: 0.7285733\tbest: 0.7287867 (1311)\ttotal: 11m 35s\tremaining: 2m 33s\n",
      "1639:\tlearn: 0.7503029\ttest: 0.7285733\tbest: 0.7287867 (1311)\ttotal: 11m 35s\tremaining: 2m 32s\n",
      "1640:\tlearn: 0.7503086\ttest: 0.7286467\tbest: 0.7287867 (1311)\ttotal: 11m 36s\tremaining: 2m 32s\n",
      "1641:\tlearn: 0.7503171\ttest: 0.7286267\tbest: 0.7287867 (1311)\ttotal: 11m 36s\tremaining: 2m 31s\n",
      "1642:\tlearn: 0.7503400\ttest: 0.7286133\tbest: 0.7287867 (1311)\ttotal: 11m 37s\tremaining: 2m 31s\n",
      "1643:\tlearn: 0.7503971\ttest: 0.7286267\tbest: 0.7287867 (1311)\ttotal: 11m 37s\tremaining: 2m 31s\n",
      "1644:\tlearn: 0.7504143\ttest: 0.7285867\tbest: 0.7287867 (1311)\ttotal: 11m 37s\tremaining: 2m 30s\n",
      "1645:\tlearn: 0.7504314\ttest: 0.7285933\tbest: 0.7287867 (1311)\ttotal: 11m 38s\tremaining: 2m 30s\n",
      "1646:\tlearn: 0.7504429\ttest: 0.7286067\tbest: 0.7287867 (1311)\ttotal: 11m 38s\tremaining: 2m 29s\n",
      "1647:\tlearn: 0.7504657\ttest: 0.7286267\tbest: 0.7287867 (1311)\ttotal: 11m 39s\tremaining: 2m 29s\n",
      "1648:\tlearn: 0.7504714\ttest: 0.7286333\tbest: 0.7287867 (1311)\ttotal: 11m 39s\tremaining: 2m 28s\n",
      "1649:\tlearn: 0.7504371\ttest: 0.7285933\tbest: 0.7287867 (1311)\ttotal: 11m 40s\tremaining: 2m 28s\n",
      "1650:\tlearn: 0.7504657\ttest: 0.7286133\tbest: 0.7287867 (1311)\ttotal: 11m 40s\tremaining: 2m 28s\n",
      "1651:\tlearn: 0.7504486\ttest: 0.7286333\tbest: 0.7287867 (1311)\ttotal: 11m 41s\tremaining: 2m 27s\n",
      "1652:\tlearn: 0.7504571\ttest: 0.7286600\tbest: 0.7287867 (1311)\ttotal: 11m 41s\tremaining: 2m 27s\n",
      "1653:\tlearn: 0.7504829\ttest: 0.7286533\tbest: 0.7287867 (1311)\ttotal: 11m 42s\tremaining: 2m 26s\n",
      "1654:\tlearn: 0.7504886\ttest: 0.7286600\tbest: 0.7287867 (1311)\ttotal: 11m 42s\tremaining: 2m 26s\n",
      "1655:\tlearn: 0.7504829\ttest: 0.7286667\tbest: 0.7287867 (1311)\ttotal: 11m 42s\tremaining: 2m 26s\n",
      "1656:\tlearn: 0.7504714\ttest: 0.7287067\tbest: 0.7287867 (1311)\ttotal: 11m 43s\tremaining: 2m 25s\n",
      "1657:\tlearn: 0.7505171\ttest: 0.7287267\tbest: 0.7287867 (1311)\ttotal: 11m 43s\tremaining: 2m 25s\n",
      "1658:\tlearn: 0.7505686\ttest: 0.7287333\tbest: 0.7287867 (1311)\ttotal: 11m 44s\tremaining: 2m 24s\n",
      "1659:\tlearn: 0.7505657\ttest: 0.7287733\tbest: 0.7287867 (1311)\ttotal: 11m 44s\tremaining: 2m 24s\n",
      "1660:\tlearn: 0.7506229\ttest: 0.7287467\tbest: 0.7287867 (1311)\ttotal: 11m 45s\tremaining: 2m 23s\n",
      "1661:\tlearn: 0.7506143\ttest: 0.7287867\tbest: 0.7287867 (1311)\ttotal: 11m 45s\tremaining: 2m 23s\n",
      "1662:\tlearn: 0.7506543\ttest: 0.7287933\tbest: 0.7287933 (1662)\ttotal: 11m 45s\tremaining: 2m 23s\n",
      "1663:\tlearn: 0.7506286\ttest: 0.7287467\tbest: 0.7287933 (1662)\ttotal: 11m 46s\tremaining: 2m 22s\n",
      "1664:\tlearn: 0.7506343\ttest: 0.7287533\tbest: 0.7287933 (1662)\ttotal: 11m 46s\tremaining: 2m 22s\n",
      "1665:\tlearn: 0.7506600\ttest: 0.7287333\tbest: 0.7287933 (1662)\ttotal: 11m 47s\tremaining: 2m 21s\n",
      "1666:\tlearn: 0.7506629\ttest: 0.7287400\tbest: 0.7287933 (1662)\ttotal: 11m 47s\tremaining: 2m 21s\n",
      "1667:\tlearn: 0.7506857\ttest: 0.7287467\tbest: 0.7287933 (1662)\ttotal: 11m 48s\tremaining: 2m 20s\n",
      "1668:\tlearn: 0.7507257\ttest: 0.7287200\tbest: 0.7287933 (1662)\ttotal: 11m 48s\tremaining: 2m 20s\n",
      "1669:\tlearn: 0.7507686\ttest: 0.7287267\tbest: 0.7287933 (1662)\ttotal: 11m 48s\tremaining: 2m 20s\n",
      "1670:\tlearn: 0.7508171\ttest: 0.7287000\tbest: 0.7287933 (1662)\ttotal: 11m 49s\tremaining: 2m 19s\n",
      "1671:\tlearn: 0.7508286\ttest: 0.7287733\tbest: 0.7287933 (1662)\ttotal: 11m 49s\tremaining: 2m 19s\n",
      "1672:\tlearn: 0.7508200\ttest: 0.7287800\tbest: 0.7287933 (1662)\ttotal: 11m 50s\tremaining: 2m 18s\n",
      "1673:\tlearn: 0.7507886\ttest: 0.7287467\tbest: 0.7287933 (1662)\ttotal: 11m 50s\tremaining: 2m 18s\n",
      "1674:\tlearn: 0.7508000\ttest: 0.7287467\tbest: 0.7287933 (1662)\ttotal: 11m 51s\tremaining: 2m 17s\n",
      "1675:\tlearn: 0.7508486\ttest: 0.7287933\tbest: 0.7287933 (1662)\ttotal: 11m 51s\tremaining: 2m 17s\n",
      "1676:\tlearn: 0.7508629\ttest: 0.7287533\tbest: 0.7287933 (1662)\ttotal: 11m 52s\tremaining: 2m 17s\n",
      "1677:\tlearn: 0.7508857\ttest: 0.7287733\tbest: 0.7287933 (1662)\ttotal: 11m 52s\tremaining: 2m 16s\n",
      "1678:\tlearn: 0.7509429\ttest: 0.7288333\tbest: 0.7288333 (1678)\ttotal: 11m 52s\tremaining: 2m 16s\n",
      "1679:\tlearn: 0.7509000\ttest: 0.7287933\tbest: 0.7288333 (1678)\ttotal: 11m 53s\tremaining: 2m 15s\n",
      "1680:\tlearn: 0.7509400\ttest: 0.7288200\tbest: 0.7288333 (1678)\ttotal: 11m 53s\tremaining: 2m 15s\n",
      "1681:\tlearn: 0.7509571\ttest: 0.7288000\tbest: 0.7288333 (1678)\ttotal: 11m 54s\tremaining: 2m 15s\n",
      "1682:\tlearn: 0.7509771\ttest: 0.7288067\tbest: 0.7288333 (1678)\ttotal: 11m 54s\tremaining: 2m 14s\n",
      "1683:\tlearn: 0.7509657\ttest: 0.7288267\tbest: 0.7288333 (1678)\ttotal: 11m 55s\tremaining: 2m 14s\n",
      "1684:\tlearn: 0.7509800\ttest: 0.7288200\tbest: 0.7288333 (1678)\ttotal: 11m 55s\tremaining: 2m 13s\n",
      "1685:\tlearn: 0.7510343\ttest: 0.7288133\tbest: 0.7288333 (1678)\ttotal: 11m 55s\tremaining: 2m 13s\n",
      "1686:\tlearn: 0.7510486\ttest: 0.7288800\tbest: 0.7288800 (1686)\ttotal: 11m 56s\tremaining: 2m 12s\n",
      "1687:\tlearn: 0.7510914\ttest: 0.7289067\tbest: 0.7289067 (1687)\ttotal: 11m 56s\tremaining: 2m 12s\n",
      "1688:\tlearn: 0.7511286\ttest: 0.7288467\tbest: 0.7289067 (1687)\ttotal: 11m 57s\tremaining: 2m 12s\n",
      "1689:\tlearn: 0.7511029\ttest: 0.7288533\tbest: 0.7289067 (1687)\ttotal: 11m 57s\tremaining: 2m 11s\n"
     ]
    },
    {
     "name": "stdout",
     "output_type": "stream",
     "text": [
      "1690:\tlearn: 0.7511400\ttest: 0.7288333\tbest: 0.7289067 (1687)\ttotal: 11m 58s\tremaining: 2m 11s\n",
      "1691:\tlearn: 0.7511629\ttest: 0.7288333\tbest: 0.7289067 (1687)\ttotal: 11m 58s\tremaining: 2m 10s\n",
      "1692:\tlearn: 0.7511600\ttest: 0.7288133\tbest: 0.7289067 (1687)\ttotal: 11m 59s\tremaining: 2m 10s\n",
      "1693:\tlearn: 0.7511486\ttest: 0.7288400\tbest: 0.7289067 (1687)\ttotal: 11m 59s\tremaining: 2m 9s\n",
      "1694:\tlearn: 0.7511571\ttest: 0.7288467\tbest: 0.7289067 (1687)\ttotal: 12m\tremaining: 2m 9s\n",
      "1695:\tlearn: 0.7511457\ttest: 0.7288733\tbest: 0.7289067 (1687)\ttotal: 12m\tremaining: 2m 9s\n",
      "1696:\tlearn: 0.7511514\ttest: 0.7288467\tbest: 0.7289067 (1687)\ttotal: 12m 1s\tremaining: 2m 8s\n",
      "1697:\tlearn: 0.7511857\ttest: 0.7288400\tbest: 0.7289067 (1687)\ttotal: 12m 1s\tremaining: 2m 8s\n",
      "1698:\tlearn: 0.7511600\ttest: 0.7288467\tbest: 0.7289067 (1687)\ttotal: 12m 1s\tremaining: 2m 7s\n",
      "1699:\tlearn: 0.7511971\ttest: 0.7287933\tbest: 0.7289067 (1687)\ttotal: 12m 2s\tremaining: 2m 7s\n",
      "1700:\tlearn: 0.7511714\ttest: 0.7287400\tbest: 0.7289067 (1687)\ttotal: 12m 2s\tremaining: 2m 7s\n",
      "1701:\tlearn: 0.7511886\ttest: 0.7286667\tbest: 0.7289067 (1687)\ttotal: 12m 3s\tremaining: 2m 6s\n",
      "1702:\tlearn: 0.7511943\ttest: 0.7287133\tbest: 0.7289067 (1687)\ttotal: 12m 3s\tremaining: 2m 6s\n",
      "1703:\tlearn: 0.7511914\ttest: 0.7287200\tbest: 0.7289067 (1687)\ttotal: 12m 4s\tremaining: 2m 5s\n",
      "1704:\tlearn: 0.7511629\ttest: 0.7287467\tbest: 0.7289067 (1687)\ttotal: 12m 4s\tremaining: 2m 5s\n",
      "1705:\tlearn: 0.7511657\ttest: 0.7287267\tbest: 0.7289067 (1687)\ttotal: 12m 4s\tremaining: 2m 4s\n",
      "1706:\tlearn: 0.7511600\ttest: 0.7287333\tbest: 0.7289067 (1687)\ttotal: 12m 5s\tremaining: 2m 4s\n",
      "1707:\tlearn: 0.7511829\ttest: 0.7287267\tbest: 0.7289067 (1687)\ttotal: 12m 5s\tremaining: 2m 4s\n",
      "1708:\tlearn: 0.7511771\ttest: 0.7287200\tbest: 0.7289067 (1687)\ttotal: 12m 6s\tremaining: 2m 3s\n",
      "1709:\tlearn: 0.7511686\ttest: 0.7287533\tbest: 0.7289067 (1687)\ttotal: 12m 6s\tremaining: 2m 3s\n",
      "1710:\tlearn: 0.7511657\ttest: 0.7287333\tbest: 0.7289067 (1687)\ttotal: 12m 7s\tremaining: 2m 2s\n",
      "1711:\tlearn: 0.7511457\ttest: 0.7287000\tbest: 0.7289067 (1687)\ttotal: 12m 7s\tremaining: 2m 2s\n",
      "1712:\tlearn: 0.7511686\ttest: 0.7287067\tbest: 0.7289067 (1687)\ttotal: 12m 7s\tremaining: 2m 1s\n",
      "1713:\tlearn: 0.7512143\ttest: 0.7286800\tbest: 0.7289067 (1687)\ttotal: 12m 8s\tremaining: 2m 1s\n",
      "1714:\tlearn: 0.7512486\ttest: 0.7287200\tbest: 0.7289067 (1687)\ttotal: 12m 8s\tremaining: 2m 1s\n",
      "1715:\tlearn: 0.7512429\ttest: 0.7287600\tbest: 0.7289067 (1687)\ttotal: 12m 9s\tremaining: 2m\n",
      "1716:\tlearn: 0.7512286\ttest: 0.7287667\tbest: 0.7289067 (1687)\ttotal: 12m 9s\tremaining: 2m\n",
      "1717:\tlearn: 0.7512657\ttest: 0.7288133\tbest: 0.7289067 (1687)\ttotal: 12m 10s\tremaining: 1m 59s\n",
      "1718:\tlearn: 0.7513086\ttest: 0.7288467\tbest: 0.7289067 (1687)\ttotal: 12m 10s\tremaining: 1m 59s\n",
      "1719:\tlearn: 0.7513200\ttest: 0.7288867\tbest: 0.7289067 (1687)\ttotal: 12m 11s\tremaining: 1m 59s\n",
      "1720:\tlearn: 0.7513629\ttest: 0.7288533\tbest: 0.7289067 (1687)\ttotal: 12m 11s\tremaining: 1m 58s\n",
      "1721:\tlearn: 0.7513800\ttest: 0.7289067\tbest: 0.7289067 (1687)\ttotal: 12m 12s\tremaining: 1m 58s\n",
      "1722:\tlearn: 0.7514171\ttest: 0.7288933\tbest: 0.7289067 (1687)\ttotal: 12m 12s\tremaining: 1m 57s\n",
      "1723:\tlearn: 0.7514286\ttest: 0.7288867\tbest: 0.7289067 (1687)\ttotal: 12m 12s\tremaining: 1m 57s\n",
      "1724:\tlearn: 0.7514286\ttest: 0.7288600\tbest: 0.7289067 (1687)\ttotal: 12m 13s\tremaining: 1m 56s\n",
      "1725:\tlearn: 0.7515114\ttest: 0.7289000\tbest: 0.7289067 (1687)\ttotal: 12m 13s\tremaining: 1m 56s\n",
      "1726:\tlearn: 0.7515257\ttest: 0.7288667\tbest: 0.7289067 (1687)\ttotal: 12m 14s\tremaining: 1m 56s\n",
      "1727:\tlearn: 0.7515400\ttest: 0.7288933\tbest: 0.7289067 (1687)\ttotal: 12m 14s\tremaining: 1m 55s\n",
      "1728:\tlearn: 0.7515457\ttest: 0.7289267\tbest: 0.7289267 (1728)\ttotal: 12m 15s\tremaining: 1m 55s\n",
      "1729:\tlearn: 0.7515771\ttest: 0.7289000\tbest: 0.7289267 (1728)\ttotal: 12m 15s\tremaining: 1m 54s\n",
      "1730:\tlearn: 0.7515771\ttest: 0.7289067\tbest: 0.7289267 (1728)\ttotal: 12m 16s\tremaining: 1m 54s\n",
      "1731:\tlearn: 0.7515800\ttest: 0.7288933\tbest: 0.7289267 (1728)\ttotal: 12m 16s\tremaining: 1m 53s\n",
      "1732:\tlearn: 0.7515971\ttest: 0.7289333\tbest: 0.7289333 (1732)\ttotal: 12m 16s\tremaining: 1m 53s\n",
      "1733:\tlearn: 0.7516314\ttest: 0.7289800\tbest: 0.7289800 (1733)\ttotal: 12m 17s\tremaining: 1m 53s\n",
      "1734:\tlearn: 0.7516686\ttest: 0.7289333\tbest: 0.7289800 (1733)\ttotal: 12m 17s\tremaining: 1m 52s\n",
      "1735:\tlearn: 0.7516600\ttest: 0.7289133\tbest: 0.7289800 (1733)\ttotal: 12m 18s\tremaining: 1m 52s\n",
      "1736:\tlearn: 0.7516943\ttest: 0.7289133\tbest: 0.7289800 (1733)\ttotal: 12m 18s\tremaining: 1m 51s\n",
      "1737:\tlearn: 0.7517171\ttest: 0.7289000\tbest: 0.7289800 (1733)\ttotal: 12m 19s\tremaining: 1m 51s\n",
      "1738:\tlearn: 0.7517314\ttest: 0.7289133\tbest: 0.7289800 (1733)\ttotal: 12m 19s\tremaining: 1m 51s\n",
      "1739:\tlearn: 0.7517600\ttest: 0.7289133\tbest: 0.7289800 (1733)\ttotal: 12m 20s\tremaining: 1m 50s\n",
      "1740:\tlearn: 0.7517829\ttest: 0.7289000\tbest: 0.7289800 (1733)\ttotal: 12m 20s\tremaining: 1m 50s\n",
      "1741:\tlearn: 0.7517629\ttest: 0.7288667\tbest: 0.7289800 (1733)\ttotal: 12m 20s\tremaining: 1m 49s\n",
      "1742:\tlearn: 0.7518400\ttest: 0.7289133\tbest: 0.7289800 (1733)\ttotal: 12m 21s\tremaining: 1m 49s\n",
      "1743:\tlearn: 0.7518371\ttest: 0.7288533\tbest: 0.7289800 (1733)\ttotal: 12m 21s\tremaining: 1m 48s\n",
      "1744:\tlearn: 0.7518257\ttest: 0.7288400\tbest: 0.7289800 (1733)\ttotal: 12m 22s\tremaining: 1m 48s\n",
      "1745:\tlearn: 0.7518400\ttest: 0.7288600\tbest: 0.7289800 (1733)\ttotal: 12m 22s\tremaining: 1m 48s\n",
      "1746:\tlearn: 0.7518629\ttest: 0.7288200\tbest: 0.7289800 (1733)\ttotal: 12m 23s\tremaining: 1m 47s\n",
      "1747:\tlearn: 0.7518971\ttest: 0.7288667\tbest: 0.7289800 (1733)\ttotal: 12m 23s\tremaining: 1m 47s\n",
      "1748:\tlearn: 0.7519114\ttest: 0.7288200\tbest: 0.7289800 (1733)\ttotal: 12m 23s\tremaining: 1m 46s\n",
      "1749:\tlearn: 0.7519086\ttest: 0.7288133\tbest: 0.7289800 (1733)\ttotal: 12m 24s\tremaining: 1m 46s\n",
      "1750:\tlearn: 0.7519657\ttest: 0.7288133\tbest: 0.7289800 (1733)\ttotal: 12m 24s\tremaining: 1m 45s\n",
      "1751:\tlearn: 0.7519429\ttest: 0.7288000\tbest: 0.7289800 (1733)\ttotal: 12m 25s\tremaining: 1m 45s\n",
      "1752:\tlearn: 0.7519600\ttest: 0.7288733\tbest: 0.7289800 (1733)\ttotal: 12m 25s\tremaining: 1m 45s\n",
      "1753:\tlearn: 0.7519371\ttest: 0.7288733\tbest: 0.7289800 (1733)\ttotal: 12m 26s\tremaining: 1m 44s\n",
      "1754:\tlearn: 0.7519229\ttest: 0.7288667\tbest: 0.7289800 (1733)\ttotal: 12m 26s\tremaining: 1m 44s\n",
      "1755:\tlearn: 0.7519514\ttest: 0.7288933\tbest: 0.7289800 (1733)\ttotal: 12m 26s\tremaining: 1m 43s\n",
      "1756:\tlearn: 0.7519800\ttest: 0.7289733\tbest: 0.7289800 (1733)\ttotal: 12m 27s\tremaining: 1m 43s\n",
      "1757:\tlearn: 0.7519800\ttest: 0.7289400\tbest: 0.7289800 (1733)\ttotal: 12m 27s\tremaining: 1m 42s\n",
      "1758:\tlearn: 0.7519800\ttest: 0.7289533\tbest: 0.7289800 (1733)\ttotal: 12m 28s\tremaining: 1m 42s\n",
      "1759:\tlearn: 0.7519943\ttest: 0.7289333\tbest: 0.7289800 (1733)\ttotal: 12m 28s\tremaining: 1m 42s\n",
      "1760:\tlearn: 0.7519886\ttest: 0.7288600\tbest: 0.7289800 (1733)\ttotal: 12m 29s\tremaining: 1m 41s\n",
      "1761:\tlearn: 0.7520314\ttest: 0.7289067\tbest: 0.7289800 (1733)\ttotal: 12m 29s\tremaining: 1m 41s\n",
      "1762:\tlearn: 0.7520114\ttest: 0.7288800\tbest: 0.7289800 (1733)\ttotal: 12m 30s\tremaining: 1m 40s\n",
      "1763:\tlearn: 0.7520457\ttest: 0.7288800\tbest: 0.7289800 (1733)\ttotal: 12m 30s\tremaining: 1m 40s\n",
      "1764:\tlearn: 0.7520429\ttest: 0.7288133\tbest: 0.7289800 (1733)\ttotal: 12m 30s\tremaining: 1m 39s\n",
      "1765:\tlearn: 0.7520800\ttest: 0.7288133\tbest: 0.7289800 (1733)\ttotal: 12m 31s\tremaining: 1m 39s\n",
      "1766:\tlearn: 0.7520886\ttest: 0.7287933\tbest: 0.7289800 (1733)\ttotal: 12m 31s\tremaining: 1m 39s\n",
      "1767:\tlearn: 0.7521257\ttest: 0.7287867\tbest: 0.7289800 (1733)\ttotal: 12m 32s\tremaining: 1m 38s\n",
      "1768:\tlearn: 0.7521343\ttest: 0.7288000\tbest: 0.7289800 (1733)\ttotal: 12m 32s\tremaining: 1m 38s\n",
      "1769:\tlearn: 0.7521257\ttest: 0.7287800\tbest: 0.7289800 (1733)\ttotal: 12m 33s\tremaining: 1m 37s\n",
      "1770:\tlearn: 0.7521600\ttest: 0.7287533\tbest: 0.7289800 (1733)\ttotal: 12m 33s\tremaining: 1m 37s\n",
      "1771:\tlearn: 0.7521457\ttest: 0.7287533\tbest: 0.7289800 (1733)\ttotal: 12m 33s\tremaining: 1m 37s\n",
      "1772:\tlearn: 0.7521943\ttest: 0.7288600\tbest: 0.7289800 (1733)\ttotal: 12m 34s\tremaining: 1m 36s\n",
      "1773:\tlearn: 0.7522029\ttest: 0.7287933\tbest: 0.7289800 (1733)\ttotal: 12m 34s\tremaining: 1m 36s\n",
      "1774:\tlearn: 0.7522486\ttest: 0.7287933\tbest: 0.7289800 (1733)\ttotal: 12m 35s\tremaining: 1m 35s\n",
      "1775:\tlearn: 0.7522629\ttest: 0.7288000\tbest: 0.7289800 (1733)\ttotal: 12m 35s\tremaining: 1m 35s\n",
      "1776:\tlearn: 0.7522629\ttest: 0.7288267\tbest: 0.7289800 (1733)\ttotal: 12m 36s\tremaining: 1m 34s\n"
     ]
    },
    {
     "name": "stdout",
     "output_type": "stream",
     "text": [
      "1777:\tlearn: 0.7522486\ttest: 0.7289067\tbest: 0.7289800 (1733)\ttotal: 12m 36s\tremaining: 1m 34s\n",
      "1778:\tlearn: 0.7522543\ttest: 0.7288533\tbest: 0.7289800 (1733)\ttotal: 12m 36s\tremaining: 1m 34s\n",
      "1779:\tlearn: 0.7522400\ttest: 0.7288133\tbest: 0.7289800 (1733)\ttotal: 12m 37s\tremaining: 1m 33s\n",
      "1780:\tlearn: 0.7522714\ttest: 0.7287600\tbest: 0.7289800 (1733)\ttotal: 12m 37s\tremaining: 1m 33s\n",
      "1781:\tlearn: 0.7523171\ttest: 0.7287667\tbest: 0.7289800 (1733)\ttotal: 12m 38s\tremaining: 1m 32s\n",
      "1782:\tlearn: 0.7523314\ttest: 0.7287733\tbest: 0.7289800 (1733)\ttotal: 12m 38s\tremaining: 1m 32s\n",
      "1783:\tlearn: 0.7523629\ttest: 0.7287800\tbest: 0.7289800 (1733)\ttotal: 12m 39s\tremaining: 1m 31s\n",
      "1784:\tlearn: 0.7524000\ttest: 0.7288000\tbest: 0.7289800 (1733)\ttotal: 12m 39s\tremaining: 1m 31s\n",
      "1785:\tlearn: 0.7523943\ttest: 0.7288000\tbest: 0.7289800 (1733)\ttotal: 12m 39s\tremaining: 1m 31s\n",
      "1786:\tlearn: 0.7524029\ttest: 0.7288333\tbest: 0.7289800 (1733)\ttotal: 12m 40s\tremaining: 1m 30s\n",
      "1787:\tlearn: 0.7524171\ttest: 0.7288333\tbest: 0.7289800 (1733)\ttotal: 12m 40s\tremaining: 1m 30s\n",
      "1788:\tlearn: 0.7523857\ttest: 0.7288400\tbest: 0.7289800 (1733)\ttotal: 12m 41s\tremaining: 1m 29s\n",
      "1789:\tlearn: 0.7524229\ttest: 0.7288333\tbest: 0.7289800 (1733)\ttotal: 12m 41s\tremaining: 1m 29s\n",
      "1790:\tlearn: 0.7524400\ttest: 0.7288133\tbest: 0.7289800 (1733)\ttotal: 12m 42s\tremaining: 1m 28s\n",
      "1791:\tlearn: 0.7524771\ttest: 0.7287933\tbest: 0.7289800 (1733)\ttotal: 12m 42s\tremaining: 1m 28s\n",
      "1792:\tlearn: 0.7525057\ttest: 0.7288067\tbest: 0.7289800 (1733)\ttotal: 12m 43s\tremaining: 1m 28s\n",
      "1793:\tlearn: 0.7525229\ttest: 0.7287867\tbest: 0.7289800 (1733)\ttotal: 12m 43s\tremaining: 1m 27s\n",
      "1794:\tlearn: 0.7525229\ttest: 0.7287533\tbest: 0.7289800 (1733)\ttotal: 12m 43s\tremaining: 1m 27s\n",
      "1795:\tlearn: 0.7524886\ttest: 0.7287067\tbest: 0.7289800 (1733)\ttotal: 12m 44s\tremaining: 1m 26s\n",
      "1796:\tlearn: 0.7525314\ttest: 0.7287000\tbest: 0.7289800 (1733)\ttotal: 12m 44s\tremaining: 1m 26s\n",
      "1797:\tlearn: 0.7525914\ttest: 0.7287333\tbest: 0.7289800 (1733)\ttotal: 12m 45s\tremaining: 1m 25s\n",
      "1798:\tlearn: 0.7526114\ttest: 0.7287400\tbest: 0.7289800 (1733)\ttotal: 12m 45s\tremaining: 1m 25s\n",
      "1799:\tlearn: 0.7526171\ttest: 0.7287600\tbest: 0.7289800 (1733)\ttotal: 12m 46s\tremaining: 1m 25s\n",
      "1800:\tlearn: 0.7526086\ttest: 0.7287267\tbest: 0.7289800 (1733)\ttotal: 12m 46s\tremaining: 1m 24s\n",
      "1801:\tlearn: 0.7526314\ttest: 0.7288200\tbest: 0.7289800 (1733)\ttotal: 12m 47s\tremaining: 1m 24s\n",
      "1802:\tlearn: 0.7526600\ttest: 0.7288267\tbest: 0.7289800 (1733)\ttotal: 12m 47s\tremaining: 1m 23s\n",
      "1803:\tlearn: 0.7526543\ttest: 0.7287933\tbest: 0.7289800 (1733)\ttotal: 12m 47s\tremaining: 1m 23s\n",
      "1804:\tlearn: 0.7527171\ttest: 0.7288133\tbest: 0.7289800 (1733)\ttotal: 12m 48s\tremaining: 1m 23s\n",
      "1805:\tlearn: 0.7527229\ttest: 0.7288067\tbest: 0.7289800 (1733)\ttotal: 12m 48s\tremaining: 1m 22s\n",
      "1806:\tlearn: 0.7527000\ttest: 0.7288200\tbest: 0.7289800 (1733)\ttotal: 12m 49s\tremaining: 1m 22s\n",
      "1807:\tlearn: 0.7527029\ttest: 0.7288400\tbest: 0.7289800 (1733)\ttotal: 12m 49s\tremaining: 1m 21s\n",
      "1808:\tlearn: 0.7527057\ttest: 0.7288267\tbest: 0.7289800 (1733)\ttotal: 12m 50s\tremaining: 1m 21s\n",
      "1809:\tlearn: 0.7527114\ttest: 0.7288267\tbest: 0.7289800 (1733)\ttotal: 12m 50s\tremaining: 1m 20s\n",
      "1810:\tlearn: 0.7527200\ttest: 0.7288533\tbest: 0.7289800 (1733)\ttotal: 12m 50s\tremaining: 1m 20s\n",
      "1811:\tlearn: 0.7527571\ttest: 0.7288067\tbest: 0.7289800 (1733)\ttotal: 12m 51s\tremaining: 1m 20s\n",
      "1812:\tlearn: 0.7528000\ttest: 0.7288467\tbest: 0.7289800 (1733)\ttotal: 12m 51s\tremaining: 1m 19s\n",
      "1813:\tlearn: 0.7527857\ttest: 0.7287933\tbest: 0.7289800 (1733)\ttotal: 12m 52s\tremaining: 1m 19s\n",
      "1814:\tlearn: 0.7528114\ttest: 0.7288467\tbest: 0.7289800 (1733)\ttotal: 12m 52s\tremaining: 1m 18s\n",
      "1815:\tlearn: 0.7528257\ttest: 0.7288867\tbest: 0.7289800 (1733)\ttotal: 12m 53s\tremaining: 1m 18s\n",
      "1816:\tlearn: 0.7528286\ttest: 0.7289000\tbest: 0.7289800 (1733)\ttotal: 12m 53s\tremaining: 1m 17s\n",
      "1817:\tlearn: 0.7528429\ttest: 0.7289467\tbest: 0.7289800 (1733)\ttotal: 12m 54s\tremaining: 1m 17s\n",
      "1818:\tlearn: 0.7528543\ttest: 0.7289267\tbest: 0.7289800 (1733)\ttotal: 12m 54s\tremaining: 1m 17s\n",
      "1819:\tlearn: 0.7528800\ttest: 0.7289533\tbest: 0.7289800 (1733)\ttotal: 12m 54s\tremaining: 1m 16s\n",
      "1820:\tlearn: 0.7529257\ttest: 0.7289800\tbest: 0.7289800 (1733)\ttotal: 12m 55s\tremaining: 1m 16s\n",
      "1821:\tlearn: 0.7529171\ttest: 0.7289600\tbest: 0.7289800 (1733)\ttotal: 12m 55s\tremaining: 1m 15s\n",
      "1822:\tlearn: 0.7529543\ttest: 0.7290067\tbest: 0.7290067 (1822)\ttotal: 12m 56s\tremaining: 1m 15s\n",
      "1823:\tlearn: 0.7529600\ttest: 0.7289200\tbest: 0.7290067 (1822)\ttotal: 12m 56s\tremaining: 1m 14s\n",
      "1824:\tlearn: 0.7529743\ttest: 0.7289333\tbest: 0.7290067 (1822)\ttotal: 12m 57s\tremaining: 1m 14s\n",
      "1825:\tlearn: 0.7529829\ttest: 0.7289467\tbest: 0.7290067 (1822)\ttotal: 12m 57s\tremaining: 1m 14s\n",
      "1826:\tlearn: 0.7530029\ttest: 0.7289533\tbest: 0.7290067 (1822)\ttotal: 12m 58s\tremaining: 1m 13s\n",
      "1827:\tlearn: 0.7529914\ttest: 0.7289267\tbest: 0.7290067 (1822)\ttotal: 12m 58s\tremaining: 1m 13s\n",
      "1828:\tlearn: 0.7529743\ttest: 0.7289200\tbest: 0.7290067 (1822)\ttotal: 12m 58s\tremaining: 1m 12s\n",
      "1829:\tlearn: 0.7530114\ttest: 0.7289667\tbest: 0.7290067 (1822)\ttotal: 12m 59s\tremaining: 1m 12s\n",
      "1830:\tlearn: 0.7530057\ttest: 0.7289267\tbest: 0.7290067 (1822)\ttotal: 12m 59s\tremaining: 1m 11s\n",
      "1831:\tlearn: 0.7530171\ttest: 0.7289467\tbest: 0.7290067 (1822)\ttotal: 13m\tremaining: 1m 11s\n",
      "1832:\tlearn: 0.7530343\ttest: 0.7289133\tbest: 0.7290067 (1822)\ttotal: 13m\tremaining: 1m 11s\n",
      "1833:\tlearn: 0.7530486\ttest: 0.7289133\tbest: 0.7290067 (1822)\ttotal: 13m 1s\tremaining: 1m 10s\n",
      "1834:\tlearn: 0.7531143\ttest: 0.7289400\tbest: 0.7290067 (1822)\ttotal: 13m 1s\tremaining: 1m 10s\n",
      "1835:\tlearn: 0.7531543\ttest: 0.7289533\tbest: 0.7290067 (1822)\ttotal: 13m 2s\tremaining: 1m 9s\n",
      "1836:\tlearn: 0.7531600\ttest: 0.7289000\tbest: 0.7290067 (1822)\ttotal: 13m 2s\tremaining: 1m 9s\n",
      "1837:\tlearn: 0.7531486\ttest: 0.7289667\tbest: 0.7290067 (1822)\ttotal: 13m 2s\tremaining: 1m 9s\n",
      "1838:\tlearn: 0.7531829\ttest: 0.7289267\tbest: 0.7290067 (1822)\ttotal: 13m 3s\tremaining: 1m 8s\n",
      "1839:\tlearn: 0.7531686\ttest: 0.7289200\tbest: 0.7290067 (1822)\ttotal: 13m 3s\tremaining: 1m 8s\n",
      "1840:\tlearn: 0.7532000\ttest: 0.7289267\tbest: 0.7290067 (1822)\ttotal: 13m 4s\tremaining: 1m 7s\n",
      "1841:\tlearn: 0.7532171\ttest: 0.7289667\tbest: 0.7290067 (1822)\ttotal: 13m 4s\tremaining: 1m 7s\n",
      "1842:\tlearn: 0.7531886\ttest: 0.7289400\tbest: 0.7290067 (1822)\ttotal: 13m 5s\tremaining: 1m 6s\n",
      "1843:\tlearn: 0.7531886\ttest: 0.7289267\tbest: 0.7290067 (1822)\ttotal: 13m 5s\tremaining: 1m 6s\n",
      "1844:\tlearn: 0.7532086\ttest: 0.7289133\tbest: 0.7290067 (1822)\ttotal: 13m 6s\tremaining: 1m 6s\n",
      "1845:\tlearn: 0.7532114\ttest: 0.7289267\tbest: 0.7290067 (1822)\ttotal: 13m 6s\tremaining: 1m 5s\n",
      "1846:\tlearn: 0.7532486\ttest: 0.7289467\tbest: 0.7290067 (1822)\ttotal: 13m 6s\tremaining: 1m 5s\n",
      "1847:\tlearn: 0.7532600\ttest: 0.7289200\tbest: 0.7290067 (1822)\ttotal: 13m 7s\tremaining: 1m 4s\n",
      "1848:\tlearn: 0.7532514\ttest: 0.7288800\tbest: 0.7290067 (1822)\ttotal: 13m 7s\tremaining: 1m 4s\n",
      "1849:\tlearn: 0.7532314\ttest: 0.7289133\tbest: 0.7290067 (1822)\ttotal: 13m 8s\tremaining: 1m 3s\n",
      "1850:\tlearn: 0.7532800\ttest: 0.7289533\tbest: 0.7290067 (1822)\ttotal: 13m 8s\tremaining: 1m 3s\n",
      "1851:\tlearn: 0.7532943\ttest: 0.7290000\tbest: 0.7290067 (1822)\ttotal: 13m 9s\tremaining: 1m 3s\n",
      "1852:\tlearn: 0.7533314\ttest: 0.7290000\tbest: 0.7290067 (1822)\ttotal: 13m 9s\tremaining: 1m 2s\n",
      "1853:\tlearn: 0.7533229\ttest: 0.7289133\tbest: 0.7290067 (1822)\ttotal: 13m 9s\tremaining: 1m 2s\n",
      "1854:\tlearn: 0.7533657\ttest: 0.7288800\tbest: 0.7290067 (1822)\ttotal: 13m 10s\tremaining: 1m 1s\n",
      "1855:\tlearn: 0.7533800\ttest: 0.7288800\tbest: 0.7290067 (1822)\ttotal: 13m 10s\tremaining: 1m 1s\n",
      "1856:\tlearn: 0.7533971\ttest: 0.7288467\tbest: 0.7290067 (1822)\ttotal: 13m 11s\tremaining: 1m\n",
      "1857:\tlearn: 0.7533971\ttest: 0.7289333\tbest: 0.7290067 (1822)\ttotal: 13m 11s\tremaining: 1m\n",
      "1858:\tlearn: 0.7534171\ttest: 0.7290067\tbest: 0.7290067 (1822)\ttotal: 13m 12s\tremaining: 1m\n",
      "1859:\tlearn: 0.7534257\ttest: 0.7290000\tbest: 0.7290067 (1822)\ttotal: 13m 12s\tremaining: 59.7s\n",
      "1860:\tlearn: 0.7534829\ttest: 0.7289867\tbest: 0.7290067 (1822)\ttotal: 13m 13s\tremaining: 59.2s\n",
      "1861:\tlearn: 0.7534886\ttest: 0.7289867\tbest: 0.7290067 (1822)\ttotal: 13m 13s\tremaining: 58.8s\n",
      "1862:\tlearn: 0.7534629\ttest: 0.7290333\tbest: 0.7290333 (1862)\ttotal: 13m 13s\tremaining: 58.4s\n",
      "1863:\tlearn: 0.7535171\ttest: 0.7290000\tbest: 0.7290333 (1862)\ttotal: 13m 14s\tremaining: 58s\n"
     ]
    },
    {
     "name": "stdout",
     "output_type": "stream",
     "text": [
      "1864:\tlearn: 0.7535114\ttest: 0.7290533\tbest: 0.7290533 (1864)\ttotal: 13m 14s\tremaining: 57.5s\n",
      "1865:\tlearn: 0.7535200\ttest: 0.7290533\tbest: 0.7290533 (1864)\ttotal: 13m 15s\tremaining: 57.1s\n",
      "1866:\tlearn: 0.7535457\ttest: 0.7290467\tbest: 0.7290533 (1864)\ttotal: 13m 15s\tremaining: 56.7s\n",
      "1867:\tlearn: 0.7535600\ttest: 0.7290000\tbest: 0.7290533 (1864)\ttotal: 13m 16s\tremaining: 56.3s\n",
      "1868:\tlearn: 0.7535971\ttest: 0.7290733\tbest: 0.7290733 (1868)\ttotal: 13m 16s\tremaining: 55.8s\n",
      "1869:\tlearn: 0.7536086\ttest: 0.7290800\tbest: 0.7290800 (1869)\ttotal: 13m 17s\tremaining: 55.4s\n",
      "1870:\tlearn: 0.7536286\ttest: 0.7290800\tbest: 0.7290800 (1869)\ttotal: 13m 17s\tremaining: 55s\n",
      "1871:\tlearn: 0.7536629\ttest: 0.7290800\tbest: 0.7290800 (1869)\ttotal: 13m 17s\tremaining: 54.6s\n",
      "1872:\tlearn: 0.7536657\ttest: 0.7290867\tbest: 0.7290867 (1872)\ttotal: 13m 18s\tremaining: 54.1s\n",
      "1873:\tlearn: 0.7536800\ttest: 0.7290467\tbest: 0.7290867 (1872)\ttotal: 13m 18s\tremaining: 53.7s\n",
      "1874:\tlearn: 0.7537200\ttest: 0.7290533\tbest: 0.7290867 (1872)\ttotal: 13m 19s\tremaining: 53.3s\n",
      "1875:\tlearn: 0.7537143\ttest: 0.7290200\tbest: 0.7290867 (1872)\ttotal: 13m 19s\tremaining: 52.9s\n",
      "1876:\tlearn: 0.7537800\ttest: 0.7289600\tbest: 0.7290867 (1872)\ttotal: 13m 20s\tremaining: 52.4s\n",
      "1877:\tlearn: 0.7538000\ttest: 0.7289800\tbest: 0.7290867 (1872)\ttotal: 13m 20s\tremaining: 52s\n",
      "1878:\tlearn: 0.7538200\ttest: 0.7289800\tbest: 0.7290867 (1872)\ttotal: 13m 21s\tremaining: 51.6s\n",
      "1879:\tlearn: 0.7538514\ttest: 0.7289667\tbest: 0.7290867 (1872)\ttotal: 13m 21s\tremaining: 51.2s\n",
      "1880:\tlearn: 0.7539000\ttest: 0.7289667\tbest: 0.7290867 (1872)\ttotal: 13m 21s\tremaining: 50.7s\n",
      "1881:\tlearn: 0.7539029\ttest: 0.7289200\tbest: 0.7290867 (1872)\ttotal: 13m 22s\tremaining: 50.3s\n",
      "1882:\tlearn: 0.7539143\ttest: 0.7289600\tbest: 0.7290867 (1872)\ttotal: 13m 22s\tremaining: 49.9s\n",
      "1883:\tlearn: 0.7539257\ttest: 0.7289533\tbest: 0.7290867 (1872)\ttotal: 13m 23s\tremaining: 49.5s\n",
      "1884:\tlearn: 0.7539486\ttest: 0.7290000\tbest: 0.7290867 (1872)\ttotal: 13m 23s\tremaining: 49s\n",
      "1885:\tlearn: 0.7539714\ttest: 0.7289000\tbest: 0.7290867 (1872)\ttotal: 13m 24s\tremaining: 48.6s\n",
      "1886:\tlearn: 0.7539600\ttest: 0.7289133\tbest: 0.7290867 (1872)\ttotal: 13m 24s\tremaining: 48.2s\n",
      "1887:\tlearn: 0.7539400\ttest: 0.7289600\tbest: 0.7290867 (1872)\ttotal: 13m 24s\tremaining: 47.8s\n",
      "1888:\tlearn: 0.7539371\ttest: 0.7289333\tbest: 0.7290867 (1872)\ttotal: 13m 25s\tremaining: 47.3s\n",
      "1889:\tlearn: 0.7539571\ttest: 0.7289467\tbest: 0.7290867 (1872)\ttotal: 13m 25s\tremaining: 46.9s\n",
      "1890:\tlearn: 0.7539457\ttest: 0.7288600\tbest: 0.7290867 (1872)\ttotal: 13m 26s\tremaining: 46.5s\n",
      "1891:\tlearn: 0.7539514\ttest: 0.7288733\tbest: 0.7290867 (1872)\ttotal: 13m 26s\tremaining: 46.1s\n",
      "1892:\tlearn: 0.7539943\ttest: 0.7288467\tbest: 0.7290867 (1872)\ttotal: 13m 27s\tremaining: 45.6s\n",
      "1893:\tlearn: 0.7540086\ttest: 0.7288400\tbest: 0.7290867 (1872)\ttotal: 13m 27s\tremaining: 45.2s\n",
      "1894:\tlearn: 0.7540200\ttest: 0.7287933\tbest: 0.7290867 (1872)\ttotal: 13m 28s\tremaining: 44.8s\n",
      "1895:\tlearn: 0.7540114\ttest: 0.7287600\tbest: 0.7290867 (1872)\ttotal: 13m 28s\tremaining: 44.3s\n",
      "1896:\tlearn: 0.7540086\ttest: 0.7287467\tbest: 0.7290867 (1872)\ttotal: 13m 28s\tremaining: 43.9s\n",
      "1897:\tlearn: 0.7540143\ttest: 0.7287600\tbest: 0.7290867 (1872)\ttotal: 13m 29s\tremaining: 43.5s\n",
      "1898:\tlearn: 0.7540343\ttest: 0.7287867\tbest: 0.7290867 (1872)\ttotal: 13m 29s\tremaining: 43.1s\n",
      "1899:\tlearn: 0.7540457\ttest: 0.7287733\tbest: 0.7290867 (1872)\ttotal: 13m 30s\tremaining: 42.6s\n",
      "1900:\tlearn: 0.7540286\ttest: 0.7287867\tbest: 0.7290867 (1872)\ttotal: 13m 30s\tremaining: 42.2s\n",
      "1901:\tlearn: 0.7540600\ttest: 0.7287533\tbest: 0.7290867 (1872)\ttotal: 13m 31s\tremaining: 41.8s\n",
      "1902:\tlearn: 0.7540714\ttest: 0.7287933\tbest: 0.7290867 (1872)\ttotal: 13m 31s\tremaining: 41.4s\n",
      "1903:\tlearn: 0.7540943\ttest: 0.7287733\tbest: 0.7290867 (1872)\ttotal: 13m 31s\tremaining: 40.9s\n",
      "1904:\tlearn: 0.7541057\ttest: 0.7287667\tbest: 0.7290867 (1872)\ttotal: 13m 32s\tremaining: 40.5s\n",
      "1905:\tlearn: 0.7541086\ttest: 0.7287400\tbest: 0.7290867 (1872)\ttotal: 13m 32s\tremaining: 40.1s\n",
      "1906:\tlearn: 0.7541000\ttest: 0.7287667\tbest: 0.7290867 (1872)\ttotal: 13m 33s\tremaining: 39.7s\n",
      "1907:\tlearn: 0.7541057\ttest: 0.7287467\tbest: 0.7290867 (1872)\ttotal: 13m 33s\tremaining: 39.2s\n",
      "1908:\tlearn: 0.7541486\ttest: 0.7287667\tbest: 0.7290867 (1872)\ttotal: 13m 34s\tremaining: 38.8s\n",
      "1909:\tlearn: 0.7540971\ttest: 0.7288067\tbest: 0.7290867 (1872)\ttotal: 13m 34s\tremaining: 38.4s\n",
      "1910:\tlearn: 0.7541000\ttest: 0.7288333\tbest: 0.7290867 (1872)\ttotal: 13m 35s\tremaining: 38s\n",
      "1911:\tlearn: 0.7541229\ttest: 0.7288333\tbest: 0.7290867 (1872)\ttotal: 13m 35s\tremaining: 37.5s\n",
      "1912:\tlearn: 0.7540943\ttest: 0.7288200\tbest: 0.7290867 (1872)\ttotal: 13m 35s\tremaining: 37.1s\n",
      "1913:\tlearn: 0.7541343\ttest: 0.7288467\tbest: 0.7290867 (1872)\ttotal: 13m 36s\tremaining: 36.7s\n",
      "1914:\tlearn: 0.7541571\ttest: 0.7289133\tbest: 0.7290867 (1872)\ttotal: 13m 36s\tremaining: 36.3s\n",
      "1915:\tlearn: 0.7541457\ttest: 0.7288467\tbest: 0.7290867 (1872)\ttotal: 13m 37s\tremaining: 35.8s\n",
      "1916:\tlearn: 0.7541429\ttest: 0.7288467\tbest: 0.7290867 (1872)\ttotal: 13m 37s\tremaining: 35.4s\n",
      "1917:\tlearn: 0.7542000\ttest: 0.7288867\tbest: 0.7290867 (1872)\ttotal: 13m 38s\tremaining: 35s\n",
      "1918:\tlearn: 0.7542086\ttest: 0.7288467\tbest: 0.7290867 (1872)\ttotal: 13m 38s\tremaining: 34.6s\n",
      "1919:\tlearn: 0.7542486\ttest: 0.7288867\tbest: 0.7290867 (1872)\ttotal: 13m 39s\tremaining: 34.1s\n",
      "1920:\tlearn: 0.7542600\ttest: 0.7288533\tbest: 0.7290867 (1872)\ttotal: 13m 39s\tremaining: 33.7s\n",
      "1921:\tlearn: 0.7542800\ttest: 0.7288467\tbest: 0.7290867 (1872)\ttotal: 13m 39s\tremaining: 33.3s\n",
      "1922:\tlearn: 0.7542971\ttest: 0.7288333\tbest: 0.7290867 (1872)\ttotal: 13m 40s\tremaining: 32.8s\n",
      "1923:\tlearn: 0.7542971\ttest: 0.7288467\tbest: 0.7290867 (1872)\ttotal: 13m 40s\tremaining: 32.4s\n",
      "1924:\tlearn: 0.7542886\ttest: 0.7288933\tbest: 0.7290867 (1872)\ttotal: 13m 41s\tremaining: 32s\n",
      "1925:\tlearn: 0.7542914\ttest: 0.7289133\tbest: 0.7290867 (1872)\ttotal: 13m 41s\tremaining: 31.6s\n",
      "1926:\tlearn: 0.7543114\ttest: 0.7289067\tbest: 0.7290867 (1872)\ttotal: 13m 42s\tremaining: 31.1s\n",
      "1927:\tlearn: 0.7543800\ttest: 0.7288400\tbest: 0.7290867 (1872)\ttotal: 13m 42s\tremaining: 30.7s\n",
      "1928:\tlearn: 0.7543657\ttest: 0.7288200\tbest: 0.7290867 (1872)\ttotal: 13m 43s\tremaining: 30.3s\n",
      "1929:\tlearn: 0.7543771\ttest: 0.7288067\tbest: 0.7290867 (1872)\ttotal: 13m 43s\tremaining: 29.9s\n",
      "1930:\tlearn: 0.7544371\ttest: 0.7287800\tbest: 0.7290867 (1872)\ttotal: 13m 43s\tremaining: 29.4s\n",
      "1931:\tlearn: 0.7544514\ttest: 0.7288267\tbest: 0.7290867 (1872)\ttotal: 13m 44s\tremaining: 29s\n",
      "1932:\tlearn: 0.7544400\ttest: 0.7288067\tbest: 0.7290867 (1872)\ttotal: 13m 44s\tremaining: 28.6s\n",
      "1933:\tlearn: 0.7544543\ttest: 0.7288200\tbest: 0.7290867 (1872)\ttotal: 13m 45s\tremaining: 28.2s\n",
      "1934:\tlearn: 0.7544771\ttest: 0.7289267\tbest: 0.7290867 (1872)\ttotal: 13m 45s\tremaining: 27.7s\n",
      "1935:\tlearn: 0.7544686\ttest: 0.7289200\tbest: 0.7290867 (1872)\ttotal: 13m 46s\tremaining: 27.3s\n",
      "1936:\tlearn: 0.7544257\ttest: 0.7288867\tbest: 0.7290867 (1872)\ttotal: 13m 46s\tremaining: 26.9s\n",
      "1937:\tlearn: 0.7544429\ttest: 0.7287800\tbest: 0.7290867 (1872)\ttotal: 13m 46s\tremaining: 26.5s\n",
      "1938:\tlearn: 0.7544914\ttest: 0.7287600\tbest: 0.7290867 (1872)\ttotal: 13m 47s\tremaining: 26s\n",
      "1939:\tlearn: 0.7544629\ttest: 0.7288067\tbest: 0.7290867 (1872)\ttotal: 13m 47s\tremaining: 25.6s\n",
      "1940:\tlearn: 0.7544743\ttest: 0.7287800\tbest: 0.7290867 (1872)\ttotal: 13m 48s\tremaining: 25.2s\n",
      "1941:\tlearn: 0.7545200\ttest: 0.7287267\tbest: 0.7290867 (1872)\ttotal: 13m 48s\tremaining: 24.7s\n",
      "1942:\tlearn: 0.7545571\ttest: 0.7287800\tbest: 0.7290867 (1872)\ttotal: 13m 49s\tremaining: 24.3s\n",
      "1943:\tlearn: 0.7545714\ttest: 0.7288200\tbest: 0.7290867 (1872)\ttotal: 13m 49s\tremaining: 23.9s\n",
      "1944:\tlearn: 0.7545886\ttest: 0.7288000\tbest: 0.7290867 (1872)\ttotal: 13m 49s\tremaining: 23.5s\n",
      "1945:\tlearn: 0.7545971\ttest: 0.7287867\tbest: 0.7290867 (1872)\ttotal: 13m 50s\tremaining: 23s\n",
      "1946:\tlearn: 0.7546200\ttest: 0.7288467\tbest: 0.7290867 (1872)\ttotal: 13m 50s\tremaining: 22.6s\n",
      "1947:\tlearn: 0.7546429\ttest: 0.7288467\tbest: 0.7290867 (1872)\ttotal: 13m 51s\tremaining: 22.2s\n",
      "1948:\tlearn: 0.7546543\ttest: 0.7288467\tbest: 0.7290867 (1872)\ttotal: 13m 51s\tremaining: 21.8s\n",
      "1949:\tlearn: 0.7546571\ttest: 0.7288800\tbest: 0.7290867 (1872)\ttotal: 13m 52s\tremaining: 21.3s\n",
      "1950:\tlearn: 0.7547171\ttest: 0.7288867\tbest: 0.7290867 (1872)\ttotal: 13m 52s\tremaining: 20.9s\n",
      "1951:\tlearn: 0.7547229\ttest: 0.7289067\tbest: 0.7290867 (1872)\ttotal: 13m 53s\tremaining: 20.5s\n"
     ]
    },
    {
     "name": "stdout",
     "output_type": "stream",
     "text": [
      "1952:\tlearn: 0.7547343\ttest: 0.7289200\tbest: 0.7290867 (1872)\ttotal: 13m 53s\tremaining: 20.1s\n",
      "1953:\tlearn: 0.7547571\ttest: 0.7288467\tbest: 0.7290867 (1872)\ttotal: 13m 53s\tremaining: 19.6s\n",
      "1954:\tlearn: 0.7547343\ttest: 0.7289067\tbest: 0.7290867 (1872)\ttotal: 13m 54s\tremaining: 19.2s\n",
      "1955:\tlearn: 0.7547543\ttest: 0.7288867\tbest: 0.7290867 (1872)\ttotal: 13m 54s\tremaining: 18.8s\n",
      "1956:\tlearn: 0.7547657\ttest: 0.7289400\tbest: 0.7290867 (1872)\ttotal: 13m 55s\tremaining: 18.3s\n",
      "1957:\tlearn: 0.7547800\ttest: 0.7289533\tbest: 0.7290867 (1872)\ttotal: 13m 55s\tremaining: 17.9s\n",
      "1958:\tlearn: 0.7547743\ttest: 0.7289200\tbest: 0.7290867 (1872)\ttotal: 13m 55s\tremaining: 17.5s\n",
      "1959:\tlearn: 0.7547771\ttest: 0.7289400\tbest: 0.7290867 (1872)\ttotal: 13m 56s\tremaining: 17.1s\n",
      "1960:\tlearn: 0.7547971\ttest: 0.7289133\tbest: 0.7290867 (1872)\ttotal: 13m 56s\tremaining: 16.6s\n",
      "1961:\tlearn: 0.7548086\ttest: 0.7289200\tbest: 0.7290867 (1872)\ttotal: 13m 57s\tremaining: 16.2s\n",
      "1962:\tlearn: 0.7548200\ttest: 0.7289600\tbest: 0.7290867 (1872)\ttotal: 13m 57s\tremaining: 15.8s\n",
      "1963:\tlearn: 0.7548114\ttest: 0.7289533\tbest: 0.7290867 (1872)\ttotal: 13m 58s\tremaining: 15.4s\n",
      "1964:\tlearn: 0.7547829\ttest: 0.7289333\tbest: 0.7290867 (1872)\ttotal: 13m 58s\tremaining: 14.9s\n",
      "1965:\tlearn: 0.7548029\ttest: 0.7289267\tbest: 0.7290867 (1872)\ttotal: 13m 59s\tremaining: 14.5s\n",
      "1966:\tlearn: 0.7548171\ttest: 0.7289067\tbest: 0.7290867 (1872)\ttotal: 13m 59s\tremaining: 14.1s\n",
      "1967:\tlearn: 0.7548486\ttest: 0.7288667\tbest: 0.7290867 (1872)\ttotal: 13m 59s\tremaining: 13.7s\n",
      "1968:\tlearn: 0.7548457\ttest: 0.7288467\tbest: 0.7290867 (1872)\ttotal: 14m\tremaining: 13.2s\n",
      "1969:\tlearn: 0.7548429\ttest: 0.7288467\tbest: 0.7290867 (1872)\ttotal: 14m\tremaining: 12.8s\n",
      "1970:\tlearn: 0.7548543\ttest: 0.7288333\tbest: 0.7290867 (1872)\ttotal: 14m 1s\tremaining: 12.4s\n",
      "1971:\tlearn: 0.7548971\ttest: 0.7288600\tbest: 0.7290867 (1872)\ttotal: 14m 1s\tremaining: 12s\n",
      "1972:\tlearn: 0.7548971\ttest: 0.7288267\tbest: 0.7290867 (1872)\ttotal: 14m 2s\tremaining: 11.5s\n",
      "1973:\tlearn: 0.7549257\ttest: 0.7288200\tbest: 0.7290867 (1872)\ttotal: 14m 2s\tremaining: 11.1s\n",
      "1974:\tlearn: 0.7549571\ttest: 0.7288400\tbest: 0.7290867 (1872)\ttotal: 14m 3s\tremaining: 10.7s\n",
      "1975:\tlearn: 0.7549571\ttest: 0.7288533\tbest: 0.7290867 (1872)\ttotal: 14m 3s\tremaining: 10.2s\n",
      "1976:\tlearn: 0.7549600\ttest: 0.7288200\tbest: 0.7290867 (1872)\ttotal: 14m 3s\tremaining: 9.82s\n",
      "1977:\tlearn: 0.7549829\ttest: 0.7288467\tbest: 0.7290867 (1872)\ttotal: 14m 4s\tremaining: 9.39s\n",
      "1978:\tlearn: 0.7549771\ttest: 0.7288533\tbest: 0.7290867 (1872)\ttotal: 14m 4s\tremaining: 8.96s\n",
      "1979:\tlearn: 0.7549800\ttest: 0.7288600\tbest: 0.7290867 (1872)\ttotal: 14m 5s\tremaining: 8.54s\n",
      "1980:\tlearn: 0.7549829\ttest: 0.7288733\tbest: 0.7290867 (1872)\ttotal: 14m 5s\tremaining: 8.11s\n",
      "1981:\tlearn: 0.7549971\ttest: 0.7288133\tbest: 0.7290867 (1872)\ttotal: 14m 6s\tremaining: 7.68s\n",
      "1982:\tlearn: 0.7550000\ttest: 0.7287800\tbest: 0.7290867 (1872)\ttotal: 14m 6s\tremaining: 7.26s\n",
      "1983:\tlearn: 0.7550114\ttest: 0.7287533\tbest: 0.7290867 (1872)\ttotal: 14m 7s\tremaining: 6.83s\n",
      "1984:\tlearn: 0.7550343\ttest: 0.7288333\tbest: 0.7290867 (1872)\ttotal: 14m 7s\tremaining: 6.4s\n",
      "1985:\tlearn: 0.7550600\ttest: 0.7287867\tbest: 0.7290867 (1872)\ttotal: 14m 7s\tremaining: 5.98s\n",
      "1986:\tlearn: 0.7550457\ttest: 0.7287733\tbest: 0.7290867 (1872)\ttotal: 14m 8s\tremaining: 5.55s\n",
      "1987:\tlearn: 0.7550914\ttest: 0.7287867\tbest: 0.7290867 (1872)\ttotal: 14m 8s\tremaining: 5.12s\n",
      "1988:\tlearn: 0.7551057\ttest: 0.7288067\tbest: 0.7290867 (1872)\ttotal: 14m 9s\tremaining: 4.7s\n",
      "1989:\tlearn: 0.7551143\ttest: 0.7288067\tbest: 0.7290867 (1872)\ttotal: 14m 9s\tremaining: 4.27s\n",
      "1990:\tlearn: 0.7551514\ttest: 0.7288133\tbest: 0.7290867 (1872)\ttotal: 14m 10s\tremaining: 3.84s\n",
      "1991:\tlearn: 0.7551371\ttest: 0.7288200\tbest: 0.7290867 (1872)\ttotal: 14m 10s\tremaining: 3.42s\n",
      "1992:\tlearn: 0.7551629\ttest: 0.7288333\tbest: 0.7290867 (1872)\ttotal: 14m 10s\tremaining: 2.99s\n",
      "1993:\tlearn: 0.7551743\ttest: 0.7288733\tbest: 0.7290867 (1872)\ttotal: 14m 11s\tremaining: 2.56s\n",
      "1994:\tlearn: 0.7551657\ttest: 0.7288067\tbest: 0.7290867 (1872)\ttotal: 14m 11s\tremaining: 2.13s\n",
      "1995:\tlearn: 0.7552086\ttest: 0.7288867\tbest: 0.7290867 (1872)\ttotal: 14m 12s\tremaining: 1.71s\n",
      "1996:\tlearn: 0.7552400\ttest: 0.7288867\tbest: 0.7290867 (1872)\ttotal: 14m 12s\tremaining: 1.28s\n",
      "1997:\tlearn: 0.7552143\ttest: 0.7289000\tbest: 0.7290867 (1872)\ttotal: 14m 13s\tremaining: 854ms\n",
      "1998:\tlearn: 0.7552486\ttest: 0.7289133\tbest: 0.7290867 (1872)\ttotal: 14m 13s\tremaining: 427ms\n",
      "1999:\tlearn: 0.7552657\ttest: 0.7288600\tbest: 0.7290867 (1872)\ttotal: 14m 13s\tremaining: 0us\n",
      "\n",
      "bestTest = 0.7290866667\n",
      "bestIteration = 1872\n",
      "\n",
      "Shrink model to first 1873 iterations.\n"
     ]
    },
    {
     "data": {
      "text/plain": [
       "<catboost.core.CatBoostClassifier at 0x2f0b9ec6978>"
      ]
     },
     "execution_count": 147,
     "metadata": {},
     "output_type": "execute_result"
    }
   ],
   "source": [
    "catboost.fit(X_train, y_train, cat_features = catfeatures_index, eval_set = (X_cv, y_cv)) #Model training\n"
   ]
  },
  {
   "cell_type": "code",
   "execution_count": 148,
   "metadata": {},
   "outputs": [],
   "source": [
    "catboostpred = catboost.predict(X_cv)\n",
    "catboostpredprobs = catboost.predict_proba(X_cv) # predicting probabilities"
   ]
  },
  {
   "cell_type": "code",
   "execution_count": 149,
   "metadata": {},
   "outputs": [],
   "source": [
    "from sklearn.metrics import recall_score,confusion_matrix,precision_score, f1_score,roc_auc_score, roc_curve"
   ]
  },
  {
   "cell_type": "code",
   "execution_count": 150,
   "metadata": {},
   "outputs": [
    {
     "name": "stdout",
     "output_type": "stream",
     "text": [
      "the test accuracy is :0.72909\n"
     ]
    }
   ],
   "source": [
    "print('the test accuracy is :{:.5f}'.format(accuracy_score(y_cv, catboostpred)))"
   ]
  },
  {
   "cell_type": "code",
   "execution_count": null,
   "metadata": {
    "scrolled": true
   },
   "outputs": [],
   "source": [
    "pred = catboost.predict(test)\n",
    "pred = pred.astype(np.int)"
   ]
  },
  {
   "cell_type": "markdown",
   "metadata": {},
   "source": [
    "### Submission"
   ]
  },
  {
   "cell_type": "code",
   "execution_count": null,
   "metadata": {},
   "outputs": [],
   "source": [
    "catboost_submission=pd.read_csv(\"submission_format.csv\")\n",
    "\n",
    "catboost_submission['accepted'] = pred\n",
    "\n",
    "catboost_submission.to_csv('mondcatboost_submission.csv', index = False)"
   ]
  },
  {
   "cell_type": "markdown",
   "metadata": {},
   "source": [
    "### Performance Checking"
   ]
  },
  {
   "cell_type": "code",
   "execution_count": null,
   "metadata": {},
   "outputs": [],
   "source": [
    "print(\"Accuracy:\",accuracy_score(catboostpred, y_cv)*100)\n",
    "print()\n",
    "print(\"Precision:\",precision_score(catboostpred, y_cv)*100)\n",
    "print()\n",
    "#Model Recall: what percentage of positive tuples are labelled as such?\n",
    "print(\"Recall:\",recall_score(catboostpred, y_cv)*100)\n",
    "print()\n",
    "print(\"f1 score\",f1_score(catboostpred, y_cv)*100)\n",
    "print()\n",
    "print(\"confusion matrix\",confusion_matrix(catboostpred, y_cv))"
   ]
  },
  {
   "cell_type": "markdown",
   "metadata": {},
   "source": [
    "### ROC"
   ]
  },
  {
   "cell_type": "code",
   "execution_count": null,
   "metadata": {},
   "outputs": [],
   "source": [
    "# keep probabilities for the positive outcome only\n",
    "probs = catboostpredprobs[:, 1]\n",
    "# calculate AUC\n",
    "auc = roc_auc_score(y_cv, probs)\n",
    "print('AUC: %.3f' % auc)\n",
    "# calculate roc curve\n",
    "fpr, tpr, thresholds = roc_curve(y_cv, probs)\n",
    "# plot no skill\n",
    "plt.plot([0, 1], [0, 1], linestyle='--')\n",
    "# plot the roc curve for the model\n",
    "plt.plot(fpr, tpr, marker='.')\n",
    "# show the plot\n",
    "plt.show()"
   ]
  },
  {
   "cell_type": "code",
   "execution_count": null,
   "metadata": {},
   "outputs": [],
   "source": []
  },
  {
   "cell_type": "code",
   "execution_count": null,
   "metadata": {},
   "outputs": [],
   "source": []
  }
 ],
 "metadata": {
  "kernelspec": {
   "display_name": "Python 3",
   "language": "python",
   "name": "python3"
  },
  "language_info": {
   "codemirror_mode": {
    "name": "ipython",
    "version": 3
   },
   "file_extension": ".py",
   "mimetype": "text/x-python",
   "name": "python",
   "nbconvert_exporter": "python",
   "pygments_lexer": "ipython3",
   "version": "3.7.6"
  },
  "toc": {
   "base_numbering": 1,
   "nav_menu": {},
   "number_sections": false,
   "sideBar": false,
   "skip_h1_title": false,
   "title_cell": "Table of Contents",
   "title_sidebar": "Contents",
   "toc_cell": false,
   "toc_position": {},
   "toc_section_display": false,
   "toc_window_display": false
  }
 },
 "nbformat": 4,
 "nbformat_minor": 2
}
